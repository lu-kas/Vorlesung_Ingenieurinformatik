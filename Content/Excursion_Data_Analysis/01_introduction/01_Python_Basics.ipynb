{
 "cells": [
  {
   "cell_type": "markdown",
   "metadata": {},
   "source": [
    "<div style=\"width: 100%; overflow: hidden;\">\n",
    "    <div style=\"width: 500px; float: left;\"> \n",
    "        <h1>Data Analysis with Python</h1> <br>\n",
    "        <b>Winter Semester 2020/2021</b><br>\n",
    "        <b>tought by (alphabetic order) Lukas Arnold, Simone Arnold and My Linh Würzburger</b>\n",
    "    </div>\n",
    "    <div style=\"float:right;\"> \n",
    "        <img src=\"images/cce_logo.png\" style=\"width:250px;\"/>\n",
    "    </div>\n",
    "</div>\n"
   ]
  },
  {
   "cell_type": "markdown",
   "metadata": {},
   "source": [
    "----"
   ]
  },
  {
   "cell_type": "markdown",
   "metadata": {},
   "source": [
    "## Idea of the 'Data Analysis with Python' course\n",
    "\n",
    "### Motivation\n",
    "- often the capturing of data is presented and the results are discussed\n",
    "- the results do not just come out of the aparatus or the simulation, but involve (massive) post-processing of the raw data, which is not shown\n",
    "- this course shall close the gap\n",
    "\n",
    "### Goals\n",
    "- focus lies on getting YOU started to be able to do analysis by YOURSELF (of eventually YOUR data)\n",
    "- no deep introduction into analysis methods, but focus on how to work with them in Python\n",
    "- Linh, Max and I will only guide you, but you have to work by yourselfs [this doesn't mean you have to work alone, so team up!]\n",
    "\n",
    "### Disclaimer\n",
    "- we will not provide any/an extensive documentation, all you need is already in the internet and we help you to find it – and yes, you have to read documentations during the excercises\n",
    "- this course is a new concept, open for everybody and taught the first time by us: please help us to make it better, by constructive feedback and be patient with us debugging the exercises ;-)\n",
    "- this course is meant for beginners, if you are an expert: stay and give it a try to do advanced analysis!\n",
    "- this course will grant you no credit points, if you see benefit for students to participate, we will try to include it in future accreditations"
   ]
  },
  {
   "cell_type": "markdown",
   "metadata": {},
   "source": [
    "---"
   ]
  },
  {
   "cell_type": "markdown",
   "metadata": {},
   "source": [
    "# Jupyter\n",
    "\n",
    "Jupyter is a web-based environment for interactive execution of python code.\n",
    "\n",
    "Webpage: http://jupyter.org\n",
    "\n",
    "While Jupyter runs a server on your computer (or eventually is run somewhere else) you create Jupyter notebooks which include your Python code and inline visualisation and your documentation.\n",
    "\n",
    "Basics infos about notebooks:\n",
    "* execution is done on a cell basis\n",
    "* arbitrary order of execution\n",
    "* two cell types: code and text\n",
    "* execute current cell: control-enter\n",
    "* execute current cell and move down to next one: shift-enter\n",
    "* see help for other keyboard shortcuts"
   ]
  },
  {
   "cell_type": "markdown",
   "metadata": {},
   "source": [
    "### <font color=\"green\"> _Task 1: Markdown_ </font>\n",
    "\n",
    "1. Look up the shortcuts to create new cells and create a new cell below this one.\n",
    "1. Each cell can be in an edit mode (enter it with enter and leave it without execution with escape). While not in the edit mode, its type can be adjusted. Change the mode of the newly created cell to be a Markdown cell.\n",
    "1. What's Markdown? Look it up, google is your _friend_.\n",
    "1. Use Markdown to create a formatted cell including:\n",
    "  * a title with your name\n",
    "  * two sentences about your studies and / or research\n",
    "  * mark the keywords in your text with a bold font type\n",
    "  * add an item list of analysis methods you are interested in \n",
    "  * add a enumerated list of expertises you expect to learn in this course"
   ]
  },
  {
   "cell_type": "markdown",
   "metadata": {},
   "source": [
    "***"
   ]
  },
  {
   "cell_type": "markdown",
   "metadata": {},
   "source": [
    "# LaTex\n",
    "\n",
    "LaTex is a type setting system to create scientificly butityful documents. However, you can reduce its capabilities to render equations in Markdown cells.\n",
    "\n",
    "You basically need a so called _equation_ environment enclosing your definition of the mathematical expression. An input like\n",
    "\n",
    "```LaTex\n",
    "\\begin{equation}\n",
    "a^2 + b^2 = c^2\n",
    "\\end{equation}\n",
    "```\n",
    "\n",
    "will produce the following output:\n",
    "\n",
    "\\begin{equation}\n",
    "a^2 + b^2 = c^2\n",
    "\\end{equation}\n",
    "\n",
    "A nice overview of what can be done in LaTex mathematical expressions can be found here: https://en.wikibooks.org/wiki/LaTeX/Mathematics "
   ]
  },
  {
   "cell_type": "markdown",
   "metadata": {},
   "source": [
    "### <font color=\"green\"> _Task 2: LaTex_ </font>\n",
    "1. Create a new Markdown cell below this one.\n",
    "1. Think of your favourite equation and express it in LaTex. In case you have none, pitty you, just take mine:\n",
    "\n",
    "<img src=\"images/navier-stokes.png\" style=\"width:550px;\"/>"
   ]
  },
  {
   "cell_type": "markdown",
   "metadata": {},
   "source": [
    "----"
   ]
  },
  {
   "cell_type": "markdown",
   "metadata": {},
   "source": [
    "# Python\n",
    "\n",
    "Python is a programming language, which is\n",
    "\n",
    "* easy to read\n",
    "* simple\n",
    "* portable\n",
    "* and wildly used worldwide.\n",
    "\n",
    "Short remark: There are two major versions of Python, 2 and 3. If you are a beginner, forget about 2. Otherwise move to 3, if not already happened. \n",
    "\n",
    "Some links to browse to:\n",
    "* Wikipedia: https://en.wikipedia.org/wiki/Python_(programming_language)\n",
    "* Homepage: https://www.python.org\n",
    "* TIOBE programming language index: https://www.tiobe.com/tiobe-index/"
   ]
  },
  {
   "cell_type": "markdown",
   "metadata": {},
   "source": [
    "## Scalar Data Types\n",
    "\n",
    "The fundamental scalar data types in Python are\n",
    "* bools\n",
    "* integers\n",
    "* floating point numbers\n",
    "* character strings\n",
    "* none\n",
    "\n",
    "### Bools\n",
    "Take eiter a true value, in Python expressed as `True`, or a false one, here `False`.\n",
    "\n",
    "### Integers and Floats\n",
    "Well, integers and floating point nubmers. The decimal separator is a dot, `.`, and floats can also be expressed in exponential form, like `1.5e-3`.\n",
    "\n",
    "### Character Strings\n",
    "This type represents a sring of characters, where the string is enclosed by `\"` or by `'`. The number of characters in a string can be variable.\n",
    "\n",
    "### None Type\n",
    "If needed, a value can be expressed as none, in Python `None`, to indicate that the value is empty or non-existent."
   ]
  },
  {
   "cell_type": "markdown",
   "metadata": {},
   "source": [
    "## Basic Operations\n",
    "\n",
    "### Arithmetic Operations\n",
    "The results of the operations result in the same type as the operands or in a more general one.\n",
    "\n",
    "* `+`: Addition\n",
    "* `-`: Subtraction\n",
    "* `*`: Multiplication\n",
    "* `/`: Division\n",
    "* `//`: Floor Division\n",
    "* `%`: Modulo\n",
    "* `**`: Power\n",
    "\n",
    "### Logical Operations\n",
    "The results are either `False` or `True`.\n",
    "\n",
    "* `==`: Equal To\n",
    "* `>`: Greater Than\n",
    "* `>=`: Greater Than or Equal To\n",
    "* `<`: Less Than\n",
    "* `<=`: Less Than or Equal To\n",
    "* `!=`: Not Equal\n",
    "* `and`: Logical and\n",
    "* `or`: Logical or\n",
    "* `not`: Logical negation"
   ]
  },
  {
   "cell_type": "markdown",
   "metadata": {},
   "source": [
    "### <font color=\"green\"> _Task 3: Basic Operations_ </font>\n",
    "\n",
    "To solve the following tasks, just create new cells and execute them. The results will be displayed directly. Try to create mathematical expressions of the questions below.\n",
    "\n",
    "1. 4 + 2 * 4 = ?\n",
    "1. 2 to the power of 10?\n",
    "1. What is the remainder of 315 divided by 4?\n",
    "1. Is the ratio of 44 to 4.5 larger than 10?\n",
    "1. Is it true that 4.5 is greater than 4 and smaller than 5?\n",
    "1. What happens if you add `\"Python\"` to `\"for beginners\"`?\n",
    "1. Create a string that contains 10 times the string `\"Tick\"`.\n",
    "1. Which string is smaller: `\"aachen\"` or `\"Bern\"`? How are strings compared?"
   ]
  },
  {
   "cell_type": "markdown",
   "metadata": {},
   "source": [
    "### Functions\n",
    "\n",
    "Functions encapsulate complex operations and can be in general executed with respect to various arguments. A function has a name and a list of arguments. To call a function, use its name and the arguments enclosed in `()`.  "
   ]
  },
  {
   "cell_type": "markdown",
   "metadata": {},
   "source": [
    "### <font color=\"green\"> _Task 4: Function Calls_ </font>\n",
    "\n",
    "What do the following functions do? Just try it.\n",
    "\n",
    "1. `abs(5)` and `abs(-1.2)`\n",
    "1. `float(5)`\n",
    "1. `int(4.5)`\n",
    "1. `min(6,9)`\n",
    "1. `type(5)`, `type(5.7)` and `type(4>2)`\n",
    "1. `print(\"Simple output\")`\n",
    "1. `str(5+7)`\n",
    "\n",
    "A list of all build-in funcitons in Python is available here: https://docs.python.org/3/library/functions.html"
   ]
  },
  {
   "cell_type": "markdown",
   "metadata": {},
   "source": [
    "### <font color=\"green\"> _Task 5: String Creation I_ </font>\n",
    "\n",
    "A very common task is to create strings containing dynamical values, like for output to files or labeling of figures. One way to acomplish this is to use the `format` function of the string type.\n",
    "\n",
    "The full documentation of the format capabilities is available here: https://docs.python.org/3.7/library/string.html#format-string-syntax\n",
    "\n",
    "Format in a nutshell: You create a string, which contains placeholders `{}` that will be replaced by string representations of passed arguments. For example\n",
    "\n",
    "```Python\n",
    "\"My favourite number is: {}\".format(12)\n",
    "```\n",
    "\n",
    "will result in the following string `\"My favourite number is: 12\"`. Advanced formattiong of the replacement can be specified inside the `{}`.\n",
    "\n",
    "Check out the following examples:\n",
    "\n",
    "1. `\"fixed width number {:6d}.\".format(144)`, here the `d` states, that the output will be a decimal based integer, with an output width of `6`. Change the width to 10. What is the output in base 8?\n",
    "1. `\"two floating point numbers, like {:12.4f} or {:e}, are nice\".format(1015.34, 1015.34)`, here the `e` and `f` define the way the floating point number are expressed. The first number indictates again the width, while the second one defines the precission. Change the expression to output only two digits after the decimal point. Can you make the created exponent marker `e` become capital, i.e. `E`?\n",
    "1. `\"{:<8d} {:08d} {:+8d}\".format(12, 12, 12)`, can you guess, what the operations `<` and `+` do? What is the effect of a precessing `0` in the width definition? "
   ]
  },
  {
   "cell_type": "markdown",
   "metadata": {},
   "source": [
    "### <font color=\"green\"> _Task 6: String Creation II_ </font>\n",
    "\n",
    "Create strings containing the specified expressions.\n",
    "\n",
    "1. The type of [a nmber] is [type of this number], while the type of the logical expression [type of this number is less than 10].\n",
    "1. Given the base [integer] and the exponent [float], the result is [the integer to the power of the float, shown with two digits after the decimal point].\n",
    "1. Given two number [a] and [b] the absolute minimum of those is [min of abs of both]."
   ]
  },
  {
   "cell_type": "markdown",
   "metadata": {},
   "source": [
    "## Variables\n",
    "\n",
    "Pure numbers, i.e. constant values, are of limited use. In general variables are defined, which can take any value and the expressions are formulated as functions of any variables. \n",
    "\n",
    "A variable is created by assigning a value to it, i.e. using the assing operator `=`:\n",
    "\n",
    "```Python\n",
    "a = 5.7\n",
    "b = \"no number here\"\n",
    "c = 5 > 8\n",
    "```\n",
    "\n",
    "The type of the variable may change with any assignment. \n",
    "\n",
    "The variables' value is accessed with the variable name:\n",
    "\n",
    "```Python\n",
    "d = 2 * a\n",
    "print(\"the value of d is {}\".format(d))\n",
    "```"
   ]
  },
  {
   "cell_type": "markdown",
   "metadata": {},
   "source": [
    "### <font color=\"green\"> _Task 7: Variables_ </font>\n",
    "\n",
    "1. Assing the values of 12 [a] and 14 [b] to two variables.\n",
    "2. Assing the ratio (a over b) of this two variables to a new one [c].\n",
    "3. Print the values and types of all three variables.\n",
    "4. Assign the value `\"overwrite\"` to variable [c] and print its type."
   ]
  },
  {
   "cell_type": "markdown",
   "metadata": {},
   "source": [
    "## Lists\n",
    "\n",
    "Very often, a set of numbers, here a list is needed. In Python they are defined as comma separated values enclosed by `[]`. The type of the elements does not have to be equal.\n",
    "\n",
    "For example:\n",
    "\n",
    "```Python\n",
    "[1,3,5,7]\n",
    "[2.2, 6.7, 1.1, -5.0]\n",
    "[\"abc\", 5, 7.1, False]\n",
    "```\n",
    "\n",
    "Once assigned to a variable, individual elements can be accessed via the accesses operator `[]`. The index of the target elemet is starting with zero. The access of the third element in a list may look like:\n",
    "\n",
    "```Python\n",
    "L = [1,2,3,4,5]\n",
    "print(\"old value of third element of L: {}\".format(L[2]))\n",
    "L[2] = 0\n",
    "```"
   ]
  },
  {
   "cell_type": "markdown",
   "metadata": {},
   "source": [
    "### <font color=\"green\"> _Task 8: Lists_ </font>\n",
    "\n",
    "1. Create a list with the first 7 primal numbers and assign it to a variable, e.g. `first_numbers`.\n",
    "1. Print the full list.\n",
    "1. Set the value of the second element to 144 and print the list.\n",
    "1. Use the function `sorted` to create a new sorted list and print the new one.\n",
    "1. Use the function `append` of a list to create a new element at the end of the list, e.g. `first_numbers.append(5)`. Add two elements with the value 99 to the list and print it.\n",
    "1. Create a new list with the function `set` applied to your extended list. What happened here?"
   ]
  }
 ],
 "metadata": {
  "kernelspec": {
   "display_name": "Python 3",
   "language": "python",
   "name": "python3"
  },
  "language_info": {
   "codemirror_mode": {
    "name": "ipython",
    "version": 3
   },
   "file_extension": ".py",
   "mimetype": "text/x-python",
   "name": "python",
   "nbconvert_exporter": "python",
   "pygments_lexer": "ipython3",
   "version": "3.8.3"
  }
 },
 "nbformat": 4,
 "nbformat_minor": 4
}
