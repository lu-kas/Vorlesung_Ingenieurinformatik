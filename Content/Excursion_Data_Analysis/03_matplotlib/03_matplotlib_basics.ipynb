{
 "cells": [
  {
   "cell_type": "markdown",
   "metadata": {},
   "source": [
    "<div style=\"width: 100%; overflow: hidden;\">\n",
    "    <div style=\"width: 500px; float: left;\"> \n",
    "        <h1>Data Analysis with Python</h1> <br>\n",
    "        <b>taught by (alphabetic order) Lukas Arnold, Simone Arnold and My Linh Würzburger</b>\n",
    "    </div>\n",
    "    <div style=\"float:right;\"> \n",
    "        <img src=\"images/cce_logo.png\" style=\"width:250px;\"/>\n",
    "    </div>\n",
    "</div>"
   ]
  },
  {
   "cell_type": "markdown",
   "metadata": {},
   "source": [
    "To get a first impression, i.e. a first analysis, of a given data set, it makes sense to display it graphically in the form of diagrams. Python provides a convenient way to quickly and efficiently display large data sets. This can be achieved by using the third-party package _matplotlib_.\n",
    "\n",
    "_Matplotlib_ is a 2D plotting library which enables the user to produce high quality figures in a variety of formats. It allows easy modification of simple parameters, such as axis captions and legends, as well as more complex operations like creating vector images.\n",
    "\n",
    "Examples and more detailed instructions how to use _matplotlib_ can be found here:\n",
    "https://matplotlib.org/gallery.html\n",
    "<br>\n",
    "<br>\n",
    "\n",
    "\n",
    "_Note: If matplotlib is not yet installed on your system, open the Anaconda prompt (or terminal on Unix systems) and type:_\n",
    "\n",
    "`conda install matplotlib`\n"
   ]
  },
  {
   "cell_type": "code",
   "execution_count": null,
   "metadata": {
    "scrolled": true
   },
   "outputs": [],
   "source": [
    "# Simple matplotlib example:\n",
    "\n",
    "%matplotlib inline \n",
    "# This instruction is only used to show the plot within this notebook. \n",
    "# If one writes code outside of jupyter notebook, this instruction is not necessary!\n",
    "\n",
    "# modules can be imported and renamed with the 'import ... as ...'' syntax\n",
    "# commonly the 'matplotlib.pyplot' module is named as 'plt' \n",
    "\n",
    "import matplotlib.pyplot as plt\n",
    "\n",
    "x = [1, 2, 3, 4, 5, 6, 7, 8]\n",
    "y = [1, 4, 9, 16, 25, 36, 49, 64]\n",
    "plt.plot(x, y)\n",
    "plt.show()\n",
    "plt.close()"
   ]
  },
  {
   "cell_type": "code",
   "execution_count": null,
   "metadata": {},
   "outputs": [],
   "source": [
    "# change size of figure and fonts\n",
    "\n",
    "plt.rcParams.update({'font.size': 20})\n",
    "\n",
    "fig = plt.figure(figsize=(4,9))\n",
    "plt.plot(x, y)\n",
    "plt.show()"
   ]
  },
  {
   "cell_type": "code",
   "execution_count": null,
   "metadata": {},
   "outputs": [],
   "source": [
    "# Plot with axis labels\n",
    "\n",
    "plt.rcParams.update({'font.size': 20})\n",
    "\n",
    "fig = plt.figure(figsize=(7,7))\n",
    "plt.plot(x, y)\n",
    "plt.xlabel('x')\n",
    "plt.ylabel('y = $x^2$') # Here $ is used to make use of the mathematical LaTeX notation\n",
    "plt.show()\n",
    "\n",
    "plt.rcParams.update({'font.size': 10})"
   ]
  },
  {
   "cell_type": "markdown",
   "metadata": {},
   "source": [
    "### <font color=\"green\"> _Task 1: Complete the plot_ </font>\n",
    "\n",
    "To create the following additions, check the documentation of ```matplotlib```.\n",
    "\n",
    "1. Add a title\n",
    "1. Create a second y-list and add it to the plot as a scatter plot (e.g. y=x)\n",
    "1. Add labels to the plots and create a legend\n",
    "1. Add a grid\n",
    "1. Save the plot as plot.pdf and plot.png, see function ```plt.savefig()```"
   ]
  },
  {
   "cell_type": "code",
   "execution_count": null,
   "metadata": {},
   "outputs": [],
   "source": [
    "# Solution:\n"
   ]
  },
  {
   "cell_type": "markdown",
   "metadata": {},
   "source": [
    "### <font color=\"green\"> _Task 2: Plot temperature data_ </font>\n",
    "\n",
    "1. Open a temperature record of your choice and print each line\n",
    "1. Construct two lists. One contains the time, and the other one contains the temperatures\n",
    "1. Plot the temperature against the time\n",
    "\n",
    "*(Hint: The temperature record is structured as follows: DATE, TIME, TIME (decimal), TEMP)* "
   ]
  },
  {
   "cell_type": "code",
   "execution_count": null,
   "metadata": {},
   "outputs": [],
   "source": [
    "# Solution\n"
   ]
  },
  {
   "cell_type": "markdown",
   "metadata": {},
   "source": [
    "## Functions\n",
    "\n",
    "Functions are used to encapsulate a task. When a function is called the program leaves the current section of code and begins to execute the function body. Functions accept any number of arguments that are used inside the function body. \n",
    "\n",
    "A function sceleton for a function named ```function_name``` with a single argument `x`. The definition starts with the ```def``` keyword and contains an indented function body:\n",
    "```Python\n",
    "def function_name(x):\n",
    "    # function body\n",
    "    return\n",
    "```\n",
    "\n",
    "The flow control can be summarized as follows:\n",
    "\n",
    "1. The program comes to a line of code containing a function call.\n",
    "1. All instructions inside of the function body are executed.\n",
    "1. The program leaves the function if the ```return``` statement or the last line of the function body was reached. The execution continues where the function was called.\n",
    "1. Any data returned by the function is used in place of the function in the original line of code.\n"
   ]
  },
  {
   "cell_type": "code",
   "execution_count": null,
   "metadata": {},
   "outputs": [],
   "source": [
    "# Example:\n",
    "\n",
    "def hello_python():\n",
    "    print(\"I'll be back.\") "
   ]
  },
  {
   "cell_type": "code",
   "execution_count": null,
   "metadata": {},
   "outputs": [],
   "source": [
    "hello_python()"
   ]
  },
  {
   "cell_type": "code",
   "execution_count": null,
   "metadata": {},
   "outputs": [],
   "source": [
    "# Example 2:\n",
    "def simple_math(x,y): # Here x and y are two parameters\n",
    "    z = x + y\n",
    "    return z # The variable z is returned when the function is called\n"
   ]
  },
  {
   "cell_type": "code",
   "execution_count": null,
   "metadata": {},
   "outputs": [],
   "source": [
    "print(simple_math(2,3))"
   ]
  },
  {
   "cell_type": "code",
   "execution_count": null,
   "metadata": {},
   "outputs": [],
   "source": [
    "# Example 3:\n",
    "def get_two_numbers(x):\n",
    "    return x+10, x*10 # two values are returned\n",
    "\n",
    "a, b = get_two_numbers(4)\n",
    "print(a,b)"
   ]
  },
  {
   "cell_type": "markdown",
   "metadata": {},
   "source": [
    "### <font color=\"green\"> _Task 3: Temperature function_ </font>\n",
    "\n",
    "1. Write a function which gets a file name and returns two lists: time [in hours] and temperature. Reuse the code you have already written.\n"
   ]
  },
  {
   "cell_type": "code",
   "execution_count": null,
   "metadata": {},
   "outputs": [],
   "source": [
    "# Solution\n"
   ]
  },
  {
   "cell_type": "markdown",
   "metadata": {},
   "source": [
    "### <font color=\"green\"> _Task 4: Temperature function_ </font>\n",
    "\n",
    "1. Use the function from Task 3 and plot the data using less then 7 rows of code.\n",
    "1. Complete the plot (Title, Labels, Legend, Grid)\n",
    "1. Plot the data of 5 days in a single plot. Hint: Generate a list with the days as elements. Loop through the list using a for loop.\n",
    "1. Set the margins to 0 and 15 °C.\n",
    "1. Show only the temperatures between 12 and 16 o'clock!"
   ]
  },
  {
   "cell_type": "code",
   "execution_count": null,
   "metadata": {},
   "outputs": [],
   "source": [
    "# Solution\n"
   ]
  },
  {
   "cell_type": "markdown",
   "metadata": {},
   "source": [
    "### <font color=\"green\"> _Task 5: Automation_ </font>\n",
    "\n",
    "1. For each day plot the temperature and save it as a pdf file.  \n",
    "\n",
    "Possible approach:\n",
    "- Iterate each file using a `for`-loop and the glob module.\n",
    "- Use the `str.split()` function to get the filename.\n",
    "- Get time and temperature using the function from task 3.\n",
    "- Plot time versus temperature and add all necessary elements (title, labels, etc.)\n",
    "- Save the plot using the `plt.savefig()` function"
   ]
  },
  {
   "cell_type": "code",
   "execution_count": null,
   "metadata": {},
   "outputs": [],
   "source": [
    "# Solution"
   ]
  },
  {
   "cell_type": "markdown",
   "metadata": {},
   "source": [
    "## matplotlib Subplots\n",
    "\n",
    "A convenient way to visualize data, is a side by side comparison. To do this, Matplotlib has the concept of subplots: groups of smaller axes that can exist together within a single figure. https://matplotlib.org/examples/pylab_examples/subplots_demo.html"
   ]
  },
  {
   "cell_type": "code",
   "execution_count": null,
   "metadata": {},
   "outputs": [],
   "source": [
    "# Example\n",
    "x_list = [0, 5, 10, 15, 20, 25,]\n",
    "y1 = []\n",
    "y2 = []\n",
    "for x in x_list:\n",
    "    y1.append(x)\n",
    "    y2.append(2*x)\n",
    "    \n",
    "fig, ax = plt.subplots(2, 1, sharey=True)\n",
    "ax[0].plot(x_list, y1)\n",
    "ax[1].plot(x_list, y2)\n",
    "\n",
    "plt.show()"
   ]
  },
  {
   "cell_type": "markdown",
   "metadata": {},
   "source": [
    "### <font color=\"green\"> _Task 6: 2x2 Subplot_ </font>\n",
    "\n",
    "    1. Choose 4 days and plot the temperature of each day into a 2x2 subplot."
   ]
  },
  {
   "cell_type": "code",
   "execution_count": null,
   "metadata": {},
   "outputs": [],
   "source": [
    "# Solution\n"
   ]
  }
 ],
 "metadata": {
  "kernelspec": {
   "display_name": "Python 3",
   "language": "python",
   "name": "python3"
  },
  "language_info": {
   "codemirror_mode": {
    "name": "ipython",
    "version": 3
   },
   "file_extension": ".py",
   "mimetype": "text/x-python",
   "name": "python",
   "nbconvert_exporter": "python",
   "pygments_lexer": "ipython3",
   "version": "3.7.5"
  }
 },
 "nbformat": 4,
 "nbformat_minor": 2
}
