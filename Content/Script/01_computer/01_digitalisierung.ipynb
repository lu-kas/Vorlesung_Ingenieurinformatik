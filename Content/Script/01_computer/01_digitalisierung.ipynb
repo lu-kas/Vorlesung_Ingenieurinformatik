{
 "cells": [
  {
   "cell_type": "markdown",
   "metadata": {},
   "source": [
    "Die Grundlage für alle modernen Computer ist die [Digitalisierung](https://de.wikipedia.org/wiki/Digitalisierung). Diese ermöglicht es reale Informationen, Kommunikationsformen oder Anweisungen als eine Folge von zwei Zuständen 1/0 darzustellen. Computersysteme nutzen diese Reduktion bzw. Vereinfachung auf nur zwei Zustände zum Speichern, Übertragen und Verarbeiten von Daten."
   ]
  },
  {
   "cell_type": "markdown",
   "metadata": {},
   "source": [
    "In den folgenden Abschnitten wird der Unterschied zwischen analogen und digitalen Informationen verdeutlicht. Dabei wird auch kurz die Umwandlung zwischen beiden Formen vorgestellt. Da Zahlen und Zeichen eine besondere Rolle in der Digitalisierung einnehmen, wird abschließend die digitale Zahlendarstellung für ganze und reelle Zahlen präsentiert."
   ]
  }
 ],
 "metadata": {
  "kernelspec": {
   "display_name": "Python 3",
   "language": "python",
   "name": "python3"
  },
  "language_info": {
   "codemirror_mode": {
    "name": "ipython",
    "version": 3
   },
   "file_extension": ".py",
   "mimetype": "text/x-python",
   "name": "python",
   "nbconvert_exporter": "python",
   "pygments_lexer": "ipython3",
   "version": "3.7.5"
  }
 },
 "nbformat": 4,
 "nbformat_minor": 4
}
