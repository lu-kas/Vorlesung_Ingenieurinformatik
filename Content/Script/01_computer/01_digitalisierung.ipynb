{
 "cells": [
  {
   "cell_type": "markdown",
   "metadata": {},
   "source": [
    "Die grundlage für alle modernen Computer ist die [Digitalisierung](https://de.wikipedia.org/wiki/Digitalisierung). Diese ermöglicht es reale Informationen, Kommunikationsformen oder Anweisungen als eine Folge von zwei Zuständen 1/0 darzustellen. Computersysteme machen sich dies zu Nutze, als dass sie zum Speichern und zum Übertragen diese nur Abfolgen dieser beiden Zustände berücksichtigen müssen.  "
   ]
  },
  {
   "cell_type": "markdown",
   "metadata": {},
   "source": [
    "In den Folgenden Abschnitten wird der Unterschied zwischen analogen und digitalen Informationen verdeutlicht. Dabei wird auch kurz die Umwandlung zwischen beiden Formen vorgestellt. Da Zahlen und Zeichen eine besondere Rolle in der Digitalisierung einnehmen, wird abschließend die digitale Zahlendarstellung für ganze und reelle Zahlen präsentiert."
   ]
  }
 ],
 "metadata": {
  "kernelspec": {
   "display_name": "Python 3",
   "language": "python",
   "name": "python3"
  },
  "language_info": {
   "codemirror_mode": {
    "name": "ipython",
    "version": 3
   },
   "file_extension": ".py",
   "mimetype": "text/x-python",
   "name": "python",
   "nbconvert_exporter": "python",
   "pygments_lexer": "ipython3",
   "version": "3.8.2"
  }
 },
 "nbformat": 4,
 "nbformat_minor": 4
}
