{
 "cells": [
  {
   "cell_type": "markdown",
   "metadata": {},
   "source": [
    "# Digitale Zahlendarstellung"
   ]
  },
  {
   "cell_type": "markdown",
   "metadata": {},
   "source": [
    "Wie in vorhergehenden Kapitel beschrieben, werden digitale Informationen als diskrete Werte dargestellt. Hierzu wird zwischen der Darstellung von ganzen Zahlen und reellen Zahlen unterschieden. Im Folgenden werden beide Darstellungsformen vorgestellt.   "
   ]
  },
  {
   "cell_type": "markdown",
   "metadata": {},
   "source": [
    "## Dualsystem\n",
    "Da in der digitalen Elektronik nur mit zwei Zuständen gerechnet wird, bietet sich das [Dualsystem](https://de.wikipedia.org/wiki/Dualsystem) zur Zahlendarstellung an.\n",
    "Beispiele für Zahlendarstellungen zur Basis 2, wobei der Index die Basis angibt:\n",
    "\n",
    "* 5<sub>10</sub> = 101<sub>2</sub>\n",
    "* 107<sub>10</sub> = 1101011<sub>2</sub>\n",
    "* 2635<sub>10</sub> = 101001001011<sub>2</sub>\n",
    "\n",
    "Damit lassen sich Zahlen als eine Reihe bzw. Abfolge von `0`/`1`-Zuständen darstellen."
   ]
  },
  {
   "cell_type": "markdown",
   "metadata": {},
   "source": [
    "## Hexadezimalsystem\n",
    "\n",
    "Bei Zahlen zur Basis 16 müssen auch Stellen, welche größer als 9 sind, abgebildet werden. Hierzu werden Buchstaben eingesetzt, um die Ziffern '10', dargestellt durch `A`, bis '15' (`F`) abzubilden. Eine oft verwendete Schreibweise für Zahlen im Hexadezimalsystem ist das Vorstellen von `0x` vor die Zahl, wie im folgenden Beispielen gezeigt:  \n",
    "\n",
    "* 5<sub>10</sub> = 5<sub>16</sub> = 0x5\n",
    "* 107<sub>10</sub> = 6B<sub>16</sub> = 0x6B\n",
    "* 2635<sub>10</sub> = A4B<sub>16</sub> = 0xA4B"
   ]
  },
  {
   "cell_type": "markdown",
   "metadata": {},
   "source": [
    "## Binäre Maßeinheiten\n",
    "\n",
    "Da sich in der digitalen Welt alles um Potenzen von 2 dreht, haben sich aus technischen Gründen folgende Einheiten ergeben:\n",
    "\n",
    "* 1 Bit = eine Ziffer im Binärsystem, Wertebereich: 0 und 1 \n",
    "* 1 Byte = acht Ziffern im Binärsystem, Wertebereich: 0 bis 255\n",
    "\n",
    "Um größere Datenmengen praktischer anzugeben, werden folgende Einheiten genutzt:\n",
    "* 1 KB = 1 kiloByte = 10<sup>3</sup> Byte\n",
    "* 1 MB = 1 megaByte = 10<sup>6</sup> Byte \n",
    "* 1 GB = 1 gigaByte = 10<sup>9</sup> Byte \n",
    "* 1 TB = 1 teraByte = 10<sup>12</sup> Byte \n",
    "* 1 PB = 1 petaByte = 10<sup>15</sup> Byte"
   ]
  },
  {
   "cell_type": "markdown",
   "metadata": {},
   "source": [
    "## Geschwidigkeit der Datenübertragung\n",
    "\n",
    "Die Geschwindigkeit mit der Daten übertragen werden können wird als Datenmenge pro Zeit angegeben. Hierbei wird die Zeit meist auf eine Sekunde bezogen. Beispielhaft sind hier einige Datenübertragungsraten beim Zugriff auf eine [magnetische Festplatte (HDD)](https://de.wikipedia.org/wiki/Festplattenlaufwerk) und auf ein [Halbleiterlaufwerk (SSD)](https://de.wikipedia.org/wiki/Solid-State-Drive) aufgeführt.\n",
    "\n",
    "* Lesen / Schreiben HDD: ~200 MB/s \n",
    "* Lesen / Schreiben SSD: ~500 MB/s\n",
    "\n",
    "Als weiteres Beispiel können maximale Übertragunsraten in verschiedenen Netzwerken genannt werden:\n",
    "\n",
    "* über das Mobilfunknetz, z.B. [3G](https://de.wikipedia.org/wiki/Mobilfunkstandard): 384 kbit/s\n",
    "* über ein Netzwerkkabel, z.B. [Fast Ethernet](https://de.wikipedia.org/wiki/Ethernet): ~100 Mbit/s"
   ]
  },
  {
   "cell_type": "markdown",
   "metadata": {},
   "source": [
    "## Darstellung ganzer Zahlen\n",
    "\n",
    "Die Grundidee bei der digitalen Darstellung von Zahlen, hier ganze Zahlen, ist die Verwendung einer festen Anzahl von Bits. Diese bilden dann eine entsprechende Anazahl von Stellen im Dualsystem ab. Dieser Idee folgend, kann eine ganze Zahl mit Vorzeichen wie folgt als 8-Bit-Zahl dargestellt werden:"
   ]
  },
  {
   "cell_type": "markdown",
   "metadata": {},
   "source": [
    "| ![Integer-Zahlen](./bilder/zahlendarstellung_integer08.svg) |\n",
    "| :-: |\n",
    "| Bild: Bitzuordnung bei der Darstellung einer ganzen Zahl mit 8 Bit. |"
   ]
  },
  {
   "cell_type": "markdown",
   "metadata": {},
   "source": [
    "Für zwei Zahlen aus dem obigen Beispiel für die Zahldarstellung im Dualsystem könnte die Bitzuweisung wie folgt aussehen."
   ]
  },
  {
   "cell_type": "markdown",
   "metadata": {},
   "source": [
    "| ![Integer-Zahlen_5](./bilder/zahlendarstellung_integer08_5.svg) |\n",
    "| :-: |\n",
    "| Bild: Beispiel der Bitzuordnung für die Zahl 5 mit 8 Bit. |\n",
    "\n",
    "| ![Integer-Zahlen_107](./bilder/zahlendarstellung_integer08_107.svg) |\n",
    "| :-: |\n",
    "| Bild: Beispiel der Bitzuordnung für die Zahl 107 mit 8 Bit. |"
   ]
  },
  {
   "cell_type": "markdown",
   "metadata": {},
   "source": [
    "Durch die fixe Vorgabe der Stellen im Dualsystem, also hier der Bits, ergibt sich der Zahlenbereich, welcher mit diesen Bits abgebildet werden kann. Für die Darstellung von ganzen Zahlen mit 8 Bit, also mit einem Byte, ergibt sich somit\n",
    "\n",
    "* kleinste Zahl: 0<sub>2</sub> = 0\n",
    "* größte Zahl: 11111111<sub>2</sub> = 2<sup>8</sup>-1 = 255 ."
   ]
  },
  {
   "cell_type": "markdown",
   "metadata": {},
   "source": [
    "Natürlich können auch länger Bitfolgen für einen größeren Zahlenbereich genutzt werden. Zusätzlich kann eines der Bits auch genutzt werden, um das Vorzeichen darzustellen. Folgende Abbildung zeigt die Darstellung einer vorzeichenbehafteten ganzen Zahl mit 32 Bit."
   ]
  },
  {
   "cell_type": "markdown",
   "metadata": {},
   "source": [
    "| ![Integer-Zahlen](./bilder/zahlendarstellung_integer32.svg) |\n",
    "| :-: |\n",
    "| Bild: Bitzuordnung bei der Darstellung einer ganzen Zahl samt Vorzeichen mit 32 Bit. |"
   ]
  },
  {
   "cell_type": "markdown",
   "metadata": {},
   "source": [
    "Der Wertebereich ist in diesem Fall gegeben durch:\n",
    "\n",
    "* kleinste Zahl = -2<sup>31</sup> = -2,147,483,648\n",
    "* größte Zahl =  2<sup>31</sup> - 1 = 2,147,483,647 ."
   ]
  },
  {
   "cell_type": "markdown",
   "metadata": {},
   "source": [
    "In der Informatik wird solch eine Darstellung von ganzen Zahlen als [Integer Datentyp](https://de.wikipedia.org/wiki/Integer_(Datentyp)) bezeichnet. Im Englischen wird dieser als *integer* bezeichnet."
   ]
  },
  {
   "cell_type": "markdown",
   "metadata": {},
   "source": [
    "## Darstellung reeller Zahlen\n",
    "\n",
    "Reelle Zahlen können nur angenährt als eine [Gleitkommazahl](https://de.wikipedia.org/wiki/Gleitkommazahl) digital dargestellt werden. Dazu wir die zur Verfügung stehende Menge an Bits auf folgende Zuordnungen aufgeteilt: Vorzeichen $\\sf s$, Exponent $\\sf e$ und Mantisse $\\sf m$. Jedem dieser Bereiche wird eine feste Anzahl von Bits zugeordnet wodruch sich der Wertebereich und Genauigkeit der Darstellung ergibt. Im Allgemeinen kann somit eine Gleitkommazahl dargestellt werden als\n",
    "\n",
    "$$ \\sf z = (-1)^s \\cdot m \\cdot 2^e .$$"
   ]
  },
  {
   "cell_type": "markdown",
   "metadata": {},
   "source": [
    "Es existieren mehrere Ansätze für die Abbildung von Gleitkommazahlen. Insbesondere im [IEEE754 Standard](https://de.wikipedia.org/wiki/IEEE_754) wird folgende Aufteilung definiert: Vorzeichen (1 bit), Exponent (11 bit) und Mantisse (52 bit):"
   ]
  },
  {
   "cell_type": "markdown",
   "metadata": {},
   "source": [
    "| ![Float-Zahlen](./bilder/zahlendarstellung_float.svg) |\n",
    "| :-: |\n",
    "| Bild: Bitzuordnung bei der Darstellung einer reellen Zahl mit 64 bit.  |"
   ]
  },
  {
   "cell_type": "markdown",
   "metadata": {},
   "source": [
    "Aus der obigen Festlegung der Bitzuweisung, ergeben sich die Größenordnung für den Wertebereich, welcher durch den Exponenten vorgegeben ist. Um auch Zahlen kleiner 1 darstellen zu können, kann der Exponent $\\sf e$ auch negative Werte annehmen.\n",
    "\n",
    "Für den Exponenten $\\sf e$ gilt\n",
    "\n",
    "* kleinster Wert in Etwa: -(2<sup>10</sup> - 1) = -1023\n",
    "* größter Wert in Etwa: ~ 2<sup>10</sup> - 1 = 1023 .\n",
    "\n",
    "Ohne Beachtung der Mantisse und des Vorzeichens, ergibt sich mit den obigen Werten dieser Bereich für die Größenordnungen:\n",
    "\n",
    "* kleinste Größenordnung: 2<sup>-1023</sup> ~ 10<sup>-308</sup>\n",
    "* größte Größenordnung: 2<sup>1023</sup> ~ 10<sup>308</sup>"
   ]
  },
  {
   "cell_type": "markdown",
   "metadata": {},
   "source": [
    "Die Genauigkeit, d.h. die kleinste darstellbare Differenz zwischen zwei Gleitkommazahlen, ergibt sich aus der Mantisse $\\sf m$. Eine grobe Abschätzung der Genauigkeit kann wie folgt durchgeführt werden. Per Definition deckt die Mantisse einen Zahlenbereich von 0 bis etwa 10 ab. Dieser Bereich wird in obiger Festlegung mit 52 Bit dargestellt. Hieraus ergibt sich dann der kleinste Unterschied zu\n",
    "\n",
    "* kleinster Unterschied zwischen zwei Gleitkommazahlen: 10 / 2<sup>52</sup> ~ 2·10<sup>-15</sup>\n",
    "\n",
    "Betrachtet man nun Dezimalzahlen, so entspricht das etwa der 15-ten Nachkommastelle. \n",
    "\n",
    "Der Datentyp, welcher für die Darstellung von Gleitkommazahlen verwendet wird, wird generell als *float* (engl. *floating point number*) bezeichnet. Im [IEEE754 Standard](https://de.wikipedia.org/wiki/IEEE_754) werden viele verschiedene Darstellungen definiert."
   ]
  },
  {
   "cell_type": "markdown",
   "metadata": {},
   "source": [
    "## Zeichendarstellung\n",
    "\n",
    "Neben Zahlen können auch Zeichen, z.B. für die Darstellung von Text, abgebildet werden. Die Grundidee ist dabei, dass die Zeichen als vorzeichenlose ganze Zahlen gespeichert und dann anhand einer Tabelle interpretiert werden. Ein Beispiel für eine solche Tabelle, welche den Zahlenwerte Zeichen zuordnet, ist die [ASCII Tabelle](https://de.wikipedia.org/wiki/American_Standard_Code_for_Information_Interchange). In dieser werden 7-Bit-Zahlen, d.h. 128 Zeichen, kodiert. In der 1963 erstellten – und bis heute genutzten – Tabelle, sind sowohl nicht-druckbare Zeichen (z.B. Zeilenvorschub, Tabulatorzeichen) als auf folgende druckbare Zeichen enthalten:\n",
    "\n",
    "```\n",
    " !\"#$%&'()*+,-./0123456789:;<=>?\n",
    "@ABCDEFGHIJKLMNOPQRSTUVWXYZ[\\]^_\n",
    "`abcdefghijklmnopqrstuvwxyz{|}~\n",
    "```\n",
    "\n",
    "Wobei das erste Zeichen das Leerzeichen ist."
   ]
  },
  {
   "cell_type": "markdown",
   "metadata": {
    "tags": [
     "remove_cell"
    ]
   },
   "source": [
    "## Thematisch passende Beispielaufgaben\n",
    "\n",
    "TODO: Liste"
   ]
  }
 ],
 "metadata": {
  "kernelspec": {
   "display_name": "Python 3",
   "language": "python",
   "name": "python3"
  },
  "language_info": {
   "codemirror_mode": {
    "name": "ipython",
    "version": 3
   },
   "file_extension": ".py",
   "mimetype": "text/x-python",
   "name": "python",
   "nbconvert_exporter": "python",
   "pygments_lexer": "ipython3",
   "version": "3.7.5"
  }
 },
 "nbformat": 4,
 "nbformat_minor": 4
}
