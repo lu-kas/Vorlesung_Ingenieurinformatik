{
 "cells": [
  {
   "cell_type": "markdown",
   "metadata": {},
   "source": [
    "# Algorithmen"
   ]
  },
  {
   "cell_type": "markdown",
   "metadata": {},
   "source": [
    "Ein Algorithmus ist eine formale Vorschrift wie die Lösung einer Fragestellung gefunden werden kann. Dabei handelt es sich meist um eine Folge von einfachen Anweisungen, welche zur Lösung komplexer Probleme führen können. \n",
    "\n",
    "Ein Algorithmus sollten so formuliert sein, dass er nicht nur für einzelne explizite Fragestellungen, sondern auch im Allgemeinen anwendbar sind. Das wird am Beispiel des schriftlichen Dividierens und einem Kuchenrezept deutlich. Beide bestehen aus einfachen Anweisungen und lösen ein komplexeres Problem. Allerdings kann die Rechenvorschrift für beliebige Divisionsaufgaben eingesetzt werden, während das Kuchenrezept nur zur Herstellung eines speziellen Kuchens führt. "
   ]
  },
  {
   "cell_type": "markdown",
   "metadata": {},
   "source": [
    "Das obige Beispiel für einen Algorithmus ist eines von vielen, welche von Menschen eingesetzt werden (können):\n",
    "* Schriftliches Rechnen\n",
    "* Suche von Primzahlen\n",
    "* Bestimmung des Durchschnitts\n",
    "* Lösen eines Zauberwürfels"
   ]
  },
  {
   "cell_type": "markdown",
   "metadata": {},
   "source": [
    "Viele Algorithmen aus unserem Alltag sind aus sehr elementaren Anweisungen aufgebaut. Trotz der Einfachheit der Anweisungen, können Sie von Menschen nicht eingesetzt werden, da die erforderliche Anzahl von Operationen sehr hoch sein kann. An dieser Stelle kommen Computer zum Einsatz. Wie in diesem Kapitel gezeigt wird, können mit den Grundrechenarten und Logischen Verknüpfungen komplexe Probleme gelöst werden. "
   ]
  },
  {
   "cell_type": "markdown",
   "metadata": {},
   "source": [
    "Beispiele für Algorithmen aus dem Alltag bzw. Ingenieurwesen, welche auf Computer zurückgreifen:\n",
    "* Numerische Lösung von Differentialgleichungen (z.B. Strukturmechanik, Wärmetransport)\n",
    "* Suchmachinen im Internet\n",
    "* Vorschläge beim online Einkaufen oder Medienkonsum\n",
    "* Autonavigation"
   ]
  },
  {
   "cell_type": "markdown",
   "metadata": {},
   "source": [
    "In diesem Kapitel werden folgende Themen behandelt:\n",
    "* Beispiele für Algorithmen\n",
    "* Eigenschaften von Algorithmen\n",
    "* Beispiel – Suchalgorithmen\n",
    "* Beispiel – ODE"
   ]
  },
  {
   "cell_type": "markdown",
   "metadata": {},
   "source": [
    "## Beispiel -- Paarfindung"
   ]
  },
  {
   "cell_type": "markdown",
   "metadata": {},
   "source": [
    "**Situation:** Eine Gruppe von Damen und Herren wollen tanzen, jedoch mag nicht jeder mit jedem tanzen.\n",
    "\n",
    "**Problem:** Wie findet man die maximale Anzahl an Paaren? Ohne jede Mo ̈glichkeit durchzuspielen?\n",
    "\n",
    "**Anwendung:** z.B. Studienplatzvergabe, Partnervermittlung"
   ]
  },
  {
   "cell_type": "code",
   "execution_count": null,
   "metadata": {},
   "outputs": [],
   "source": []
  }
 ],
 "metadata": {
  "kernelspec": {
   "display_name": "Python 3",
   "language": "python",
   "name": "python3"
  },
  "language_info": {
   "codemirror_mode": {
    "name": "ipython",
    "version": 3
   },
   "file_extension": ".py",
   "mimetype": "text/x-python",
   "name": "python",
   "nbconvert_exporter": "python",
   "pygments_lexer": "ipython3",
   "version": "3.8.2"
  }
 },
 "nbformat": 4,
 "nbformat_minor": 4
}
