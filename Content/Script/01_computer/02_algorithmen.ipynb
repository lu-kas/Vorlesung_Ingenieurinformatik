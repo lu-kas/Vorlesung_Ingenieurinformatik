{
 "cells": [
  {
   "cell_type": "markdown",
   "metadata": {},
   "source": [
    "# Algorithmen"
   ]
  },
  {
   "cell_type": "markdown",
   "metadata": {},
   "source": [
    "## Definition\n",
    "Ein Algorithmus ist eine formale Vorschrift wie die Lösung einer Fragestellung gefunden werden kann. Dabei handelt es sich meist um eine Folge von einfachen Anweisungen, welche zur Lösung komplexer Probleme führen können. \n",
    "\n",
    "| <img src=\"./bilder/algorithmus.svg\" width=\"400\" /> |\n",
    "| :-: |\n",
    "| Algorithmus |\n",
    "\n",
    "Algorithmen sollten so formuliert sein, dass sie nicht nur für einzelne explizite Fragestellungen, sondern auch im Allgemeinen anwendbar sind. Das wird am Beispiel des schriftliche Dividierens und einem Kuchenrezept deutlich. Beide bestehen aus einfachen Anweisungen und lösen ein komplexeres Problem. Allerdings kann die Rechenvorschrift für beliebige Divisionsaufgaben eingesetzt werden, während das Kuchenrezept nur zur Herstellung eines speziellen Kuchens führt. "
   ]
  },
  {
   "cell_type": "markdown",
   "metadata": {},
   "source": [
    "Das obige Beispiel für einen Algorithmus ist eines von vielen, welche von Menschen eingesetzt werden (können):\n",
    "* Schriftliches Rechnen\n",
    "* Lösen von linearen Gleichungssystemen\n",
    "* Bestimmung des Durchschnitts\n",
    "* Lösen eines Zauberwürfels"
   ]
  },
  {
   "cell_type": "markdown",
   "metadata": {},
   "source": [
    "Viele Algorithmen aus unserem Alltag sind aus sehr elementaren Anweisungen aufgebaut. Trotz der Einfachheit der Anweisungen, können Sie von Menschen nicht eingesetzt werden, da die erforderliche Anzahl von Operationen sehr hoch sein kann. An dieser Stelle kommen Computer zum Einsatz. Wie in diesem Kapitel gezeigt wird, können mit den Grundrechenarten und Logischen Verknüpfungen komplexe Probleme gelöst werden. "
   ]
  },
  {
   "cell_type": "markdown",
   "metadata": {},
   "source": [
    "# Beispiele\n",
    "Beispiele für Algorithmen aus dem Alltag bzw. Ingenieurwesen, welche auf Computer zurückgreifen:\n",
    "* Numerische Lösung von Differentialgleichungen (z.B. Strukturmechanik, Wärmetransport)\n",
    "* Suchmachinen im Internet\n",
    "* Vorschläge beim online Einkaufen oder Medienkonsum\n",
    "* Autonavigation"
   ]
  },
  {
   "cell_type": "markdown",
   "metadata": {},
   "source": [
    "## Beispiel – Maximum einer Zahlenliste"
   ]
  },
  {
   "cell_type": "markdown",
   "metadata": {},
   "source": [
    "Ein einfacher Algorithmus zur Bestimmung des maximalen Werts einer beliebig großen Menge von Zahlen ist wie folgt definiert. \n",
    "\n",
    "1. Eingabe: Menge $\\sf A$ von $\\sf n$ Zahlen, hier durchnumerierte Werteliste $\\sf A=A_0, \\dots A_{n-1}$.\n",
    "1. Setzte Hilfswert (Variable) $\\sf m$ auf das erste Element der Liste, d.h. $\\sf m = A_0$.\n",
    "1. Gehe alle Elemente von $\\sf A$ durch, wobei das aktuelle Element als $\\sf a$ bezeichnet wird:\n",
    "  1. Falls das aktuelle Element $\\sf a$ größer ist als $\\sf m$:\n",
    "    * setzte $\\sf m = a$\n",
    "    * mache weiter mit dem nächsten Element in Schritt 3\n",
    "  1. Falls nicht:\n",
    "    * mache weiter mit dem nächsten Element in Schritt 3\n",
    "1. Nachdem alle Elemente aus $\\sf A$ in Schritt 3 durchlaufen wurden, enthält $\\sf m$ den maximalen Wert der Liste $\\sf A$.\n",
    "\n",
    "Folgende Abbildung visualisiert den obigen Ablauf als Flussdiagramm. "
   ]
  },
  {
   "cell_type": "markdown",
   "metadata": {},
   "source": [
    "| <img src=\"./bilder/alg_findmax.svg\" width=\"600\" /> |\n",
    "| :-: |\n",
    "| Algorithmus zur Bestimmung des Maximums einer Zahlenliste |"
   ]
  },
  {
   "cell_type": "markdown",
   "metadata": {},
   "source": [
    "Im obigen Flussdiagramm sind drei Grundelemente verwendet worden:\n",
    "* **Anweisungen** (grün): Hier finden Zuweisungen, z.B. Setzen von Variablenwerten, hier $\\sf m$, statt\n",
    "* **Schleifen** (orange): Wiederholungen bzw. Iterationen über eine Menge, dabei wird bei jedem Durchlauf der Wert der Laufvariable, hier $\\sf a$, neu gesetzt\n",
    "* **Verzweigung** (blau): Abfrage einer Bedingung, welche entscheidet welche folgenden Elemente ausgeführt werden, hier wird geprüft ob $\\sf a > m$\n",
    "\n",
    "Aus diesen Elementen können alle Algorithmen aufgebaut werden. "
   ]
  },
  {
   "cell_type": "markdown",
   "metadata": {},
   "source": [
    "Ein Beispiel für den Ablauf des Algoritmus für eine Liste von 20 Zahlen ist:"
   ]
  },
  {
   "cell_type": "code",
   "execution_count": 32,
   "metadata": {
    "tags": [
     "remove_input"
    ]
   },
   "outputs": [
    {
     "name": "stdout",
     "output_type": "stream",
     "text": [
      "Schritt 1:\n",
      "==========\n",
      "A = [203, 433, 504, 602, 567, 762, 183, 482, 471, 741,\n",
      " 854, 486, 350, 550, 885, 395, 203, 288, 909, 644]\n",
      "\n",
      "Schritt 2:\n",
      "==========\n",
      "m = A[0] = 203\n",
      "\n",
      "Schritt 3:\n",
      "==========\n",
      "a = 203, m = 203\n",
      "a = 433, m = 203, da a > m ist, setzte m auf m= 433\n",
      "a = 504, m = 433, da a > m ist, setzte m auf m= 504\n",
      "a = 602, m = 504, da a > m ist, setzte m auf m= 602\n",
      "a = 567, m = 602\n",
      "a = 762, m = 602, da a > m ist, setzte m auf m= 762\n",
      "a = 183, m = 762\n",
      "a = 482, m = 762\n",
      "a = 471, m = 762\n",
      "a = 741, m = 762\n",
      "a = 854, m = 762, da a > m ist, setzte m auf m= 854\n",
      "a = 486, m = 854\n",
      "a = 350, m = 854\n",
      "a = 550, m = 854\n",
      "a = 885, m = 854, da a > m ist, setzte m auf m= 885\n",
      "a = 395, m = 885\n",
      "a = 203, m = 885\n",
      "a = 288, m = 885\n",
      "a = 909, m = 885, da a > m ist, setzte m auf m= 909\n",
      "a = 644, m = 909\n",
      "\n",
      "Schritt 4:\n",
      "==========\n",
      "Maximaler Wert in A: m = 909\n"
     ]
    }
   ],
   "source": [
    "import numpy as np\n",
    "np.set_printoptions(linewidth=50)\n",
    "# A = np.random.randint(0, high=1000, size=20)\n",
    "A = np.array([203, 433, 504, 602, 567, 762, 183, 482, 471, 741, 854, 486, 350, 550, 885, 395, 203, 288, 909, 644])\n",
    "\n",
    "print('Schritt 1:')\n",
    "print('==========')\n",
    "print('A =', np.array2string(A, separator=', '))\n",
    "\n",
    "print()\n",
    "print('Schritt 2:')\n",
    "print('==========')\n",
    "m = A[0]\n",
    "print('m = A[0] =', m)\n",
    "\n",
    "print()\n",
    "print('Schritt 3:')\n",
    "print('==========')\n",
    "for a in A:\n",
    "    print('a = {:3d}, m = {:3d}'.format(a, m), end='')\n",
    "    if a > m:\n",
    "        m = a\n",
    "        print(', da a > m ist, setzte m auf m=', m)\n",
    "    else:\n",
    "        print()\n",
    "\n",
    "print()\n",
    "print('Schritt 4:')\n",
    "print('==========')\n",
    "print('Maximaler Wert in A: m =', m)"
   ]
  },
  {
   "cell_type": "markdown",
   "metadata": {},
   "source": [
    "# Kapitelübersicht\n",
    "In diesem Kapitel werden folgende Themen behandelt:\n",
    "* Sortieralgorithmen\n",
    "* Eigenschaften von Algorithmen\n",
    "* Numerische Algorithmen"
   ]
  }
 ],
 "metadata": {
  "kernelspec": {
   "display_name": "Python 3",
   "language": "python",
   "name": "python3"
  },
  "language_info": {
   "codemirror_mode": {
    "name": "ipython",
    "version": 3
   },
   "file_extension": ".py",
   "mimetype": "text/x-python",
   "name": "python",
   "nbconvert_exporter": "python",
   "pygments_lexer": "ipython3",
   "version": "3.7.5"
  }
 },
 "nbformat": 4,
 "nbformat_minor": 4
}
