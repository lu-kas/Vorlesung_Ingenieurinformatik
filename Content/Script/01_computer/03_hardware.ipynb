{
 "cells": [
  {
   "cell_type": "markdown",
   "metadata": {},
   "source": [
    "# Computer Hardware"
   ]
  },
  {
   "cell_type": "markdown",
   "metadata": {},
   "source": [
    "Was ist ein Computer? Ein Computer ist ein Gerät, das mittels programmierbarer Rechenvorschriften Daten verarbeitet.\n",
    "\n",
    "| <img src=\"https://upload.wikimedia.org/wikipedia/commons/4/4c/Z3_Deutsches_Museum.JPG\" width =\"250\" /> | <img src=\"https://upload.wikimedia.org/wikipedia/commons/6/69/IBM_PC_5150.jpg\" width=\"250\" /> | <img src=\"https://www.fz-juelich.de/SharedDocs/Bilder/IAS/JSC/JUGENE-2-teaser.jpg?__blob=poster\" width=\"250\" /> | <img src=\"https://upload.wikimedia.org/wikipedia/commons/e/e1/DIVS_Tony_Harding_consulting_Avenza_on_a_tablet%2C_giving_direction_to_Warm_Springs_Hotshots_at_DP_43_%2843615045444%29.jpg\" width=\"250\" /> |\n",
    "| :-: | :-: | :-: | :-: |\n",
    "| Zuse Z3 - 1941 | IBM 5150 - 1981 | IBM Blue Gene/P - 2008 | Apple iPad - 2013 |"
   ]
  },
  {
   "cell_type": "markdown",
   "metadata": {},
   "source": [
    "Dieses Kapitel liefert eine Übersicht über die Geschichte der analogen und digitalen Computer und der Personen dahinter. Es werden einfache elektronische Bauteile präsentiert und die generelle Funktionsweise eines Computers erläutert."
   ]
  }
 ],
 "metadata": {
  "kernelspec": {
   "display_name": "Python 3",
   "language": "python",
   "name": "python3"
  },
  "language_info": {
   "codemirror_mode": {
    "name": "ipython",
    "version": 3
   },
   "file_extension": ".py",
   "mimetype": "text/x-python",
   "name": "python",
   "nbconvert_exporter": "python",
   "pygments_lexer": "ipython3",
   "version": "3.8.2"
  }
 },
 "nbformat": 4,
 "nbformat_minor": 4
}
