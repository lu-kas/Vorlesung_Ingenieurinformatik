{
 "cells": [
  {
   "cell_type": "markdown",
   "metadata": {},
   "source": [
    "# Computer Hardware"
   ]
  },
  {
   "cell_type": "markdown",
   "metadata": {},
   "source": [
    "Ein Computer ist ein Gerät, das mittels programmierbarer Rechenvorschriften Daten digital verarbeitet. In unserem Alltag sind Computer in verschiedensten Arten und Formen überall vertreten. Mittels der digitalen Darstellung von Informationen und verwendung von Algorithmen, sind Computer in der Lage komplexe Probleme zu lösen, welche von Menschen nicht in praktikabler Zeit zu bewältigen wären. "
   ]
  },
  {
   "cell_type": "markdown",
   "metadata": {},
   "source": [
    "| ![](https://upload.wikimedia.org/wikipedia/commons/0/03/Samsung_Galaxy_S7_and_S7_Edge.png) |\n",
    "| :-: |\n",
    "| Bild: Samsung Galaxy S7 and S7 Edge, Quelle: [GadgetsGuy (collage by GalaxyOptimus), CC BY 3.0](https://upload.wikimedia.org/wikipedia/commons/0/03/Samsung_Galaxy_S7_and_S7_Edge.png) |\n",
    "\n",
    "| ![](https://upload.wikimedia.org/wikipedia/commons/thumb/3/32/T440.jpg/1024px-T440.jpg) |\n",
    "| :-: |\n",
    "| Bild: Lenovo ThinkPad T44, Quelle: [Jojhnjoy, T440, CC BY-SA 3.0](https://de.wikipedia.org/wiki/ThinkPad#/media/Datei:T440.jpg) | \n",
    "\n",
    "| ![](https://www.fz-juelich.de/SharedDocs/Bilder/IAS/JSC/EN/galeries/JURECA/JURECA.jpg?__blob=poster)| \n",
    "| :-: |\n",
    "| Bild: Supercomputer JURECA, Quelle [Forschungszentrum Jülich](https://www.fz-juelich.de/SharedDocs/Bilder/IAS/JSC/EN/galeries/JURECA/JURECA.jpg?__blob=poster) |"
   ]
  },
  {
   "cell_type": "markdown",
   "metadata": {},
   "source": [
    "Dieses Kapitel liefert eine Übersicht über die Geschichte der analogen und digitalen Computer und der Personen dahinter. Es werden einfache elektronische Bauteile präsentiert und die generelle Funktionsweise eines Computers erläutert."
   ]
  }
 ],
 "metadata": {
  "kernelspec": {
   "display_name": "Python 3",
   "language": "python",
   "name": "python3"
  },
  "language_info": {
   "codemirror_mode": {
    "name": "ipython",
    "version": 3
   },
   "file_extension": ".py",
   "mimetype": "text/x-python",
   "name": "python",
   "nbconvert_exporter": "python",
   "pygments_lexer": "ipython3",
   "version": "3.8.2"
  }
 },
 "nbformat": 4,
 "nbformat_minor": 4
}
