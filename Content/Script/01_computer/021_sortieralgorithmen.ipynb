{
 "cells": [
  {
   "cell_type": "markdown",
   "metadata": {},
   "source": [
    "# Sortieralgorithmen"
   ]
  },
  {
   "cell_type": "markdown",
   "metadata": {},
   "source": [
    "## Selection Sort"
   ]
  },
  {
   "cell_type": "markdown",
   "metadata": {
    "jupyter": {
     "source_hidden": true
    }
   },
   "source": [
    "![](./bilder/alg_selsort.png)"
   ]
  },
  {
   "cell_type": "code",
   "execution_count": 12,
   "metadata": {
    "jupyter": {
     "source_hidden": true
    },
    "tags": [
     "remove_input"
    ]
   },
   "outputs": [
    {
     "name": "stdout",
     "output_type": "stream",
     "text": [
      "Zu sortierende Werteliste  [42, 6, 22, 11, 54, 12, 31]\n",
      "\n",
      "Iteration  1: \n",
      "   Minimum von  [42, 6, 22, 11, 54, 12, 31] ist 6\n",
      "   Sortierter / Unsortierter Teil:  [6] / [42, 22, 11, 54, 12, 31]\n",
      "\n",
      "Iteration  2: \n",
      "   Minimum von  [42, 22, 11, 54, 12, 31] ist 11\n",
      "   Sortierter / Unsortierter Teil:  [6, 11] / [22, 42, 54, 12, 31]\n",
      "\n",
      "Iteration  3: \n",
      "   Minimum von  [22, 42, 54, 12, 31] ist 12\n",
      "   Sortierter / Unsortierter Teil:  [6, 11, 12] / [42, 54, 22, 31]\n",
      "\n",
      "Iteration  4: \n",
      "   Minimum von  [42, 54, 22, 31] ist 22\n",
      "   Sortierter / Unsortierter Teil:  [6, 11, 12, 22] / [54, 42, 31]\n",
      "\n",
      "Iteration  5: \n",
      "   Minimum von  [54, 42, 31] ist 31\n",
      "   Sortierter / Unsortierter Teil:  [6, 11, 12, 22, 31] / [42, 54]\n",
      "\n",
      "Iteration  6: \n",
      "   Minimum von  [42, 54] ist 42\n",
      "   Sortierter / Unsortierter Teil:  [6, 11, 12, 22, 31, 42] / [54]\n",
      "\n",
      "Iteration  7: \n",
      "   Minimum von  [54] ist 54\n",
      "   Sortierter / Unsortierter Teil:  [6, 11, 12, 22, 31, 42, 54] / []\n",
      "\n"
     ]
    }
   ],
   "source": [
    "A = [42, 6, 22, 11, 54, 12, 31]\n",
    "\n",
    "print('Zu sortierende Werteliste ', A)\n",
    "print()\n",
    "\n",
    "n = len(A)\n",
    "for i in range(n):\n",
    "    mv = A[i]\n",
    "    mi = i\n",
    "    for j in range(i, n):\n",
    "        if A[j] < mv:\n",
    "            mv = A[j]\n",
    "            mi = j\n",
    "\n",
    "    print(\"Iteration {:2d}: \".format(i+1))\n",
    "    print(\"   Minimum von \", A[i:n], \"ist\", mv)\n",
    "    A[mi] = A[i]\n",
    "    A[i] = mv\n",
    "    print(\"   Sortierter / Unsortierter Teil: \", A[:i+1], \"/\", A[i+1:])\n",
    "    print()\n",
    "    \n",
    "\n",
    "    \n"
   ]
  },
  {
   "cell_type": "markdown",
   "metadata": {},
   "source": [
    "## Bubble Sort"
   ]
  },
  {
   "cell_type": "markdown",
   "metadata": {
    "jupyter": {
     "source_hidden": true
    }
   },
   "source": [
    "![](./bilder/alg_bubblesort.png)"
   ]
  },
  {
   "cell_type": "code",
   "execution_count": 24,
   "metadata": {
    "jupyter": {
     "source_hidden": true
    },
    "tags": [
     "remove_input"
    ]
   },
   "outputs": [
    {
     "name": "stdout",
     "output_type": "stream",
     "text": [
      "Zu sortierende Werteliste  [42, 6, 22, 11, 54, 12, 31]\n",
      "\n",
      "Iteration  1: \n",
      "   Liste:  [42, 6, 22, 11, 54, 12, 31]\n",
      "   Tausche:  42 und 6\n",
      "   Liste:  [6, 42, 22, 11, 54, 12, 31]\n",
      "   Tausche:  42 und 22\n",
      "   Liste:  [6, 22, 42, 11, 54, 12, 31]\n",
      "   Tausche:  42 und 11\n",
      "   Liste:  [6, 22, 11, 42, 54, 12, 31]\n",
      "   Tausche:  54 und 12\n",
      "   Liste:  [6, 22, 11, 42, 12, 54, 31]\n",
      "   Tausche:  54 und 31\n",
      "   Liste:  [6, 22, 11, 42, 12, 31, 54]\n",
      "\n",
      "Iteration  2: \n",
      "   Liste:  [6, 22, 11, 42, 12, 31, 54]\n",
      "   Tausche:  22 und 11\n",
      "   Liste:  [6, 11, 22, 42, 12, 31, 54]\n",
      "   Tausche:  42 und 12\n",
      "   Liste:  [6, 11, 22, 12, 42, 31, 54]\n",
      "   Tausche:  42 und 31\n",
      "   Liste:  [6, 11, 22, 12, 31, 42, 54]\n",
      "\n",
      "Iteration  3: \n",
      "   Liste:  [6, 11, 22, 12, 31, 42, 54]\n",
      "   Tausche:  22 und 12\n",
      "   Liste:  [6, 11, 12, 22, 31, 42, 54]\n",
      "\n",
      "Iteration  4: \n",
      "   Liste:  [6, 11, 12, 22, 31, 42, 54]\n",
      "   kein Tausch mehr notwendig\n",
      "\n"
     ]
    }
   ],
   "source": [
    "A = [42, 6, 22, 11, 54, 12, 31]\n",
    "\n",
    "print('Zu sortierende Werteliste ', A)\n",
    "print()\n",
    "\n",
    "n = len(A)\n",
    "swapped = True\n",
    "i = 0\n",
    "while swapped:\n",
    "    swapped = False\n",
    "    print(\"Iteration {:2d}: \".format(len(A) - n + 1))\n",
    "    print(\"   Liste: \", A)\n",
    "    for j in range(n-1):\n",
    "        if A[j+1] < A[j]:\n",
    "            print(\"   Tausche: \", A[j], \"und\", A[j+1])\n",
    "            mv = A[j]\n",
    "            A[j] = A[j+1]\n",
    "            A[j+1] = mv\n",
    "            print(\"   Liste: \", A)\n",
    "            swapped = True\n",
    "    n -= 1\n",
    "    if not swapped:\n",
    "        print(\"   kein Tausch mehr notwendig\")\n",
    "    print()\n",
    "\n"
   ]
  },
  {
   "cell_type": "code",
   "execution_count": null,
   "metadata": {},
   "outputs": [],
   "source": []
  }
 ],
 "metadata": {
  "kernelspec": {
   "display_name": "Python 3",
   "language": "python",
   "name": "python3"
  },
  "language_info": {
   "codemirror_mode": {
    "name": "ipython",
    "version": 3
   },
   "file_extension": ".py",
   "mimetype": "text/x-python",
   "name": "python",
   "nbconvert_exporter": "python",
   "pygments_lexer": "ipython3",
   "version": "3.8.2"
  }
 },
 "nbformat": 4,
 "nbformat_minor": 4
}
