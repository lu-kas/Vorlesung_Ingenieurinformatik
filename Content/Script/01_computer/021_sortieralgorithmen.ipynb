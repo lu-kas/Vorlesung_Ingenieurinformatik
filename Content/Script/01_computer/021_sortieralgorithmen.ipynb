{
 "cells": [
  {
   "cell_type": "markdown",
   "metadata": {},
   "source": [
    "# Sortieralgorithmen"
   ]
  },
  {
   "cell_type": "markdown",
   "metadata": {},
   "source": [
    "Sortieralgoritmen werden genutzt um Listen von Werten der Größe nach zu sortieren. Anwendung finden diese Algorithmen bei Datenbanken oder Suchvorgängen. Insbesondere bei langen Listen mit Millionen oder Milliarden Einträgen ist es wichtig, dass der Algorithmus mit möglichst wenigen Operationen pro Element auskommt. Diese, als Komplexität bezeichnete Eigenschaft, wird im nächsten Kapitel genauer erläutert. \n",
    "\n",
    "Zunächst werden zwei einfache Sortieralgorithmen \n",
    "\n",
    "* [Selectionsort](https://de.wikipedia.org/wiki/Selectionsort)\n",
    "* [Bubblesort](https://de.wikipedia.org/wiki/Bubblesort)\n",
    "\n",
    "vorgestellt. Diese werden in der Praxis kaum noch eingesetzt, da es eine Vielzahl anderer [Sortierverfahren](https://de.wikipedia.org/wiki/Sortierverfahren) gibt, welche effektiver arbeiten. Jedoch eignen sich diese beiden besonders gut, um die Grundideen zu verdeutlichen. "
   ]
  },
  {
   "cell_type": "markdown",
   "metadata": {},
   "source": [
    "## Selectionsort"
   ]
  },
  {
   "cell_type": "markdown",
   "metadata": {},
   "source": [
    "Folgende Grundidee liegt dem Selectionsort zugrunde: Es wird der minimale Wert der Liste gesucht, dann der zweit-kleinste und so weiter bis die ganze Liste sortiert ist. Dies kann als Abfolge dieser Schritte für eine Liste mit $\\sf n$ Elementen formalisiert werden.\n",
    "\n",
    "1. Wiederhole die Schritte 2 bis 4 $\\sf n$ Mal. Setzte die Hilfsvariable $i$ initial auf Null.\n",
    "1. Suche den minimalen Wert der Liste ab dem $\\sf i$-ten Element.\n",
    "1. Tausche dieses Element mit dem $\\sf i$-ten Element.\n",
    "1. Erhöhe den Wert von $\\sf i$ um Eins.\n",
    "1. Die Vertauschungen der Elemente haben zu einer sortierten Liste geführt."
   ]
  },
  {
   "cell_type": "markdown",
   "metadata": {},
   "source": [
    "Der Selectionsort kann auch als folgendes Flussdiagramm dargestellt werden."
   ]
  },
  {
   "cell_type": "markdown",
   "metadata": {
    "jupyter": {
     "source_hidden": true
    }
   },
   "source": [
    "| ![Selectionsort](./bilder/alg_selsort.svg) |\n",
    "| :-: |\n",
    "| Selectionsort |"
   ]
  },
  {
   "cell_type": "markdown",
   "metadata": {},
   "source": [
    "Als Zahlenbeispiel wird die Liste mit den Elementen 42, 6, 22, 11, 54, 12, 31 mit dem Selectionsort sortiert."
   ]
  },
  {
   "cell_type": "code",
   "execution_count": 1,
   "metadata": {
    "collapsed": true,
    "jupyter": {
     "outputs_hidden": true,
     "source_hidden": true
    },
    "tags": [
     "remove_input",
     "full-width"
    ]
   },
   "outputs": [
    {
     "name": "stdout",
     "output_type": "stream",
     "text": [
      "Zu sortierende Werteliste  [42, 6, 22, 11, 54, 12, 31]\n",
      "\n",
      "Iteration  1: \n",
      "   Minimum von  [42, 6, 22, 11, 54, 12, 31] ist 6\n",
      "   Sortiert / Unsortiert:  [6] / [42, 22, 11, 54, 12, 31]\n",
      "\n",
      "Iteration  2: \n",
      "   Minimum von  [42, 22, 11, 54, 12, 31] ist 11\n",
      "   Sortiert / Unsortiert:  [6, 11] / [22, 42, 54, 12, 31]\n",
      "\n",
      "Iteration  3: \n",
      "   Minimum von  [22, 42, 54, 12, 31] ist 12\n",
      "   Sortiert / Unsortiert:  [6, 11, 12] / [42, 54, 22, 31]\n",
      "\n",
      "Iteration  4: \n",
      "   Minimum von  [42, 54, 22, 31] ist 22\n",
      "   Sortiert / Unsortiert:  [6, 11, 12, 22] / [54, 42, 31]\n",
      "\n",
      "Iteration  5: \n",
      "   Minimum von  [54, 42, 31] ist 31\n",
      "   Sortiert / Unsortiert:  [6, 11, 12, 22, 31] / [42, 54]\n",
      "\n",
      "Iteration  6: \n",
      "   Minimum von  [42, 54] ist 42\n",
      "   Sortiert / Unsortiert:  [6, 11, 12, 22, 31, 42] / [54]\n",
      "\n",
      "Iteration  7: \n",
      "   Minimum von  [54] ist 54\n",
      "   Sortiert / Unsortiert:  [6, 11, 12, 22, 31, 42, 54] / []\n",
      "\n"
     ]
    }
   ],
   "source": [
    "A = [42, 6, 22, 11, 54, 12, 31]\n",
    "\n",
    "print('Zu sortierende Werteliste ', A)\n",
    "print()\n",
    "\n",
    "n = len(A)\n",
    "for i in range(n):\n",
    "    mv = A[i]\n",
    "    mi = i\n",
    "    for j in range(i, n):\n",
    "        if A[j] < mv:\n",
    "            mv = A[j]\n",
    "            mi = j\n",
    "\n",
    "    print(\"Iteration {:2d}: \".format(i+1))\n",
    "    print(\"   Minimum von \", A[i:n], \"ist\", mv)\n",
    "    A[mi] = A[i]\n",
    "    A[i] = mv\n",
    "    print(\"   Sortiert / Unsortiert: \", A[:i+1], \"/\", A[i+1:])\n",
    "    print()\n",
    "    \n",
    "\n",
    "    \n"
   ]
  },
  {
   "cell_type": "markdown",
   "metadata": {},
   "source": [
    "## Bubblesort"
   ]
  },
  {
   "cell_type": "markdown",
   "metadata": {},
   "source": [
    "Im Gegensatz zum Selectionsort beruht die Idee des Bubblesort auf rein lokalen Operationen. D.h. hier wird nicht nach den maximalen Werten gesucht, sondern durch Vertauschungen eine Sortierung erzielt. Das Verfahren für eine Liste mit $\\sf n$ Elementen ist durch folgende Vorschrift gegeben.\n",
    "\n",
    "1. Die Schritte 2 bis 4 werden $\\sf n$ Mal durchgeführt. Die Hilfsvariable $\\sf i$ wird initial auf Null gesetzt.\n",
    "1. Starte beim $\\sf i$-ten Element und iteriere bis zum Ende der Liste. Falls das aktuell betrachtete Element größer ist als das Folgende, tausche beide Elemente.\n",
    "1. Falls in Schritt 2 keine Vertauschungen durchgeführt wurden, gehe zu Schritt 5.\n",
    "1. Addiere Eins zum Wert der Variable $\\sf i$.\n",
    "1. Die Liste ist sortiert und der Algorithmus ist fertig."
   ]
  },
  {
   "cell_type": "markdown",
   "metadata": {},
   "source": [
    "Das nachfolgende Flussdiagramm verdeutlicht den Ablauf des Bubblesort Algorithmus."
   ]
  },
  {
   "cell_type": "markdown",
   "metadata": {
    "jupyter": {
     "source_hidden": true
    }
   },
   "source": [
    "| ![Bubblesort](./bilder/alg_bubblesort.svg) |\n",
    "| :-: |\n",
    "| Bubblesort |"
   ]
  },
  {
   "cell_type": "markdown",
   "metadata": {},
   "source": [
    "Der Ablauf des Bubblesort wird beispielhaft für die Liste 42, 6, 22, 11, 54, 12, 31 (gleich der im obigen Beispiel) vorgeführt."
   ]
  },
  {
   "cell_type": "code",
   "execution_count": 3,
   "metadata": {
    "tags": [
     "remove_input"
    ]
   },
   "outputs": [
    {
     "name": "stdout",
     "output_type": "stream",
     "text": [
      "Zu sortierende Werteliste  [42, 6, 22, 11, 54, 12, 31]\n",
      "\n",
      "Iteration  1: \n",
      "   Liste zu Beginn der Iteration:  [42, 6, 22, 11, 54, 12, 31]\n",
      "   Tausche:  42 und 6\n",
      "   Liste nach Tausch:  [6, 42, 22, 11, 54, 12, 31]\n",
      "   Tausche:  42 und 22\n",
      "   Liste nach Tausch:  [6, 22, 42, 11, 54, 12, 31]\n",
      "   Tausche:  42 und 11\n",
      "   Liste nach Tausch:  [6, 22, 11, 42, 54, 12, 31]\n",
      "   Elemente  42 und 54  müssen nicht getauscht werden\n",
      "   Tausche:  54 und 12\n",
      "   Liste nach Tausch:  [6, 22, 11, 42, 12, 54, 31]\n",
      "   Tausche:  54 und 31\n",
      "   Liste nach Tausch:  [6, 22, 11, 42, 12, 31, 54]\n",
      "\n",
      "Iteration  2: \n",
      "   Liste zu Beginn der Iteration:  [6, 22, 11, 42, 12, 31, 54]\n",
      "   Elemente  6 und 22  müssen nicht getauscht werden\n",
      "   Tausche:  22 und 11\n",
      "   Liste nach Tausch:  [6, 11, 22, 42, 12, 31, 54]\n",
      "   Elemente  22 und 42  müssen nicht getauscht werden\n",
      "   Tausche:  42 und 12\n",
      "   Liste nach Tausch:  [6, 11, 22, 12, 42, 31, 54]\n",
      "   Tausche:  42 und 31\n",
      "   Liste nach Tausch:  [6, 11, 22, 12, 31, 42, 54]\n",
      "\n",
      "Iteration  3: \n",
      "   Liste zu Beginn der Iteration:  [6, 11, 22, 12, 31, 42, 54]\n",
      "   Elemente  6 und 11  müssen nicht getauscht werden\n",
      "   Elemente  11 und 22  müssen nicht getauscht werden\n",
      "   Tausche:  22 und 12\n",
      "   Liste nach Tausch:  [6, 11, 12, 22, 31, 42, 54]\n",
      "   Elemente  22 und 31  müssen nicht getauscht werden\n",
      "\n",
      "Iteration  4: \n",
      "   Liste zu Beginn der Iteration:  [6, 11, 12, 22, 31, 42, 54]\n",
      "   Elemente  6 und 11  müssen nicht getauscht werden\n",
      "   Elemente  11 und 12  müssen nicht getauscht werden\n",
      "   Elemente  12 und 22  müssen nicht getauscht werden\n",
      "   kein Tausch mehr notwendig, Liste ist nun sortiert\n",
      "\n"
     ]
    }
   ],
   "source": [
    "A = [42, 6, 22, 11, 54, 12, 31]\n",
    "\n",
    "print('Zu sortierende Werteliste ', A)\n",
    "print()\n",
    "\n",
    "n = len(A)\n",
    "swapped = True\n",
    "i = 0\n",
    "while swapped:\n",
    "    swapped = False\n",
    "    print(\"Iteration {:2d}: \".format(len(A) - n + 1))\n",
    "    print(\"   Liste zu Beginn der Iteration: \", A)\n",
    "    for j in range(n-1):\n",
    "        if A[j+1] < A[j]:\n",
    "            print(\"   Tausche: \", A[j], \"und\", A[j+1])\n",
    "            mv = A[j]\n",
    "            A[j] = A[j+1]\n",
    "            A[j+1] = mv\n",
    "            print(\"   Liste nach Tausch: \", A)\n",
    "            swapped = True\n",
    "        else:\n",
    "            print(\"   Elemente \", A[j], \"und\", A[j+1], \" müssen nicht getauscht werden\")\n",
    "    n -= 1\n",
    "    if not swapped:\n",
    "        print(\"   kein Tausch mehr notwendig, Liste ist nun sortiert\")\n",
    "    print()\n",
    "\n"
   ]
  }
 ],
 "metadata": {
  "kernelspec": {
   "display_name": "Python 3",
   "language": "python",
   "name": "python3"
  },
  "language_info": {
   "codemirror_mode": {
    "name": "ipython",
    "version": 3
   },
   "file_extension": ".py",
   "mimetype": "text/x-python",
   "name": "python",
   "nbconvert_exporter": "python",
   "pygments_lexer": "ipython3",
   "version": "3.7.5"
  }
 },
 "nbformat": 4,
 "nbformat_minor": 4
}
