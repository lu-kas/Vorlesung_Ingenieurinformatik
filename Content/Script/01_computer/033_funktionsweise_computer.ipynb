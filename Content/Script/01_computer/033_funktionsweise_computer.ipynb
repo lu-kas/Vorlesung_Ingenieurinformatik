{
 "cells": [
  {
   "cell_type": "markdown",
   "metadata": {},
   "source": [
    "# Arbeitsweise eines Computers\n",
    "\n",
    "Die Arbeitsweise eines Computers (auf einem sehr grundlegendem Niveau) ist die folgende:\n",
    "\n",
    "- Instruktionen aus dem Speicher laden und interpretieren\n",
    "- Daten zur Ausführung der Instruktionen laden\n",
    "- Instruktion ausführen\n",
    "- Ergebnisse in den Speicher schreiben\n",
    "- Nächste Instruktion laden\n",
    "\n",
    "Es existiert im Speicher kein Unterschied zwischen Anweisungen und Daten! In dem nachfolgenden Beispiel sind Instruktionen bereits interpretiert dargestellt."
   ]
  },
  {
   "cell_type": "markdown",
   "metadata": {
    "tags": [
     "hide_input"
    ]
   },
   "source": [
    "## Instruktionen\n",
    "\n",
    "1. Die Steuerlogik erfragt beim Speichersystem den Wert an der Stelle des Instruktionszeigers.\n",
    "1. Über das Bussystem schickt der Speicher den Wert an die Steuerlogik, welche ihn in einem Register abspeichert.\n",
    "1. Die Steuerlogik interpretiert diesen Wert als Befehl. Z.B. die Addition von zwei Zahlen an den Speicheradressen A und B. Das Ergebnis wird an Speicherstelle C geschrieben.\n",
    "1. Kommunikation der CPU mit dem Speicher zum Füllen von zwei arithmetischen Registern aus den Speicheradressen A und B.\n",
    "1. Anweisung an das Rechenwerk die Zahlen aus den beiden Registern zu addieren und in ein weiteres Register zu schreiben.\n",
    "1. Senden des errechneten Wertes aus dem Register an die Speicherstelle C.\n",
    "1. Setzen des Instruktionszeigers (z.B. auf die nächste Speicherstelle).\n",
    "1. Bei Punkt 1 weiterarbeiten."
   ]
  },
  {
   "cell_type": "markdown",
   "metadata": {},
   "source": [
    "## Arbeitstakte"
   ]
  },
  {
   "cell_type": "code",
   "execution_count": 1,
   "metadata": {
    "tags": [
     "remove_input"
    ]
   },
   "outputs": [
    {
     "data": {
      "text/html": [
       "<!--W3.CSS slideshow tutorial: https://www.w3schools.com/w3css/w3css_slideshow.asp-->\n",
       "<link rel=\"stylesheet\" href=\"https://www.w3schools.com/w3css/4/w3.css\">\n",
       "<body>\n",
       "\n",
       "<div class=\"w3-content\">\n",
       "  <img class=\"mySlides\" src=\"./bilder/arbeitsweise-cpu-1000.svg\" style=\"width:100%\">\n",
       "  <img class=\"mySlides\" src=\"./bilder/arbeitsweise-cpu-1001.svg\" style=\"width:100%\">\n",
       "  <img class=\"mySlides\" src=\"./bilder/arbeitsweise-cpu-1002.svg\" style=\"width:100%\">\n",
       "  <img class=\"mySlides\" src=\"./bilder/arbeitsweise-cpu-1003.svg\" style=\"width:100%\">\n",
       "  <img class=\"mySlides\" src=\"./bilder/arbeitsweise-cpu-1004.svg\" style=\"width:100%\">\n",
       "  <img class=\"mySlides\" src=\"./bilder/arbeitsweise-cpu-1005.svg\" style=\"width:100%\">\n",
       "  <img class=\"mySlides\" src=\"./bilder/arbeitsweise-cpu-1006.svg\" style=\"width:100%\">\n",
       "  <img class=\"mySlides\" src=\"./bilder/arbeitsweise-cpu-1007.svg\" style=\"width:100%\">\n",
       "</div>\n",
       "\n",
       "<div class=\"w3-center\">\n",
       "  Taktnummer:\n",
       "  <button class=\"w3-button demo\" onclick=\"currentDiv(1)\">1000</button>\n",
       "  <button class=\"w3-button demo\" onclick=\"currentDiv(2)\">1001</button>\n",
       "  <button class=\"w3-button demo\" onclick=\"currentDiv(3)\">1002</button>\n",
       "  <button class=\"w3-button demo\" onclick=\"currentDiv(4)\">1003</button>\n",
       "  <button class=\"w3-button demo\" onclick=\"currentDiv(5)\">1004</button>\n",
       "  <button class=\"w3-button demo\" onclick=\"currentDiv(6)\">1005</button>\n",
       "  <button class=\"w3-button demo\" onclick=\"currentDiv(7)\">1006</button>\n",
       "  <button class=\"w3-button demo\" onclick=\"currentDiv(8)\">1007</button>\n",
       "</div>\n",
       "\n",
       "<script>\n",
       "var slideIndex = 1;\n",
       "showDivs(slideIndex);\n",
       "\n",
       "function currentDiv(n) {\n",
       "  showDivs(slideIndex = n);\n",
       "}\n",
       "\n",
       "function showDivs(n) {\n",
       "  var i;\n",
       "  var x = document.getElementsByClassName(\"mySlides\");\n",
       "  var dots = document.getElementsByClassName(\"demo\");\n",
       "  for (i = 0; i < x.length; ++i) {\n",
       "    x[i].style.display = \"none\";  \n",
       "  }\n",
       "  for (i = 0; i < dots.length; ++i) {\n",
       "    dots[i].className = dots[i].className.replace(\" w3-red\", \"\");\n",
       "  }\n",
       "  x[slideIndex-1].style.display = \"block\";  \n",
       "  dots[slideIndex-1].className += \" w3-red\";\n",
       "}\n",
       "</script>\n",
       "\n",
       "</body>\n"
      ],
      "text/plain": [
       "<IPython.core.display.HTML object>"
      ]
     },
     "metadata": {},
     "output_type": "display_data"
    }
   ],
   "source": [
    "%%html\n",
    "<!--W3.CSS slideshow tutorial: https://www.w3schools.com/w3css/w3css_slideshow.asp-->\n",
    "<link rel=\"stylesheet\" href=\"https://www.w3schools.com/w3css/4/w3.css\">\n",
    "<body>\n",
    "\n",
    "<div class=\"w3-content\">\n",
    "  <img class=\"mySlides\" src=\"./bilder/arbeitsweise-cpu-1000.svg\" style=\"width:100%\">\n",
    "  <img class=\"mySlides\" src=\"./bilder/arbeitsweise-cpu-1001.svg\" style=\"width:100%\">\n",
    "  <img class=\"mySlides\" src=\"./bilder/arbeitsweise-cpu-1002.svg\" style=\"width:100%\">\n",
    "  <img class=\"mySlides\" src=\"./bilder/arbeitsweise-cpu-1003.svg\" style=\"width:100%\">\n",
    "  <img class=\"mySlides\" src=\"./bilder/arbeitsweise-cpu-1004.svg\" style=\"width:100%\">\n",
    "  <img class=\"mySlides\" src=\"./bilder/arbeitsweise-cpu-1005.svg\" style=\"width:100%\">\n",
    "  <img class=\"mySlides\" src=\"./bilder/arbeitsweise-cpu-1006.svg\" style=\"width:100%\">\n",
    "  <img class=\"mySlides\" src=\"./bilder/arbeitsweise-cpu-1007.svg\" style=\"width:100%\">\n",
    "</div>\n",
    "\n",
    "<div class=\"w3-center\">\n",
    "  Taktnummer:\n",
    "  <button class=\"w3-button demo\" onclick=\"currentDiv(1)\">1000</button>\n",
    "  <button class=\"w3-button demo\" onclick=\"currentDiv(2)\">1001</button>\n",
    "  <button class=\"w3-button demo\" onclick=\"currentDiv(3)\">1002</button>\n",
    "  <button class=\"w3-button demo\" onclick=\"currentDiv(4)\">1003</button>\n",
    "  <button class=\"w3-button demo\" onclick=\"currentDiv(5)\">1004</button>\n",
    "  <button class=\"w3-button demo\" onclick=\"currentDiv(6)\">1005</button>\n",
    "  <button class=\"w3-button demo\" onclick=\"currentDiv(7)\">1006</button>\n",
    "  <button class=\"w3-button demo\" onclick=\"currentDiv(8)\">1007</button>\n",
    "</div>\n",
    "\n",
    "<script>\n",
    "var slideIndex = 1;\n",
    "showDivs(slideIndex);\n",
    "\n",
    "function currentDiv(n) {\n",
    "  showDivs(slideIndex = n);\n",
    "}\n",
    "\n",
    "function showDivs(n) {\n",
    "  var i;\n",
    "  var x = document.getElementsByClassName(\"mySlides\");\n",
    "  var dots = document.getElementsByClassName(\"demo\");\n",
    "  for (i = 0; i < x.length; ++i) {\n",
    "    x[i].style.display = \"none\";  \n",
    "  }\n",
    "  for (i = 0; i < dots.length; ++i) {\n",
    "    dots[i].className = dots[i].className.replace(\" w3-red\", \"\");\n",
    "  }\n",
    "  x[slideIndex-1].style.display = \"block\";  \n",
    "  dots[slideIndex-1].className += \" w3-red\";\n",
    "}\n",
    "</script>\n",
    "\n",
    "</body>"
   ]
  }
 ],
 "metadata": {
  "kernelspec": {
   "display_name": "Python 3",
   "language": "python",
   "name": "python3"
  },
  "language_info": {
   "codemirror_mode": {
    "name": "ipython",
    "version": 3
   },
   "file_extension": ".py",
   "mimetype": "text/x-python",
   "name": "python",
   "nbconvert_exporter": "python",
   "pygments_lexer": "ipython3",
   "version": "3.8.2"
  }
 },
 "nbformat": 4,
 "nbformat_minor": 4
}
