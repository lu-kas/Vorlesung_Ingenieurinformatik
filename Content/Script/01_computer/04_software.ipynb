{
 "cells": [
  {
   "cell_type": "markdown",
   "metadata": {},
   "source": [
    "# Software\n",
    "\n",
    "”Ohne ihre Software sind Computer eigentlich nur wie ein Klumpen Metall” - Andrew S. Tannenbaum\n",
    "\n",
    "In diesem Kapitel werden die Funktionsweise von Betriebssystemen und ihrer Dateisystems erläutert, sowie die Grundlagen der Softwareentwicklung werden vermittelt."
   ]
  }
 ],
 "metadata": {
  "kernelspec": {
   "display_name": "Python 3",
   "language": "python",
   "name": "python3"
  },
  "language_info": {
   "codemirror_mode": {
    "name": "ipython",
    "version": 3
   },
   "file_extension": ".py",
   "mimetype": "text/x-python",
   "name": "python",
   "nbconvert_exporter": "python",
   "pygments_lexer": "ipython3",
   "version": "3.8.2"
  }
 },
 "nbformat": 4,
 "nbformat_minor": 4
}
