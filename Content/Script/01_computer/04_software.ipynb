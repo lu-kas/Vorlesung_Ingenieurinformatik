{
 "cells": [
  {
   "cell_type": "markdown",
   "metadata": {},
   "source": [
    "# Software\n",
    "\n",
    "Erst durch die Software, wird der Computer zu dem Werkzeug, welches wir kennen. Dabei spielt das Betriebssystem eine zentrale Rolle. In diesem Kapitel wird die grundlegende Funktionsweise von Betriebssystemen, der Softwareentwicklung und des Dateisystems erläutert."
   ]
  },
  {
   "cell_type": "markdown",
   "metadata": {},
   "source": [
    "## Softwarelizenzen\n",
    "\n",
    "Software, wie Hardware natürlich auch, kann verschiedenen Lizenzen unterliegen. Diese müssen bei der Anwendung und Entwicklung von Software berücksichtigt werden.\n",
    "\n",
    "Generell existieren folgende Unterscheidungen:\n",
    "\n",
    "- frei, wie Freiheit: damit kann der Quellcode für alle möglichen Zwecke verwendet werden (z.B. BSD Lizenz)\n",
    "- frei, wie Freibier: es entstehen keine Kosten beim Benutzen, jedoch hat man meist keinen Zugriff auf den Quellcode\n",
    "- quelloffen: der Quellcode kann eingesehen werden, die Nutzung kann aber trotzdem Geld kosten (z.B. GNU Lizenz)\n",
    "- proprietär: der Quellcode kann nicht eingesehen werden und oft entstehen Nutzungskosten"
   ]
  }
 ],
 "metadata": {
  "kernelspec": {
   "display_name": "Python 3",
   "language": "python",
   "name": "python3"
  },
  "language_info": {
   "codemirror_mode": {
    "name": "ipython",
    "version": 3
   },
   "file_extension": ".py",
   "mimetype": "text/x-python",
   "name": "python",
   "nbconvert_exporter": "python",
   "pygments_lexer": "ipython3",
   "version": "3.8.2"
  }
 },
 "nbformat": 4,
 "nbformat_minor": 4
}
