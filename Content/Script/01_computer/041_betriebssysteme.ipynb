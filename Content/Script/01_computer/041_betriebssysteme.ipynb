{
 "cells": [
  {
   "cell_type": "markdown",
   "metadata": {},
   "source": [
    "## Betriebssysteme"
   ]
  },
  {
   "cell_type": "markdown",
   "metadata": {},
   "source": [
    "### Motivation von Betriebssystemen\n",
    "\n",
    "Ein Betriebssystem (operating system, OS) ist ein Programm, das alle Betriebsmittel eines Rechensystems verwaltet, ihre Zuteilung kontrolliert und den Nutzern des Rechensystems eine virtuelle Maschine anbietet.\n",
    "\n",
    "Ein Anwendungsprogramm kann von einem OS ausgeführt werden, wobei es auf das OS zugreift.\n",
    "\n",
    "Ein OS stellt einer Anwendung Zugriff auf u.A. folgende Ressourcen zur Verfügung:\n",
    "- Bildschirmausgabe und Tastatureingabe\n",
    "- Grafische Darstellung der Benutzeroberfläche\n",
    "- Dateisystem\n",
    "- Arbeitsspeicher\n",
    "- Netwerk\n",
    "\n",
    "| <img src=\"https://upload.wikimedia.org/wikipedia/commons/6/66/Operating_system_placement-de.svg\" width=\"200\" /> |\n",
    "| :-: |\n",
    "| Betriebssystem |"
   ]
  },
  {
   "cell_type": "markdown",
   "metadata": {},
   "source": [
    "### Aufbau eines Betriebssystems\n",
    "\n",
    "- Hardware: Tastatur, Grafikkarte, etc.\n",
    "- OS: Das Betriebssystem kann mit der zu nutzenden Hardware umgehene, d.h. es versteht alle hardwarespezifischen Protokolle\n",
    "- Betriebsmittel: Abstraktion der spezifischen Protokolle, verallgemeinert und erlaubt den Zugriff auf zentrale Ressourcen (z.B. Tastatur, Bildschirm, Festplatte)\n",
    "- Anwendungsprogramme: Greifen auf die Betriebsmittel zu und haben keine explizite Kenntnis der Hardware oder des Aufbaus des OS\n",
    "\n",
    "| <img src=\"bilder/os.svg\" width=\"400\" /> |\n",
    "| :-: |\n",
    "| Aufbau eines Betriebssystems |"
   ]
  },
  {
   "cell_type": "markdown",
   "metadata": {},
   "source": [
    "### Mehrproessbetrieb\n",
    "\n",
    "Ein modernes Betriebssystem ist in der Lage mehrere Prozesse gleichzeitig auszuführen. Dazu werden Stückchen der verschiedenen Prozesse hintereinander ausgeführt.\n",
    "\n",
    "Mit dieser Pseudo-Parallelität ist es möglich z.B. foldende Aufgaben gleichzeitig ausführen zu können:\n",
    "- Musik hören\n",
    "- Text schreiben\n",
    "- Auf Wikipedia surfen\n",
    "\n",
    "Die CPU kann natürlich nur eine Aufgabe auf einmal abarbeiten. Beim Wechsel zwischen den Prozessen merkt sich das OS den Status (Register, Speicher) eines Prozesses, so dass dieser später lückenlos fortgesetzt werden kann."
   ]
  },
  {
   "cell_type": "markdown",
   "metadata": {},
   "source": [
    "### Programm, Prozess, Thread\n",
    "\n",
    "- Programm: Beinhaltet nur die Anweisungen wie Daten verarbeitet werden.\n",
    "- Prozess: Laufende Instanz eines Programms, welches spezielle Eingabedaten verarbeitet.\n",
    "- Thread: Paralleler Ausführungsstrang in einem Prozess, um z.B. mehrere Eingaben gleichzeitig zu bearbeiten (Benutzereingabe, Netzwerkverkehr).\n",
    "\n",
    "| <img src=\"bilder/prozess-programm-thread.svg\" width=\"500\" /> |\n",
    "| :-: |\n",
    "| Programm, Prozess, Thread |"
   ]
  },
  {
   "cell_type": "markdown",
   "metadata": {},
   "source": [
    "### Übersicht Betriebssysteme\n",
    "\n",
    "Es existiert eine Schar an verschiedenen Betriebssytemen, wobei Microsoft (MS) Windows nur ein Vertreter ist.\n",
    "\n",
    "| Beispiele Windows-Familie: | Beispiele UNIX- und BSD-Familie: | Beispiel Apple (aufbauend auf BSD): |\n",
    "| :-- | :-- | :-- |\n",
    "| <img src=\"https://upload.wikimedia.org/wikipedia/commons/f/fe/Windows_8_logo_and_wordmark.svg\" width=\"150\" /> | <img src=\"https://upload.wikimedia.org/wikipedia/commons/3/35/Tux.svg\" width=\"50\" /> | <img src=\"https://upload.wikimedia.org/wikipedia/commons/2/21/MacOS_wordmark_%282017%29.svg\" width=\"100\" /> |\n",
    "| <ul><li>Windows 10</li><li>Windows 8 (NT 6.2)</li><li>Windows Phone 8 (NT 6.2)</li></ul> | <ul><li>FreeBSD</li><li>AIX</li><li>Linux</li><li>Android</li><li>Firefox OS</li></ul> | <ul><li>OSX 10.14</li><li>iOS 13</li></ul> |"
   ]
  },
  {
   "cell_type": "markdown",
   "metadata": {},
   "source": [
    "### Geschichte von UNIX\n",
    "\n",
    "| ![Geschichte von UNIX](https://upload.wikimedia.org/wikipedia/commons/7/77/Unix_history-simple.svg) |\n",
    "| :-: |\n",
    "| Geschichte von UNIX |"
   ]
  },
  {
   "cell_type": "markdown",
   "metadata": {},
   "source": [
    "- 1969: erste Version von UNIX\n",
    "- bis 1980: frei verfügbar und offen, dann nur noch verschlossen und lizensiert\n",
    "- 1983: Start des GNU-Projekts, Schaffung eines freien UNIX-kompatiblen Betriebssystems\n",
    "- 1991: Erste Version von Linux\n",
    "- 1994: Gurndlagen für z.B. FreeBSD\n",
    "- 2001: Mac OSX aufbauend auf BSD (Darwin)"
   ]
  },
  {
   "cell_type": "markdown",
   "metadata": {},
   "source": [
    "### Linux\n",
    "\n",
    "Die meisten Systeme haben zwei globale Ebenen: den Kernel (absolut grundlegende Funktionen, Schnittstelle zur Hardware) und den Benutzerbereich (abstrahierte Schnittstellen zum Kernel, graphische Oberfläche).\n",
    "\n",
    "Das Linux-OS hat folgenden Aufbau:\n",
    "\n",
    "| <img src=\"https://upload.wikimedia.org/wikipedia/commons/b/b3/Linux_Schichten.svg\" width =\"700\" />\n",
    "| :-: |\n",
    "| Fast vollständige Abstraktion unter Linux |"
   ]
  },
  {
   "cell_type": "markdown",
   "metadata": {},
   "source": [
    "### Microsoft Windows NT\n",
    "\n",
    "Das Windows NT Betriebssystem hat folgenden Aufbau:\n",
    "\n",
    "| <img src=\"https://upload.wikimedia.org/wikipedia/commons/f/f2/Windows_NT_Schichten.svg\" width=\"800\" /> |\n",
    "| :-: |\n",
    "| Abstraktionsschichten unter Windows NT (etwas vereinfacht) |"
   ]
  },
  {
   "cell_type": "markdown",
   "metadata": {},
   "source": [
    "### Mac OS\n",
    "\n",
    "Das OSX hat folgenden Aufbau:\n",
    "\n",
    "| <img src=\"https://upload.wikimedia.org/wikipedia/commons/f/f2/Diagram_of_Mac_OS_X_architecture.svg\" width=\"500\" /> |\n",
    "| :-: |\n",
    "| Mac OSX Architektur |"
   ]
  }
 ],
 "metadata": {
  "kernelspec": {
   "display_name": "Python 3",
   "language": "python",
   "name": "python3"
  },
  "language_info": {
   "codemirror_mode": {
    "name": "ipython",
    "version": 3
   },
   "file_extension": ".py",
   "mimetype": "text/x-python",
   "name": "python",
   "nbconvert_exporter": "python",
   "pygments_lexer": "ipython3",
   "version": "3.8.2"
  }
 },
 "nbformat": 4,
 "nbformat_minor": 4
}
