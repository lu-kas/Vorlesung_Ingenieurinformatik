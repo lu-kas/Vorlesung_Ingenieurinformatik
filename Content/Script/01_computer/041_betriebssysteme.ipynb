{
 "cells": [
  {
   "cell_type": "markdown",
   "metadata": {},
   "source": [
    "# Betriebssysteme\n",
    "\n",
    "Im Folgenden werden die Grundfunktionen und einzelne ausgesuchte Aspekte von Betriebssystemen kurz vorgestellt. "
   ]
  },
  {
   "cell_type": "markdown",
   "metadata": {},
   "source": [
    "## Grundfunktion\n",
    "\n",
    "Ein [Betriebssystem](https://de.wikipedia.org/wiki/Betriebssystem) (operating system, OS) ist ein Programm, das alle Betriebsmittel eines Rechensystems verwaltet und ihre Zuteilung kontrolliert. Dabei versteckt bzw. abstrahiert das Betriebssystem alle Hardwarecomponenten, z.B. durch Treiber. Damit kann ein standarisierter Zugriff auf die Hardware erfolgen, ohne die speziellen Strukutren bzw. Kommunikationsmuster kennen zu müssen. Ein Anwendungsprogramm kann von einem OS ausgeführt werden, wobei es auf vom OS angebotenen Schnittstellen zugreift. \n",
    "\n",
    "Ein OS stellt einer Anwendung Zugriff auf u.A. folgende Ressourcen zur Verfügung:\n",
    "- Bildschirmausgabe und Tastatureingabe\n",
    "- Grafische Darstellung der Benutzeroberfläche\n",
    "- Dateisystem\n",
    "- Arbeitsspeicher\n",
    "- Netwerk\n",
    "\n",
    "| ![](https://upload.wikimedia.org/wikipedia/commons/6/66/Operating_system_placement-de.svg) |\n",
    "| :-: |\n",
    "| Betriebssystem |\n",
    "| Quelle: Golftheman, <a href=\"https://commons.wikimedia.org/wiki/File:Operating_system_placement-de.svg\">Operating system placement-de</a>, <a href=\"https://creativecommons.org/licenses/by-sa/3.0/legalcode\" rel=\"license\">CC BY-SA 3.0</a> |"
   ]
  },
  {
   "cell_type": "markdown",
   "metadata": {},
   "source": [
    "## Aufbau\n",
    "\n",
    "- **Hardware**: Tastatur, Grafikkarte, etc.\n",
    "- **OS**: Das Betriebssystem kann mit der zu nutzenden Hardware umgehene, d.h. es versteht alle hardwarespezifischen Protokolle\n",
    "- **Betriebsmittel**: Abstraktion der spezifischen Protokolle, verallgemeinert und erlaubt den Zugriff auf zentrale Ressourcen (z.B. Tastatur, Bildschirm, Festplatte)\n",
    "- **Anwendungsprogramme**: Greifen auf die Betriebsmittel zu und haben keine explizite Kenntnis der Hardware oder des Aufbaus des OS\n",
    "\n",
    "| <img src=\"bilder/os.svg\" width=\"400\" /> |\n",
    "| :-: |\n",
    "| Aufbau eines Betriebssystems |"
   ]
  },
  {
   "cell_type": "markdown",
   "metadata": {},
   "source": [
    "## Programm, Prozess, Thread\n",
    "\n",
    "- **Programm**: Beinhaltet nur die Anweisungen wie Daten verarbeitet werden.\n",
    "- **Prozess**: Laufende Instanz eines Programms, welches spezielle Eingabedaten verarbeitet.\n",
    "- **Thread**: Paralleler Ausführungsstrang in einem Prozess, um z.B. mehrere Eingaben gleichzeitig zu bearbeiten (Benutzereingabe, Netzwerkverkehr).\n",
    "\n",
    "| ![](bilder/prozess-programm-thread.svg) |\n",
    "| :-: |\n",
    "| Programm, Prozess, Thread |"
   ]
  },
  {
   "cell_type": "markdown",
   "metadata": {},
   "source": [
    "## Mehrprozessbetrieb\n",
    "\n",
    "Ein modernes Betriebssystem ist in der Lage mehrere Prozesse gleichzeitig auszuführen. Dazu werden Stückchen der verschiedenen Prozesse hintereinander ausgeführt. Mit dieser Pseudo-Parallelität ist es möglich z.B. foldende Aufgaben gleichzeitig ausführen zu können:\n",
    "\n",
    "- Musik hören\n",
    "- Text schreiben\n",
    "- Auf Wikipedia surfen\n",
    "\n",
    "Die CPU kann natürlich nur eine Aufgabe auf einmal abarbeiten. Beim Wechsel zwischen den Prozessen merkt sich das OS den Status (Register, Speicher) eines Prozesses, so dass dieser später lückenlos fortgesetzt werden kann."
   ]
  },
  {
   "cell_type": "markdown",
   "metadata": {},
   "source": [
    "## Übersicht Betriebssysteme\n",
    "\n",
    "Es existiert eine Schar an verschiedenen Betriebssytemen, wobei Microsoft (MS) Windows nur ein Vertreter ist.\n",
    "\n",
    "| Beispiele Windows-Familie: | Beispiele UNIX- und BSD-Familie: | Beispiel Apple (aufbauend auf BSD): |\n",
    "| :-- | :-- | :-- |\n",
    "| ![](https://upload.wikimedia.org/wikipedia/commons/f/fe/Windows_8_logo_and_wordmark.svg) | ![](https://upload.wikimedia.org/wikipedia/commons/3/35/Tux.svg) | ![](https://upload.wikimedia.org/wikipedia/commons/2/21/MacOS_wordmark_%282017%29.svg) |\n",
    "| Quelle: Microsoft Corporation, <a href=\"https://commons.wikimedia.org/wiki/File:Windows_8_logo_and_wordmark.svg\">Windows 8 logo and wordmark</a>, als gemeinfrei gekennzeichnet, Details auf <a href=\"https://commons.wikimedia.org/wiki/Template:PD-text\">Wikimedia Commons</a> | Quelle: <a href=\"mailto:lewing@isc.tamu.edu\">lewing@isc.tamu.edu Larry Ewing</a> and <a href=\"https://en.wikipedia.org/wiki/GIMP\">The GIMP</a>, <a href=\"https://commons.wikimedia.org/wiki/File:Tux.svg\">Tux</a>, <a href=\"https://creativecommons.org/publicdomain/zero/1.0/legalcode\" rel=\"license\">CC0 1.0</a> | Quelle: Original: Apple Inc. Vectorization: <a href=\"https://commons.wikimedia.org/wiki/User:Totie\">Totie</a>, <a href=\"https://commons.wikimedia.org/wiki/File:MacOS_wordmark_(2017).svg\">MacOS wordmark (2017)</a>, als gemeinfrei gekennzeichnet, Details auf <a href=\"https://commons.wikimedia.org/wiki/Template:PD-text\">Wikimedia Commons</a> |\n",
    "| <ul><li>Windows 10</li><li>Windows 8 (NT 6.2)</li><li>Windows Phone 8 (NT 6.2)</li></ul> | <ul><li>FreeBSD</li><li>AIX</li><li>Linux</li><li>Android</li><li>Firefox OS</li></ul> | <ul><li>OSX 10.14</li><li>iOS 13</li></ul> |"
   ]
  },
  {
   "cell_type": "markdown",
   "metadata": {},
   "source": [
    "## Beispiel – Linux\n",
    "\n",
    "Linux ist ein populäres und frei verfügbares Betreibssystem. Es wird im Desktop- und Server-Bereich eingesetzt. Während es insbesonere bei Servern (Internet und HPC) den Markt deutlich dominiert, befindet sich der Anteil bei Desktops im kleinen einstelligen Prozentbereich. Jedoch gibt es Initiativen im öffentlichen Bereich sich von der Abhängigkeit und Kontrolle von einzelnen Softwarekonzernen zu lösen.   "
   ]
  },
  {
   "cell_type": "markdown",
   "metadata": {},
   "source": [
    "### Geschichte von UNIX\n",
    "\n",
    "| ![](https://upload.wikimedia.org/wikipedia/commons/7/77/Unix_history-simple.svg) |\n",
    "| :-: |\n",
    "| Geschichte von UNIX |\n",
    "| Quelle: <a href=\"https://commons.wikimedia.org/wiki/User:Eraserhead1\">Eraserhead1</a>, <a href=\"https://commons.wikimedia.org/wiki/User:Infinity0\">Infinity0</a>, <a href=\"https://commons.wikimedia.org/wiki/User:Sav_vas\">Sav_vas</a>, <a href=\"https://commons.wikimedia.org/wiki/File:Unix_history-simple.svg\">Unix history-simple</a>, <a href=\"https://creativecommons.org/licenses/by-sa/3.0/legalcode\" rel=\"license\">CC BY-SA 3.0</a> |"
   ]
  },
  {
   "cell_type": "markdown",
   "metadata": {},
   "source": [
    "- 1969: erste Version von UNIX\n",
    "- bis 1980: frei verfügbar und offen, dann nur noch verschlossen und lizensiert\n",
    "- 1983: Start des GNU-Projekts, Schaffung eines freien UNIX-kompatiblen Betriebssystems\n",
    "- 1991: Erste Version von Linux\n",
    "- 1994: Gurndlagen für z.B. FreeBSD\n",
    "- 2001: Mac OSX aufbauend auf BSD (Darwin)"
   ]
  },
  {
   "cell_type": "markdown",
   "metadata": {},
   "source": [
    "### Philosophie von UNIX\n",
    "\n",
    "Die UNIX-artigen Betriebssysteme und die dafür entwickelten Anwendungen verfolgen folgende Philosophie:\n",
    "\n",
    "1. Schreibe Computerprogramme so, dass sie nur eine Aufgabe erledigen und diese gut machen.\n",
    "1. Schreibe Programme so, dass sie zusammenarbeiten.\n",
    "1. Schreibe Programme so, dass sie Textströme verarbeiten, denn das ist eine universelle Schnittstelle.\n",
    "\n",
    "Beispiel:\n",
    "\n",
    "- `wc`: zählt z.B. die Anzahl von Zeilen in der Eingabe\n",
    "- `find`: findet Dateien, z.B. nach Änderungsdatum\n",
    "- `grep`: sucht nach vorgegebenen Begriffen in der Eingabe\n",
    "\n",
    "Daraus kann dann z.B. folgender Befehl kombiniert werden:\n",
    "``` bash\n",
    "find . -mtime -15m -type f | grep -i info | wc -l\n",
    "```\n",
    "Hierbei wird die Anzahl der Dateien ausgegeben, welche die Zeichenkette `info` im Dateinamen beinhalten und in den letzten 15 Minuten modifiziert wurden."
   ]
  },
  {
   "cell_type": "markdown",
   "metadata": {
    "tags": [
     "remove_cell"
    ]
   },
   "source": [
    "### Linux\n",
    "\n",
    "Die meisten Systeme haben zwei globale Ebenen: den Kernel (absolut grundlegende Funktionen, Schnittstelle zur Hardware) und den Benutzerbereich (abstrahierte Schnittstellen zum Kernel, graphische Oberfläche).\n",
    "\n",
    "Das Linux-OS hat folgenden Aufbau:\n",
    "\n",
    "| ![](https://upload.wikimedia.org/wikipedia/commons/b/b3/Linux_Schichten.svg) |\n",
    "| :-: |\n",
    "| Fast vollständige Abstraktion unter Linux |\n",
    "| Quelle: The original uploader was <a href=\"https://en.wikipedia.org/wiki/de:User:M%C3%A6x\">Mæx</a> at <a href=\"https://en.wikipedia.org/wiki/de:\">German Wikipedia</a>., <a href=\"https://commons.wikimedia.org/wiki/File:Linux_Schichten.svg\">Linux Schichten</a>, <a href=\"https://creativecommons.org/licenses/by-sa/3.0/legalcode\" rel=\"license\">CC BY-SA 3.0</a> |"
   ]
  },
  {
   "cell_type": "markdown",
   "metadata": {
    "tags": [
     "remove_cell"
    ]
   },
   "source": [
    "### Microsoft Windows NT\n",
    "\n",
    "Das Windows NT Betriebssystem hat folgenden Aufbau:\n",
    "\n",
    "| ![](https://upload.wikimedia.org/wikipedia/commons/f/f2/Windows_NT_Schichten.svg) |\n",
    "| :-: |\n",
    "| Abstraktionsschichten unter Windows NT (etwas vereinfacht) |\n",
    "| Quelle: <a href=\"https://de.wikipedia.org/wiki/User:Hubi\">Hubi</a> at <a href=\"https://de.wikipedia.org\">de.wikipedia</a> derivative work: Own work, <a href=\"https://commons.wikimedia.org/wiki/File:Windows_NT_Schichten.svg\">Windows NT Schichten</a>, <a href=\"https://creativecommons.org/licenses/by/3.0/legalcode\" rel=\"license\">CC BY 3.0</a> |"
   ]
  },
  {
   "cell_type": "markdown",
   "metadata": {
    "tags": [
     "remove_cell"
    ]
   },
   "source": [
    "### Mac OS\n",
    "\n",
    "Das OSX hat folgenden Aufbau:\n",
    "\n",
    "| ![](https://upload.wikimedia.org/wikipedia/commons/f/f2/Diagram_of_Mac_OS_X_architecture.svg) |\n",
    "| :-: |\n",
    "| Mac OSX Architektur |\n",
    "| Quelle: <a href=\"https://it.wikipedia.org/wiki/Utente:Sassospicco\">Utente:Sassospicco</a>, <a href=\"https://commons.wikimedia.org/wiki/File:Diagram_of_Mac_OS_X_architecture.svg\">Diagram of Mac OS X architecture</a>, <a href=\"https://creativecommons.org/licenses/by-sa/3.0/legalcode\" rel=\"license\">CC BY-SA 3.0</a> |"
   ]
  }
 ],
 "metadata": {
  "kernelspec": {
   "display_name": "Python 3",
   "language": "python",
   "name": "python3"
  },
  "language_info": {
   "codemirror_mode": {
    "name": "ipython",
    "version": 3
   },
   "file_extension": ".py",
   "mimetype": "text/x-python",
   "name": "python",
   "nbconvert_exporter": "python",
   "pygments_lexer": "ipython3",
   "version": "3.8.2"
  }
 },
 "nbformat": 4,
 "nbformat_minor": 4
}
