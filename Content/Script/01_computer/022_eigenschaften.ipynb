{
 "cells": [
  {
   "cell_type": "markdown",
   "metadata": {},
   "source": [
    "# Eigenschaften"
   ]
  },
  {
   "cell_type": "markdown",
   "metadata": {},
   "source": [
    "## Terminierheit"
   ]
  },
  {
   "cell_type": "markdown",
   "metadata": {},
   "source": [
    "## Determiniertheit"
   ]
  },
  {
   "cell_type": "markdown",
   "metadata": {},
   "source": [
    "## Effektivität"
   ]
  },
  {
   "cell_type": "markdown",
   "metadata": {},
   "source": [
    "## Komplexität"
   ]
  },
  {
   "cell_type": "code",
   "execution_count": 34,
   "metadata": {},
   "outputs": [],
   "source": [
    "import numpy as np\n",
    "np.set_printoptions(linewidth=50)\n",
    "\n",
    "import matplotlib.pyplot as plt\n",
    "\n",
    "def sort_sel(A):\n",
    "    cnt = 0\n",
    "    for i in range(n):\n",
    "        mv = A[i]\n",
    "        mi = i\n",
    "        for j in range(i, n):\n",
    "            if A[j] < mv:\n",
    "                mv = A[j]\n",
    "                mi = j\n",
    "        A[mi] = A[i]\n",
    "        A[i] = mv\n",
    "    return A"
   ]
  },
  {
   "cell_type": "code",
   "execution_count": null,
   "metadata": {},
   "outputs": [
    {
     "name": "stdout",
     "output_type": "stream",
     "text": [
      "n =  10, time = 0.0001 µs\n",
      "n =  20, time = 0.0002 µs\n",
      "n =  30, time = 0.0007 µs\n",
      "n =  40, time = 0.0010 µs\n",
      "n =  50, time = 0.0007 µs\n",
      "n =  60, time = 0.0005 µs\n",
      "n =  70, time = 0.0014 µs\n",
      "n =  80, time = 0.0009 µs\n",
      "n =  90, time = 0.0013 µs\n",
      "n = 100, time = 0.0019 µs\n",
      "n = 100, time = 0.0017 µs\n",
      "n = 200, time = 0.0049 µs\n",
      "n = 300, time = 0.0097 µs\n",
      "n = 400, time = 0.0186 µs\n",
      "n = 500, time = 0.0331 µs\n",
      "n = 600, time = 0.0539 µs\n",
      "n = 700, time = 0.0699 µs\n",
      "n = 800, time = 0.0744 µs\n",
      "n = 900, time = 0.1043 µs\n",
      "n = 1000, time = 0.1211 µs\n",
      "n = 1000, time = 0.1162 µs\n",
      "n = 2000, time = 0.4652 µs\n",
      "n = 3000, time = 1.0546 µs\n",
      "n = 4000, time = 1.9691 µs\n",
      "n = 5000, time = 2.9700 µs\n",
      "n = 6000, time = 4.1059 µs\n",
      "n = 7000, time = 5.4838 µs\n",
      "n = 8000, time = 7.4136 µs\n",
      "n = 9000, time = 9.2141 µs\n",
      "n = 10000, time = 12.0128 µs\n",
      "n = 10000, time = 12.2023 µs\n",
      "n = 20000, time = 43.0334 µs\n"
     ]
    }
   ],
   "source": [
    "# print(A)\n",
    "\n",
    "def time_sort_sel(n):\n",
    "    A = np.random.randint(0, high=1000, size=n)\n",
    "    sort_sel(A)\n",
    "\n",
    "res = []\n",
    "ns = []\n",
    "for n in range(10, 101, 10):\n",
    "    r = %timeit -n10 -r1 -o -q time_sort_sel(n)\n",
    "    print('n = {:3d}, time = {:.4f} µs'.format(n, r.average))\n",
    "    res.append(r)\n",
    "    ns.append(n)\n",
    "    \n",
    "for n in range(100, 1001, 100):\n",
    "    r = %timeit -n10 -r1 -o -q time_sort_sel(n)\n",
    "    print('n = {:3d}, time = {:.4f} µs'.format(n, r.average))\n",
    "    res.append(r)\n",
    "    ns.append(n)\n",
    "    \n",
    "for n in range(1000, 10001, 1000):\n",
    "    r = %timeit -n10 -r1 -o -q time_sort_sel(n)\n",
    "    print('n = {:3d}, time = {:.4f} µs'.format(n, r.average))\n",
    "    res.append(r)\n",
    "    ns.append(n)\n",
    "    \n",
    "for n in range(10000, 100001, 10000):\n",
    "    r = %timeit -n10 -r1 -o -q time_sort_sel(n)\n",
    "    print('n = {:3d}, time = {:.4f} µs'.format(n, r.average))\n",
    "    res.append(r)\n",
    "    ns.append(n)"
   ]
  },
  {
   "cell_type": "code",
   "execution_count": 45,
   "metadata": {},
   "outputs": [
    {
     "data": {
      "text/plain": [
       "[<matplotlib.lines.Line2D at 0x116b9c3a0>]"
      ]
     },
     "execution_count": 45,
     "metadata": {},
     "output_type": "execute_result"
    },
    {
     "data": {
      "image/png": "[encoded data removed]",
      "text/plain": [
       "<Figure size 432x288 with 1 Axes>"
      ]
     },
     "metadata": {
      "needs_background": "light"
     },
     "output_type": "display_data"
    }
   ],
   "source": [
    "y = []\n",
    "for r in res:\n",
    "    y.append(r.average)\n",
    "plt.loglog(y)"
   ]
  },
  {
   "cell_type": "code",
   "execution_count": null,
   "metadata": {},
   "outputs": [],
   "source": []
  }
 ],
 "metadata": {
  "kernelspec": {
   "display_name": "Python 3",
   "language": "python",
   "name": "python3"
  },
  "language_info": {
   "codemirror_mode": {
    "name": "ipython",
    "version": 3
   },
   "file_extension": ".py",
   "mimetype": "text/x-python",
   "name": "python",
   "nbconvert_exporter": "python",
   "pygments_lexer": "ipython3",
   "version": "3.8.2"
  }
 },
 "nbformat": 4,
 "nbformat_minor": 4
}
