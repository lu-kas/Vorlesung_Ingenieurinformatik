{
 "cells": [
  {
   "cell_type": "code",
   "execution_count": null,
   "metadata": {
    "tags": [
     "remove_input",
     "remove_cell"
    ]
   },
   "outputs": [],
   "source": [
    "import copy\n",
    "\n",
    "import matplotlib as mpl\n",
    "mpl.rcParams['figure.dpi'] = 400\n",
    "\n",
    "import matplotlib.pyplot as plt\n",
    "# params = {'mathtext.default': 'regular' }\n",
    "params = {'text.usetex': True, 'font.family': 'sans-serif'}\n",
    "plt.rcParams.update(params)\n",
    "\n",
    "# plt.rcParams['text.latex.preamble'] = [\n",
    "#        r'\\usepackage{siunitx}',   # i need upright \\micro symbols, but you need...\n",
    "#        r'\\sisetup{detect-all}',   # ...this to force siunitx to actually use your fonts\n",
    "#        r'\\usepackage{helvet}',    # set the normal font here\n",
    "#        r'\\usepackage{sansmath}',  # load up the sansmath so that math -> helvet\n",
    "#        r'\\sansmath'               # <- tricky! -- gotta actually tell tex to use!\n",
    "# ]\n",
    "\n",
    "import numpy as np\n",
    "import seaborn as sns\n",
    "sns.set()\n",
    "#sns.set(style=\"whitegrid\")\n",
    "sns.set_style('ticks')\n",
    "sns.set_context(\"notebook\", font_scale=1.0, rc={\"lines.linewidth\": 1.0})"
   ]
  },
  {
   "cell_type": "markdown",
   "metadata": {},
   "source": [
    "# Eigenschaften"
   ]
  },
  {
   "cell_type": "markdown",
   "metadata": {},
   "source": [
    "## Terminierheit"
   ]
  },
  {
   "cell_type": "markdown",
   "metadata": {},
   "source": [
    "## Determiniertheit"
   ]
  },
  {
   "cell_type": "markdown",
   "metadata": {},
   "source": [
    "## Effektivität"
   ]
  },
  {
   "cell_type": "markdown",
   "metadata": {},
   "source": [
    "## Komplexität"
   ]
  },
  {
   "cell_type": "code",
   "execution_count": 2,
   "metadata": {
    "tags": [
     "remove_input",
     "remove_cell"
    ]
   },
   "outputs": [],
   "source": [
    "import numpy as np\n",
    "np.set_printoptions(linewidth=50)\n",
    "\n",
    "import matplotlib.pyplot as plt\n",
    "\n",
    "def sort_sel(A):\n",
    "    cnt = 0\n",
    "    n = len(A)\n",
    "    for i in range(n):\n",
    "        mv = A[i]\n",
    "        mi = i\n",
    "        for j in range(i, n):\n",
    "            cnt += 1\n",
    "            if A[j] < mv:\n",
    "                mv = A[j]\n",
    "                mi = j\n",
    "#                 cnt += 1\n",
    "        A[mi] = A[i]\n",
    "        A[i] = mv\n",
    "#         cnt += 1\n",
    "    return cnt\n",
    "\n",
    "def sort_bubble(A):\n",
    "    cnt = 0\n",
    "    n = len(A)\n",
    "    for i in range(n):\n",
    "        swapped = False\n",
    "        for j in range(0, n-i-1):\n",
    "#             print(j, 0, n-i)\n",
    "            cnt += 1\n",
    "            if A[j+1] < A[j]:\n",
    "                mv = A[j]\n",
    "                A[j] = A[j+1]\n",
    "                A[j+1] = mv\n",
    "#                 cnt += 3\n",
    "                swapped = True\n",
    "        if swapped == False:\n",
    "#             print('no swap', i)\n",
    "            return cnt\n",
    "    return cnt"
   ]
  },
  {
   "cell_type": "code",
   "execution_count": 3,
   "metadata": {
    "tags": [
     "remove_cell"
    ]
   },
   "outputs": [],
   "source": [
    "def analyse_sorting(sort_fnk, non_rand_p = 0.0, reps = 100):\n",
    "    n_max = 100001\n",
    "    rand_A = np.random.randint(0, high=n_max // 2, size=10*n_max)\n",
    "\n",
    "    def time_sorting(n):\n",
    "        i = np.random.randint(0, n_max, size=1)[0]\n",
    "        A = np.copy(rand_A[i:i+n])\n",
    "        non_rand_i = np.linspace(0, n-1, int(n*non_rand_p), dtype=np.int)\n",
    "#         print(n, len(non_rand_i))\n",
    "        A[non_rand_i] = np.linspace(0, n_max//2, len(non_rand_i), dtype=np.int)\n",
    "#         print(A)\n",
    "        return sort_fnk(A)\n",
    "\n",
    "    res_min = []\n",
    "    res_avg = []\n",
    "    res_max = []\n",
    "    ns = []\n",
    "\n",
    "# for n in range(1, 10, 1):\n",
    "#     print(n)\n",
    "#     res = []\n",
    "#     for r in range(reps):\n",
    "#         res.append(time_sorting(n))\n",
    "#     ns.append(n)\n",
    "#     res_min.append(np.min(res))\n",
    "#     res_max.append(np.max(res))\n",
    "#     res_avg.append(np.average(res))\n",
    "\n",
    "    for n in range(10, 101, 10):\n",
    "#         print(n)\n",
    "        res = []\n",
    "        for r in range(reps):\n",
    "            res.append(time_sorting(n))\n",
    "        ns.append(n)\n",
    "        res_min.append(np.min(res))\n",
    "        res_max.append(np.max(res))\n",
    "        res_avg.append(np.average(res))\n",
    "        print(n, np.average(res))\n",
    "\n",
    "#     for n in range(100, 1101, 100):\n",
    "#         print(n)\n",
    "#         res = []\n",
    "#         for r in range(reps):\n",
    "#             res.append(time_sorting(n))\n",
    "#         ns.append(n)\n",
    "#         res_min.append(np.min(res))\n",
    "#         res_max.append(np.max(res))\n",
    "#         res_avg.append(np.average(res))\n",
    "    \n",
    "    return np.array(ns), np.array(res_min), np.array(res_avg), np.array(res_max)"
   ]
  },
  {
   "cell_type": "code",
   "execution_count": 4,
   "metadata": {
    "tags": [
     "remove_cell"
    ]
   },
   "outputs": [],
   "source": [
    "def plot_sorting(res, label):\n",
    "    \n",
    "    ns, y1, y2, y3 = res\n",
    "    \n",
    "    plt.plot(ns, y1, color='C0', lw=0.5)\n",
    "    plt.plot(ns, y3, color='C0', lw=0.5, label='Min / Max')\n",
    "    plt.fill_between(ns, y1, y3, alpha=0.3, color='C0')\n",
    "    plt.plot(ns, y2, color='C1', label='Mittelwert')\n",
    "\n",
    "    yi1 = 1e0 * ns\n",
    "    yi2 = 1e0 * ns**2\n",
    "\n",
    "    plt.plot(ns, yi1, ls=':', color='C2', label='Hilfslinien, $\\sf \\mathcal{O}(n)$, $\\sf \\mathcal{O}(n^2)$')\n",
    "    plt.plot(ns, yi2, ls=':', color='C2')\n",
    "\n",
    "    plt.xscale('log')\n",
    "    plt.yscale('log')\n",
    "\n",
    "    plt.xlabel('Länge der Werteliste')\n",
    "    plt.ylabel('Durchgeführte Operationen')\n",
    "    plt.grid()\n",
    "    plt.legend()\n",
    "    plt.savefig('./bilder/{}.png'.format(label))\n",
    "    plt.show()"
   ]
  },
  {
   "cell_type": "code",
   "execution_count": 5,
   "metadata": {},
   "outputs": [
    {
     "name": "stdout",
     "output_type": "stream",
     "text": [
      "10 29.856\n",
      "20 124.228\n",
      "30 296.335\n",
      "40 547.401\n",
      "50 899.912\n",
      "60 1304.519\n",
      "70 1871.505\n",
      "80 2411.359\n",
      "90 3200.453\n",
      "100 4015.101\n"
     ]
    }
   ],
   "source": [
    "res1 = analyse_sorting(sort_bubble, non_rand_p = 0.95, reps = 1000)"
   ]
  },
  {
   "cell_type": "code",
   "execution_count": null,
   "metadata": {},
   "outputs": [],
   "source": [
    "plot_sorting(res1, 'bubble_p095')"
   ]
  },
  {
   "cell_type": "code",
   "execution_count": null,
   "metadata": {},
   "outputs": [],
   "source": []
  }
 ],
 "metadata": {
  "kernelspec": {
   "display_name": "Python 3",
   "language": "python",
   "name": "python3"
  },
  "language_info": {
   "codemirror_mode": {
    "name": "ipython",
    "version": 3
   },
   "file_extension": ".py",
   "mimetype": "text/x-python",
   "name": "python",
   "nbconvert_exporter": "python",
   "pygments_lexer": "ipython3",
   "version": "3.8.2"
  }
 },
 "nbformat": 4,
 "nbformat_minor": 4
}
