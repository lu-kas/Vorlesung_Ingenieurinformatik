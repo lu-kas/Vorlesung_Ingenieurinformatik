{
 "cells": [
  {
   "cell_type": "markdown",
   "metadata": {},
   "source": [
    "# Softwareentwicklung"
   ]
  },
  {
   "cell_type": "markdown",
   "metadata": {},
   "source": [
    "## Erstellen von Software\n",
    "\n",
    "Zum Entwickeln von Software werden folgende Schritte benötigt:\n",
    "\n",
    "1. Erstellung des Quellcodes, z.B. mit einem Texteditor\n",
    "1. Erstellung des Maschinencodes, z.B. mit einem Compiler\n",
    "1. Hinzunahme der vom Betriebssytem und anderen Quellen bereitgestellten Schnittstellen (Bibliotheken) und das Erstellen eines ausführbaren Programms, z.B. mit einem Linker\n",
    "\n",
    "Hinweis: Python, als Skriptsprache, funktioniert anders. Beim Arbeiten mit Python wird ein Skript erstellt, welches von dem Programm Python zur Laufzeit interpretiert wird. Ohne den Interpreter kann ein Pythonskript nicht ausgeführt werden."
   ]
  },
  {
   "cell_type": "markdown",
   "metadata": {},
   "source": [
    "### Compiler und Linker\n",
    "\n",
    "Ein Compiler ist ein Programm, welches aus einem Quellcode – meist in einer hohen Programmiersprache – einen für die Zielarchitektur ausführbaren Maschinencode erstellt. Maschinencode ist nicht (menschlich) lesbar und ist nicht auf verschiedene Computerarchitekturen übertragbar und typischerweise auch nicht auf andere Betriebssysteme. Dieser Maschinencode enthält Anweisungen, welche von der Computerarchitektur ausgeführt werden könnten, ist an sich aber nicht wirklich ausführbar, da ihm die Anknüpfung an das Betriebssystem fehlt. Erst das Verknüpfen, durch den Linker, mit dem Betriebssystem und anderen externen Bibliotheken macht ein Programm ausführbar. Bibliotheken sind Sammlungen von Routinen, welche dem Programmierer zur Verfügung gestellt werden, damit dieser diese nicht neu programmieren muss."
   ]
  },
  {
   "cell_type": "markdown",
   "metadata": {},
   "source": [
    "## Beispiel: Compiler und Linker, Programmiersprache C\n",
    "\n",
    "Quellcode (in C):\n",
    "``` C\n",
    "#include <stdio.h>\n",
    "int main (int argc, char* argv)\n",
    "{\n",
    "  int a = 5;\n",
    "  int b = a * 2;\n",
    "  printf (\"Der Wert von b lautet: %d\\n\", b);\n",
    "}\n",
    "```\n",
    "\n",
    "Kompilieren mit dem GNU Compiler:\n",
    "``` bash\n",
    "gcc -c example.c -o example.o\n",
    "```\n",
    "\n",
    "Linken mit dem GNU Compiler:\n",
    "``` bash\n",
    "gcc example.o -o example\n",
    "```\n",
    "\n",
    "Dateigrößen:\n",
    "\n",
    "| Quellcode | Compiliertes Objekt | Ausführbares Programm |\n",
    "| :---------: | :---------: | :-------: |\n",
    "|    141 B    |    744 B    |   8300 B  |"
   ]
  }
 ],
 "metadata": {
  "kernelspec": {
   "display_name": "Python 3",
   "language": "python",
   "name": "python3"
  },
  "language_info": {
   "codemirror_mode": {
    "name": "ipython",
    "version": 3
   },
   "file_extension": ".py",
   "mimetype": "text/x-python",
   "name": "python",
   "nbconvert_exporter": "python",
   "pygments_lexer": "ipython3",
   "version": "3.7.5"
  }
 },
 "nbformat": 4,
 "nbformat_minor": 4
}
