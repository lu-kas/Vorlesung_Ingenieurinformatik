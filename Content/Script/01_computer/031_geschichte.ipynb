{
 "cells": [
  {
   "cell_type": "markdown",
   "metadata": {},
   "source": [
    "# Geschichte der Computer"
   ]
  },
  {
   "cell_type": "markdown",
   "metadata": {},
   "source": [
    "## Ausgewählte Personen"
   ]
  },
  {
   "cell_type": "markdown",
   "metadata": {},
   "source": [
    "### 1936 – Alan Turing\n",
    "\n",
    "| ![](https://upload.wikimedia.org/wikipedia/commons/0/07/Alan_Turing_portr%C3%A9.jpg) | ![](https://upload.wikimedia.org/wikipedia/commons/c/c4/Turingmaschine.svg) |\n",
    "| :-: | :-: |\n",
    "| Alan Turing (~1938) | Turingmaschine |\n",
    "| Quelle: Unknown author, <a href=\"https://commons.wikimedia.org/wiki/File:Alan_Turing_portré.jpg\">Alan Turing portré</a>, als gemeinfrei gekennzeichnet, Details auf <a href=\"https://commons.wikimedia.org/wiki/Template:PD-old\">Wikimedia Commons</a> | Quelle: derivative work: <a href=\"https://commons.wikimedia.org/wiki/User:TripleWhy\">TripleWhy</a> (<a href=\"/wiki/User_talk:TripleWhy\">talk</a>) <a href=\"/wiki/File:Turingmaschine.png\">Turingmaschine.png</a>: de:Benutzer:Denniss, <a href=\"https://commons.wikimedia.org/wiki/File:Turingmaschine.svg\">Turingmaschine</a>, <a href=\"https://creativecommons.org/licenses/by-sa/3.0/legalcode\" rel=\"license\">CC BY-SA 3.0</a> |\n",
    "\n",
    "* Lebenszeit: 1912 – 1954\n",
    "* Mathematik, Kryptographie, Computerwissenschaften und Biologie\n",
    "* Begründer der theoretischen Informatik\n",
    "* erfand das Konzept für einen universalen Computer: die Turingmaschine"
   ]
  },
  {
   "cell_type": "markdown",
   "metadata": {},
   "source": [
    "### 1938 – Konrath Zuse\n",
    "\n",
    "| ![](https://upload.wikimedia.org/wikipedia/commons/d/da/Konrad_Zuse_%281992%29.jpg) | ![](https://upload.wikimedia.org/wikipedia/commons/4/4c/Z3_Deutsches_Museum.JPG) |\n",
    "| :-: | :-: |\n",
    "| Konrath Zuse (1992) | Zuse Z3 |\n",
    "| Quelle: Wolfgang Hunscher, Dortmund, <a href=\"https://commons.wikimedia.org/wiki/File:Konrad_Zuse_(1992).jpg\">Konrad Zuse (1992)</a>, <a href=\"https://creativecommons.org/licenses/by-sa/3.0/legalcode\" rel=\"license\">CC BY-SA 3.0</a> | Quelle: <a href=\"https://de.wikipedia.org/wiki/User:Venusianer\">Venusianer</a>, <a href=\"https://commons.wikimedia.org/wiki/File:Z3_Deutsches_Museum.JPG\">Z3 Deutsches Museum</a>, <a href=\"https://creativecommons.org/licenses/by-sa/3.0/legalcode\" rel=\"license\">CC BY-SA 3.0</a> |\n",
    "\n",
    "* Lebenszeit: 1910 – 1995\n",
    "* Bauingenieur, Erfinder und Unternehmer\n",
    "* baute den ersten funktionstüchtigen, vollautomatischen, programmgesteuerten und frei programmierbaren Rechner\n",
    "* Z1: 1938, Z3: 1941"
   ]
  },
  {
   "cell_type": "markdown",
   "metadata": {},
   "source": [
    "### 1945 – John von Neumann\n",
    "\n",
    "| ![](https://upload.wikimedia.org/wikipedia/commons/5/5e/JohnvonNeumann-LosAlamos.gif) | ![](https://upload.wikimedia.org/wikipedia/commons/d/db/Von-Neumann_Architektur.svg) |\n",
    "| :-: | :-: |\n",
    "| John von Neumann | Von-Neumann-Architektur |\n",
    "| Quelle: LANL, <a href=\"https://commons.wikimedia.org/wiki/File:JohnvonNeumann-LosAlamos.gif\">JohnvonNeumann-LosAlamos</a>, als gemeinfrei gekennzeichnet  | Quelle: Lukas Grossar, <a href=\"https://commons.wikimedia.org/wiki/File:Von-Neumann_Architektur.svg\">Von-Neumann Architektur</a>, als gemeinfrei gekennzeichnet, Details auf <a href=\"https://commons.wikimedia.org/wiki/Template:PD-shape\">Wikimedia Commons</a> |\n",
    "\n",
    "* Lebenszeit: 1903 – 1957\n",
    "* Mathematiker und Physiker\n",
    "* erforschte die Grundstruktur für heutzutage verwendete Computer"
   ]
  },
  {
   "cell_type": "markdown",
   "metadata": {},
   "source": [
    "### 1958 – Jack Kilby\n",
    "\n",
    "| ![](https://upload.wikimedia.org/wikipedia/commons/f/fe/Jack_Kilby_1960s.png) | ![](https://upload.wikimedia.org/wikipedia/commons/9/97/Integrated_Circuit.jpg) |\n",
    "| :-: | :-: |\n",
    "| Jack Kilby | Integrierter Schaltkreis |\n",
    "| Quelle: <a href=\"https://commons.wikimedia.org/wiki/User:Gymnstx64\">James R. Biard</a>, <a href=\"https://commons.wikimedia.org/wiki/File:Jack_Kilby_1960s.png\">Jack Kilby 1960s</a>, <a href=\"https://creativecommons.org/licenses/by-sa/4.0/legalcode\" rel=\"license\">CC BY-SA 4.0</a> | Quelle: <a href=\"https://de.wikipedia.org/wiki/User:Wollschaf\">Wollschaf</a>, <a href=\"https://commons.wikimedia.org/wiki/File:Integrated_Circuit.jpg\">Integrated Circuit</a>, <a href=\"https://creativecommons.org/licenses/by-sa/3.0/legalcode\" rel=\"license\">CC BY-SA 3.0</a> |\n",
    "\n",
    "* Lebenszeit: 1923 – 2005\n",
    "* Physik und Elektrotechnik\n",
    "* baute (zusammen mit Robert Noyce) den ersten integrierten Schaltkreis\n",
    "* bekam 2000 den Physik-Nobelpreis"
   ]
  },
  {
   "cell_type": "markdown",
   "metadata": {},
   "source": [
    "## Ausgewählte Maschinen"
   ]
  },
  {
   "cell_type": "markdown",
   "metadata": {},
   "source": [
    "### Übersicht der ersten Rechner\n",
    "\n",
    "| Computer | Land | Jahr | GA | Programmierbar | TM |\n",
    "| :------: | :--: | :--: | :-:| :------------: | :-: |\n",
    "| Zuse Z3 | DE | 1941 | Ja | Lochstreifen | Ja |\n",
    "| ABC | USA | 1941 | Nein | Nein | Nein |\n",
    "| Colossus | UK | 1943 | Nein | Teilweise, Neuverkabelung | Nein |\n",
    "| Mark I | USA | 1944 | Nein | Lochstreifen | Ja |\n",
    "| Zuse Z4 | DE | 1945 | Ja | Lochstreifen | Ja |\n",
    "| ENIAC | USA | 1946 | Nein | Teilweise, Neuverkabelung | Ja |\n",
    "\n",
    "- ABC: Atanasoff-Berry-Computer\n",
    "- Jahr: Inbetriebnahme\n",
    "- GA: Gleitkommaarithmetik\n",
    "- TM: Turingmächtig"
   ]
  },
  {
   "cell_type": "markdown",
   "metadata": {},
   "source": [
    "### 1837 – Analytical Engine\n",
    "\n",
    "| ![](https://upload.wikimedia.org/wikipedia/commons/c/cc/Babbages_Analytical_Engine%2C_1834-1871._%289660574685%29.jpg) |\n",
    "| :-: |\n",
    "| Analytical Engine |\n",
    "| Quelle: <a href=\"https://www.sciencemuseum.org.uk/\">Science Museum London</a> / <a href=\"http://www.scienceandsociety.co.uk/\">Science and Society Picture Library</a>, <a href=\"https://commons.wikimedia.org/wiki/File:Babbages_Analytical_Engine,_1834-1871._(9660574685).jpg\">Babbages Analytical Engine, 1834-1871. (9660574685)</a>, <a href=\"https://creativecommons.org/licenses/by-sa/2.0/legalcode\" rel=\"license\">CC BY-SA 2.0</a> |\n",
    "\n",
    "- erste Rechenmaschine mit allgemeiner Anwendung\n",
    "- angetrieben durch eine Dampfmaschine, 30 m lang und 10 m breit\n",
    "- Programme auf Lochkarten\n",
    "- Ausgabe auf Plotter, Drucker und Glocke\n",
    "- Speicher: 20 KB"
   ]
  },
  {
   "cell_type": "markdown",
   "metadata": {},
   "source": [
    "### 1941 – Zuse Z3\n",
    "\n",
    "| ![](https://upload.wikimedia.org/wikipedia/commons/4/4c/Z3_Deutsches_Museum.JPG) |\n",
    "| :-: |\n",
    "| Zuse Z3 |\n",
    "| Quelle: <a href=\"https://de.wikipedia.org/wiki/User:Venusianer\">Venusianer</a>, <a href=\"https://commons.wikimedia.org/wiki/File:Z3_Deutsches_Museum.JPG\">Z3 Deutsches Museum</a>, <a href=\"https://creativecommons.org/licenses/by-sa/3.0/legalcode\" rel=\"license\">CC BY-SA 3.0</a> |\n",
    "\n",
    "- Operationen mit 22 Bit Fließkommazahlen\n",
    "- Hauptspeicher von 200 Byte\n",
    "- Rechentakt: 5.3 Hz\n",
    "- Programme auf Lochkarten und über Tastatureingabe"
   ]
  },
  {
   "cell_type": "markdown",
   "metadata": {},
   "source": [
    "### 1976 - Cray 1\n",
    "\n",
    "| ![](https://upload.wikimedia.org/wikipedia/commons/f/f7/Cray-1-deutsches-museum.jpg) |\n",
    "| :-: |\n",
    "| Cray 1 |\n",
    "| Quelle: Clemens PFEIFFER, <a href=\"https://commons.wikimedia.org/wiki/File:Cray-1-deutsches-museum.jpg\">Cray-1-deutsches-museum</a>, <a href=\"https://creativecommons.org/licenses/by/2.5/legalcode\" rel=\"license\">CC BY 2.5</a> |\n",
    "\n",
    "* 8 MB Hauptspeicher\n",
    "* 80 MF/S"
   ]
  },
  {
   "cell_type": "markdown",
   "metadata": {},
   "source": [
    "### 1977 - Apple II\n",
    "\n",
    "| ![](https://upload.wikimedia.org/wikipedia/commons/b/b1/Apple_II_Plus%2C_Museum_of_the_Moving_Image.jpg) | ![](https://upload.wikimedia.org/wikipedia/commons/9/9f/AppleII_palette.png) | \n",
    "| :-: | :-: |\n",
    "| Apple II | Apple II Farbpalette |\n",
    "| Quelle: <a href=\"https://www.flickr.com/people/mwichary/\">Marcin Wichary</a>, <a href=\"https://commons.wikimedia.org/wiki/File:Apple_II_Plus,_Museum_of_the_Moving_Image.jpg\">Apple II Plus, Museum of the Moving Image</a>, <a href=\"https://creativecommons.org/licenses/by/2.0/legalcode\" rel=\"license\">CC BY 2.0</a> | Quelle: <a href=\"https://en.wikipedia.org/wiki/User:Ricardo_Cancho_Niemietz\">Ricardo Cancho Niemietz</a>, <a href=\"https://commons.wikimedia.org/wiki/File:AppleII_palette.png\">AppleII palette</a>, als gemeinfrei gekennzeichnet, Details auf <a href=\"https://commons.wikimedia.org/wiki/Template:PD-user\">Wikimedia Commons</a> |\n",
    "\n",
    "* Bildschirm mit 40x48 Pixeln in 15 Farben\n",
    "* ’high-res’-Modus: 280x192 Pixel mit 2 Farben\n",
    "* 64 KB Speicher\n",
    "* Taktfrequenz: 1 MHz"
   ]
  },
  {
   "cell_type": "markdown",
   "metadata": {},
   "source": [
    "### 2020 - Apple MacBook Pro\n",
    "\n",
    "| ![](https://upload.wikimedia.org/wikipedia/commons/thumb/9/9a/Late_2016_MacBook_Pro.jpg/1280px-Late_2016_MacBook_Pro.jpg)|\n",
    "| :-: |\n",
    "| Apple MacBook Pro |\n",
    "| Quelle: <a href=\"https://commons.wikimedia.org/wiki/User:Sonicdrewdriver\">Sonicdrewdriver</a>, <a href=\"https://commons.wikimedia.org/wiki/File:Late_2016_MacBook_Pro.jpg\">Late 2016 MacBook Pro</a>, <a href=\"https://creativecommons.org/licenses/by-sa/4.0/legalcode\" rel=\"license\">CC BY-SA 4.0</a> |\n",
    "\n",
    "* 64 GB Hauptspeicher\n",
    "* Rechenleistung: ~150 GF/s\n",
    "* Bildschirm: 3072 x 1920 Pixel\n",
    "* mobil"
   ]
  },
  {
   "cell_type": "markdown",
   "metadata": {},
   "source": [
    "### Entwicklung der Rechenleistung von Hochleistungsrechnern\n",
    "\n",
    "Für technische und wissenschaftliche Anwendungen, welche einen sehr großen Rechenbedarf haben, werden [Hochleistungsrechner](https://de.wikipedia.org/wiki/Hochleistungsrechnen) (Supercomputer, High Performance Computing (HPC)) gebaut. Diese existieren in vielen Varianten und werden kontinuierlich weiterentwickelt. Eine Übersicht der öffentlich bekannten bzw. im zivilen Bereich eingesetzten HPC-Systeme bietet die [Top 500-Liste](https://www.top500.org/). Diese vergleicht die theoretische Rechenleistung der Computer und dokumentiert seit einigen Jahrzehneten die Entwicklung dieser Rechner. \n",
    "\n",
    "| ![](https://upload.wikimedia.org/wikipedia/commons/thumb/8/81/Supercomputers-history.svg/1024px-Supercomputers-history.svg.png) |\n",
    "| :-: |\n",
    "| Entwicklung der Rechenperformande, der in der Top500-Liste aufgeführten Systeme |\n",
    "| Quelle: <a href=\"https://commons.wikimedia.org/wiki/User:AI.Graphic\">AI.Graphic</a>, <a href=\"https://commons.wikimedia.org/wiki/File:Supercomputers-history.svg\">Supercomputers-history</a>, <a href=\"https://creativecommons.org/licenses/by-sa/3.0/legalcode\" rel=\"license\">CC BY-SA 3.0</a> |"
   ]
  }
 ],
 "metadata": {
  "kernelspec": {
   "display_name": "Python 3",
   "language": "python",
   "name": "python3"
  },
  "language_info": {
   "codemirror_mode": {
    "name": "ipython",
    "version": 3
   },
   "file_extension": ".py",
   "mimetype": "text/x-python",
   "name": "python",
   "nbconvert_exporter": "python",
   "pygments_lexer": "ipython3",
   "version": "3.7.3"
  }
 },
 "nbformat": 4,
 "nbformat_minor": 4
}
