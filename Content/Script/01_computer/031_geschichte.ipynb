{
 "cells": [
  {
   "cell_type": "markdown",
   "metadata": {},
   "source": [
    "# Geschichte der Computer"
   ]
  },
  {
   "cell_type": "markdown",
   "metadata": {},
   "source": [
    "## Ausgewählte Personen"
   ]
  },
  {
   "cell_type": "markdown",
   "metadata": {},
   "source": [
    "### 1936 – Alan Turing\n",
    "\n",
    "| ![img_turing](./bilder/tmp_turing.png) |\n",
    "| :--: |\n",
    "| Bild update, Link zu Wiki-Bild, Quellenangabe |\n",
    "\n",
    "* Lebenszeit: 1912 – 1954\n",
    "* Mathematik, Kryptographie, Computerwissenschaften und Biologie\n",
    "* Begründer der theoretischen Informatik\n",
    "* Erfand das Konzept für einen universelen Computer: die Turingmaschine"
   ]
  },
  {
   "cell_type": "markdown",
   "metadata": {},
   "source": [
    "### 1938 – Konrath Zuse\n",
    "\n",
    "| ![img_turing](./bilder/tmp_zuse.png) |\n",
    "| :--: |\n",
    "| Bild update, Link zu Wiki-Bild, Quellenangabe |\n",
    "\n",
    "* Lebenszeit: 1910 – 1995\n",
    "* Bauingenieur, Erfinder und Unternehmer\n",
    "* baute den ersten funktionstüchtigen, vollautomatischen, programmgesteuerten und frei programmierbaren Rechner\n",
    "* Z1: 1938, Z3: 1941"
   ]
  },
  {
   "cell_type": "markdown",
   "metadata": {},
   "source": [
    "### 1945 – John von Neumann\n",
    "\n",
    "| ![img_turing](./bilder/tmp_neumann.png) |\n",
    "| :--: |\n",
    "| Bild update, Link zu Wiki-Bild, Quellenangabe |\n",
    "\n",
    "* Lebenszeit: 1903 – 1957\n",
    "* Mathematiker und Physiker\n",
    "* erforschte die Grundstruktur für heutzutage verwendete Computer"
   ]
  },
  {
   "cell_type": "markdown",
   "metadata": {},
   "source": [
    "### 1958 – Jack Kilby\n",
    "\n",
    "| ![img_turing](./bilder/tmp_kilby.png) |\n",
    "| :--: |\n",
    "| Bild update, Link zu Wiki-Bild, Quellenangabe |\n",
    "\n",
    "* Lebenszeit: 1923 – 2005\n",
    "* Physik und Elektrotechnik\n",
    "* baute (zusammen mit Robert Noyce) den ersten integrierten Schaltkreis\n",
    "* Bekam 2000 den Physik-Nobelpreis"
   ]
  }
 ],
 "metadata": {
  "kernelspec": {
   "display_name": "Python 3",
   "language": "python",
   "name": "python3"
  },
  "language_info": {
   "codemirror_mode": {
    "name": "ipython",
    "version": 3
   },
   "file_extension": ".py",
   "mimetype": "text/x-python",
   "name": "python",
   "nbconvert_exporter": "python",
   "pygments_lexer": "ipython3",
   "version": "3.8.2"
  }
 },
 "nbformat": 4,
 "nbformat_minor": 4
}
