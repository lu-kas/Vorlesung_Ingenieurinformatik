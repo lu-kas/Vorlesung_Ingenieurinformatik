{
 "cells": [
  {
   "cell_type": "markdown",
   "metadata": {},
   "source": [
    "# Numerische Algorithmen"
   ]
  },
  {
   "cell_type": "markdown",
   "metadata": {},
   "source": [
    "## Newton-Raphson-Verfahren"
   ]
  },
  {
   "cell_type": "markdown",
   "metadata": {},
   "source": [
    "Eines der einfachsten und auch ältesten Verfahren zur Suche von Nullstellen von Funktionen ist das [Newton-Raphson-Verfahren](https://de.wikipedia.org/wiki/Newtonverfahren), welches bereits im 17-ten Jahrhundert entwickelt und eingestetzt wurde."
   ]
  },
  {
   "cell_type": "markdown",
   "metadata": {},
   "source": [
    "### Anwendungen\n",
    "Das Finden von Nullstellen ist die Grundlage für viele Verfahren, welche z.B. für \n",
    "* das Lösen von nicht-linearen Gleichungen, \n",
    "* das Finden von Extremwerten, oder\n",
    "* Optimierungsverfahren\n",
    "\n",
    "eingesetzt werden kann.\n",
    " "
   ]
  },
  {
   "cell_type": "markdown",
   "metadata": {},
   "source": [
    "### Grundidee \n",
    "Die Grundidee beruht auf einer iterativen Suche der Nullstelle $\\sf x_{ns}$ einer stetig differenzierbaren Funktion $\\sf f(x)$ mit Hilfe der ersten Ableitung $\\sf f'(x)$. Durch das Anlegen von Tangenten an die aktuelle Näherung der Nullstelle $\\sf x_i$ kann die nächste Näherung bestimmt werden. \n",
    "\n",
    "Bei gegebenen Startwert, $\\sf x_0$ für den ersten Iterationsschritt ($\\sf i=0$), können die folgenden Näherungen durch\n",
    "\n",
    "$$\\sf x_{i+1} = x_i - \\frac{f(x_i)}{f'(x_i)} $$\n",
    "\n",
    "berechnet werden. Dabei bestimmt die Wahl des Startwerts, welche der ggf. mehreren Nullstellen gefunden wird. "
   ]
  },
  {
   "cell_type": "markdown",
   "metadata": {},
   "source": [
    "### Beispiel 1\n",
    "\n",
    "Gegeben ist die Funktion $\\sf f(x) = x^2 - 1$. Die Ableitung ist gegeben durch $\\sf f'(x) = 2x$ und die Nullstellen lauten $\\sf x_{ns} = \\{-1, 1\\}$."
   ]
  },
  {
   "cell_type": "markdown",
   "metadata": {},
   "source": [
    "Bei einem Startwert von $\\sf x_0 = 4$ führt zu folgender Iteration:"
   ]
  },
  {
   "cell_type": "code",
   "execution_count": 1,
   "metadata": {
    "tags": [
     "remove_input"
    ]
   },
   "outputs": [],
   "source": [
    "import numpy as np"
   ]
  },
  {
   "cell_type": "code",
   "execution_count": 56,
   "metadata": {
    "tags": [
     "remove_input"
    ]
   },
   "outputs": [
    {
     "name": "stdout",
     "output_type": "stream",
     "text": [
      "Startwert x_0 = 0.3000\n",
      "\n",
      "Iterationsschritt i =  1, x_i = 0.3000\n",
      "   f(x_i)  = 0.9100\n",
      "   fp(x_i) = -0.6000\n",
      "   x_(i+1) = 1.8167\n",
      "\n",
      "Iterationsschritt i =  2, x_i = 1.8167\n",
      "   f(x_i)  = -2.3003\n",
      "   fp(x_i) = -3.6333\n",
      "   x_(i+1) = 1.1836\n",
      "\n",
      "Iterationsschritt i =  3, x_i = 1.1836\n",
      "   f(x_i)  = -0.4008\n",
      "   fp(x_i) = -2.3671\n",
      "   x_(i+1) = 1.0142\n",
      "\n",
      "Iterationsschritt i =  4, x_i = 1.0142\n",
      "   f(x_i)  = -0.0287\n",
      "   fp(x_i) = -2.0285\n",
      "   x_(i+1) = 1.0001\n",
      "\n",
      "\n",
      "Endergebnis nach 5 Iterationen: x_(ns) = 1.0001\n"
     ]
    }
   ],
   "source": [
    "def f(x):\n",
    "    return -x**2 + 1\n",
    "def fp(x):\n",
    "    return -2*x\n",
    "\n",
    "x0 = 0.3\n",
    "\n",
    "print('Startwert x_0 = {:.4f}'.format(x0))\n",
    "print()\n",
    "\n",
    "n = 5\n",
    "xi = [x0]\n",
    "for i in range(1,n):\n",
    "    xp = xi[i-1]\n",
    "    xn = xp - (f(xp)/fp(xp))\n",
    "    \n",
    "    print('Iterationsschritt i = {:2d}, x_i = {:.4f}'.format(i, xp))\n",
    "    print('   f(x_i)  = {:.4f}'.format(f(xp)))\n",
    "    print('   fp(x_i) = {:.4f}'.format(fp(xp)))\n",
    "    print('   x_(i+1) = {:.4f}'.format(xn))\n",
    "    print()\n",
    "    \n",
    "    xi.append(xn)\n",
    "    \n",
    "print()\n",
    "print('Endergebnis nach {} Iterationen: x_(ns) = {:.4f}'.format(n, xi[-1]))"
   ]
  },
  {
   "cell_type": "code",
   "execution_count": 63,
   "metadata": {
    "tags": [
     "remove_input"
    ]
   },
   "outputs": [
    {
     "data": {
      "text/plain": [
       "Text(1.0142346754539993, 0.1348316666666667, 'x_3')"
      ]
     },
     "execution_count": 63,
     "metadata": {},
     "output_type": "execute_result"
    },
    {
     "data": {
      "image/png": "[encoded data removed]",
      "text/plain": [
       "<Figure size 432x288 with 1 Axes>"
      ]
     },
     "metadata": {
      "needs_background": "light"
     },
     "output_type": "display_data"
    }
   ],
   "source": [
    "import matplotlib.pyplot as plt\n",
    "\n",
    "x_start = np.min(xi)\n",
    "x_end = np.max(xi)\n",
    "\n",
    "x_d = x_end - x_start\n",
    "\n",
    "x_start -= 0.1 * x_d\n",
    "x_end += 0.1 * x_d\n",
    "\n",
    "xarr = np.linspace(x_start, x_end, 100)\n",
    "\n",
    "plt.plot(xarr, f(xarr))\n",
    "plt.axhline(0, c='grey')\n",
    "\n",
    "y_d = np.max(f(xarr)) - np.min(f(xarr))\n",
    "\n",
    "n_max = 3\n",
    "for i in range(n_max):\n",
    "    x = xi[i]\n",
    "    xn = xi[i+1]\n",
    "    plt.scatter(x, 0, c='C2')\n",
    "    plt.vlines(x, 0, f(x), ls=':')\n",
    "    if x > xn:\n",
    "        x_t1 = xn - 0.1*x_d\n",
    "        x_t2 = x + 0.1*x_d\n",
    "        y_t1 = - 0.1*x_d * fp(x)\n",
    "        y_t2 = f(x) + 0.1*x_d * fp(x)\n",
    "    else:\n",
    "        x_t2 = xn + 0.1*x_d\n",
    "        x_t1 = x - 0.1*x_d\n",
    "        y_t2 = 0.1*x_d * fp(x)\n",
    "        y_t1 = f(x) - 0.1*x_d * fp(x)\n",
    "        \n",
    "#     plt.plot([x, xn], [f(x), 0], c='C3')\n",
    "    plt.plot([x_t1, x_t2], [y_t1, y_t2], c='C3')\n",
    "    text_y = 0.035 * y_d\n",
    "    plt.text(x+0.025*x_d, text_y, 'x_{}'.format(i))\n",
    "plt.scatter(xi[n_max], 0, c='C4')\n",
    "plt.text(xi[n_max], 0.035 * y_d, 'x_{}'.format(n_max))"
   ]
  },
  {
   "cell_type": "markdown",
   "metadata": {},
   "source": [
    "## Euler-Verfahren"
   ]
  },
  {
   "cell_type": "code",
   "execution_count": null,
   "metadata": {},
   "outputs": [],
   "source": []
  }
 ],
 "metadata": {
  "kernelspec": {
   "display_name": "Python 3",
   "language": "python",
   "name": "python3"
  },
  "language_info": {
   "codemirror_mode": {
    "name": "ipython",
    "version": 3
   },
   "file_extension": ".py",
   "mimetype": "text/x-python",
   "name": "python",
   "nbconvert_exporter": "python",
   "pygments_lexer": "ipython3",
   "version": "3.8.2"
  }
 },
 "nbformat": 4,
 "nbformat_minor": 4
}
