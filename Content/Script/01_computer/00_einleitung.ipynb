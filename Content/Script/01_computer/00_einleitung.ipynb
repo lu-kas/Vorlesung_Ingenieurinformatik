{
 "cells": [
  {
   "cell_type": "markdown",
   "metadata": {},
   "source": [
    "# Computer"
   ]
  },
  {
   "cell_type": "markdown",
   "metadata": {},
   "source": [
    "Computer, in den unterschiedlichsten Größen und Arten, werden in fast allen Aspekten unseres modernen Lebens eingesetzt. Sie bestehen aus sehr einfachen Bausteinen. Beispielsweise können Sie nur zwei elementare Zustände an/aus oder 1/0 oder wahr/falsch unterscheiden und digitalisieren damit alle für sie verarbeitbaren Informationen. Auch die Operationen, welche sie auf grundlegender Ebene durchführen können, sind sehr einfach. Beispielsweise sind es Logische Verknüpfungen wie OR, AND oder NOT.   "
   ]
  },
  {
   "cell_type": "markdown",
   "metadata": {},
   "source": [
    "Die sehr schnelle Durchführung sehr vieler dieser Operationen gleichzeitig, können Computer komplexen Algorithmen folgen und damit viele Aufgaben erledigen. Da Computer nicht etwas Abstraktes sind, sondern aus elektrischen Schaltkreisen und Bauelementen bestehen, brauchen Sie Schnittstellen zur Umwelt, um beispielsweise mit Menschen zu interagieren oder mit anderen Computern zu kommunizieren. Alles was physikalisch einen Computer ausmacht, bezeichnet man als Hardware. Die Algorithmen, also Berechnungs- oder Steuerungsanweisungen, werden (meist) von Menschen in Form von Programmen vorgegeben. Erst sie verleihen der physikalischen Hülle, also der Hardware, die vielen Einsatzmöglichkeiten. Die nicht-physikalischen Komponenten des Computers werden Software genannt."
   ]
  },
  {
   "cell_type": "markdown",
   "metadata": {},
   "source": [
    "## Übersicht dieses Kapitels"
   ]
  },
  {
   "cell_type": "markdown",
   "metadata": {},
   "source": [
    "In den folgenden Unterkapiteln werden die oben erwähnten Aspekte eines Computers einzeln betrachtet. Diese sind\n",
    "\n",
    "* Digitalisierung, \n",
    "* Algorithmen,\n",
    "* Hardware und\n",
    "* Software.\n",
    "\n",
    "Dies Darstellung ist im Hinblick auf die Gesamtveranstaltung sehr knapp und nur einzelen Bereiche werden genauer vorgestellt. An vielen Stellen werden Verweise auf vertiefende Artikel, beispielsweise bei der freien Enzyklopädie [Wikipedia](https://www.wikipedia.de/), gegeben. "
   ]
  }
 ],
 "metadata": {
  "kernelspec": {
   "display_name": "Python 3",
   "language": "python",
   "name": "python3"
  },
  "language_info": {
   "codemirror_mode": {
    "name": "ipython",
    "version": 3
   },
   "file_extension": ".py",
   "mimetype": "text/x-python",
   "name": "python",
   "nbconvert_exporter": "python",
   "pygments_lexer": "ipython3",
   "version": "3.8.2"
  }
 },
 "nbformat": 4,
 "nbformat_minor": 4
}
