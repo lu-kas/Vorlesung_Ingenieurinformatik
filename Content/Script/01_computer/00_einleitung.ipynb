{
 "cells": [
  {
   "cell_type": "markdown",
   "metadata": {},
   "source": [
    "Computer, in den unterschiedlichsten Größen und Arten, werden in fast allen Aspekten unseres modernen Lebens eingesetzt. Sie bestehen aus sehr einfachen Bausteinen. Beispielsweise können Sie nur zwei elementare Zustände an/aus oder 1/0 oder wahr/falsch unterscheiden und digitalisieren damit alle für sie verarbeitbaren Informationen. Auch die Operationen, welche sie auf grundlegender Ebene durchführen können, sind sehr einfach. Beispielsweise sind es Logische Verknüpfungen wie OR, AND oder NOT.   "
   ]
  },
  {
   "cell_type": "markdown",
   "metadata": {},
   "source": [
    "Die sehr schnelle Durchführung sehr vieler dieser Operationen gleichzeitig, können Computer komplexen Algorithmen folgen und damit viele Aufgaben erledigen. Da Computer nicht etwas Abstraktes sind, sondern aus elektrischen Schaltkreisen und Bauelementen bestehen, brauchen Sie Schnittstellen zur Umwelt, um beispielsweise mit Menschen zu interagieren oder mit anderen Computern zu kommunizieren. Alles was physikalisch einen Computer ausmacht, bezeichnet man als Hardware. Die Algorithmen, also Berechnungs- oder Steuerungsanweisungen, werden (meist) von Menschen in Form von Programmen vorgegeben. Erst sie verleihen der physikalischen Hülle, also der Hardware, die vielen Einsatzmöglichkeiten. Die nicht-physikalischen Komponenten des Computers werden Software genannt."
   ]
  },
  {
   "cell_type": "markdown",
   "metadata": {},
   "source": [
    "## Übersicht dieses Kapitels"
   ]
  },
  {
   "cell_type": "markdown",
   "metadata": {},
   "source": [
    "In den folgenden Unterkapiteln werden die oben erwähnten Aspekte eines Computers einzeln betrachtet. Diese sind\n",
    "\n",
    "* Digitalisierung, \n",
    "* Algorithmen,\n",
    "* Hardware und\n",
    "* Software.\n",
    "\n",
    "Dies Darstellung ist im Hinblick auf die Gesamtveranstaltung sehr knapp und nur einzelen Bereiche werden genauer vorgestellt. An vielen Stellen werden Verweise auf vertiefende Artikel, beispielsweise bei der freien Enzyklopädie [Wikipedia](https://www.wikipedia.de/), gegeben. "
   ]
  },
  {
   "cell_type": "markdown",
   "metadata": {},
   "source": [
    "## Beispiele aus dem Bauingenieurwesen"
   ]
  },
  {
   "cell_type": "markdown",
   "metadata": {},
   "source": [
    "Wie in allen anderen Wissenschafts- und Ingenieurdisziplinen nehmen Computer eine zunehmende Rolle im Bauingenieurwesen ein. Aus der riesigen Auswahl von Einsatzmöglichkeiten, seien folgende drei an der [Fakultät für Architekur und Bauingenieurwesen](https://www.bauing.uni-wuppertal.de) der Bergischen Universität Wuppertal vertretenen Lehr- und Forschungsgebiet beispielhaft genannt:\n",
    "\n",
    "* **[Baubetrieb und Bauwirtschaft](https://www.baubetrieb.uni-wuppertal.de)** – Building Information Modeling (BIM): Erfassung und Vernetzung von Prozessen im gesamten Lebenszyklus einer Immobilie.\n",
    "\n",
    "* **[Baumechanik und Numerische Methoden](http://www.baumechanik.uni-wuppertal.de/index.php?content=start)** – Finite Elemente Methode (FEM): Numerisches Verfahren zur Lösung von Differentialgleichungen. Anwendung kann findet diese Methode in der Statik und Dynamik von Bauwerken.\n",
    "\n",
    "* **[Computersimulation für Brandschutz und Fußgängerverkehr](https://www.asim.uni-wuppertal.de/)** Berechnung der Personendynamik auf Grundlage physikalischer und sozialer Wechselwirkungen. Die entwickelten Methoden werden bei der Sicherheitsbetrachtung währen der Planung von Gebäuden eingesetzt."
   ]
  },
  {
   "cell_type": "markdown",
   "metadata": {},
   "source": [
    "## Lehr- und Forschungsgebiet \"Computational Civil Engineering\" (CCE)"
   ]
  },
  {
   "cell_type": "markdown",
   "metadata": {},
   "source": [
    "Der Lehrstuhl [Computational Civil Engineering](https://cce.uni-wuppertal.de/) beschäftigt sich hauptsächlich mit der Erforschung und Entwicklung neuer computergestützter Modelle. Im Zentrum der Anwendung steht hier die Brand- und Rauchausbreitung in Gebäuden. \n",
    "\n",
    "In der Lehre fokussieren wir uns auf die Informatik und Numerik. Die von uns angebotenen Hauptvorlesungen sind [Ingenieurinformatik](https://cce.uni-wuppertal.de/index.php?id=4178&L=0) und [Numerische Brandsimulationen](https://cce.uni-wuppertal.de/index.php?id=4185&L=0). Zusätzlich dazu bieten wir regelmäßig Workshops zu den Themen 'Datenanalyse' und 'Raspberry Pi' an. \n",
    "\n",
    "Die von uns entwickelten und eingesetzten Simulationsmodelle beruhen meist auf der numerische Strömungsdynamik (CFD, engl. computational fluid dynamics). Hinzu kommten genetische Optimierungsalgorithmen und Bildverarbeitungsmethoden. Allen gemein ist der Einsatz von Parallelrechnern, wie z.B. dem Supercomputer [JURECA](https://www.fz-juelich.de/ias/jsc/EN/Expertise/Supercomputers/JURECA/JURECA_node.html) am [Forschungszentrum Jülich](https://fz-juelich.de/portal/DE/Home/home_node.html).\n",
    "\n",
    "| ![JURECA](https://www.fz-juelich.de/SharedDocs/Bilder/IAS/JSC/EN/galeries/JURECA/JURECA.jpg?__blob=poster) |\n",
    "|:--:|\n",
    "| JURECA Supercomputer, Bildquelle: Forschungszentrum Jülich |\n",
    "\n",
    "Zu unseren Forschungsaktivitäten zählt zum Einen der Einsatz und Weiterentwicklung von [FDS](https://pages.nist.gov/fds-smv/) (Fire Dynamics Simulator), welches genutzten werden kann zur Berechnung der Rauch- und Brandausbreitung in Gebäuden. Zum Anderen die Entwicklung neuer Simulationswerkzeuge. Dazu zählt beispielsweise die Simulationssoftware [ARTSS](https://github.com/FireDynamics/ARTSS) (Accelerator-based Real-Time Smoke Simulator) oder [PROPTI](https://github.com/FireDynamics/propti). Die Forschung erfolgt in enger Zusammenarbeit mit der Abteilung [Fire Dynamics](https://www.fz-juelich.de/ias/ias-7/EN/Research/Fire_Dynamics/_node.html) am Forschungszentrum Jülich."
   ]
  },
  {
   "cell_type": "markdown",
   "metadata": {},
   "source": [
    "| <video controls> <source src=\"https://uni-wuppertal.sciebo.de/s/L8WzAy7adlX45Yk/download\" type=\"video/mp4\"> </video> |\n",
    "|:--:|\n",
    "| Simulation von Bränden in einer U-Bahnstation mit der Software [FDS](https://pages.nist.gov/fds-smv/) |"
   ]
  },
  {
   "cell_type": "markdown",
   "metadata": {},
   "source": [
    "| <video controls> <source src=\"https://uni-wuppertal.sciebo.de/s/muvLoJ1qgmJgBHT/download\" type=\"video/mp4\"> </video> |\n",
    "|:--:|\n",
    "| Simulation eines Flüssigkeitsbrandes mit der Software [OpenFoam](https://www.openfoam.com/) |"
   ]
  }
 ],
 "metadata": {
  "kernelspec": {
   "display_name": "Python 3",
   "language": "python",
   "name": "python3"
  },
  "language_info": {
   "codemirror_mode": {
    "name": "ipython",
    "version": 3
   },
   "file_extension": ".py",
   "mimetype": "text/x-python",
   "name": "python",
   "nbconvert_exporter": "python",
   "pygments_lexer": "ipython3",
   "version": "3.8.2"
  }
 },
 "nbformat": 4,
 "nbformat_minor": 4
}
