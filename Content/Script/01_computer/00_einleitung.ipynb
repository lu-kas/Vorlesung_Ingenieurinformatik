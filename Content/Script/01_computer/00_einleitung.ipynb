{
 "cells": [
  {
   "cell_type": "markdown",
   "metadata": {},
   "source": [
    "Absatz: Motivation, wofür Computertechnik"
   ]
  },
  {
   "cell_type": "markdown",
   "metadata": {},
   "source": [
    "## Übersicht"
   ]
  },
  {
   "cell_type": "markdown",
   "metadata": {},
   "source": [
    "Absatz: Übersicht der Themen in diesem Abschnitt, wie hängen Sie zusammen und bilden das Kapitel Computertechnik"
   ]
  },
  {
   "cell_type": "markdown",
   "metadata": {},
   "source": [
    "## Beispiele aus dem Bauingenieurwesen und Sicherheitstechnik"
   ]
  },
  {
   "cell_type": "markdown",
   "metadata": {},
   "source": [
    "Absatz: Rolle der CT im Bauingenieurwesen, Beispielbilder aus Wissenschaft und Praxis (Brandsimulation, BIM, Strukturmechanik)"
   ]
  },
  {
   "cell_type": "markdown",
   "metadata": {},
   "source": [
    "## Arbeiten des LuF \"Computational Civil Engineering\" (CCE)"
   ]
  },
  {
   "cell_type": "markdown",
   "metadata": {},
   "source": [
    "Absatz: Arbeiten von CCE und anderen Lehrstühlen in den Kontext bringen (CCE, ASIM, FZJ)"
   ]
  },
  {
   "cell_type": "markdown",
   "metadata": {
    "tags": [
     "remove_cell"
    ]
   },
   "source": [
    "| <video controls> <source src=\"https://uni-wuppertal.sciebo.de/s/XXX/download\" type=\"video/mp4\"> </video> |\n",
    "|:--:|\n",
    "| Videoquelle |"
   ]
  },
  {
   "cell_type": "code",
   "execution_count": null,
   "metadata": {},
   "outputs": [],
   "source": []
  }
 ],
 "metadata": {
  "kernelspec": {
   "display_name": "Python 3",
   "language": "python",
   "name": "python3"
  },
  "language_info": {
   "codemirror_mode": {
    "name": "ipython",
    "version": 3
   },
   "file_extension": ".py",
   "mimetype": "text/x-python",
   "name": "python",
   "nbconvert_exporter": "python",
   "pygments_lexer": "ipython3",
   "version": "3.8.2"
  }
 },
 "nbformat": 4,
 "nbformat_minor": 4
}
