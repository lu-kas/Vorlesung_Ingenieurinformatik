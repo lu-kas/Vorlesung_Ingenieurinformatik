{
 "cells": [
  {
   "cell_type": "markdown",
   "metadata": {},
   "source": [
    "## Dateisystem"
   ]
  },
  {
   "cell_type": "markdown",
   "metadata": {},
   "source": [
    "### Motivation\n",
    "\n",
    "Alle Computeranwendungen müssen Informationen abspeichern und wiederfinden können.\n",
    "\n",
    "Um Daten auch nach dem Abschalten des Computers zu erhalten (Arbeitsspeicher funktioniert nur mit Energieversorgung), werden diese auf Festplatten geschrieben.\n",
    "\n",
    "Die Organsiation der Daten erfolgt in Dateien, welche wiederum in Verzeichnissen eines Dateisystems eingebettet sind.\n",
    "\n",
    "Somit kann sichergestellt werden, dass\n",
    "- sobald ein Prozess terminiert wird, alle Informationen nicht verloren werden. Diese müssen zur Laufzeit in einer Datei gespeichert werden.\n",
    "- Informationen für mehrere Prozesse gleichzeitig zur Verfügung stehen können – Kommunikation über das Dateisystem."
   ]
  },
  {
   "cell_type": "markdown",
   "metadata": {},
   "source": [
    "### Dateien\n",
    "\n",
    "Eine Datei bezeichnet eine Einheit zusammengehöriger Daten, die auf einem beliebigen Datenträger abgelegt bzw. gespeichert werden kann.\n",
    "\n",
    "Eine Datei besteht aus:\n",
    "\n",
    "- Dateninhalten: z.B. Messdaten, Texte, Programme. Je nach Datenformat können sie nur von spezieller Software interpretiert werden.\n",
    "- Attributen: z.B. Dateiname, Dateigröße, Erstellungsdatum, Datum der letzen Änderung, Zugriffsrechte."
   ]
  },
  {
   "cell_type": "markdown",
   "metadata": {},
   "source": [
    "### Dateitypen\n",
    "\n",
    "Um den Typ (Text, Bild, PDF-Dokument, etc.) einer Datei zu kennzeichnen, werden Dateiendungen verwendet.\n",
    "\n",
    "Welche Aktion mit dem Öffnen einer Datei verknüpft ist, ist meist im OS verankert. Dazu kommt auch die Unterscheidung von Daten und Programmen.\n",
    "\n",
    "Beispiele:\n",
    "- `.txt`: einfache Textdatei, welche aus ASCII Zeichen besteht und von jedem Texteditor verstanden wird.\n",
    "- `.py`: Pythonskript, kann mit jedem Texteditor gelesen und verändert werden und von Python interpretiert werden.\n",
    "- `.mp3`: Audiodatei mit der MPEG Audio Layer III-Kodierung\n",
    "- `.zip`: ZIP-Archiv, komprimierter Dateikontainer\n",
    "- `.exe` oder `.app`: Programm für Windows oder OSX"
   ]
  },
  {
   "cell_type": "markdown",
   "metadata": {},
   "source": [
    "### Verzeichnisse\n",
    "\n",
    "Verzeichnisse organisieren Dateien. So werden Dateien, welche zum selben Kontext gehören zusammen in einem  Verzeichnis bzw. Unterverzeichnissen abgelegt.\n",
    "\n",
    "Spezielle Verzeichnisse sind dem OS vorbehalten, andere sind für zentrale Software und für Benutzerdaten reserviert.\n",
    "\n",
    "Unter Windows werden Verzeichnisse Laufwerken (Festplatte, CD-ROM, Netzwerk) zugewiesen. Bei den UNIX-artigen Betriebssystemen existiert nur eine globale Verzeichnishierarchie.\n",
    "\n",
    "| <img src=\"bilder/verzeichnis.svg\" width=\"400\" /> |\n",
    "| :-: |\n",
    "| Verzeichnisstruktur |"
   ]
  },
  {
   "cell_type": "markdown",
   "metadata": {},
   "source": [
    "## Verzeichnisstrukturen verschiedener Betriebssysteme\n",
    "\n",
    "<img src=\"https://upload.wikimedia.org/wikipedia/de/1/1f/Filesystem.svg\" width=\"700\" />"
   ]
  },
  {
   "cell_type": "markdown",
   "metadata": {},
   "source": [
    "### Rechteverwaltung\n",
    "\n",
    "Bei der Entscheidung, welcher Nutzer eine Datei lesen oder schreiben darf, wird auf die entsprechenden Dateiattribute zugegriffen.\n",
    "\n",
    "Diese unterscheiden zwischen Benutzer, Gruppe und Andere.\n",
    "\n",
    "Unter Linux werden diese Rechte als folgende Abfolge von read (r), write (w) und execute (x) dargestellt, z.B.\n",
    "```\n",
    "> ll python-vorlesung3.pdf\n",
    "-rw-r--r-- 1 larnold staff 112859 May 5 22:06 python-vorlesung3.pdf\n",
    "```\n",
    "\n",
    "Wobei folgende Kodierung verwendet wird:\n",
    "\n",
    "| <img src=\"bilder/rwx.svg\" width=\"300\" /> |\n",
    "| :-: |\n",
    "| Kodierung von Nutzerrechten |"
   ]
  }
 ],
 "metadata": {
  "kernelspec": {
   "display_name": "Python 3",
   "language": "python",
   "name": "python3"
  },
  "language_info": {
   "codemirror_mode": {
    "name": "ipython",
    "version": 3
   },
   "file_extension": ".py",
   "mimetype": "text/x-python",
   "name": "python",
   "nbconvert_exporter": "python",
   "pygments_lexer": "ipython3",
   "version": "3.8.2"
  }
 },
 "nbformat": 4,
 "nbformat_minor": 4
}
