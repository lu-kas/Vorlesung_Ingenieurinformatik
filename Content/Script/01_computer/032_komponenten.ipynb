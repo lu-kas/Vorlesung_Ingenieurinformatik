{
 "cells": [
  {
   "cell_type": "markdown",
   "metadata": {},
   "source": [
    "# Aufbau eines Computers"
   ]
  },
  {
   "cell_type": "markdown",
   "metadata": {},
   "source": [
    "## Grundbausteine\n",
    "\n",
    "Die Bausteine moderner Computer beruhen auf Halbleiterelementen, welche die CMOS-Technik ([Complementary metal-oxide-semiconductor](https://de.wikipedia.org/wiki/Complementary_metal-oxide-semiconductor)) verwenden. Aus den damit realisierten Transistoren können Spannungen (5 V bzw. 0 V) zur Schaltung von Zuständen geschaffen werden und damit logische Operationen in Form von Logikgattern gebaut werden. Die Weiterentwicklung der Fertigungstechnik ermöglicht eine kontinuierliche Verkleinerung der physikalischen Größe dieser Elemente, so dass die Dichte dieser Elemente immer weiter zunimmt.  \n",
    "\n",
    "### Transistoren\n",
    "\n",
    "Die grundlegenden Recheneinheiten zum Rechnen mit binären Zahlen sind die logischen Gatter. Sie realisieren die logischen Operationen, z.B. das logische UND, ODER und NICHT, in Form von sogenannten [Logikgattern](https://de.wikipedia.org/wiki/Logikgatter). Das dafür notwendige elektrische Bauteil ist der [Transistor](https://de.wikipedia.org/wiki/Transistor), welcher den allergrößten Teil des datenverarbeitenden Teils eines Computers ausmacht.\n",
    "\n",
    "Beispielhaft ist hier der Schaltplan eines UND-Gatters als Schaltkreis mit fünf Transistoren:\n",
    "\n",
    "| ![](https://upload.wikimedia.org/wikipedia/commons/c/c1/Cmos_and.svg) | \n",
    "| :-: |\n",
    "| Schaltkreis eines AND-Gatters |\n",
    "| Quelle: <a href=\"https://commons.wikimedia.org/wiki/User:Biezl\">Biezl</a>, <a href=\"https://commons.wikimedia.org/wiki/File:Cmos_and.svg\">Cmos and</a>, als gemeinfrei gekennzeichnet, Details auf <a href=\"https://commons.wikimedia.org/wiki/Template:PD-self\">Wikimedia Commons</a> |"
   ]
  },
  {
   "cell_type": "markdown",
   "metadata": {},
   "source": [
    "### Logikgatter\n",
    "\n",
    "Um zwei Bits zu addieren, kann z.B. folgende einfache Verschaltung eines UND- und eines ODER-Gatters verwendet werden. Dies entspricht dem sogenannten Halbaddierer.\n",
    "\n",
    "| ![](https://upload.wikimedia.org/wikipedia/commons/c/c2/IEC_AND_label.svg) | ![](https://upload.wikimedia.org/wikipedia/commons/4/40/IEC_OR_label.svg) | ![](https://upload.wikimedia.org/wikipedia/commons/1/15/Halbaddierer_Aufbau.svg) |\n",
    "| :-: | :-: | :-: |\n",
    "| UND-Gatter | ODER-Gatter | Halbaddierer |\n",
    "| <table><thead><tr><th>A</th><th>B</th><th>Y</th></tr></thead><tbody><tr><td>0</td><td>0</td><td>0</td></tr><tr><td>1</td><td>0</td><td>0<br></td></tr><tr><td>0</td><td>1</td><td>0<br></td></tr><tr><td>1</td><td>1</td><td>1</td></tr></tbody></table> | <table><thead><tr><th>A</th><th>B</th><th>Y</th></tr></thead><tbody><tr><td>0</td><td>0</td><td>0</td></tr><tr><td>1</td><td>0</td><td>1<br></td></tr><tr><td>0</td><td>1</td><td>1<br></td></tr><tr><td>1</td><td>1</td><td>1</td></tr></tbody></table> | <table><thead><tr><th>A</th><th>B</th><th>c<br></th><th>s</th></tr></thead><tbody><tr><td>0</td><td>0</td><td>0</td><td>0</td></tr><tr><td>1</td><td>0</td><td>0<br></td><td>1</td></tr><tr><td>0</td><td>1</td><td>0<br></td><td>1</td></tr><tr><td>1</td><td>1</td><td>1</td><td>0</td></tr></tbody></table> |\n",
    "| Quelle: <a href=\"https://commons.wikimedia.org/wiki/User:Dbc334\">User:Dbc334</a>, <a href=\"https://commons.wikimedia.org/wiki/User:Tobulax\">User:Tobulax</a>, <a href=\"https://commons.wikimedia.org/wiki/File:IEC_AND_label.svg\">IEC AND label</a>, als gemeinfrei gekennzeichnet, Details auf <a href=\"https://commons.wikimedia.org/wiki/Template:PD-self\">Wikimedia Commons</a> | Quelle: <a href=\"https://commons.wikimedia.org/wiki/User:Dbc334\">User:Dbc334</a>, <a href=\"https://commons.wikimedia.org/wiki/User:Tobulax\">User:Tobulax</a>, <a href=\"https://commons.wikimedia.org/wiki/File:IEC_OR_label.svg\">IEC OR label</a>, als gemeinfrei gekennzeichnet, Details auf <a href=\"https://commons.wikimedia.org/wiki/Template:PD-self\">Wikimedia Commons</a> | Quelle: <a href=\"https://de.wikipedia.org/wiki/Bild:Transistor_Hazard.svg\">30px</a> <a href=\"https://de.wikipedia.org/wiki/Benutzer:MovGP0\">MovGP0</a>, <a href=\"https://commons.wikimedia.org/wiki/File:Halbaddierer_Aufbau.svg\">Halbaddierer Aufbau</a>, <a href=\"https://creativecommons.org/licenses/by-sa/2.0/de/legalcode\" rel=\"license\">CC BY-SA 2.0 DE</a> |\n",
    "\n",
    "Die Addition und natürlich andere Operationen von längeren Zahlen werden in entsprechend komplexeren Schaltungen realisiert."
   ]
  },
  {
   "cell_type": "markdown",
   "metadata": {},
   "source": [
    "### Mooresches-Gesetz\n",
    "\n",
    "| Mikrochip | Anzahl der Transistoren | Technologieknoten | Entwicklungsjahr |\n",
    "| :-: | :-: | :-: | :-: |\n",
    "| Intel 4004 | 2.300 | 10000 nm  | 1971 |\n",
    "| Intel Pentium (P5) | 3.100.000 | 800 nm | 1993 |\n",
    "| Intel Core 2 (Yorkfield) pro Die | 410.000.000 | 45 nm | 2007 |\n",
    "| Intel Itanium 2 Tukwila | 2.046.000.000 | 65 nm | 2010 |\n",
    "| AMD Tahiti XT | 4.312.711.873 | 28 nm | 2011 |\n",
    "| Nvidia Kepler GK110 | 7.100.000.000 | 28 nm | 2012 |\n",
    "| AMD Epyc - 32 Kern Prozessor | 19.200.000.000 | 14 nm | 2017 | \n",
    "\n",
    "Das [Mooresche-Gesetzt](https://de.wikipedia.org/wiki/Mooresches_Gesetz) besagt, dass sich die Anzahl der Transistoren auf integrierten Schaltkreisen in einem festen Zeitraum verdoppelt. Je nach Zählweise sind es 12, 18 oder 24 Monate.\n",
    "\n",
    "| ![](https://upload.wikimedia.org/wikipedia/commons/8/8b/Moore%27s_Law_Transistor_Count_1971-2018.png) |\n",
    "| :-: |\n",
    "| Entwicklung der Anzahl der Transistorzahl |\n",
    "| Quelle: Max Roser, <a href=\"https://commons.wikimedia.org/wiki/File:Moore's_Law_Transistor_Count_1971-2018.png\">Moore's Law Transistor Count 1971-2018</a>, <a href=\"https://creativecommons.org/licenses/by-sa/4.0/legalcode\" rel=\"license\">CC BY-SA 4.0</a> |"
   ]
  },
  {
   "cell_type": "markdown",
   "metadata": {},
   "source": [
    "## Computerarchitektur\n",
    "\n",
    "### Von-Neumann-Architektur\n",
    "\n",
    "Die allgemeinste, prinzipiell immer noch eingesetzte, Computer-Architektur ist die Von-Neumann Architektur.\n",
    "\n",
    "| ![](https://upload.wikimedia.org/wikipedia/commons/d/db/Von-Neumann_Architektur.svg) |\n",
    "| :-: |\n",
    "| Von-Neumann-Architektur |\n",
    "| Quelle: Lukas Grossar, <a href=\"https://commons.wikimedia.org/wiki/File:Von-Neumann_Architektur.svg\">Von-Neumann Architektur</a>, als gemeinfrei gekennzeichnet, Details auf <a href=\"https://commons.wikimedia.org/wiki/Template:PD-shape\">Wikimedia Commons</a> |\n",
    "\n",
    "* **CPU**: Central processing unit, zentrale Prozesseinheit\n",
    "* **Steuerlogik**: Steuert das Abarbeiten von Instruktionen.\n",
    "* **Rechenwerk**: Führt arithmetische Operationen aus.\n",
    "* **Bussystem**: Erlaubt die Kommunikation der einzelnen Komponenten untereinander.\n",
    "* **Speicherwerk**: Hat zur Aufgabe Daten und Instruktionen zu speichern.\n",
    "* **E/A-Werk**: Das Eingabe- / Ausgabewerk stellt die Kommunikation mit externen Komponenten zur Verfügung, z.B. Monitor, Festplatte oder Tastatur."
   ]
  },
  {
   "cell_type": "markdown",
   "metadata": {},
   "source": [
    "## x86 Architektur\n",
    "\n",
    "Abgeleitet von der generellen Von-Neumann-Architektur hat sich im privaten Bereich insbesondere die x86-Architektur durchgesetzt. Sie wird seit 1978, vor allem von Intel und AMD, weiterentwickelt.\n",
    "\n",
    "| Generation | Jahr | Beispiel |\n",
    "| ---------- | :--: | :------- |\n",
    "| 1          | 1978 | Intel 8086 |\n",
    "| 1          | 1982 | Intel 80286 |\n",
    "| ...        | ...  | ... |\n",
    "| 8          | 2003 | Athlon 64, Opteron |\n",
    "| 9          | 2008 | Intel Core i3/i5/i7, AMD Phenom II |\n",
    "\n",
    "Andere Architekturen sind z.B. PowerPC (Apple, IBM, Motorola) oder die\n",
    "ARM-Architektur (ARM)."
   ]
  },
  {
   "cell_type": "markdown",
   "metadata": {},
   "source": [
    "### Speichermedien\n",
    "\n",
    "- **Register**: extrem schneller Speicher auf dem u.A. das Rechenwerk seine Operationen ausführt.\n",
    "- **Cache**: extrem schneller Zwischenspeicher, um die Zugriffszeit auf den Hauptspeicher zu beschleunigen.\n",
    "- **Arbeitsspeicher / Hauptspeicher**: Hier werden die meisten Daten und Anweisungen abgespeichert.\n",
    "- **Massenspeicher – SSD**: Etwas schneller als eine Festplatte, jedoch mit deutlich kürzeren Zugriffszeiten.\n",
    "- **Massenspeicher – Festplatte**: Langsamster verbauter Speicher, jedoch mit einem sehr großem Volumen.\n",
    "- **Wechselspeicher – CD-ROM / DVD / BD**: Leicht austauschbare Speicher, im allgemeinen langsam und nur lesbar nutzbar.\n",
    "\n",
    "Nur lesbare Speicher werden oft als ROM (read only memory) bezeichnet; (beliebig) beschreibbare Speicher als RAM (random access memory).\n",
    "\n",
    "Ob Speicherwerte Daten oder Instruktionen darstellen muss die lesende Einheit selbst entscheiden!"
   ]
  },
  {
   "cell_type": "markdown",
   "metadata": {},
   "source": [
    "### Hierarchie des Speichers\n",
    "\n",
    "Optimal wäre ein möglichst schneller Speicher. Jedoch steigt der Herstellungspreis mit der Zugriffsgeschwindigkeit, so dass sich die folgende Volumenverteilung etabliert hat. Die verschiedenen Stufen versuchen die langsamen Zugriffszeiten zu puffern. Insbesondere ist für numerische Berechnungen der Cache, welcher selbst in drei Stufen, sogenannte Level, aufgeteilt ist. \n",
    "\n",
    "| ![Speicherhierarchie](./bilder/storage_hierachy.svg) |\n",
    "| :-: |\n",
    "| Speicherhierarchie |"
   ]
  },
  {
   "cell_type": "markdown",
   "metadata": {},
   "source": [
    "### Beispiel AMD Zen Architektur\n",
    "\n",
    "Welche Operation als nächstes abgearbeitet wird – und das Veranlassen dieser Operation – wird von der Steuerlogik auf der CPU (central processing unit) geregelt. Daneben befindet sich auf dem Mikrochip auch noch die arithmetische Einheit (Rechenwerk) und der Cache-Speicher, als auch andere Kontrolleinheiten. Diese werden anhand der [AMD Zen Architektur](https://en.wikichip.org/wiki/amd/microarchitectures/zen) exemplarisch vorgestellt.\n",
    "\n",
    "**Zen Core**\n",
    "\n",
    "* 512 kB L2-Cache\n",
    "* L1 Daten und Instruktions Cache\n",
    "* **FPU**: Floating Point Unit\n",
    "* **ALU**: Arithmetic Logic Unit\n",
    "* **LSU**: Load–store Unit\n",
    "* **BPU**: Branch Prediction Unit\n",
    "\n",
    "| ![](https://en.wikichip.org/w/images/6/6a/amd_zen_core.png) |\n",
    "| :-: |\n",
    "| ![](https://en.wikichip.org/w/images/c/cb/amd_zen_core_%28annotated%29.png) |\n",
    "| Aufteilung der Bereiche an einem AMD Zen Core (unten mit Beschriftung) |\n",
    "| Quelle: <a href=\"https://en.wikichip.org/wiki/User:David\">David</a>, <a href=\"https://en.wikichip.org/wiki/File:amd_zen_core.png\">AMD Zen Core</a>, <a href=\"https://en.wikichip.org/wiki/File:amd_zen_core_(annotated).png\">AMD Zen Core (annotated)</a> |\n",
    "\n",
    "**Zen CCX**\n",
    "* vier Zen Cores\n",
    "* 8 MB L3-Cache\n",
    "* 1 400 000 000 Transistoren\n",
    "\n",
    "\n",
    "| ![](https://en.wikichip.org/w/images/4/44/amd_zen_ccx_2.png) |\n",
    "| :-: |\n",
    "| ![](https://en.wikichip.org/w/images/a/a7/amd_zen_ccx_2_%28annotated%29.png) |\n",
    "| Aufteilung der Bereiche an einem AMD Zen CCX (unten mit Beschriftung) |\n",
    "| Quelle: <a href=\"https://en.wikichip.org/wiki/User:David\">David</a>, <a href=\"https://en.wikichip.org/wiki/File:amd_zen_ccx_2.png\">AMD Zen CCX</a>, <a href=\"https://en.wikichip.org/wiki/File:amd_zen_ccx_2_(annotated).png\">AMD Zen CCX (annotated)</a> |\n",
    "\n",
    "**Zen Zeppelin**\n",
    "* Zwei Zen CCX\n",
    "* 12 Metallschichten\n",
    "* 2 km Signalwege\n",
    "* 4 800 000 000 Transistoren\n",
    "* 22 mm x 9.5 mm Abmessung\n",
    "\n",
    "| ![](https://en.wikichip.org/w/images/3/3f/amd_zen_octa-core_die_shot.png) |\n",
    "| :-: |\n",
    "| ![](https://en.wikichip.org/w/images/7/75/amd_zen_octa-core_die_shot_%28annotated%29.png)|\n",
    "| Aufteilung der Bereiche an einem AMD Zen Zeppelin (unten mit Beschriftung) |\n",
    "| Quelle: <a href=\"https://en.wikichip.org/wiki/User:At32Hz\">At32Hz</a>, <a href=\"https://en.wikichip.org/wiki/User:Inject\">Inject</a>, <a href=\"https://en.wikichip.org/wiki/File:amd_zen_octa-core_die_shot.png\">AMD Zeppelin</a>, <a href=\"https://en.wikichip.org/wiki/File:amd_zen_octa-core_die_shot_(annotated).png\">AMD Zeppelin CCX (annotated)</a> |\n",
    "\n",
    "**Zen EPYC**\n",
    "\n",
    "| ![](https://en.wikichip.org/w/images/4/4d/zen-4zep.svg) |\n",
    "| :-: |\n",
    "| Struktur eines AMD Zen EPYC Processors |\n",
    "| Quelle: <a href=\"https://en.wikichip.org/wiki/User:At32Hz\">At32Hz</a>, <a href=\"https://en.wikichip.org/wiki/File:zen-4zep.svg\">AMD Zen EPYC</a> |"
   ]
  }
 ],
 "metadata": {
  "kernelspec": {
   "display_name": "Python 3",
   "language": "python",
   "name": "python3"
  },
  "language_info": {
   "codemirror_mode": {
    "name": "ipython",
    "version": 3
   },
   "file_extension": ".py",
   "mimetype": "text/x-python",
   "name": "python",
   "nbconvert_exporter": "python",
   "pygments_lexer": "ipython3",
   "version": "3.8.2"
  }
 },
 "nbformat": 4,
 "nbformat_minor": 4
}
