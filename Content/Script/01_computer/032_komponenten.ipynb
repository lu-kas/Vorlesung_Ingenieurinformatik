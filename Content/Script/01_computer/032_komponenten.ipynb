{
 "cells": [
  {
   "cell_type": "markdown",
   "metadata": {},
   "source": [
    "# Aufbau eines Computers"
   ]
  },
  {
   "cell_type": "markdown",
   "metadata": {
    "tags": [
     "hide_input"
    ]
   },
   "source": [
    "## Rechnen mit digitalen Zahlen\n",
    "\n",
    "Die grundlegenden Recheneinheiten zum Rechnen mit binären Zahlen sind die logischen Gatter. Sie realisieren die logischen Operationen, z.B. das logische UND, ODER und NICHT. Das dafür notwendige elektrische Bauteil ist der Transistor, welcher den allergrößten Teil einer CPU (s.u.) ausmacht.\n",
    "\n",
    "Beispielhaft ist hier der Schaltplan eines UND-Gatters als Schaltkreis und als mikroskopische Aufnahme eines integrierten Schaltkreises:\n",
    "\n",
    "| <img src=\"https://upload.wikimedia.org/wikipedia/commons/c/c1/Cmos_and.svg\" width=\"500\" /> | <img src=\"https://www.usenix.org/legacy/publications/library/proceedings/smartcard99/full_papers/kommerling/kommerling_html/and-poly.jpg\" width=\"300\" /> |\n",
    "| :-: | :-: |\n",
    "| Schaltkreis eines AND-Gatters | Realisierung in CMOS |"
   ]
  },
  {
   "cell_type": "markdown",
   "metadata": {},
   "source": [
    "### Logikgatter\n",
    "\n",
    "Um zwei Bits zu addieren, kann z.B. folgende einfache Verschaltung eines UND- und eines ODER-Gatters verwendet werden. Dies entspricht dem sogenannten Halbaddierer.\n",
    "\n",
    "| <img src=\"https://upload.wikimedia.org/wikipedia/commons/c/c2/IEC_AND_label.svg\" width=\"200\" /> | <img src=\"https://upload.wikimedia.org/wikipedia/commons/4/40/IEC_OR_label.svg\" width=\"200\" /> | <img src=\"https://upload.wikimedia.org/wikipedia/commons/1/15/Halbaddierer_Aufbau.svg\" width=\"400\" /> |\n",
    "| :-: | :-: | :-: |\n",
    "| UND-Gatter | ODER-Gatter | Halbaddierer |\n",
    "| <table><thead><tr><th>A</th><th>B</th><th>Y</th></tr></thead><tbody><tr><td>0</td><td>0</td><td>0</td></tr><tr><td>1</td><td>0</td><td>0<br></td></tr><tr><td>0</td><td>1</td><td>0<br></td></tr><tr><td>1</td><td>1</td><td>1</td></tr></tbody></table> | <table><thead><tr><th>A</th><th>B</th><th>Y</th></tr></thead><tbody><tr><td>0</td><td>0</td><td>0</td></tr><tr><td>1</td><td>0</td><td>1<br></td></tr><tr><td>0</td><td>1</td><td>1<br></td></tr><tr><td>1</td><td>1</td><td>1</td></tr></tbody></table> | <table><thead><tr><th>A</th><th>B</th><th>c<br></th><th>s</th></tr></thead><tbody><tr><td>0</td><td>0</td><td>0</td><td>0</td></tr><tr><td>1</td><td>0</td><td>0<br></td><td>1</td></tr><tr><td>0</td><td>1</td><td>0<br></td><td>1</td></tr><tr><td>1</td><td>1</td><td>1</td><td>0</td></tr></tbody></table> |\n",
    "\n",
    "Die Addition (und andere Operationen) von längeren Zahlen werden in\n",
    "entsprechen komplexeren Schaltungen realisiert."
   ]
  },
  {
   "cell_type": "markdown",
   "metadata": {},
   "source": [
    "## Von-Neumann-Architektur\n",
    "\n",
    "Die allgemeinste, prinzipiell immer noch eingesetzte, Computer-Architektur ist\n",
    "die von Neumann Architektur.\n",
    "\n",
    "| <img src=\"https://upload.wikimedia.org/wikipedia/commons/d/db/Von-Neumann_Architektur.svg\" width=\"500\" /> |\n",
    "| :-: |\n",
    "| Von-Neumann-Architektur |\n",
    "\n",
    "CPU = central processing unit, zentrale Prozesseinheit"
   ]
  },
  {
   "cell_type": "markdown",
   "metadata": {},
   "source": [
    "## x86 Architektur\n",
    "\n",
    "Abgeleitet von der generellen von Neumann Architektur hat sich im privaten Bereich vor allem die x86-Architektur durchgesetzt. Sie wird seit 1978, vor allem von Intel und AMD, weiterentwickelt.\n",
    "\n",
    "| Generation | Jahr | Beispiel |\n",
    "| ---------- | :--: | :------- |\n",
    "| 1          | 1978 | Intel 8086 |\n",
    "| 1          | 1982 | Intel 80286 |\n",
    "| ...        | ...  | ... |\n",
    "| 8          | 2003 | Athlon 64, Opteron |\n",
    "| 9          | 2008 | Intel Core i3/i5/i7, AMD Phenom II |\n",
    "\n",
    "Andere Architekturen sind z.B. PowerPC (Apple, IBM, Motorola) oder die\n",
    "ARM-Architektur (ARM)."
   ]
  },
  {
   "cell_type": "markdown",
   "metadata": {},
   "source": [
    "## Komponenten eines Computers\n",
    "\n",
    "- Speicher: Hat zur Aufgabe Daten und Instruktionen zu speichern. Teils nur unter Energieaufwendung (Hauptspeicher), teils ohne (Festplatte).\n",
    "- Bussystem: Erlaubt die Kommunikation der einzelnen Komponenten untereinander.\n",
    "- Steuerlogik: Steuert das Abarbeiten von Instruktionen.\n",
    "- Rechenwerk: Führt arithmetische Operationen aus.\n",
    "- E/A-Werk: Das Eingabe- / Ausgabewerk stellt die Kommunikation mit externen Komponenten zur Verfügung. Z.B. Monitor, Festplatte oder Tastatur."
   ]
  },
  {
   "cell_type": "markdown",
   "metadata": {},
   "source": [
    "### Speichermedien\n",
    "\n",
    "- Register: extrem schneller Speicher auf dem u.A. das Rechenwerk seine Operationen ausführt.\n",
    "- Cache: extrem schneller Zwischenspeicher, um die Zugriffszeit auf den Hauptspeicher zu beschleunigen.\n",
    "- Arbeitsspeicher: Hier werden die meisten Daten und Anweisungen abgespeichert.\n",
    "- Festplatte: langsamster Speicher, jedoch mit einem sehr großem Volumen.\n",
    "- CD-ROM / DVD: leicht austauschbare Speicher, im allgemeinen langsam und nur lesbar nutzbar.\n",
    "\n",
    "Nur lesbare Speicher werden oft als ROM (read only memory) bezeichnet; (beliebig) beschreibbare Speicher als RAM (random access memory).\n",
    "\n",
    "Ob Speicherwerte Daten oder Instruktionen darstellen muss die lesende Einheit selbst entscheiden!"
   ]
  },
  {
   "cell_type": "markdown",
   "metadata": {},
   "source": [
    "### Hierarchie des Speichers\n",
    "\n",
    "Optimal wäre ein möglichst schneller Speicher. Jedoch steigt der Herstellungspreis mit der Zugriffsgeschwindigkeit, so dass sich die folgende Volumenverteilung etabliert hat.\n",
    "\n",
    "| <img src=\"bilder/speicherhierarchie.png\" width=\"600\" /> |\n",
    "| :-: |\n",
    "| Speicherhierarchie |"
   ]
  },
  {
   "cell_type": "markdown",
   "metadata": {},
   "source": [
    "### Beispiel AMD Zen Architektur\n",
    "\n",
    "Welche Operation als nächstes abgearbeitet wird – und das Veranlassen dieser Operation – wird von der Steuerlogik auf der CPU (central processing unit) geregelt.\n",
    "\n",
    "Daneben befindet sich auf dem Mikrochip auch noch die arithmetische Einheit (Rechenwerk) und der Cache-Speicher, als auch andere Kontrolleinheiten.\n",
    "\n",
    "| <img src=\"https://en.wikichip.org/w/images/c/cb/amd_zen_core_%28annotated%29.png\" width=\"500\" /> |\n",
    "| :-: |\n",
    "| Aufteilung der Bereiche an einem [AMD Zen Core](https://en.wikichip.org/wiki/amd/microarchitectures/zen) |"
   ]
  }
 ],
 "metadata": {
  "kernelspec": {
   "display_name": "Python 3",
   "language": "python",
   "name": "python3"
  },
  "language_info": {
   "codemirror_mode": {
    "name": "ipython",
    "version": 3
   },
   "file_extension": ".py",
   "mimetype": "text/x-python",
   "name": "python",
   "nbconvert_exporter": "python",
   "pygments_lexer": "ipython3",
   "version": "3.8.2"
  }
 },
 "nbformat": 4,
 "nbformat_minor": 4
}
