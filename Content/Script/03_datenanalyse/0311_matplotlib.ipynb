{
 "cells": [
  {
   "cell_type": "markdown",
   "metadata": {},
   "source": [
    "# matplotlib-Modul"
   ]
  },
  {
   "cell_type": "markdown",
   "metadata": {},
   "source": [
    "Eine der populärsten Module zur Visualisierung ist [matplotlib](https://matplotlib.org/). Eine Übersicht der Visualisierungsmöglichkeiten ist in der [Galerie](https://matplotlib.org/gallery/index.html) gegeben."
   ]
  },
  {
   "cell_type": "markdown",
   "metadata": {},
   "source": [
    "## Laden des Moduls"
   ]
  },
  {
   "cell_type": "markdown",
   "metadata": {},
   "source": [
    "Das matplotlib-Modul kann wie gewohnt mit dem `import` Schlüsselwort eingebunden werden. Dabei wird insbesondere das [pyplot-Untermodul](https://matplotlib.org/3.2.1/api/_as_gen/matplotlib.pyplot.html) im Weiteren benötigt. Als Konvention hat sich das Kürzel `plt` für dieses Modul etabliert."
   ]
  },
  {
   "cell_type": "code",
   "execution_count": 1,
   "metadata": {},
   "outputs": [],
   "source": [
    "import matplotlib.pyplot as plt"
   ]
  },
  {
   "cell_type": "markdown",
   "metadata": {},
   "source": [
    "In folgenden Teilen des Skripts ist mit der Abkürzung `plt` immer `matplotlib.pyplot` gemeint."
   ]
  },
  {
   "cell_type": "markdown",
   "metadata": {},
   "source": [
    "## Aufbau einer Graphik"
   ]
  },
  {
   "cell_type": "markdown",
   "metadata": {},
   "source": [
    "Folgende Schritte sind zur Erstellung einer Graphik nötig:\n",
    "\n",
    "1. (optional) Definition der Rahmenbedingungen der Graphik, z.B. Größe\n",
    "1. Definition der Graphikelemente\n",
    "1. Ausgabe auf dem Bildschirm oder in eine Datei"
   ]
  },
  {
   "cell_type": "markdown",
   "metadata": {},
   "source": [
    "Anhand des folgenden Beispiels werden die einzelnen Schritte erläutert. Aufgrund der Interaktion zwischen Jupyter und matplotlib, empfiehlt es sich alle Schritte in einer einzelnen Zelle auszuführen."
   ]
  },
  {
   "cell_type": "code",
   "execution_count": 2,
   "metadata": {},
   "outputs": [
    {
     "data": {
      "image/png": "[encoded data removed]",
      "text/plain": [
       "<Figure size 600x300 with 1 Axes>"
      ]
     },
     "metadata": {
      "needs_background": "light"
     },
     "output_type": "display_data"
    }
   ],
   "source": [
    "# (optionale) Zusatzinformationen für die Graphik\n",
    "plt.figure(figsize=(6,3), dpi=100)\n",
    "\n",
    "# Definition der Graphikelemente \n",
    "werte = [1, 2, 4, 7, 7, 8, 6, 4, 2, 1, 0, 0]\n",
    "plt.plot(werte, '-o')\n",
    "\n",
    "# Speichern in Datei, z.B. als PDF\n",
    "plt.savefig('einfache_graphik.pdf')\n",
    "\n",
    "# Ausgabe der Graphik, nicht notwendig in Jupyter\n",
    "# plt.show()"
   ]
  },
  {
   "cell_type": "markdown",
   "metadata": {},
   "source": [
    "Der erste Schritt ist optional und ermöglicht z.B. das Festlegen der Graphikgröße oder -auflösung. Neben der `figure`-Funktion, stehen weitere Funktionen bereit, welche beispielsweise für die Erstellung von multiplen Abbildungen verwendet werden können."
   ]
  },
  {
   "cell_type": "markdown",
   "metadata": {},
   "source": [
    "Um mit der `figure`-Funktion die Bildgröße anzupassen, kann das Argument `figsize` verwendet werden, hier wird die Bildgröße als 2er-Tupel in Zoll angegeben. Die Auflösung der Graphik wird in DPI (dots per inch) über das Argument `dpi` definiert. "
   ]
  },
  {
   "cell_type": "markdown",
   "metadata": {},
   "source": [
    "Ein notwendiger Schritt ist der Aufbau der Elemente der Graphik. Hier werden beispielsweise Datenpunkte definiert, Beschriftungen angegeben oder eine Legende erzeugt. Als einfaches Beispiel wird oben eine Werteliste (`werte`) als mit Linien verbundene Punkte mit der `plot`-Methode dargestellt."
   ]
  },
  {
   "cell_type": "markdown",
   "metadata": {},
   "source": [
    "In allgemeinen Python-Skripten ist das explizite Anzeigen der Graphik mit der `show`-Methode notwendig. In Jupyter erfolgt dies automatisch am Ende der Ausführung einer Zelle. Neben der Ausgabe auf dem Bildschirm, kann eine Graphik auch als Datei gespeichert werden. Dazu wird die `savefig`-Methode verwendet, welche als Argument den Dateinamen bekommt. Das Bildformat wird anhand der Dateiendung automatisch ermittelt. Grundsätzlich empfiehlt es sich Vektorformate wie PDF oder SVG zu verwenden. Die im obigen Beispiel erstellte Graphik ist als [PDF-Datei](einfache_graphik.pdf) abgespeichert."
   ]
  },
  {
   "cell_type": "markdown",
   "metadata": {},
   "source": [
    "Fast alle obigen Funktionen geben als Rückgabewerte Objekte zurück. Diese werden im Rahmen dieser Veranstaltung meist nicht benötigt und somit einfach ignoriert. Jupyter gibt grundsätzlich den Rückgabewert des letzten Ausdrucks zurück. Diese Ausgabe kann mit einem `;` nach dem Ausdruck unterdrückt werden.  "
   ]
  }
 ],
 "metadata": {
  "kernelspec": {
   "display_name": "Python 3",
   "language": "python",
   "name": "python3"
  },
  "language_info": {
   "codemirror_mode": {
    "name": "ipython",
    "version": 3
   },
   "file_extension": ".py",
   "mimetype": "text/x-python",
   "name": "python",
   "nbconvert_exporter": "python",
   "pygments_lexer": "ipython3",
   "version": "3.7.5"
  }
 },
 "nbformat": 4,
 "nbformat_minor": 4
}
