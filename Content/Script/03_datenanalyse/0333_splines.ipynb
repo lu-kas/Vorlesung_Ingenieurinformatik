{
 "cells": [
  {
   "cell_type": "markdown",
   "metadata": {},
   "source": [
    "# Splines"
   ]
  },
  {
   "cell_type": "markdown",
   "metadata": {},
   "source": [
    "Polynominterpolation versucht eine globale Modellfunktion zu finden. Jedoch eignen sich Polynome mit hohen Graden im allgemeinen nicht für eine Interpolation vieler Punkte. Einen anderen Ansatz verfolgen Splines. Diese sind Polynomzüge, welche die einzelnen Messpunkte verbinden und deren Grad klein – typischerweise zwischen eins und drei – ist. "
   ]
  },
  {
   "cell_type": "markdown",
   "metadata": {},
   "source": [
    "## Definition"
   ]
  },
  {
   "cell_type": "markdown",
   "metadata": {},
   "source": [
    "Für $\\sf n+1$ Messpunkte $\\sf (x_i, y_i)$ kann eine Splinefunktion $\\sf s_k$, hier ein Polynomspline, wie folgt definiert werden.\n",
    "\n",
    "* Vorausgesetzt ist, dass die Messpunkte sortiert sind, d.h. $\\sf x_0 < x_1 < \\cdots < x_n$\n",
    "* für jedes $\\sf i = 0\\dots n − 1$ ist $\\sf s_k$ ein Polynom vom Grad $\\sf k$ auf dem Intervall $\\sf \\left[x_i , x_{i+1}\\right]$\n",
    "* $\\sf s_k$ ist auf $\\sf \\left[x_0 , x_n \\right]$ $\\sf (k − 1)$-mal stetig differenzierbar\n",
    "\n",
    "Beispiele:\n",
    "* $\\sf k = 1$: Polygonzug\n",
    "* $\\sf k = 3$: kubische Polynomsplines (B-Splines)"
   ]
  },
  {
   "cell_type": "markdown",
   "metadata": {},
   "source": [
    "## Kubische Splines"
   ]
  },
  {
   "cell_type": "markdown",
   "metadata": {},
   "source": [
    "Die in der Praxis häufig eingesetzten kubischen Polynomsplines $\\sf s_3$ ($\\sf k= 3$) haben folgende Eigenschaften:\n",
    "* $\\sf s_3|\\left[x_i,x_{i+1}\\right] = \\beta_0 +\\beta_1 x + \\beta_2 x^2 + \\beta_3 x^3$\n",
    "* $\\sf s_3$ ist zweimal stetig differenzierbar auf $\\sf \\left[x0,xn\\right]$, also insbesondere an den\n",
    "Stützpunkten $\\sf x_i$ der Messpunkte "
   ]
  },
  {
   "cell_type": "markdown",
   "metadata": {},
   "source": [
    "Die Koeffizienten $\\sf \\beta_i$ werden wie folgt bestimmt\n",
    "* aus den $\\sf n + 1$ Messpunkten ergeben sich $\\sf n$ Intervalle, d.h. mit jeweils vier Koeffizienten sind es insgesamt $\\sf 4n$ Koeffizienten\n",
    "* Exakte Darstellung der Messpunkte ($\\sf n + 1$ Gleichungen), d.h.: $\\sf s_3(x_i) = y_i$\n",
    "* Glattheitsbedingungen an den inneren Messpunkten ($\\sf i=1\\dots n-1$), mit jeweils ($\\sf n − 1$ Gleichungen):\n",
    "$$\\sf s_3(x_i)_- =s_3(x_i)_+$$\n",
    "$$\\sf s_3'(x_i)_- =s_3'(x_i)_+$$\n",
    "$$\\sf s_3''(x_i)_- =s_3''(x_i)_+$$\n",
    "\n",
    "* Damit sind es $\\sf 4n − 2$ Gleichungen für $\\sf 4n$ Koeffizienten"
   ]
  },
  {
   "cell_type": "markdown",
   "metadata": {},
   "source": [
    "Um die beiden fehlenden Gleichungen zu finden bzw. zu bestimmen werden Randbedingungen oder Abschlussbedingungen benötigt.\n",
    "Die gängigsten Bedingungen sind:\n",
    "* natürliche Splines: die Krümung am Rand verschwindet, d.h.:\n",
    "$$\\sf s_3''(x_0) = s_3''(x_n) = 0 $$\n",
    "* periodische Splines: die Steigung und Krümung ist an beiden Rändern gleich\n",
    "$$\\sf s_3'(x_0) = s_3'(x_n)$$ \n",
    "$$\\sf s_3''(x_0) = s_3''(x_n)$$\n",
    "* Hermite Splines: die Steigungen am Rand werden explizit vorgegeben (hier durch $\\sf u$ und $\\sf v$)\n",
    "$$\\sf s_3'(x_0) = u $$\n",
    "$$\\sf s_3'(x_n) = v $$"
   ]
  }
 ],
 "metadata": {
  "kernelspec": {
   "display_name": "Python 3",
   "language": "python",
   "name": "python3"
  },
  "language_info": {
   "codemirror_mode": {
    "name": "ipython",
    "version": 3
   },
   "file_extension": ".py",
   "mimetype": "text/x-python",
   "name": "python",
   "nbconvert_exporter": "python",
   "pygments_lexer": "ipython3",
   "version": "3.8.3"
  }
 },
 "nbformat": 4,
 "nbformat_minor": 4
}
