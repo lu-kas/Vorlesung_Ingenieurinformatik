{
 "cells": [
  {
   "cell_type": "markdown",
   "metadata": {},
   "source": [
    "# Modellierung"
   ]
  },
  {
   "cell_type": "markdown",
   "metadata": {},
   "source": [
    "Die Modllierug von Daten hat das Ziel eine Mange von Daten durch einen funktionalen Zusammenhang abzubilden. Beispielhalft können Daten aus Experimenten oder Simulationen stark verrauscht sein und so für eine Weiterverarbeitung nicht geeignet sein. Eine mittelnde Funktion kann den Datensatz stark vereinfachen. Oder es existieren nur wenige Datenpunkte und die Zwischenstellen müssen durch eine Funktion bestimmt werden.   "
   ]
  },
  {
   "cell_type": "markdown",
   "metadata": {},
   "source": [
    "Generell kann die Modellierung von Daten auf folgendes Problem verallgemeinert werden:\n",
    "1. Gegeben sind $\\sf n$ Messpunktpaare $\\sf (x_i, y_i)$ mit $\\sf x_i, y_i \\in \\mathbb(R)$\n",
    "2. Gesucht ist eine Modellfunktion $\\sf y(x)$, welche die Messpunktpaare approximiert"
   ]
  },
  {
   "cell_type": "markdown",
   "metadata": {},
   "source": [
    "Ein möglicher Ansatz ist die Darstellung der Modellfunktion als Summe von $\\sf m$ Basisfunktionen $\\sf \\phi_i(x)$ mit den Koeffizienten $\\sf \\beta_i$. \n",
    "\n",
    "$$ \\sf y(x) = \\sum_{i=1}^{m}\\beta_i \\cdot \\phi_i(x) = \\beta_1\\cdot \\phi_1(x) + \\cdots + \\beta_m\\cdot \\phi_m(x) $$\n",
    "\n",
    "Die Koeffizienten $\\sf \\beta_i$ müssen dabei so bestimmt werden, dass $\\sf y(x)$ so gut wie möglich – oder gar exakt – die Messpunkte approximieren. "
   ]
  },
  {
   "cell_type": "markdown",
   "metadata": {},
   "source": [
    "Als Abstandmaß zwischen einer Modellfunktion und den Messpunkten kann die [L2-Norm](https://de.wikipedia.org/wiki/Folgenraum#lp) verwendet werden. Diese ist definiert als\n",
    "\n",
    "$$ \\sf || y(x) - (x_i, y_i) ||_2 = \\sum_{i=1}^n \\left(y(x_i) - y_i\\right)^2 $$"
   ]
  }
 ],
 "metadata": {
  "kernelspec": {
   "display_name": "Python 3",
   "language": "python",
   "name": "python3"
  },
  "language_info": {
   "codemirror_mode": {
    "name": "ipython",
    "version": 3
   },
   "file_extension": ".py",
   "mimetype": "text/x-python",
   "name": "python",
   "nbconvert_exporter": "python",
   "pygments_lexer": "ipython3",
   "version": "3.8.3"
  }
 },
 "nbformat": 4,
 "nbformat_minor": 4
}
