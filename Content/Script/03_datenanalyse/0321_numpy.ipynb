{
 "cells": [
  {
   "cell_type": "markdown",
   "metadata": {},
   "source": [
    "# numpy-Modul"
   ]
  },
  {
   "cell_type": "markdown",
   "metadata": {},
   "source": [
    "Das [numpy-Modul](https://numpy.org/) stellt eine für numerische Operationen optimierte Datenstruktur, die numpy-Arrays, welche im Folgenden einfach nur Arrays genannt werden, zur Verfügung. Darüber hinaus werden viele Funktionen, wie der Erzeugung von Zufallszahlen oder die numerische Integration, bereit gestellt. Auch sind effiziente Löser für beispielsweise lineare Gleichungssystem in diesem Modul integriert. "
   ]
  },
  {
   "cell_type": "markdown",
   "metadata": {},
   "source": [
    "Beim Importieren des numpy-Moduls hat sich die Abkürzung `np` durchgesetzt, welche in diesem Skrip auch verwendet wird. "
   ]
  },
  {
   "cell_type": "code",
   "execution_count": 1,
   "metadata": {},
   "outputs": [],
   "source": [
    "import numpy as np"
   ]
  },
  {
   "cell_type": "markdown",
   "metadata": {},
   "source": [
    "Der Zugriff auf das Modul erfolgt wie üblich über z.B."
   ]
  },
  {
   "cell_type": "code",
   "execution_count": 2,
   "metadata": {},
   "outputs": [
    {
     "name": "stdout",
     "output_type": "stream",
     "text": [
      "Wert von Pi im numpy-Modul: 3.141592653589793\n"
     ]
    }
   ],
   "source": [
    "print(\"Wert von Pi im numpy-Modul:\", np.pi)"
   ]
  }
 ],
 "metadata": {
  "kernelspec": {
   "display_name": "Python 3",
   "language": "python",
   "name": "python3"
  },
  "language_info": {
   "codemirror_mode": {
    "name": "ipython",
    "version": 3
   },
   "file_extension": ".py",
   "mimetype": "text/x-python",
   "name": "python",
   "nbconvert_exporter": "python",
   "pygments_lexer": "ipython3",
   "version": "3.8.3"
  }
 },
 "nbformat": 4,
 "nbformat_minor": 4
}
