{
 "cells": [
  {
   "cell_type": "markdown",
   "metadata": {},
   "source": [
    "# Eindimensionale Daten"
   ]
  },
  {
   "cell_type": "code",
   "execution_count": null,
   "metadata": {
    "tags": [
     "hide_input"
    ]
   },
   "outputs": [],
   "source": [
    "import matplotlib.pyplot as plt"
   ]
  },
  {
   "cell_type": "markdown",
   "metadata": {},
   "source": [
    "## Liniendiagramme"
   ]
  },
  {
   "cell_type": "markdown",
   "metadata": {},
   "source": [
    "Eine der am häufigsten verwendeten Darstellungsformen sind Liniendiagramme. Diese werden mit der Funktion `plt.plot` erstellt. Eine ausführliche Dokumentation finden Sie [hier](https://matplotlib.org/3.2.1/api/_as_gen/matplotlib.pyplot.plot.html#matplotlib.pyplot.plot). Im Folgenden werden die Grundfunktionen von `plt.plot` kurz zusammengefasst.  "
   ]
  },
  {
   "cell_type": "markdown",
   "metadata": {},
   "source": [
    "Grundsätzlich werden zwei Listen übergeben, wobei die erste die x-Werte und die zweite die y-Werte der abzubildenden Daten enthalten. Wird nur eine Liste übergeben, so werden diese als y-Werte interpretiert und gegen ihren Index aufgetragen."
   ]
  },
  {
   "cell_type": "code",
   "execution_count": null,
   "metadata": {
    "tags": [
     "hide_input"
    ]
   },
   "outputs": [],
   "source": [
    "werte = [1, 2, 4, 7, 7, 8, 6, 4, 2, 1, 0, 0]"
   ]
  },
  {
   "cell_type": "code",
   "execution_count": null,
   "metadata": {},
   "outputs": [],
   "source": [
    "plt.plot(werte);"
   ]
  },
  {
   "cell_type": "code",
   "execution_count": null,
   "metadata": {
    "tags": [
     "hide_input"
    ]
   },
   "outputs": [],
   "source": [
    "x = [-3.5, -3, -2, -1.5, -1.0, 2.2, 2.5, 3.5]\n",
    "y = []\n",
    "for cx in x:\n",
    "    y.append(cx**3)"
   ]
  },
  {
   "cell_type": "code",
   "execution_count": null,
   "metadata": {},
   "outputs": [],
   "source": [
    "plt.plot(x, y);"
   ]
  },
  {
   "cell_type": "markdown",
   "metadata": {},
   "source": [
    "Die Linienart kann mit dem Argument `linestyle` bzw. in kurz `ls` angepasst werden:\n",
    "\n",
    "| `linestyle` | Liniendarstellung |\n",
    "| :--: | :--: |\n",
    "| `-` oder `solid` | durchgezogen |\n",
    "| `--` oder `dashed` | gestrichelt |\n",
    "| `:` oder `dotted` | gepunktet |\n",
    "| `:-` oder `dashdot` | gestrichelt und gepunktet |\n",
    "| ` ` oder `None` | keine |"
   ]
  },
  {
   "cell_type": "code",
   "execution_count": null,
   "metadata": {},
   "outputs": [],
   "source": [
    "plt.plot(x, y, ls=':');"
   ]
  },
  {
   "cell_type": "markdown",
   "metadata": {},
   "source": [
    "Daruber hinaus können die Punkte, welche durch die Linien verbunden werden, als Marker dargestellt werden. Dies erfolgt über das `marker` Argument. Eine Auswahl ist in folgender Tabelle gegeben.\n",
    "\n",
    "| `marker` | Punktedarstellung |\n",
    "| :--: | :--: |\n",
    "| `.` | Punkt |\n",
    "| `o` | Kreis |\n",
    "| `s` | Quadrat |\n",
    "| `+` | Pluszeichen |\n",
    "| `x` | x-Zeichen |\n",
    "| `D` | Diamantform |\n",
    "\n",
    "Die Größe der Marker kann mit dem Argument `markersize` gesetzt werden."
   ]
  },
  {
   "cell_type": "code",
   "execution_count": null,
   "metadata": {},
   "outputs": [],
   "source": [
    "plt.plot(x, y, ls='--', marker='s');"
   ]
  },
  {
   "cell_type": "markdown",
   "metadata": {},
   "source": [
    "Die Linienstärke kann mit dem Argument `linewidth` bzw. `lw` angegeben werden."
   ]
  },
  {
   "cell_type": "code",
   "execution_count": null,
   "metadata": {},
   "outputs": [],
   "source": [
    "plt.plot(x, y, ls='-', lw=4, marker='s', markersize=10);"
   ]
  },
  {
   "cell_type": "markdown",
   "metadata": {},
   "source": [
    "## Punktwolken"
   ]
  },
  {
   "cell_type": "markdown",
   "metadata": {},
   "source": [
    "Sollen Punktdaten, d.h. ohne eine verbindende Linie, dargestellt werden, kann dazu die [`plt.scatter` Funktion](https://matplotlib.org/3.2.1/api/_as_gen/matplotlib.pyplot.scatter.html#matplotlib.pyplot.scatter) genutzt werden. Diese bekommt immer zwei Argumente, die x- und y-Positionen der Punkte. Darüber hinaus ist es hier möglich die Größe und Farbe der Punkte anzugeben."
   ]
  },
  {
   "cell_type": "code",
   "execution_count": null,
   "metadata": {
    "tags": [
     "hide_input"
    ]
   },
   "outputs": [],
   "source": [
    "import math as m\n",
    "\n",
    "# das random-Modul kann z.B. Zufallszahlen erzeugen\n",
    "import random"
   ]
  },
  {
   "cell_type": "code",
   "execution_count": null,
   "metadata": {
    "tags": [
     "hide_input"
    ]
   },
   "outputs": [],
   "source": [
    "n = 1000\n",
    "px = []\n",
    "py = []\n",
    "pr = []\n",
    "for i in range(n):\n",
    "    cx = m.sin(i)\n",
    "    cy = m.cos(i)\n",
    "    cr = random.random() # m.exp(-i*i/10000)\n",
    "    px.append(cr * cx)\n",
    "    py.append(cr * cy)\n",
    "    pr.append(cr*20)"
   ]
  },
  {
   "cell_type": "code",
   "execution_count": null,
   "metadata": {},
   "outputs": [],
   "source": [
    "plt.figure(figsize=(4,4), dpi=100)\n",
    "plt.scatter(px, py);"
   ]
  },
  {
   "cell_type": "markdown",
   "metadata": {},
   "source": [
    "Das Argument `s` erlaubt die Anpassung der Größe der Punkte. Wird nur ein einziger Wert angegeben, gilt dieser für jeden Punkt, alternativ kann mit Hilfe einer Liste für jeden Punkt individuell eine Größe festgelegt werden. Die Liste muss entsprechend genauso viele Elemente beinhalten wie Datenpunkte vorhanden sind."
   ]
  },
  {
   "cell_type": "code",
   "execution_count": null,
   "metadata": {},
   "outputs": [],
   "source": [
    "plt.figure(figsize=(4,4), dpi=100)\n",
    "plt.scatter(px, py, s=pr);"
   ]
  },
  {
   "cell_type": "markdown",
   "metadata": {},
   "source": [
    "## Balkendiagramme"
   ]
  },
  {
   "cell_type": "markdown",
   "metadata": {},
   "source": [
    "Mit der [Funktion `plt.bar`](https://matplotlib.org/3.2.1/api/_as_gen/matplotlib.pyplot.bar.html#matplotlib.pyplot.bar) können Balkendiagramme erstellt werden. Sie benötigt mindestens zwei Argumente: die Position der Balken und deren Höhe."
   ]
  },
  {
   "cell_type": "code",
   "execution_count": null,
   "metadata": {
    "tags": [
     "hide_input"
    ]
   },
   "outputs": [],
   "source": [
    "bx = list(range(5,15))\n",
    "bh = []\n",
    "for cx in bx:\n",
    "    bh.append(cx**4/10000)"
   ]
  },
  {
   "cell_type": "code",
   "execution_count": null,
   "metadata": {},
   "outputs": [],
   "source": [
    "plt.bar(bx, bh);"
   ]
  }
 ],
 "metadata": {
  "kernelspec": {
   "display_name": "Python 3",
   "language": "python",
   "name": "python3"
  },
  "language_info": {
   "codemirror_mode": {
    "name": "ipython",
    "version": 3
   },
   "file_extension": ".py",
   "mimetype": "text/x-python",
   "name": "python",
   "nbconvert_exporter": "python",
   "pygments_lexer": "ipython3",
   "version": "3.7.5"
  }
 },
 "nbformat": 4,
 "nbformat_minor": 4
}
