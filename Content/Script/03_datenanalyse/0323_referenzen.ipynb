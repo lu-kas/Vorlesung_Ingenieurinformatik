{
 "cells": [
  {
   "cell_type": "markdown",
   "metadata": {},
   "source": [
    "# Referenzen"
   ]
  },
  {
   "cell_type": "markdown",
   "metadata": {},
   "source": [
    "Ein wichtiger Aspekt beim Arbieten mit Arrays – und auch mit Listen bzw. im Allgemeinen veränderbaren Datentypen – sind Referenzen. "
   ]
  },
  {
   "cell_type": "code",
   "execution_count": 17,
   "metadata": {
    "tags": [
     "hide_input"
    ]
   },
   "outputs": [],
   "source": [
    "import numpy as np\n",
    "np.set_printoptions(precision=2, linewidth=65)"
   ]
  },
  {
   "cell_type": "markdown",
   "metadata": {},
   "source": [
    "## Motivation"
   ]
  },
  {
   "cell_type": "markdown",
   "metadata": {},
   "source": [
    "Im folgenden Beispiel wird ein Teilbereich eines Arrays als Variable gespeichert."
   ]
  },
  {
   "cell_type": "code",
   "execution_count": 66,
   "metadata": {},
   "outputs": [],
   "source": [
    "original = np.arange(5, 15, 1.0)\n",
    "bereich = original[3:8]"
   ]
  },
  {
   "cell_type": "markdown",
   "metadata": {},
   "source": [
    "Mit den entsprechenden Formen:"
   ]
  },
  {
   "cell_type": "code",
   "execution_count": 67,
   "metadata": {},
   "outputs": [
    {
     "name": "stdout",
     "output_type": "stream",
     "text": [
      "(10,)\n",
      "(5,)\n"
     ]
    }
   ],
   "source": [
    "print( original.shape )\n",
    "print( bereich.shape )"
   ]
  },
  {
   "cell_type": "markdown",
   "metadata": {},
   "source": [
    "Wird nun auf den Teilbereich zugegriffen, wird auch das Original verändert, da die Variable `bereich` nur eine Referenz, d.h. ein Zeiger oder Hinweis, auf eine andere Position ist."
   ]
  },
  {
   "cell_type": "code",
   "execution_count": 70,
   "metadata": {},
   "outputs": [
    {
     "name": "stdout",
     "output_type": "stream",
     "text": [
      "[ 5.  6.  7.  8.  9. 10. 11. 12. 13. 14.]\n",
      "[ 8.  9. 10. 11. 12.]\n"
     ]
    }
   ],
   "source": [
    "print( original )\n",
    "print( bereich )"
   ]
  },
  {
   "cell_type": "code",
   "execution_count": 71,
   "metadata": {},
   "outputs": [],
   "source": [
    "bereich[:] = -12"
   ]
  },
  {
   "cell_type": "code",
   "execution_count": 72,
   "metadata": {},
   "outputs": [
    {
     "name": "stdout",
     "output_type": "stream",
     "text": [
      "[  5.   6.   7. -12. -12. -12. -12. -12.  13.  14.]\n",
      "[-12. -12. -12. -12. -12.]\n"
     ]
    }
   ],
   "source": [
    "print( original )\n",
    "print( bereich )"
   ]
  },
  {
   "cell_type": "markdown",
   "metadata": {},
   "source": [
    "Es ist nicht möglich direkt abzulesen ob eine Variable als Referenz auf einen (Teil eines) Arrays verweist. Einig mit der Funktion `np.shares_memory` ist eine Überlappung des addressierten Speicherbereichs abfragbar. Ist diese Überlappung gegeben, so zeigen beide Variablen auf gleiche (Teil-) Bereiche. "
   ]
  },
  {
   "cell_type": "code",
   "execution_count": 68,
   "metadata": {},
   "outputs": [
    {
     "name": "stdout",
     "output_type": "stream",
     "text": [
      "True\n"
     ]
    }
   ],
   "source": [
    "print( np.shares_memory(original, bereich) )"
   ]
  },
  {
   "cell_type": "markdown",
   "metadata": {},
   "source": [
    "Und als Gegenprobe der Vergleich mit einem neu angelegten Array."
   ]
  },
  {
   "cell_type": "code",
   "execution_count": 69,
   "metadata": {},
   "outputs": [
    {
     "name": "stdout",
     "output_type": "stream",
     "text": [
      "False\n"
     ]
    }
   ],
   "source": [
    "weiteres_array = np.arange(5, 15, 1.0)\n",
    "print( np.shares_memory(weiteres_array, bereich) )"
   ]
  },
  {
   "cell_type": "markdown",
   "metadata": {},
   "source": [
    "## Kopien"
   ]
  },
  {
   "cell_type": "markdown",
   "metadata": {},
   "source": [
    "Soll auf dem Indexbereich gearbeitet werden und dabei die Werte verändert werden können ohne das Original zu ändern, muss eine Kopie erstellt werden. Dazu kann die `np.copy`-Funktion verwendet werden."
   ]
  },
  {
   "cell_type": "code",
   "execution_count": 73,
   "metadata": {},
   "outputs": [
    {
     "name": "stdout",
     "output_type": "stream",
     "text": [
      "False\n"
     ]
    }
   ],
   "source": [
    "bereich = np.copy(original[3:8])\n",
    "print( np.shares_memory(original, bereich) )"
   ]
  },
  {
   "cell_type": "code",
   "execution_count": 76,
   "metadata": {},
   "outputs": [
    {
     "name": "stdout",
     "output_type": "stream",
     "text": [
      "[  5.   6.   7. -12. -12. -12. -12. -12.  13.  14.]\n",
      "[0. 0. 0. 0. 0.]\n"
     ]
    }
   ],
   "source": [
    "print( original )\n",
    "print( bereich )"
   ]
  },
  {
   "cell_type": "code",
   "execution_count": 77,
   "metadata": {},
   "outputs": [],
   "source": [
    "bereich[:] = 0"
   ]
  },
  {
   "cell_type": "code",
   "execution_count": 78,
   "metadata": {},
   "outputs": [
    {
     "name": "stdout",
     "output_type": "stream",
     "text": [
      "[  5.   6.   7. -12. -12. -12. -12. -12.  13.  14.]\n",
      "[0. 0. 0. 0. 0.]\n"
     ]
    }
   ],
   "source": [
    "print( original )\n",
    "print( bereich )"
   ]
  },
  {
   "cell_type": "markdown",
   "metadata": {},
   "source": [
    "Der Vorteil von Referenzen ist, dass unnötige Kopien nicht gemacht werden müssen. Insbesondere bei großen Datenmengen wird so der Speicher- und Rechenbedarf deutlich reduziert."
   ]
  },
  {
   "cell_type": "markdown",
   "metadata": {},
   "source": [
    "## Funktionen"
   ]
  },
  {
   "cell_type": "markdown",
   "metadata": {},
   "source": [
    "Auch beim Aufruf von Funktionen spielen Referenzen eine wichtige Rolle. Die folgende Funktion verdeutlicht dies."
   ]
  },
  {
   "cell_type": "code",
   "execution_count": 3,
   "metadata": {},
   "outputs": [],
   "source": [
    "# Funktion zum nullen von negativen Werten aus einer Liste\n",
    "def entferne_negative(liste):\n",
    "    ergebnis = liste\n",
    "    for i in range(len(ergebnis)):\n",
    "        if ergebnis[i] < 0:\n",
    "            ergebnis[i] = 0\n",
    "    return ergebnis"
   ]
  },
  {
   "cell_type": "markdown",
   "metadata": {},
   "source": [
    "Gegeben sei eine Werteliste, welche auch negative Einträge hat. Die obige Funktion wird eine Liste zurückgeben, welche diese zu Null umgewandelt hat."
   ]
  },
  {
   "cell_type": "code",
   "execution_count": 10,
   "metadata": {},
   "outputs": [
    {
     "name": "stdout",
     "output_type": "stream",
     "text": [
      "[4, 8, -3, -1, 11, 2]\n"
     ]
    }
   ],
   "source": [
    "werte = [4, 8, -3, -1, 11, 2]\n",
    "print( werte )"
   ]
  },
  {
   "cell_type": "markdown",
   "metadata": {},
   "source": [
    "Die Anwendung der Funktion auf die Werteliste und Ausgabe des Ergebnisses:"
   ]
  },
  {
   "cell_type": "code",
   "execution_count": 11,
   "metadata": {},
   "outputs": [
    {
     "name": "stdout",
     "output_type": "stream",
     "text": [
      "[4, 8, 0, 0, 11, 2]\n"
     ]
    }
   ],
   "source": [
    "res = entferne_negative(werte)\n",
    "\n",
    "print( res )"
   ]
  },
  {
   "cell_type": "markdown",
   "metadata": {},
   "source": [
    "Da aber in der Funktion implizit immer mit einer Referenz gearbeitet wurde, ist die originale Werteliste auch geändert."
   ]
  },
  {
   "cell_type": "code",
   "execution_count": 12,
   "metadata": {},
   "outputs": [
    {
     "name": "stdout",
     "output_type": "stream",
     "text": [
      "[4, 8, 0, 0, 11, 2]\n"
     ]
    }
   ],
   "source": [
    "print( werte )"
   ]
  },
  {
   "cell_type": "markdown",
   "metadata": {},
   "source": [
    "Ist dieses Verhalten nicht gewünscht, so kann auch in diesem Fall eine explizite Kopie zum Erhalt der übergebenen Werte führen. Hierzu stellt das copy-Modul eine entsprechende Funktion zum Kopieren von z.B. Listen bereit. "
   ]
  },
  {
   "cell_type": "code",
   "execution_count": 14,
   "metadata": {},
   "outputs": [],
   "source": [
    "import copy\n",
    "\n",
    "# Obige Funktion mit Kopie\n",
    "def entferne_negative_copy(liste):\n",
    "    ergebnis = copy.copy(liste)\n",
    "    for i in range(len(ergebnis)):\n",
    "        if ergebnis[i] < 0:\n",
    "            ergebnis[i] = 0\n",
    "    return ergebnis"
   ]
  },
  {
   "cell_type": "code",
   "execution_count": 16,
   "metadata": {},
   "outputs": [
    {
     "name": "stdout",
     "output_type": "stream",
     "text": [
      "[4, 8, 0, 0, 11, 2]\n",
      "[4, 8, -3, -1, 11, 2]\n"
     ]
    }
   ],
   "source": [
    "werte = [4, 8, -3, -1, 11, 2]\n",
    "res = entferne_negative_copy(werte)\n",
    "print( res )\n",
    "print( werte )"
   ]
  }
 ],
 "metadata": {
  "kernelspec": {
   "display_name": "Python 3",
   "language": "python",
   "name": "python3"
  },
  "language_info": {
   "codemirror_mode": {
    "name": "ipython",
    "version": 3
   },
   "file_extension": ".py",
   "mimetype": "text/x-python",
   "name": "python",
   "nbconvert_exporter": "python",
   "pygments_lexer": "ipython3",
   "version": "3.8.3"
  }
 },
 "nbformat": 4,
 "nbformat_minor": 4
}
