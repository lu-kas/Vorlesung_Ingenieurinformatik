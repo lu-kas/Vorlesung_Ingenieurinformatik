{
 "cells": [
  {
   "cell_type": "markdown",
   "metadata": {},
   "source": [
    "# numpy-Arrays"
   ]
  },
  {
   "cell_type": "markdown",
   "metadata": {},
   "source": [
    "Die Datenstruktur, welche bei der Verwendung von Python für numerische Analysen bzw. Berechnungen verwendet wird, sind die numpy-Arrays. Im Gegensatz zu Listen, haben sie eine feste Länge und können n-dimensional sein. Der Vorteil der festen Längen und der Einschränkung auf einen festgelegten Datentyp ist die schnelle Verarbeitung und Speichereffizienz. Der Standarddatentyp sind 64-bit-Gleitkommazahlen."
   ]
  },
  {
   "cell_type": "code",
   "execution_count": 62,
   "metadata": {
    "tags": [
     "hide_input"
    ]
   },
   "outputs": [],
   "source": [
    "import numpy as np\n",
    "np.set_printoptions(precision=2, linewidth=65)\n",
    "\n",
    "import matplotlib.pyplot as plt"
   ]
  },
  {
   "cell_type": "markdown",
   "metadata": {},
   "source": [
    "## Erzeugung"
   ]
  },
  {
   "cell_type": "markdown",
   "metadata": {},
   "source": [
    "Arrays können beispielsweise explizit aus Listen mit der `np.array`-Funktion erstellt werden."
   ]
  },
  {
   "cell_type": "code",
   "execution_count": 34,
   "metadata": {},
   "outputs": [
    {
     "name": "stdout",
     "output_type": "stream",
     "text": [
      "Liste:\n",
      "  Typ: <class 'list'>\n",
      "  Werte: [5, 3.4, -44.8, 34.1, -0.04]\n",
      "\n",
      "Array:\n",
      "  Typ: <class 'numpy.ndarray'>\n",
      "  Werte: [ 5.00e+00  3.40e+00 -4.48e+01  3.41e+01 -4.00e-02]\n"
     ]
    }
   ],
   "source": [
    "l1 = [5, 3.4, -44.8, 34.1, -0.04]\n",
    "a1 = np.array(l1)\n",
    "\n",
    "print(\"Liste:\")\n",
    "print(\"  Typ:\", type(l1))\n",
    "print(\"  Werte:\", l1)\n",
    "print()\n",
    "print(\"Array:\")\n",
    "print(\"  Typ:\", type(a1))\n",
    "print(\"  Werte:\", a1)"
   ]
  },
  {
   "cell_type": "markdown",
   "metadata": {},
   "source": [
    "Der Typ der Arrayelemente ist in der Variablen `dtype` einer Arrayklasse gespreichert. In diesem Fall ist der Typ eine 64-bit-Gleikommazahl. Alle numpy Funktionen, welche Arrays erzeugen, können ein entsprechendes Argument aufnehmen um den Datentyp zu setzten. Eine Übersicht bietet die [numpy Dokumentation](https://numpy.org/doc/1.18/reference/arrays.scalars.html)."
   ]
  },
  {
   "cell_type": "code",
   "execution_count": 4,
   "metadata": {},
   "outputs": [
    {
     "name": "stdout",
     "output_type": "stream",
     "text": [
      "float64\n"
     ]
    }
   ],
   "source": [
    "print( a1.dtype )"
   ]
  },
  {
   "cell_type": "markdown",
   "metadata": {},
   "source": [
    "Da Arrays ihre Länge nicht bzw. nicht effektiv ändern können, muss diese bei der Erstellung festgelegt werden. Die einfachste Möglichkeit der Erstellung bietet beispielsweise die [Funktion `np.ones`](https://numpy.org/doc/1.18/reference/generated/numpy.ones.html) an. Sie bekommt als Argument ein Skalar oder ein Tupel, welche die Länge des (mehrdimensionalen) Arrays definieren.  "
   ]
  },
  {
   "cell_type": "code",
   "execution_count": 26,
   "metadata": {},
   "outputs": [
    {
     "name": "stdout",
     "output_type": "stream",
     "text": [
      "Eindimensionales Array:\n",
      "[1. 1. 1. 1. 1. 1. 1. 1. 1. 1.]\n"
     ]
    }
   ],
   "source": [
    "N = 10\n",
    "a2 = np.ones(N)\n",
    "\n",
    "print(\"Eindimensionales Array:\")\n",
    "print( a2 )"
   ]
  },
  {
   "cell_type": "code",
   "execution_count": 27,
   "metadata": {},
   "outputs": [
    {
     "name": "stdout",
     "output_type": "stream",
     "text": [
      "Zweidimensionales Array:\n",
      "[[1. 1. 1.]\n",
      " [1. 1. 1.]\n",
      " [1. 1. 1.]\n",
      " [1. 1. 1.]\n",
      " [1. 1. 1.]]\n"
     ]
    }
   ],
   "source": [
    "a3 = np.ones( (N//2, 3) )\n",
    "\n",
    "print(\"Zweidimensionales Array:\")\n",
    "print( a3 )"
   ]
  },
  {
   "cell_type": "markdown",
   "metadata": {},
   "source": [
    "Die Länge bzw. die Form des Arrays ist in der Variablen `shape` gespeichert. Sie liefert immer ein Tupel zurück, welches im eindimensionalen Fall entsprechend nur ein Element aufweist."
   ]
  },
  {
   "cell_type": "code",
   "execution_count": 28,
   "metadata": {},
   "outputs": [
    {
     "name": "stdout",
     "output_type": "stream",
     "text": [
      "Form des 1D-Arrays: (10,)\n",
      "Form des 2D-Arrays: (5, 3)\n"
     ]
    }
   ],
   "source": [
    "print( \"Form des 1D-Arrays:\", a2.shape )\n",
    "print( \"Form des 2D-Arrays:\", a3.shape )"
   ]
  },
  {
   "cell_type": "markdown",
   "metadata": {},
   "source": [
    "Strukturierte Arrays können mit den Funktionen [`np.arange`](https://numpy.org/doc/1.18/reference/generated/numpy.arange.html) und [`np.linspace`](https://numpy.org/doc/1.18/reference/generated/numpy.linspace.html) erzeugt werden. Die erste verhält sich änhlich zu der `range`-Funktion und erzeugt eine Abfolge von Werten im gegebenen Intervall mit einer definierten Schrittweite. "
   ]
  },
  {
   "cell_type": "code",
   "execution_count": 30,
   "metadata": {},
   "outputs": [
    {
     "name": "stdout",
     "output_type": "stream",
     "text": [
      "Form: (10,)\n",
      "Werte: [0.  0.3 0.6 0.9 1.2 1.5 1.8 2.1 2.4 2.7]\n"
     ]
    }
   ],
   "source": [
    "a4 = np.arange(0, 3, 0.3)\n",
    "\n",
    "print( \"Form:\", a4.shape )\n",
    "print( \"Werte:\", a4 )"
   ]
  },
  {
   "cell_type": "markdown",
   "metadata": {},
   "source": [
    "Die `np.linspace`-Funktion ist insbesondere bei der exakten diskretisierten Abbildung eines Wertebereich nützlich. Sie erzeugt ein Array, welches die Randwerte erhält und den Bereich mit einer gegebenen Anzahl an gleichverteilten Punkten.  "
   ]
  },
  {
   "cell_type": "code",
   "execution_count": 33,
   "metadata": {},
   "outputs": [
    {
     "name": "stdout",
     "output_type": "stream",
     "text": [
      "Form: (10,)\n",
      "Werte: [0.   0.33 0.67 1.   1.33 1.67 2.   2.33 2.67 3.  ]\n"
     ]
    }
   ],
   "source": [
    "a5 = np.linspace(0, 3, 10)\n",
    "\n",
    "print( \"Form:\", a5.shape )\n",
    "print( \"Werte:\", a5 )"
   ]
  },
  {
   "cell_type": "markdown",
   "metadata": {},
   "source": [
    "## Zugriff"
   ]
  },
  {
   "cell_type": "markdown",
   "metadata": {},
   "source": [
    "Der Zugriff auf die Elemente eines Arrays folgen der gleichen Syntax wie bei Zeichenketten oder Listen. "
   ]
  },
  {
   "cell_type": "code",
   "execution_count": 36,
   "metadata": {},
   "outputs": [
    {
     "name": "stdout",
     "output_type": "stream",
     "text": [
      "[1. 1. 1. 1. 1. 1. 1. 1. 1. 1.]\n"
     ]
    }
   ],
   "source": [
    "a6 = np.ones(10)\n",
    "print( a6 )"
   ]
  },
  {
   "cell_type": "markdown",
   "metadata": {},
   "source": [
    "Ein einzelnes Element kann über seinen Index, bei Null anfangend, angesprochen werden (*indexing*)."
   ]
  },
  {
   "cell_type": "code",
   "execution_count": 37,
   "metadata": {},
   "outputs": [
    {
     "name": "stdout",
     "output_type": "stream",
     "text": [
      "[1. 1. 1. 1. 1. 1. 1. 1. 8. 1.]\n"
     ]
    }
   ],
   "source": [
    "a6[8] = 8\n",
    "print( a6 )"
   ]
  },
  {
   "cell_type": "code",
   "execution_count": 38,
   "metadata": {},
   "outputs": [
    {
     "name": "stdout",
     "output_type": "stream",
     "text": [
      "[1. 1. 8. 1. 1. 1. 1. 1. 8. 1.]\n"
     ]
    }
   ],
   "source": [
    "a6[2] = a6[8]\n",
    "print( a6 )"
   ]
  },
  {
   "cell_type": "markdown",
   "metadata": {},
   "source": [
    "Auch Indexbereiche (*slicing*) können addressiert werden, indem der Start- und exklusive Endwert mit einem `:` getrennt werden. Werden sie weggelassen, so werden die entsprechenden Randindices verwendet. "
   ]
  },
  {
   "cell_type": "markdown",
   "metadata": {},
   "source": [
    "Ein skalarer Wert kann über einen Indexbereich mehreren Elementen gleichzeitig zugeordnet werden."
   ]
  },
  {
   "cell_type": "code",
   "execution_count": 10,
   "metadata": {},
   "outputs": [
    {
     "name": "stdout",
     "output_type": "stream",
     "text": [
      "[2. 2. 2. 2. 2. 2. 1. 1. 8. 1.]\n"
     ]
    }
   ],
   "source": [
    "a6[:6] = 2\n",
    "print( a6 )"
   ]
  },
  {
   "cell_type": "markdown",
   "metadata": {},
   "source": [
    "Anstelle eines skalaren Werts kann auch eine Liste oder Array mit der passenden Form dem Indexbereich zugewiesen werden."
   ]
  },
  {
   "cell_type": "code",
   "execution_count": 39,
   "metadata": {},
   "outputs": [
    {
     "name": "stdout",
     "output_type": "stream",
     "text": [
      "[4. 3. 2. 1. 0. 1. 1. 1. 8. 1.]\n"
     ]
    }
   ],
   "source": [
    "a6[:5] = [4, 3, 2, 1, 0]\n",
    "print( a6 )"
   ]
  },
  {
   "cell_type": "markdown",
   "metadata": {},
   "source": [
    "Darüber hinaus ist es möglich eine beliebige Auswahl von Indices gleichzeitig anzusprechen. Dafür muss eine Liste mit Indices oder eine sogenannte Maske, d.h. eine boolesche Liste oder Array, verwendet werden."
   ]
  },
  {
   "cell_type": "code",
   "execution_count": 40,
   "metadata": {},
   "outputs": [
    {
     "name": "stdout",
     "output_type": "stream",
     "text": [
      "[  4.   3.   2.   1. -11. -11. -11. -11.   8.   1.]\n"
     ]
    }
   ],
   "source": [
    "ind = [4, 5, 6, 7]\n",
    "a6[ind] = -11\n",
    "print(a6)"
   ]
  },
  {
   "cell_type": "code",
   "execution_count": 42,
   "metadata": {},
   "outputs": [
    {
     "name": "stdout",
     "output_type": "stream",
     "text": [
      "[ 13.  13.   2.   1.  13. -11. -11.  13.  13.   1.]\n"
     ]
    }
   ],
   "source": [
    "maske = [True, True, False, False, True, False, False, True, True, False]\n",
    "a6[maske] = 13\n",
    "print(a6)"
   ]
  },
  {
   "cell_type": "markdown",
   "metadata": {},
   "source": [
    "## Operationen"
   ]
  },
  {
   "cell_type": "markdown",
   "metadata": {},
   "source": [
    "Bei Arrays erfolgen alle skalaren Operationen elementweise, d.h. sie werden auf jedes Element einzeln angewendet. Damit entfallen die bei Listen notwendigen Schleifen. Dies erlaubt eine schnellere Ausführung der Operationen und eine kürzere Schreibweise."
   ]
  },
  {
   "cell_type": "code",
   "execution_count": 43,
   "metadata": {},
   "outputs": [
    {
     "name": "stdout",
     "output_type": "stream",
     "text": [
      "[1.   1.67 2.33 3.   3.67 4.33 5.  ]\n"
     ]
    }
   ],
   "source": [
    "a7 = np.linspace(1, 5, 7)\n",
    "print( a7 )"
   ]
  },
  {
   "cell_type": "code",
   "execution_count": 44,
   "metadata": {},
   "outputs": [
    {
     "name": "stdout",
     "output_type": "stream",
     "text": [
      "[1.2  1.87 2.53 3.2  3.87 4.53 5.2 ]\n"
     ]
    }
   ],
   "source": [
    "a7 = a7 + 0.2\n",
    "print( a7 )"
   ]
  },
  {
   "cell_type": "code",
   "execution_count": 46,
   "metadata": {},
   "outputs": [
    {
     "name": "stdout",
     "output_type": "stream",
     "text": [
      "[0.3  0.47 0.63 0.8  0.97 1.13 1.3 ]\n"
     ]
    }
   ],
   "source": [
    "a7 = a7 / 2\n",
    "print( a7 )"
   ]
  },
  {
   "cell_type": "code",
   "execution_count": 47,
   "metadata": {},
   "outputs": [
    {
     "name": "stdout",
     "output_type": "stream",
     "text": [
      "[0.09 0.22 0.4  0.64 0.93 1.28 1.69]\n"
     ]
    }
   ],
   "source": [
    "a7 = a7 ** 2\n",
    "print( a7 )"
   ]
  },
  {
   "cell_type": "markdown",
   "metadata": {},
   "source": [
    "Bei Operationen mit zwei Arrays bzw. Indexbereiche müssen die Formen exakt übereinstimmen. Hier wird wieder elementweise die Operation durchgeführt, d.h. als Operanden werden die Elemente an den gleichen Stellen verwendet.  "
   ]
  },
  {
   "cell_type": "code",
   "execution_count": 49,
   "metadata": {},
   "outputs": [
    {
     "name": "stdout",
     "output_type": "stream",
     "text": [
      "[0.  0.5 1.  1.5 2.  2.5 3. ]\n",
      "[10.   11.67 13.33 15.   16.67 18.33 20.  ]\n"
     ]
    }
   ],
   "source": [
    "a8 = np.linspace(0, 3, 7)\n",
    "a9 = np.linspace(10, 20, 7)\n",
    "\n",
    "print( a8 )\n",
    "print( a9 )"
   ]
  },
  {
   "cell_type": "code",
   "execution_count": 50,
   "metadata": {},
   "outputs": [
    {
     "name": "stdout",
     "output_type": "stream",
     "text": [
      "[10.   12.17 14.33 16.5  18.67 20.83 23.  ]\n"
     ]
    }
   ],
   "source": [
    "a10 = a8 + a9\n",
    "print( a10 )"
   ]
  },
  {
   "cell_type": "markdown",
   "metadata": {},
   "source": [
    "Natürlich können bei den Operationen auch (passende) Teilbereiche verwendet werden."
   ]
  },
  {
   "cell_type": "code",
   "execution_count": 51,
   "metadata": {},
   "outputs": [
    {
     "name": "stdout",
     "output_type": "stream",
     "text": [
      "[ 1.    3.65 15.  ]\n"
     ]
    }
   ],
   "source": [
    "a11 = a9[1:4] ** a8[:3]\n",
    "print( a11 )"
   ]
  },
  {
   "cell_type": "markdown",
   "metadata": {},
   "source": [
    "Die verwendung des gleichen Arrays mit verschiedenen Teilbereichen ist ebenfalls möglich und wird häufig verwendet. So kann wie folgt die Differenz zwischen zwei benachbarten Elementen berechnet werden."
   ]
  },
  {
   "cell_type": "code",
   "execution_count": 53,
   "metadata": {},
   "outputs": [
    {
     "name": "stdout",
     "output_type": "stream",
     "text": [
      "[  1.     7.84  21.16  40.96  67.24 100.  ]\n"
     ]
    }
   ],
   "source": [
    "a12 = np.linspace(1, 10, 6) ** 2\n",
    "print( a12 )"
   ]
  },
  {
   "cell_type": "code",
   "execution_count": 56,
   "metadata": {},
   "outputs": [
    {
     "name": "stdout",
     "output_type": "stream",
     "text": [
      "[ 6.84 13.32 19.8  26.28 32.76]\n"
     ]
    }
   ],
   "source": [
    "diff_a12 = a12[1:] - a12[:-1]\n",
    "print( diff_a12 )"
   ]
  },
  {
   "cell_type": "markdown",
   "metadata": {},
   "source": [
    "Da es weniger Differenzwerte als Elemente gibt, genau Eins weniger, haben die Teilbereiche und somit auch das Ergebnis eine andere Form."
   ]
  },
  {
   "cell_type": "code",
   "execution_count": 55,
   "metadata": {},
   "outputs": [
    {
     "name": "stdout",
     "output_type": "stream",
     "text": [
      "(6,)\n",
      "(5,)\n"
     ]
    }
   ],
   "source": [
    "print( a12.shape )\n",
    "print( diff_a12.shape )"
   ]
  },
  {
   "cell_type": "markdown",
   "metadata": {},
   "source": [
    "Auch logische Operationen sind möglich und werden wieder elementweise durchgeführt. Das Ergebnis ist ein Array mit booleschen Werten."
   ]
  },
  {
   "cell_type": "code",
   "execution_count": 59,
   "metadata": {},
   "outputs": [
    {
     "name": "stdout",
     "output_type": "stream",
     "text": [
      "[False False  True  True  True  True]\n",
      "<class 'numpy.ndarray'>\n",
      "bool\n"
     ]
    }
   ],
   "source": [
    "a13 = a12 > 10\n",
    "print( a13 )\n",
    "print( type(a13) )\n",
    "print( a13.dtype )"
   ]
  },
  {
   "cell_type": "markdown",
   "metadata": {},
   "source": [
    "Dieses boolesche Array kann beispielsweise direkt zur addressierung verwendet werden."
   ]
  },
  {
   "cell_type": "code",
   "execution_count": 61,
   "metadata": {},
   "outputs": [
    {
     "name": "stdout",
     "output_type": "stream",
     "text": [
      "[  1.     7.84  21.16  40.96  67.24 100.  ]\n",
      "[ 1.    7.84 -1.   -1.   -1.   -1.  ]\n"
     ]
    }
   ],
   "source": [
    "print( a12 )\n",
    "\n",
    "a12[a12>10] = -1\n",
    "\n",
    "print( a12 )"
   ]
  },
  {
   "cell_type": "markdown",
   "metadata": {},
   "source": [
    "## Funktionen"
   ]
  },
  {
   "cell_type": "markdown",
   "metadata": {},
   "source": [
    "Die von numpy und vielen anderen (numerischen, wissenschaftlichen) Modulen bereitgestellten Funktionen können mit Arrays umgehen. So wie bei den Operationen, werden wo sinnvoll die Funktionen elementweise angewendet und geben als Ergebnis ein Array zurück. "
   ]
  },
  {
   "cell_type": "code",
   "execution_count": 17,
   "metadata": {},
   "outputs": [
    {
     "name": "stdout",
     "output_type": "stream",
     "text": [
      "[ 0.    0.13  0.25  0.38  0.51  0.63  0.76  0.89  1.02  1.14\n",
      "  1.27  1.4   1.52  1.65  1.78  1.9   2.03  2.16  2.28  2.41\n",
      "  2.54  2.67  2.79  2.92  3.05  3.17  3.3   3.43  3.55  3.68\n",
      "  3.81  3.93  4.06  4.19  4.32  4.44  4.57  4.7   4.82  4.95\n",
      "  5.08  5.2   5.33  5.46  5.59  5.71  5.84  5.97  6.09  6.22\n",
      "  6.35  6.47  6.6   6.73  6.85  6.98  7.11  7.24  7.36  7.49\n",
      "  7.62  7.74  7.87  8.    8.12  8.25  8.38  8.5   8.63  8.76\n",
      "  8.89  9.01  9.14  9.27  9.39  9.52  9.65  9.77  9.9  10.03\n",
      " 10.15 10.28 10.41 10.54 10.66 10.79 10.92 11.04 11.17 11.3\n",
      " 11.42 11.55 11.68 11.8  11.93 12.06 12.19 12.31 12.44 12.57]\n",
      "[ 0.00e+00  1.27e-01  2.51e-01  3.72e-01  4.86e-01  5.93e-01\n",
      "  6.90e-01  7.76e-01  8.50e-01  9.10e-01  9.55e-01  9.85e-01\n",
      "  9.99e-01  9.97e-01  9.79e-01  9.45e-01  8.96e-01  8.33e-01\n",
      "  7.56e-01  6.67e-01  5.67e-01  4.58e-01  3.42e-01  2.20e-01\n",
      "  9.51e-02 -3.17e-02 -1.58e-01 -2.82e-01 -4.01e-01 -5.14e-01\n",
      " -6.18e-01 -7.13e-01 -7.96e-01 -8.66e-01 -9.22e-01 -9.64e-01\n",
      " -9.90e-01 -1.00e+00 -9.94e-01 -9.72e-01 -9.34e-01 -8.81e-01\n",
      " -8.15e-01 -7.35e-01 -6.43e-01 -5.41e-01 -4.30e-01 -3.12e-01\n",
      " -1.89e-01 -6.34e-02  6.34e-02  1.89e-01  3.12e-01  4.30e-01\n",
      "  5.41e-01  6.43e-01  7.35e-01  8.15e-01  8.81e-01  9.34e-01\n",
      "  9.72e-01  9.94e-01  1.00e+00  9.90e-01  9.64e-01  9.22e-01\n",
      "  8.66e-01  7.96e-01  7.13e-01  6.18e-01  5.14e-01  4.01e-01\n",
      "  2.82e-01  1.58e-01  3.17e-02 -9.51e-02 -2.20e-01 -3.42e-01\n",
      " -4.58e-01 -5.67e-01 -6.67e-01 -7.56e-01 -8.33e-01 -8.96e-01\n",
      " -9.45e-01 -9.79e-01 -9.97e-01 -9.99e-01 -9.85e-01 -9.55e-01\n",
      " -9.10e-01 -8.50e-01 -7.76e-01 -6.90e-01 -5.93e-01 -4.86e-01\n",
      " -3.72e-01 -2.51e-01 -1.27e-01 -4.90e-16]\n"
     ]
    }
   ],
   "source": [
    "x2 = np.linspace(0, 4*np.pi, 100)\n",
    "y2 = np.sin(x2)\n",
    "print(x2)\n",
    "print(y2)"
   ]
  },
  {
   "cell_type": "markdown",
   "metadata": {},
   "source": [
    "Auch das matplotlib-Modul kann mit Arrays umgehen, welche als Datenstrukturen direkt übergeben werden können. "
   ]
  },
  {
   "cell_type": "code",
   "execution_count": 65,
   "metadata": {},
   "outputs": [
    {
     "data": {
      "image/png": "[encoded data removed]",
      "text/plain": [
       "<Figure size 432x288 with 1 Axes>"
      ]
     },
     "metadata": {
      "needs_background": "light"
     },
     "output_type": "display_data"
    }
   ],
   "source": [
    "plt.plot(x2, y2, 'o-')\n",
    "plt.xlabel('x-Werte')\n",
    "plt.ylabel('y-Werte');"
   ]
  }
 ],
 "metadata": {
  "kernelspec": {
   "display_name": "Python 3",
   "language": "python",
   "name": "python3"
  },
  "language_info": {
   "codemirror_mode": {
    "name": "ipython",
    "version": 3
   },
   "file_extension": ".py",
   "mimetype": "text/x-python",
   "name": "python",
   "nbconvert_exporter": "python",
   "pygments_lexer": "ipython3",
   "version": "3.8.3"
  }
 },
 "nbformat": 4,
 "nbformat_minor": 4
}
