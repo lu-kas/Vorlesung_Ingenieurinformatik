{
 "cells": [
  {
   "cell_type": "markdown",
   "metadata": {},
   "source": [
    "# numpy-Arrays"
   ]
  },
  {
   "cell_type": "markdown",
   "metadata": {},
   "source": [
    "Die Datenstruktur, welche bei der Verwendung von Python für numerische Analysen bzw. Berechnungen verwendet wird, sind die numpy-Arrays. Im Gegensatz zu Listen, haben sie eine feste Länge und können n-dimensional sein. Der Vorteil der festen Längen und der Einschränkung auf einen festgelegten Datentyp ist die schnelle Verarbeitung und Speichereffizienz. Der Standarddatentyp sind 64-bit-Gleitkommazahlen."
   ]
  },
  {
   "cell_type": "code",
   "execution_count": 1,
   "metadata": {},
   "outputs": [],
   "source": [
    "import numpy as np\n",
    "np.set_printoptions(precision=2, linewidth=65)"
   ]
  },
  {
   "cell_type": "markdown",
   "metadata": {},
   "source": [
    "## Erzeugung"
   ]
  },
  {
   "cell_type": "code",
   "execution_count": 11,
   "metadata": {},
   "outputs": [
    {
     "name": "stdout",
     "output_type": "stream",
     "text": [
      "Liste:\n",
      " [5, 7, 3.4, -44.8, 34.1, 0, -0.04]\n",
      "Array:\n",
      " [ 5.00e+00  7.00e+00  3.40e+00 -4.48e+01  3.41e+01  0.00e+00\n",
      " -4.00e-02]\n"
     ]
    }
   ],
   "source": [
    "l1 = [5, 7, 3.4, -44.8, 34.1, 0, -0.04]\n",
    "a1 = np.array(l1)\n",
    "print(\"Liste:\\n\",l1)\n",
    "print(\"Array:\\n\", a1)"
   ]
  },
  {
   "cell_type": "code",
   "execution_count": 3,
   "metadata": {},
   "outputs": [
    {
     "name": "stdout",
     "output_type": "stream",
     "text": [
      "<class 'numpy.ndarray'>\n"
     ]
    }
   ],
   "source": [
    "print( type(a1) )"
   ]
  },
  {
   "cell_type": "code",
   "execution_count": 4,
   "metadata": {},
   "outputs": [
    {
     "name": "stdout",
     "output_type": "stream",
     "text": [
      "float64\n"
     ]
    }
   ],
   "source": [
    "print( a1.dtype )"
   ]
  },
  {
   "cell_type": "code",
   "execution_count": 5,
   "metadata": {},
   "outputs": [
    {
     "name": "stdout",
     "output_type": "stream",
     "text": [
      "[0. 0. 0. 0. 0. 0. 0. 0. 0. 0.]\n",
      "[[0. 0. 0.]\n",
      " [0. 0. 0.]\n",
      " [0. 0. 0.]\n",
      " [0. 0. 0.]\n",
      " [0. 0. 0.]\n",
      " [0. 0. 0.]\n",
      " [0. 0. 0.]\n",
      " [0. 0. 0.]\n",
      " [0. 0. 0.]\n",
      " [0. 0. 0.]]\n",
      "(10,)\n",
      "(10, 3)\n"
     ]
    }
   ],
   "source": [
    "N = 10\n",
    "a2 = np.zeros(N)\n",
    "a3 = np.zeros( (N, 3) )\n",
    "\n",
    "print( a2 )\n",
    "print( a3 )\n",
    "\n",
    "print( a2.shape )\n",
    "print( a3.shape )"
   ]
  },
  {
   "cell_type": "code",
   "execution_count": 6,
   "metadata": {},
   "outputs": [
    {
     "name": "stdout",
     "output_type": "stream",
     "text": [
      "[0.  0.3 0.6 0.9 1.2 1.5 1.8 2.1 2.4 2.7]\n"
     ]
    }
   ],
   "source": [
    "a4 = np.arange(0, 3, 0.3)\n",
    "print( a4 )"
   ]
  },
  {
   "cell_type": "code",
   "execution_count": 7,
   "metadata": {},
   "outputs": [
    {
     "name": "stdout",
     "output_type": "stream",
     "text": [
      "[0.   0.33 0.67 1.   1.33 1.67 2.   2.33 2.67 3.  ]\n"
     ]
    }
   ],
   "source": [
    "a5 = np.linspace(0, 3, N)\n",
    "print( a5 )"
   ]
  },
  {
   "cell_type": "markdown",
   "metadata": {},
   "source": [
    "## Zugriff"
   ]
  },
  {
   "cell_type": "code",
   "execution_count": 8,
   "metadata": {},
   "outputs": [
    {
     "name": "stdout",
     "output_type": "stream",
     "text": [
      "[1. 1. 1. 1. 1. 1. 1. 1. 1. 1.]\n",
      "[2. 2. 2. 2. 2. 2. 1. 1. 1. 1.]\n",
      "[7. 7. 7. 7. 7. 7. 6. 6. 6. 6.]\n",
      "[14. 14. 14. 14. 14. 14. 12. 12. 12. 12.]\n"
     ]
    }
   ],
   "source": [
    "a6 = np.ones(10)\n",
    "print( a6 )\n",
    "a6[:6] = 2\n",
    "print( a6 )\n",
    "a6 = a6 + 5\n",
    "print( a6 )\n",
    "a6 = a6 * 2\n",
    "print( a6 )"
   ]
  },
  {
   "cell_type": "code",
   "execution_count": 9,
   "metadata": {},
   "outputs": [
    {
     "name": "stdout",
     "output_type": "stream",
     "text": [
      "[0.   0.33 0.67 1.   1.33 1.67 2.   2.33 2.67 3.  ]\n",
      "[ 0.    4.67  9.33 14.   18.67 23.33 24.   28.   32.   36.  ]\n"
     ]
    }
   ],
   "source": [
    "a7 = np.linspace(0, 3, len(a6))\n",
    "print(a7)\n",
    "a8 = a6 * a7\n",
    "print(a8)"
   ]
  },
  {
   "cell_type": "markdown",
   "metadata": {},
   "source": [
    "## Operationen"
   ]
  },
  {
   "cell_type": "code",
   "execution_count": null,
   "metadata": {},
   "outputs": [],
   "source": []
  }
 ],
 "metadata": {
  "kernelspec": {
   "display_name": "Python 3",
   "language": "python",
   "name": "python3"
  },
  "language_info": {
   "codemirror_mode": {
    "name": "ipython",
    "version": 3
   },
   "file_extension": ".py",
   "mimetype": "text/x-python",
   "name": "python",
   "nbconvert_exporter": "python",
   "pygments_lexer": "ipython3",
   "version": "3.8.3"
  }
 },
 "nbformat": 4,
 "nbformat_minor": 4
}
