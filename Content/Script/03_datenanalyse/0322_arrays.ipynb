{
 "cells": [
  {
   "cell_type": "markdown",
   "metadata": {},
   "source": [
    "# numpy-Arrays"
   ]
  },
  {
   "cell_type": "markdown",
   "metadata": {},
   "source": [
    "Die Datenstruktur, welche bei der Verwendung von Python für numerische Analysen bzw. Berechnungen verwendet wird, sind die numpy-Arrays. Im Gegensatz zu Listen, haben sie eine feste Länge und können n-dimensional sein. Der Vorteil der festen Längen und der Einschränkung auf einen festgelegten Datentyp ist die schnelle Verarbeitung und Speichereffizienz. Der Standarddatentyp sind 64-bit-Gleitkommazahlen."
   ]
  },
  {
   "cell_type": "code",
   "execution_count": 1,
   "metadata": {},
   "outputs": [],
   "source": [
    "import numpy as np\n",
    "np.set_printoptions(precision=2, linewidth=65)"
   ]
  },
  {
   "cell_type": "markdown",
   "metadata": {},
   "source": [
    "## Erzeugung"
   ]
  },
  {
   "cell_type": "code",
   "execution_count": 2,
   "metadata": {},
   "outputs": [
    {
     "name": "stdout",
     "output_type": "stream",
     "text": [
      "Liste:\n",
      " [5, 7, 3.4, -44.8, 34.1, 0, -0.04]\n",
      "Array:\n",
      " [ 5.00e+00  7.00e+00  3.40e+00 -4.48e+01  3.41e+01  0.00e+00\n",
      " -4.00e-02]\n"
     ]
    }
   ],
   "source": [
    "l1 = [5, 7, 3.4, -44.8, 34.1, 0, -0.04]\n",
    "a1 = np.array(l1)\n",
    "print(\"Liste:\\n\",l1)\n",
    "print(\"Array:\\n\", a1)"
   ]
  },
  {
   "cell_type": "code",
   "execution_count": 3,
   "metadata": {},
   "outputs": [
    {
     "name": "stdout",
     "output_type": "stream",
     "text": [
      "<class 'numpy.ndarray'>\n"
     ]
    }
   ],
   "source": [
    "print( type(a1) )"
   ]
  },
  {
   "cell_type": "code",
   "execution_count": 4,
   "metadata": {},
   "outputs": [
    {
     "name": "stdout",
     "output_type": "stream",
     "text": [
      "float64\n"
     ]
    }
   ],
   "source": [
    "print( a1.dtype )"
   ]
  },
  {
   "cell_type": "code",
   "execution_count": 5,
   "metadata": {},
   "outputs": [
    {
     "name": "stdout",
     "output_type": "stream",
     "text": [
      "[0. 0. 0. 0. 0. 0. 0. 0. 0. 0.]\n",
      "[[0. 0. 0.]\n",
      " [0. 0. 0.]\n",
      " [0. 0. 0.]\n",
      " [0. 0. 0.]\n",
      " [0. 0. 0.]\n",
      " [0. 0. 0.]\n",
      " [0. 0. 0.]\n",
      " [0. 0. 0.]\n",
      " [0. 0. 0.]\n",
      " [0. 0. 0.]]\n",
      "(10,)\n",
      "(10, 3)\n"
     ]
    }
   ],
   "source": [
    "N = 10\n",
    "a2 = np.zeros(N)\n",
    "a3 = np.zeros( (N, 3) )\n",
    "\n",
    "print( a2 )\n",
    "print( a3 )\n",
    "\n",
    "print( a2.shape )\n",
    "print( a3.shape )"
   ]
  },
  {
   "cell_type": "code",
   "execution_count": 6,
   "metadata": {},
   "outputs": [
    {
     "name": "stdout",
     "output_type": "stream",
     "text": [
      "[0.  0.3 0.6 0.9 1.2 1.5 1.8 2.1 2.4 2.7]\n"
     ]
    }
   ],
   "source": [
    "a4 = np.arange(0, 3, 0.3)\n",
    "print( a4 )"
   ]
  },
  {
   "cell_type": "code",
   "execution_count": 7,
   "metadata": {},
   "outputs": [
    {
     "name": "stdout",
     "output_type": "stream",
     "text": [
      "[0.   0.33 0.67 1.   1.33 1.67 2.   2.33 2.67 3.  ]\n"
     ]
    }
   ],
   "source": [
    "a5 = np.linspace(0, 3, N)\n",
    "print( a5 )"
   ]
  },
  {
   "cell_type": "markdown",
   "metadata": {},
   "source": [
    "## Zugriff"
   ]
  },
  {
   "cell_type": "code",
   "execution_count": 8,
   "metadata": {},
   "outputs": [
    {
     "name": "stdout",
     "output_type": "stream",
     "text": [
      "[1. 1. 1. 1. 1. 1. 1. 1. 1. 1.]\n",
      "[2. 2. 2. 2. 2. 2. 1. 1. 1. 1.]\n",
      "[7. 7. 7. 7. 7. 7. 6. 6. 6. 6.]\n",
      "[14. 14. 14. 14. 14. 14. 12. 12. 12. 12.]\n"
     ]
    }
   ],
   "source": [
    "a6 = np.ones(10)\n",
    "print( a6 )\n",
    "a6[:6] = 2\n",
    "print( a6 )\n",
    "a6 = a6 + 5\n",
    "print( a6 )\n",
    "a6 = a6 * 2\n",
    "print( a6 )"
   ]
  },
  {
   "cell_type": "code",
   "execution_count": 9,
   "metadata": {},
   "outputs": [
    {
     "name": "stdout",
     "output_type": "stream",
     "text": [
      "[0.   0.33 0.67 1.   1.33 1.67 2.   2.33 2.67 3.  ]\n",
      "[ 0.    4.67  9.33 14.   18.67 23.33 24.   28.   32.   36.  ]\n"
     ]
    }
   ],
   "source": [
    "a7 = np.linspace(0, 3, len(a6))\n",
    "print(a7)\n",
    "a8 = a6 * a7\n",
    "print(a8)"
   ]
  },
  {
   "cell_type": "code",
   "execution_count": 10,
   "metadata": {},
   "outputs": [
    {
     "name": "stdout",
     "output_type": "stream",
     "text": [
      "[False False False False False  True  True  True  True  True]\n"
     ]
    }
   ],
   "source": [
    "print(a8 > 20)"
   ]
  },
  {
   "cell_type": "code",
   "execution_count": 11,
   "metadata": {},
   "outputs": [
    {
     "name": "stdout",
     "output_type": "stream",
     "text": [
      "[ 0.    4.67  9.33 14.   18.67 23.33 24.   28.   32.   36.  ]\n",
      "[ 0.    4.67  9.33 14.   18.67 -1.   -1.   -1.   -1.   -1.  ]\n"
     ]
    }
   ],
   "source": [
    "print( a8 )\n",
    "a8[a8>20] = -1\n",
    "print( a8 )"
   ]
  },
  {
   "cell_type": "markdown",
   "metadata": {},
   "source": [
    "## Operationen"
   ]
  },
  {
   "cell_type": "markdown",
   "metadata": {},
   "source": [
    "## Funktionen"
   ]
  },
  {
   "cell_type": "code",
   "execution_count": 12,
   "metadata": {},
   "outputs": [
    {
     "name": "stdout",
     "output_type": "stream",
     "text": [
      "[ 0.    0.13  0.25  0.38  0.51  0.63  0.76  0.89  1.02  1.14\n",
      "  1.27  1.4   1.52  1.65  1.78  1.9   2.03  2.16  2.28  2.41\n",
      "  2.54  2.67  2.79  2.92  3.05  3.17  3.3   3.43  3.55  3.68\n",
      "  3.81  3.93  4.06  4.19  4.32  4.44  4.57  4.7   4.82  4.95\n",
      "  5.08  5.2   5.33  5.46  5.59  5.71  5.84  5.97  6.09  6.22\n",
      "  6.35  6.47  6.6   6.73  6.85  6.98  7.11  7.24  7.36  7.49\n",
      "  7.62  7.74  7.87  8.    8.12  8.25  8.38  8.5   8.63  8.76\n",
      "  8.89  9.01  9.14  9.27  9.39  9.52  9.65  9.77  9.9  10.03\n",
      " 10.15 10.28 10.41 10.54 10.66 10.79 10.92 11.04 11.17 11.3\n",
      " 11.42 11.55 11.68 11.8  11.93 12.06 12.19 12.31 12.44 12.57]\n",
      "[ 0.00e+00  1.27e-01  2.51e-01  3.72e-01  4.86e-01  5.93e-01\n",
      "  6.90e-01  7.76e-01  8.50e-01  9.10e-01  9.55e-01  9.85e-01\n",
      "  9.99e-01  9.97e-01  9.79e-01  9.45e-01  8.96e-01  8.33e-01\n",
      "  7.56e-01  6.67e-01  5.67e-01  4.58e-01  3.42e-01  2.20e-01\n",
      "  9.51e-02 -3.17e-02 -1.58e-01 -2.82e-01 -4.01e-01 -5.14e-01\n",
      " -6.18e-01 -7.13e-01 -7.96e-01 -8.66e-01 -9.22e-01 -9.64e-01\n",
      " -9.90e-01 -1.00e+00 -9.94e-01 -9.72e-01 -9.34e-01 -8.81e-01\n",
      " -8.15e-01 -7.35e-01 -6.43e-01 -5.41e-01 -4.30e-01 -3.12e-01\n",
      " -1.89e-01 -6.34e-02  6.34e-02  1.89e-01  3.12e-01  4.30e-01\n",
      "  5.41e-01  6.43e-01  7.35e-01  8.15e-01  8.81e-01  9.34e-01\n",
      "  9.72e-01  9.94e-01  1.00e+00  9.90e-01  9.64e-01  9.22e-01\n",
      "  8.66e-01  7.96e-01  7.13e-01  6.18e-01  5.14e-01  4.01e-01\n",
      "  2.82e-01  1.58e-01  3.17e-02 -9.51e-02 -2.20e-01 -3.42e-01\n",
      " -4.58e-01 -5.67e-01 -6.67e-01 -7.56e-01 -8.33e-01 -8.96e-01\n",
      " -9.45e-01 -9.79e-01 -9.97e-01 -9.99e-01 -9.85e-01 -9.55e-01\n",
      " -9.10e-01 -8.50e-01 -7.76e-01 -6.90e-01 -5.93e-01 -4.86e-01\n",
      " -3.72e-01 -2.51e-01 -1.27e-01 -4.90e-16]\n"
     ]
    }
   ],
   "source": [
    "x = np.linspace(0, 4*np.pi, 100)\n",
    "y = np.sin(x)\n",
    "print(x)\n",
    "print(y)"
   ]
  }
 ],
 "metadata": {
  "kernelspec": {
   "display_name": "Python 3",
   "language": "python",
   "name": "python3"
  },
  "language_info": {
   "codemirror_mode": {
    "name": "ipython",
    "version": 3
   },
   "file_extension": ".py",
   "mimetype": "text/x-python",
   "name": "python",
   "nbconvert_exporter": "python",
   "pygments_lexer": "ipython3",
   "version": "3.8.3"
  }
 },
 "nbformat": 4,
 "nbformat_minor": 4
}
