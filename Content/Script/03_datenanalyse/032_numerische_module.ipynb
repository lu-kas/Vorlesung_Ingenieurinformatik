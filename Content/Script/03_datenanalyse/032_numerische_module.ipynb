{
 "cells": [
  {
   "cell_type": "markdown",
   "metadata": {},
   "source": [
    "# Numerische Operationen"
   ]
  },
  {
   "cell_type": "markdown",
   "metadata": {},
   "source": [
    "Die Manipulation von Daten ist ein zentraler Punkt in der Datenanalyse. Hierzu gehört beispielsweise die Berechnung von Mittelwerten, die Integration oder Optimierung. In diesem Kapitel wird das numpy-Modul vorgestellt, welches die strukturelle Grundlage für effiziente numerische Operationen in Python bietet."
   ]
  }
 ],
 "metadata": {
  "kernelspec": {
   "display_name": "Python 3",
   "language": "python",
   "name": "python3"
  },
  "language_info": {
   "codemirror_mode": {
    "name": "ipython",
    "version": 3
   },
   "file_extension": ".py",
   "mimetype": "text/x-python",
   "name": "python",
   "nbconvert_exporter": "python",
   "pygments_lexer": "ipython3",
   "version": "3.8.3"
  }
 },
 "nbformat": 4,
 "nbformat_minor": 4
}
