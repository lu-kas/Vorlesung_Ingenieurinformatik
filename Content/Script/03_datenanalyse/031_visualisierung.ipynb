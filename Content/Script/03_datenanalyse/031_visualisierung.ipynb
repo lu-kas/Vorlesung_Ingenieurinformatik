{
 "cells": [
  {
   "cell_type": "markdown",
   "metadata": {},
   "source": [
    "# Visualisierung"
   ]
  },
  {
   "cell_type": "markdown",
   "metadata": {},
   "source": [
    "Die Visualisierung von Daten gehört zu den wichtigsten Werkzeugen bei der Datenanalyse. Menschen können mit ihrer visuellen Wahrnehmung schnell Strukturen und Zusammenhänge erkennen, vorausgesetzt die Daten sind entsprechend dargestellt."
   ]
  },
  {
   "cell_type": "markdown",
   "metadata": {},
   "source": [
    "In diesem Kapitel wird das Modul matplotlib vorgestellt, welches für die graphische Aufbereitung von Daten häufig eingesetzt wird. Neben einer grundlegenden Einführung in den Aufbau von Graphiken, werden anhand von eindimensionalen Daten einige Darstellungsfunktionen demonstriert. Zusätzlich werden die Beschriftung, Farbwahl als auch zusätzliche Anpassungsmöglichkeiten von Graphiken zusammengefasst. "
   ]
  }
 ],
 "metadata": {
  "kernelspec": {
   "display_name": "Python 3",
   "language": "python",
   "name": "python3"
  },
  "language_info": {
   "codemirror_mode": {
    "name": "ipython",
    "version": 3
   },
   "file_extension": ".py",
   "mimetype": "text/x-python",
   "name": "python",
   "nbconvert_exporter": "python",
   "pygments_lexer": "ipython3",
   "version": "3.8.3"
  }
 },
 "nbformat": 4,
 "nbformat_minor": 4
}
