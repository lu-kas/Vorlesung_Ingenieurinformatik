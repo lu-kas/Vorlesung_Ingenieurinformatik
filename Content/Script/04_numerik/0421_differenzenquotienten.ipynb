{
 "cells": [
  {
   "cell_type": "markdown",
   "metadata": {},
   "source": [
    "# Differenzenquotienten"
   ]
  },
  {
   "cell_type": "code",
   "execution_count": 1,
   "metadata": {
    "tags": [
     "hide_input"
    ]
   },
   "outputs": [],
   "source": [
    "import numpy as np\n",
    "np.set_printoptions(precision=2, linewidth=65)\n",
    "\n",
    "import matplotlib.pyplot as plt\n",
    "plt.rc('figure', dpi=150)\n",
    "\n",
    "import seaborn as sns\n",
    "sns.set()\n",
    "sns.set_style('ticks')\n",
    "sns.set_context(\"notebook\", font_scale=1.2, rc={\"lines.linewidth\": 1.2})\n",
    "\n",
    "import scipy"
   ]
  },
  {
   "cell_type": "markdown",
   "metadata": {},
   "source": [
    "Die Grundidee bei den Differenzenquotienten ist die Annäherung der abzuleitenden Funktion mit einer Taylor-Entwicklung an mehreren Stellen. Damit kann nach der gesuchte Ableitung an der entsprechenden Entwicklungsstelle aufgelöst werden.  "
   ]
  },
  {
   "cell_type": "markdown",
   "metadata": {},
   "source": [
    "## Taylor-Entwicklung"
   ]
  },
  {
   "cell_type": "markdown",
   "metadata": {},
   "source": [
    "Mittels der [Taylor-Entwicklung](https://de.wikipedia.org/wiki/Taylorreihe) kann jede beliebig oft stetig differenzierbare Funktion $\\sf f(x)$ um einem Entwicklungspunkt $\\sf x_0$ beliebig genau angenähert werden. Die funktionale Abhängigkeit bezieht sich nun auf die Variable $\\sf h$, welche nur in direkter Umgebung um $\\sf x_0$ betrachtet wird. Die Taylor-Entwicklung lautet:\n",
    "\n",
    "$$ \\sf f(x_0 + h) = \\sum_{i=0}^{\\infty}\\frac{1}{i!}f^{(i)}(x_0)\\cdot h^i $$\n",
    "$$ \\sf = f(x_0) + f'(x_0)\\cdot h + \\frac{1}{2} f''(x_0)\\cdot h^2 + \\frac{1}{6}f'''(x_0)\\cdot h^3 + \\cdots $$"
   ]
  },
  {
   "cell_type": "markdown",
   "metadata": {},
   "source": [
    "Diese Entwicklung kann auch nur bis zu einer vorgegebenen Ordnung betrachtet werden. So nimmt die Entwicklung bis zur Ordnung $\\sf \\mathcal{O}(h^3)$ folgende Form an:\n",
    "\n",
    "$$\\sf f(x_0 + h) = f(x_0) + f'(x_0)\\cdot h + \\frac{1}{2} f''(x_0)\\cdot h^2 + \\mathcal{O}(h^3) $$\n"
   ]
  }
 ],
 "metadata": {
  "kernelspec": {
   "display_name": "Python 3",
   "language": "python",
   "name": "python3"
  },
  "language_info": {
   "codemirror_mode": {
    "name": "ipython",
    "version": 3
   },
   "file_extension": ".py",
   "mimetype": "text/x-python",
   "name": "python",
   "nbconvert_exporter": "python",
   "pygments_lexer": "ipython3",
   "version": "3.8.3"
  }
 },
 "nbformat": 4,
 "nbformat_minor": 4
}
