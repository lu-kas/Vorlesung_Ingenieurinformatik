{
 "cells": [
  {
   "cell_type": "markdown",
   "metadata": {},
   "source": [
    "# Integration"
   ]
  },
  {
   "cell_type": "markdown",
   "metadata": {},
   "source": [
    "Die Bildung von Integralen findet beispielsweise bei der Bestimmung von Flächeninhalten oder von Gesamtkräften Anwendung. Formal wird das bestimmte Integral $\\sf I$ der Funktion $\\sf f(x)$ auf dem Intervall $\\sf x \\in [a,b]$ wie folgt dargestellt.\n",
    "\n",
    "$$ \\sf I = \\int_a^b f(x)\\ dx $$\n",
    "\n",
    "Im Allgemeinen kann das Integral nicht analytisch gelöst werden, da die Stammfunktion $\\sf F(x)$ nicht leicht zu bestimmen ist. In solchen Fällen können numersiche Verfahren eingesetzt werden um den Integralwert zu approximieren. Die numerische Integration wird oft auch als numersiche Quadratur bezeichnet.\n",
    "\n",
    "Dieses Kapitel bietet eine kurze Übersicht von numerischen Integrationsmethoden: \n",
    "\n",
    "* Ober- und Untersumme\n",
    "* Quadratur\n",
    "* Monte-Carlo"
   ]
  }
 ],
 "metadata": {
  "kernelspec": {
   "display_name": "Python 3",
   "language": "python",
   "name": "python3"
  },
  "language_info": {
   "codemirror_mode": {
    "name": "ipython",
    "version": 3
   },
   "file_extension": ".py",
   "mimetype": "text/x-python",
   "name": "python",
   "nbconvert_exporter": "python",
   "pygments_lexer": "ipython3",
   "version": "3.8.3"
  }
 },
 "nbformat": 4,
 "nbformat_minor": 4
}
