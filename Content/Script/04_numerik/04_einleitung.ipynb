{
 "cells": [
  {
   "cell_type": "markdown",
   "metadata": {},
   "source": [
    "# Numerik"
   ]
  },
  {
   "cell_type": "markdown",
   "metadata": {},
   "source": [
    "Die [Numerik](https://de.wikipedia.org/wiki/Numerische_Mathematik) bzw. numerische Mathematik ist eine Disziplin der Mathematik in der Verfahren für Lösungen bzw. Näherungslösungen von Problemstellungen gesucht werden, welche nicht analytisch lösbar sind. \n",
    "\n",
    "Dazu gehören die Teilgebiete der Integration und Differentiation als auch der Bereich der Differentialgleichungen. Viele Simulationsprogramme aus dem Ingenieurwesen verwenden numerische Verfahren zur Berechnung komplexer Sachverhalte. Insbesondere die Lösung von gewöhnlichen und partiellen Differentialgleichungen ist ohne die Numerik kaum möglich. \n",
    "\n",
    "Zu den Anwendungsfelder gehören beispielsweise:\n",
    "* Verformung von Körpern unter Kraftausübung\n",
    "* Schwingungen von Gebäuden\n",
    "* Zeitliche Entwicklung von Stoffkonzentrationen\n",
    "* Strömungsdynamik: Wasserbau, Umströmung von Gebäuden, Lüftungstechnik, Rauchausbreitung\n",
    "* Wärmetransport in Bauteilen"
   ]
  }
 ],
 "metadata": {
  "kernelspec": {
   "display_name": "Python 3",
   "language": "python",
   "name": "python3"
  },
  "language_info": {
   "codemirror_mode": {
    "name": "ipython",
    "version": 3
   },
   "file_extension": ".py",
   "mimetype": "text/x-python",
   "name": "python",
   "nbconvert_exporter": "python",
   "pygments_lexer": "ipython3",
   "version": "3.8.3"
  }
 },
 "nbformat": 4,
 "nbformat_minor": 4
}
