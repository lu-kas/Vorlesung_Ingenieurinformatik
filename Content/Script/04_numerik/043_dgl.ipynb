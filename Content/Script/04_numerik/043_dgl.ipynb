{
 "cells": [
  {
   "cell_type": "markdown",
   "metadata": {},
   "source": [
    "# Differentialgleichungen"
   ]
  },
  {
   "cell_type": "markdown",
   "metadata": {},
   "source": [
    "Differentialgleichungen sind ein zentraler Bestandteil der mathematischen Beschreibung vieler Phänomene. Dazu gehört beispielsweise die Temperaturverteilung in Bauteilen, Schwingungen oder die Strömungsdynamik. "
   ]
  },
  {
   "cell_type": "markdown",
   "metadata": {},
   "source": [
    "Die Lösungen von Differentialgleichungen sind Funktionen, welche je nach Gleichung zeit- und / oder ortsabhängig sind. Für viele Anwendungsfälle ist eine analytische Lösung nicht möglich und der Einsatz von numerischen Verfahren ist notwendig. "
   ]
  },
  {
   "cell_type": "markdown",
   "metadata": {},
   "source": [
    "Unterschieden wird zwischen gewöhnlichen Differentialgleichungen (ODE, *ordinary differential equation*) und partiellen Differentialgleichungen (PDE, *partial differential equations*). Erstere beschreiben eine Funktion einer Variablen, z.B. der Verformung $\\sf u(x)$ eines Stabs unter der Einwirkung einer Kraftverteilung $\\sf F(x)$ als Funktion der Positon $\\sf x$\n",
    "\n",
    "$$ \\sf \\frac{d^4u(x)}{dx^2} = F(x) $$\n",
    "\n",
    "Hierbei und in der folgenden Gleichung sind keine Materialparameter aufgeführt, um den mathematischen Charakter hervorzuheben. Bei PDEs gibt es mehrere Variablen, wie z.B. bei der Wärmeleitgleichung. Diese Gleichung beschreibt die Temperatur $\\sf T(x,t)$ als Funktion vom Ort $\\sf x$ und Zeit $\\sf t$ und ist charakteristich gegeben durch \n",
    "\n",
    "$$ \\sf \\frac{\\partial T(x,t)}{\\partial t} = \\frac{\\partial^2 T(x,t)}{\\partial x^2} $$"
   ]
  },
  {
   "cell_type": "markdown",
   "metadata": {},
   "source": [
    "Der grundlegende Lösungsansatz, welcher in diesem Kapitel vorgestellt wird, beruht auf der Näherung der (partiellen) Ableitunden durch Differenzenformeln und wird Finite-Differenzen-Methode (FDM) genannt. Hierzu wird der Bereich auf dem die Gleichungen gelöst werden sollen diskretisiert und letztendlich in algebraische Gleichungen überführt. Nach der FDM-Vorstellung werden Beispiele für die Lösung von gewöhnlichen und partiellen Differentailgleichungen gegeben. "
   ]
  }
 ],
 "metadata": {
  "kernelspec": {
   "display_name": "Python 3",
   "language": "python",
   "name": "python3"
  },
  "language_info": {
   "codemirror_mode": {
    "name": "ipython",
    "version": 3
   },
   "file_extension": ".py",
   "mimetype": "text/x-python",
   "name": "python",
   "nbconvert_exporter": "python",
   "pygments_lexer": "ipython3",
   "version": "3.8.3"
  }
 },
 "nbformat": 4,
 "nbformat_minor": 4
}
