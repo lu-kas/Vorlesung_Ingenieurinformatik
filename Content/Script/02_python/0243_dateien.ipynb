{
 "cells": [
  {
   "cell_type": "markdown",
   "metadata": {},
   "source": [
    "# Dateien"
   ]
  },
  {
   "cell_type": "markdown",
   "metadata": {},
   "source": [
    "Das Arbeiten von Dateien ist insbesondere für die Datenauswertung wichtig. In diesem Kapitel wird der Umgang mit Textdateien, welche Daten enthalten, vorgestellt. Dazu gehört das Öffnen einer Datei, das zeilenweise Auslesen und das Schließen der Datei."
   ]
  },
  {
   "cell_type": "markdown",
   "metadata": {},
   "source": [
    "Im Folgenden wird eine generalistischer Ansatz zum Einlesen von Dateiinhalaten vorgestellt. Spezielle Methoden werden dann im Kapitel Datenanalyse vorgestellt. "
   ]
  },
  {
   "cell_type": "markdown",
   "metadata": {},
   "source": [
    "Die in diesem Kaptiel verwendeten Dateien sind als [Archiv hier abgelegt](./0243_dateien.zip)."
   ]
  },
  {
   "cell_type": "markdown",
   "metadata": {},
   "source": [
    "## Dateien öffnen und schließen"
   ]
  },
  {
   "cell_type": "markdown",
   "metadata": {},
   "source": [
    "Um einen Zugriff auf eine Datei zu bekommen, muss diese fürs Lesen oder Schreiben geöffnet werden. Dazu kann die Funktion `open` verwendet werden. Diese nimmt zwei Argumente, den Pfad der Datei und den Zugriffsmodus, auf und liefert ein Dateiobjekt zurück. Über dieses Objekt erfolgt dann der Zugriff auf die Inhalte der Datei. "
   ]
  },
  {
   "cell_type": "code",
   "execution_count": null,
   "metadata": {},
   "outputs": [],
   "source": [
    "datei = open('dateien/wuppertal.txt', 'r')"
   ]
  },
  {
   "cell_type": "markdown",
   "metadata": {},
   "source": [
    "Als Zugriffsmodus stehen folgende Optionen zur Verfügung:\n",
    "\n",
    "| Modul | Beschreibung |\n",
    "| :--: | :--: |\n",
    "| `r` | lesender Zugriff |\n",
    "| `w` | Schreibzugriff, Datei wird überschrieben |\n",
    "| `a` | Schreibzugriff, Inhalte werden angehängt |"
   ]
  },
  {
   "cell_type": "markdown",
   "metadata": {},
   "source": [
    "Nach dem Durchführen der Operationen, sollte die Datei geschlossen werden und somit für den Zugriff durch andere Programme freigegeben werden."
   ]
  },
  {
   "cell_type": "markdown",
   "metadata": {},
   "source": [
    "Zum Schließen kann die `close`-Methode verwendet werden."
   ]
  },
  {
   "cell_type": "code",
   "execution_count": 2,
   "metadata": {},
   "outputs": [],
   "source": [
    "datei.close()"
   ]
  },
  {
   "cell_type": "markdown",
   "metadata": {},
   "source": [
    "## Inhalt einlesen"
   ]
  },
  {
   "cell_type": "markdown",
   "metadata": {},
   "source": [
    "Im Allgemeinen wird eine Datei mit der `open`-Funktion im Textmodus geöffnet. Das heisst, dass ihr Inhalt als Zeichenketten ausgegeben wird. "
   ]
  },
  {
   "cell_type": "markdown",
   "metadata": {},
   "source": [
    "Um den gesamten Inhalt einer Textdatei einzulesen kann die `read`-Methode verwendet werden. "
   ]
  },
  {
   "cell_type": "code",
   "execution_count": 3,
   "metadata": {},
   "outputs": [
    {
     "name": "stdout",
     "output_type": "stream",
     "text": [
      "Inhalt der Datei:\n",
      "=================\n",
      "Aus Wikipedia: Wuppertal ist mit 354.382 Einwohnern (31. \n",
      "Dezember 2018) die größte Stadt und das Industrie-, \n",
      "Wirtschafts-, Bildungs- und Kulturzentrum des Bergischen \n",
      "Landes im Westen Deutschlands. Die „Großstadt im Grünen“ \n",
      "liegt südlich des Ruhrgebiets im Regierungsbezirk \n",
      "Düsseldorf und ist als siebzehntgrößte Stadt Deutschlands \n",
      "eines der Oberzentren des Landes Nordrhein-Westfalen. Die \n",
      "Stadt ist Teil der Metropolregionen Rhein-Ruhr und \n",
      "Rheinland, des Landschaftsverbands Rheinland sowie des \n",
      "Bergischen Städtedreiecks.\n",
      "\n",
      "Länge der Zeichenkette:  530\n"
     ]
    }
   ],
   "source": [
    "datei = open('dateien/wuppertal.txt', 'r')\n",
    "\n",
    "inhalt = datei.read()\n",
    "\n",
    "datei.close()\n",
    "\n",
    "print( \"Inhalt der Datei:\")\n",
    "print( \"=================\")\n",
    "print( inhalt )\n",
    "print()\n",
    "print( \"Länge der Zeichenkette: \", len(inhalt))"
   ]
  },
  {
   "cell_type": "markdown",
   "metadata": {},
   "source": [
    "Neben dem instantanen Einlesen des gesamten Inhalts, kann die Datei auch zeilenweise mit der `readline`-Methode gelesen werden. Dabei bilden die Zeilenendzeichen die Trennung zwischen den einzelnen Zeilen."
   ]
  },
  {
   "cell_type": "markdown",
   "metadata": {},
   "source": [
    "Sollen beispielsweise nur die ersten drei Zeilen eingelesen werden, so kann dies mit einer einfachen `for`-Schleife erfolgen."
   ]
  },
  {
   "cell_type": "code",
   "execution_count": 4,
   "metadata": {},
   "outputs": [
    {
     "name": "stdout",
     "output_type": "stream",
     "text": [
      "Inhalt Zeile 0:\n",
      "Aus Wikipedia: Wuppertal ist mit 354.382 Einwohnern (31. \n",
      "\n",
      "Inhalt Zeile 1:\n",
      "Dezember 2018) die größte Stadt und das Industrie-, \n",
      "\n",
      "Inhalt Zeile 2:\n",
      "Wirtschafts-, Bildungs- und Kulturzentrum des Bergischen \n",
      "\n"
     ]
    }
   ],
   "source": [
    "datei = open('dateien/wuppertal.txt', 'r')\n",
    "\n",
    "for i in range(3):\n",
    "    zeile = datei.readline()\n",
    "    print(f\"Inhalt Zeile {i}:\")\n",
    "    print(zeile)\n",
    "\n",
    "datei.close()"
   ]
  },
  {
   "cell_type": "markdown",
   "metadata": {},
   "source": [
    "Eine weitere Möglichkeit des Auslesens ist die Nutzung des Dateiobjekts als Sequenz, bei welcher jede Zeile der Datei einem Element entspricht."
   ]
  },
  {
   "cell_type": "code",
   "execution_count": 5,
   "metadata": {},
   "outputs": [
    {
     "name": "stdout",
     "output_type": "stream",
     "text": [
      "Inhalt Zeile 0, mit 58 Zeichen:\n",
      "Aus Wikipedia: Wuppertal ist mit 354.382 Einwohnern (31. \n",
      "\n",
      "Inhalt Zeile 1, mit 53 Zeichen:\n",
      "Dezember 2018) die größte Stadt und das Industrie-, \n",
      "\n",
      "Inhalt Zeile 2, mit 58 Zeichen:\n",
      "Wirtschafts-, Bildungs- und Kulturzentrum des Bergischen \n",
      "\n",
      "Inhalt Zeile 3, mit 58 Zeichen:\n",
      "Landes im Westen Deutschlands. Die „Großstadt im Grünen“ \n",
      "\n",
      "Inhalt Zeile 4, mit 51 Zeichen:\n",
      "liegt südlich des Ruhrgebiets im Regierungsbezirk \n",
      "\n",
      "Inhalt Zeile 5, mit 59 Zeichen:\n",
      "Düsseldorf und ist als siebzehntgrößte Stadt Deutschlands \n",
      "\n",
      "Inhalt Zeile 6, mit 59 Zeichen:\n",
      "eines der Oberzentren des Landes Nordrhein-Westfalen. Die \n",
      "\n",
      "Inhalt Zeile 7, mit 52 Zeichen:\n",
      "Stadt ist Teil der Metropolregionen Rhein-Ruhr und \n",
      "\n",
      "Inhalt Zeile 8, mit 56 Zeichen:\n",
      "Rheinland, des Landschaftsverbands Rheinland sowie des \n",
      "\n",
      "Inhalt Zeile 9, mit 26 Zeichen:\n",
      "Bergischen Städtedreiecks.\n"
     ]
    }
   ],
   "source": [
    "datei = open('dateien/wuppertal.txt', 'r')\n",
    "\n",
    "i = 0\n",
    "for zeile in datei:\n",
    "    print(f\"Inhalt Zeile {i}, mit {len(zeile)} Zeichen:\")\n",
    "    print(zeile)\n",
    "    i += 1\n",
    "\n",
    "datei.close()"
   ]
  },
  {
   "cell_type": "markdown",
   "metadata": {},
   "source": [
    "## Mehrere Dateien einlesen"
   ]
  },
  {
   "cell_type": "markdown",
   "metadata": {},
   "source": [
    "Um mehrere Dateien einzulesen kann entsprechend eine Schleife über alle zu lesenden Dateien erstellt werden. Ist diese Liste jedoch nicht bekannt uns soll z.B. über alle Dateien mit bestimmten Merkmalen iteriert werden, kann das `glob`-Modul verwendet werden."
   ]
  },
  {
   "cell_type": "markdown",
   "metadata": {},
   "source": [
    "Mit der `glob`-Funktion des `glob`-Moduls kann nach Dateinamen gesucht werden. Dabei können auch Platzhalter, sogenannte Wildcards, verwendet werden:\n",
    "\n",
    "| Wildcard | Funktion |\n",
    "| :--: | :--: |\n",
    "| `*` | beliebige Zeichenfolge |\n",
    "| `?` | ein beliebiges Zeichen |\n",
    "|`[]` | alle in den Klammern eingeschlossenen Zeichen |"
   ]
  },
  {
   "cell_type": "markdown",
   "metadata": {},
   "source": [
    "Folgender Aufruf listet alle Dateien im Verzeichnis `dateien` auf: "
   ]
  },
  {
   "cell_type": "code",
   "execution_count": 6,
   "metadata": {},
   "outputs": [
    {
     "name": "stdout",
     "output_type": "stream",
     "text": [
      "Anzahl der gefundenen Dateien: 7\n",
      "Dateienliste:\n",
      "   dateien/juelich.txt\n",
      "   dateien/zahlen.csv\n",
      "   dateien/bochum.txt\n",
      "   dateien/wuppertal.txt\n",
      "   dateien/tabelle.csv\n",
      "   dateien/neue_datei.txt\n",
      "   dateien/unwichtig.dat\n"
     ]
    }
   ],
   "source": [
    "import glob\n",
    "\n",
    "l1 = glob.glob('dateien/*')\n",
    "\n",
    "print(f\"Anzahl der gefundenen Dateien: {len(l1)}\")\n",
    "print(\"Dateienliste:\")\n",
    "for i in l1:\n",
    "    print(\"  \", i)"
   ]
  },
  {
   "cell_type": "markdown",
   "metadata": {},
   "source": [
    "Soll beispielsweise nur nach Dateien mit der Endung `.txt` gesucht werden, kann dies entsprechend in dem Suchschema angegeben werden:"
   ]
  },
  {
   "cell_type": "code",
   "execution_count": 7,
   "metadata": {},
   "outputs": [
    {
     "name": "stdout",
     "output_type": "stream",
     "text": [
      "Anzahl der gefundenen Dateien: 4\n",
      "Dateienliste:\n",
      "   dateien/juelich.txt\n",
      "   dateien/bochum.txt\n",
      "   dateien/wuppertal.txt\n",
      "   dateien/neue_datei.txt\n"
     ]
    }
   ],
   "source": [
    "l2 = glob.glob('dateien/*.txt')\n",
    "\n",
    "print(f\"Anzahl der gefundenen Dateien: {len(l2)}\")\n",
    "print(\"Dateienliste:\")\n",
    "for i in l2:\n",
    "    print(\"  \", i)"
   ]
  },
  {
   "cell_type": "markdown",
   "metadata": {},
   "source": [
    "So kann beispielsweise die erste Zeile aller gefundenen Dateien ausgegeben werden: "
   ]
  },
  {
   "cell_type": "code",
   "execution_count": 8,
   "metadata": {},
   "outputs": [
    {
     "name": "stdout",
     "output_type": "stream",
     "text": [
      "Erste Zeile der Datei 'dateien/juelich.txt':\n",
      "Aus Wikipedia: Jülich liegt an der Rur. Das zugehörige \n",
      "\n",
      "Erste Zeile der Datei 'dateien/bochum.txt':\n",
      "Aus Wikipedia: Die Stadt Bochum [ˈboːxʊm] (westfälisch: \n",
      "\n",
      "Erste Zeile der Datei 'dateien/wuppertal.txt':\n",
      "Aus Wikipedia: Wuppertal ist mit 354.382 Einwohnern (31. \n",
      "\n",
      "Erste Zeile der Datei 'dateien/neue_datei.txt':\n",
      "Hallo Dateiwelt!\n"
     ]
    }
   ],
   "source": [
    "l3 = glob.glob('dateien/*.txt')\n",
    "\n",
    "for dname in l3:\n",
    "    datei = open(dname, 'r')\n",
    "    zeile = datei.readline()\n",
    "    datei.close()\n",
    "    \n",
    "    print(f\"Erste Zeile der Datei '{dname}':\")\n",
    "    print(zeile)"
   ]
  },
  {
   "cell_type": "markdown",
   "metadata": {},
   "source": [
    "## Dateien schreiben"
   ]
  },
  {
   "cell_type": "markdown",
   "metadata": {},
   "source": [
    "Wir eine Datei im Schreibmodus `w` geöffnet, kann sie mit Inhalt beschrieben werden. Dazu wird die `write`-Methode eines Dateiobjekts verwendet, welches als Argument die zu schreibende Zeichenkette enthält."
   ]
  },
  {
   "cell_type": "code",
   "execution_count": 9,
   "metadata": {
    "tags": [
     "remove_cell"
    ]
   },
   "outputs": [],
   "source": [
    "import os\n",
    "\n",
    "if os.path.exists('dateien/neue_datei.txt'):\n",
    "    os.remove('dateien/neue_datei.txt')"
   ]
  },
  {
   "cell_type": "code",
   "execution_count": 10,
   "metadata": {},
   "outputs": [
    {
     "name": "stdout",
     "output_type": "stream",
     "text": [
      "Dateienliste nach dem Erstellen der neuen Datei:\n",
      "   dateien/juelich.txt\n",
      "   dateien/zahlen.csv\n",
      "   dateien/bochum.txt\n",
      "   dateien/wuppertal.txt\n",
      "   dateien/tabelle.csv\n",
      "   dateien/unwichtig.dat\n"
     ]
    }
   ],
   "source": [
    "# Ursprüngliche Liste der Datein \n",
    "l4 = glob.glob('dateien/*')\n",
    "print(\"Dateienliste nach dem Erstellen der neuen Datei:\")\n",
    "for i in l4:\n",
    "    print(\"  \", i)"
   ]
  },
  {
   "cell_type": "code",
   "execution_count": 11,
   "metadata": {},
   "outputs": [],
   "source": [
    "# Öffne Datei zum Schreiben\n",
    "datei = open('dateien/neue_datei.txt', 'w')\n",
    "\n",
    "# Schreibe einfachen Inhalt\n",
    "datei.write('Hallo Dateiwelt!')\n",
    "\n",
    "# Schließe die Datei\n",
    "datei.close()"
   ]
  },
  {
   "cell_type": "code",
   "execution_count": 12,
   "metadata": {},
   "outputs": [
    {
     "name": "stdout",
     "output_type": "stream",
     "text": [
      "Dateienliste nach dem Erstellen der neuen Datei:\n",
      "   dateien/juelich.txt\n",
      "   dateien/zahlen.csv\n",
      "   dateien/bochum.txt\n",
      "   dateien/wuppertal.txt\n",
      "   dateien/tabelle.csv\n",
      "   dateien/neue_datei.txt\n",
      "   dateien/unwichtig.dat\n"
     ]
    }
   ],
   "source": [
    "# Neue Liste der Datein \n",
    "l5 = glob.glob('dateien/*')\n",
    "print(\"Dateienliste nach dem Erstellen der neuen Datei:\")\n",
    "for i in l5:\n",
    "    print(\"  \", i)"
   ]
  },
  {
   "cell_type": "markdown",
   "metadata": {},
   "source": [
    "Wie gewohnt kann der Inhalt der neuen Datei eingelesen und ausgegeben werden:"
   ]
  },
  {
   "cell_type": "code",
   "execution_count": 13,
   "metadata": {},
   "outputs": [
    {
     "name": "stdout",
     "output_type": "stream",
     "text": [
      "Hallo Dateiwelt!\n"
     ]
    }
   ],
   "source": [
    "datei = open('dateien/neue_datei.txt', 'r')\n",
    "inhalt = datei.read()\n",
    "datei.close()\n",
    "\n",
    "print(inhalt)"
   ]
  },
  {
   "cell_type": "markdown",
   "metadata": {},
   "source": [
    "## Daten interpretieren "
   ]
  },
  {
   "cell_type": "markdown",
   "metadata": {},
   "source": [
    "Numerische Daten können als Textdateien gespeichert werden. Um diese zu Verarbeiten, müssen die Zeichenketten, welche diese Werte darstellen, interpretiert werden. Dazu können die Funktionen `int` und `float` verwendet werden. "
   ]
  },
  {
   "cell_type": "code",
   "execution_count": 14,
   "metadata": {},
   "outputs": [
    {
     "name": "stdout",
     "output_type": "stream",
     "text": [
      "88 1.3E2\n",
      "<class 'str'>\n",
      "88 130.0\n",
      "<class 'int'>\n"
     ]
    }
   ],
   "source": [
    "str_a = \"88\"\n",
    "str_b = \"1.3E2\"\n",
    "print(str_a, str_b)\n",
    "print(type(str_a))\n",
    "\n",
    "a = int(str_a)\n",
    "b = float(str_b)\n",
    "\n",
    "print(a, b)\n",
    "print(type(a))"
   ]
  },
  {
   "cell_type": "markdown",
   "metadata": {},
   "source": [
    "Im folgenden Beispiel wird die Datei `dateien/zahlen.csv` zeilenweise eingelesen und die Werte jeder Zeile als Gleitkommazahl interpretiert. Am Ende wird die Summe aller Einträge gebildet."
   ]
  },
  {
   "cell_type": "code",
   "execution_count": 15,
   "metadata": {},
   "outputs": [
    {
     "name": "stdout",
     "output_type": "stream",
     "text": [
      "45\n",
      "-12\n",
      "2.3\n",
      "-114\n",
      "37\n",
      "67.3 \n"
     ]
    }
   ],
   "source": [
    "# Inhalt der Datei (nur zur Darstellung)\n",
    "datei = open('dateien/zahlen.csv')\n",
    "print(datei.read())\n",
    "datei.close()"
   ]
  },
  {
   "cell_type": "code",
   "execution_count": 16,
   "metadata": {},
   "outputs": [
    {
     "name": "stdout",
     "output_type": "stream",
     "text": [
      "aktuelle Zahl:   45.0; Zwischensumme:  45.00\n",
      "aktuelle Zahl:  -12.0; Zwischensumme:  33.00\n",
      "aktuelle Zahl:    2.3; Zwischensumme:  35.30\n",
      "aktuelle Zahl: -114.0; Zwischensumme: -78.70\n",
      "aktuelle Zahl:   37.0; Zwischensumme: -41.70\n",
      "aktuelle Zahl:   67.3; Zwischensumme:  25.60\n",
      "\n",
      "Summe:  25.60\n"
     ]
    }
   ],
   "source": [
    "datei = open('dateien/zahlen.csv')\n",
    "\n",
    "summe = 0\n",
    "for zeile in datei:\n",
    "    zahl = float(zeile)\n",
    "    summe += zahl\n",
    "    print(f\"aktuelle Zahl: {zahl:6}; Zwischensumme: {summe:6.2f}\")\n",
    "\n",
    "print(f\"\\nSumme: {summe:6.2f}\")\n",
    "\n",
    "datei.close()"
   ]
  },
  {
   "cell_type": "markdown",
   "metadata": {},
   "source": [
    "Befinden sich mehrere Zahlen in einer Zeile, so müssen diese durch ein Trennzeichen, z.B. ein Komma `,`, getrennt sein. Ist dieses bekannt, so kann nach dem Einlesen die Zeile entsprechent getrennt werden. Hierzu kann die `split`-Methode der Zeichenketten verwendte werden. Sie gibt eine Liste alle vom Trennzeichen getrennten Elemente zurück."
   ]
  },
  {
   "cell_type": "code",
   "execution_count": 17,
   "metadata": {},
   "outputs": [
    {
     "name": "stdout",
     "output_type": "stream",
     "text": [
      "Zeichenkette: 4, 5, -11, 3, 0, -2\n",
      "Getrennte Liste: ['4', ' 5', ' -11', ' 3', ' 0', ' -2']\n"
     ]
    }
   ],
   "source": [
    "s1 = \"4, 5, -11, 3, 0, -2\"\n",
    "str_elemente = s1.split(',')\n",
    "print(f\"Zeichenkette: {s1}\")\n",
    "print(f\"Getrennte Liste: {str_elemente}\")"
   ]
  },
  {
   "cell_type": "markdown",
   "metadata": {},
   "source": [
    "Nun sind die getrennten Elemente aber noch Zeichenketten und müssen in Zahlen umgewandelt werden:"
   ]
  },
  {
   "cell_type": "code",
   "execution_count": 18,
   "metadata": {},
   "outputs": [
    {
     "name": "stdout",
     "output_type": "stream",
     "text": [
      "Getrennte Liste: [4.0, 5.0, -11.0, 3.0, 0.0, -2.0]\n"
     ]
    }
   ],
   "source": [
    "elemente = []\n",
    "for el in str_elemente:\n",
    "    zahl = float(el)\n",
    "    elemente.append(zahl)\n",
    "    \n",
    "print(f\"Getrennte Liste: {elemente}\")"
   ]
  },
  {
   "cell_type": "markdown",
   "metadata": {},
   "source": [
    "Im folgenden Beispiel wird eine Datei mit jeweils zwei Einträgen pro Zeile, d.h. zwei Spalten, eingelesen und jeweils eine Liste pro Spalte generiert."
   ]
  },
  {
   "cell_type": "code",
   "execution_count": 19,
   "metadata": {},
   "outputs": [
    {
     "name": "stdout",
     "output_type": "stream",
     "text": [
      "1,1\n",
      "2,4\n",
      "3,9\n",
      "4,16\n",
      "5,25\n",
      "6,36\n",
      "7,49\n",
      "8,64\n"
     ]
    }
   ],
   "source": [
    "# Inhalt der Datei (nur zur Darstellung)\n",
    "datei = open('dateien/tabelle.csv')\n",
    "print(datei.read())\n",
    "datei.close()"
   ]
  },
  {
   "cell_type": "code",
   "execution_count": 20,
   "metadata": {},
   "outputs": [
    {
     "name": "stdout",
     "output_type": "stream",
     "text": [
      "Spalte x: [1.0, 2.0, 3.0, 4.0, 5.0, 6.0, 7.0, 8.0]\n",
      "Spalte y: [1.0, 4.0, 9.0, 16.0, 25.0, 36.0, 49.0, 64.0]\n"
     ]
    }
   ],
   "source": [
    "datei = open('dateien/tabelle.csv')\n",
    "\n",
    "# leere Listen, welche mit jedem Zeilendurchlauf gefüllt werden\n",
    "spalte_x = []\n",
    "spalte_y = []\n",
    "\n",
    "# Iteration durch die Tabellendatei \n",
    "for zeile in datei:\n",
    "    # Aufspaltung der Zeile, mit `,` als Trennzeichen\n",
    "    str_elemente = zeile.split(',')\n",
    "    # Umwandlung Zeichenkette in Gleitkommazahl\n",
    "    x = float(str_elemente[0])\n",
    "    y = float(str_elemente[1])\n",
    "    # Füllen der Listen\n",
    "    spalte_x.append(x)\n",
    "    spalte_y.append(y)\n",
    "\n",
    "# Datei schließen\n",
    "datei.close()\n",
    "\n",
    "# Ausgabe der Ergebnislisten\n",
    "print(\"Spalte x:\", spalte_x)\n",
    "print(\"Spalte y:\", spalte_y)"
   ]
  }
 ],
 "metadata": {
  "kernelspec": {
   "display_name": "Python 3",
   "language": "python",
   "name": "python3"
  },
  "language_info": {
   "codemirror_mode": {
    "name": "ipython",
    "version": 3
   },
   "file_extension": ".py",
   "mimetype": "text/x-python",
   "name": "python",
   "nbconvert_exporter": "python",
   "pygments_lexer": "ipython3",
   "version": "3.8.2"
  }
 },
 "nbformat": 4,
 "nbformat_minor": 4
}
