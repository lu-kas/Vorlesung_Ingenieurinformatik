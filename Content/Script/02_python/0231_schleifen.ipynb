{
 "cells": [
  {
   "cell_type": "markdown",
   "metadata": {},
   "source": [
    "# Schleifen"
   ]
  },
  {
   "cell_type": "markdown",
   "metadata": {},
   "source": [
    "## Definition"
   ]
  },
  {
   "cell_type": "markdown",
   "metadata": {},
   "source": [
    "In Python können zwei Arten von Schleifen definiert werden: `while`- und `for`-Schleifen. "
   ]
  },
  {
   "cell_type": "markdown",
   "metadata": {},
   "source": [
    "### `while`-Schleifen"
   ]
  },
  {
   "cell_type": "markdown",
   "metadata": {},
   "source": [
    "Eine `while`-Schleife für den Anweisungsblock immer wieder aus solange die Ausführbedingung wahr ist. Formal sieht eine solche Schleife wie folgt aus:"
   ]
  },
  {
   "cell_type": "markdown",
   "metadata": {},
   "source": [
    "```python\n",
    "while Bedingung:\n",
    "    Anweisungsblock\n",
    "```"
   ]
  },
  {
   "cell_type": "markdown",
   "metadata": {},
   "source": [
    "Die Schleife wird mit dem Schlüsselwort `while` eingeleitet, gefolgt von der Ausführbedingung. Dieser Schleifenkopf wird mit einem Doppelpunkt `:` abgeschlossen. Darunter wird der eingerückte Anweisungsblock definiert, d.h. die Gruppe von Ausdrücken, welche kontinuierlich ausgeführt werden. Beim Beginn der Schleife und nach jedem Durchlauf wird die Bedingung geprüft. Ist sie wahr, so wird der Anweisungsblock ausgeführt, wenn nicht, ist die Schleife beendet und die nächste Anweisung außerhalb der Schleife ausgeführt."
   ]
  },
  {
   "cell_type": "markdown",
   "metadata": {},
   "source": [
    "Folgende Beispiele verdeutlichen die funktionsweise der `while`-Schleife. Im ersten Fall wird eine Variable kontinuierlich erhöht wird bis sie einen Grenzwert erreicht und im zweiten werden die Elemente einer Liste einzeln ausgegeben."
   ]
  },
  {
   "cell_type": "code",
   "execution_count": 2,
   "metadata": {},
   "outputs": [
    {
     "name": "stdout",
     "output_type": "stream",
     "text": [
      "aktueller Wert von a 5\n",
      "aktueller Wert von a 6\n",
      "aktueller Wert von a 7\n",
      "aktueller Wert von a 8\n",
      "aktueller Wert von a 9\n",
      "aktueller Wert von a 10\n",
      "Wert von a nach der Schleife 11\n"
     ]
    }
   ],
   "source": [
    "# Beispiel 1: Erhöhung einer Variablen\n",
    "\n",
    "# Setzte Startwert\n",
    "a = 5\n",
    "\n",
    "# Definiere Schleife, welche solange ausgeführt \n",
    "# wird, wie a kleiner als 10 ist\n",
    "while a <= 10:\n",
    "    # Anweisungsblock der Schleife:\n",
    "    \n",
    "    # 1. Ausgabe des aktuellen Werts von a \n",
    "    print('aktueller Wert von a', a)\n",
    "    \n",
    "    # 2. Erhöhung von a um Eins\n",
    "    a += 1\n",
    "\n",
    "# Ausgabe des Wertes nach der Schleife\n",
    "print('Wert von a nach der Schleife', a)\n"
   ]
  },
  {
   "cell_type": "code",
   "execution_count": 7,
   "metadata": {},
   "outputs": [
    {
     "name": "stdout",
     "output_type": "stream",
     "text": [
      "Beginn des Ausführungsblocks, Wert der Laufvariablen: 0\n",
      "Element mit dem Index 0 hat den Wert: 34\n",
      "\n",
      "Beginn des Ausführungsblocks, Wert der Laufvariablen: 1\n",
      "Element mit dem Index 1 hat den Wert: -12.4\n",
      "\n",
      "Beginn des Ausführungsblocks, Wert der Laufvariablen: 2\n",
      "Element mit dem Index 2 hat den Wert: feuer\n",
      "\n",
      "Beginn des Ausführungsblocks, Wert der Laufvariablen: 3\n",
      "Element mit dem Index 3 hat den Wert: 0.3\n",
      "\n",
      "Beginn des Ausführungsblocks, Wert der Laufvariablen: 4\n",
      "Element mit dem Index 4 hat den Wert: 12\n",
      "\n"
     ]
    }
   ],
   "source": [
    "# Beispiel 2: Einzelausgabe vo Listenelementen\n",
    "\n",
    "# Definiere eine Liste\n",
    "l1 = [34, -12.4, 'feuer', 0.3, 12]\n",
    "\n",
    "# Definiere eine Laufvariable\n",
    "i = 0\n",
    "\n",
    "# Schleife, welche solgange durchlaufen wird, wie\n",
    "# die Laufvariable kleiner als die Länge der Liste ist\n",
    "while i < len(l1):\n",
    "    print('Beginn des Ausführungsblocks, Wert der Laufvariablen:', i)\n",
    "    # Ausgabe des Elements mit dem Index i\n",
    "    print('Element mit dem Index', i, 'hat den Wert:', l1[i])\n",
    "    print()\n",
    "    # Erhöhung der Laufvariablen\n",
    "    i += 1"
   ]
  }
 ],
 "metadata": {
  "kernelspec": {
   "display_name": "Python 3",
   "language": "python",
   "name": "python3"
  },
  "language_info": {
   "codemirror_mode": {
    "name": "ipython",
    "version": 3
   },
   "file_extension": ".py",
   "mimetype": "text/x-python",
   "name": "python",
   "nbconvert_exporter": "python",
   "pygments_lexer": "ipython3",
   "version": "3.8.2"
  }
 },
 "nbformat": 4,
 "nbformat_minor": 4
}
