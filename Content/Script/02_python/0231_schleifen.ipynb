{
 "cells": [
  {
   "cell_type": "markdown",
   "metadata": {},
   "source": [
    "# Schleifen"
   ]
  },
  {
   "cell_type": "markdown",
   "metadata": {},
   "source": [
    "Schleifen ermöglichen das systematische Iterieren bzw. Wiederholen von Anweisungen. \n",
    "\n",
    "Im Maximum-Algorithmus, werden Schleifen benutzt um alle Elemente der Eingabeliste durchzulaufen und deren Wert zu evaluieren."
   ]
  },
  {
   "cell_type": "markdown",
   "metadata": {},
   "source": [
    "## Typen von Schleifen"
   ]
  },
  {
   "cell_type": "markdown",
   "metadata": {},
   "source": [
    "In Python können zwei Arten von Schleifen definiert werden: `while`- und `for`-Schleifen. Beide benötigen zwei Definitionen:\n",
    "\n",
    "* **Schleifenkopf**, welcher die Ausführung des Anweisungsblocks steuert, und\n",
    "* **Anweisungsblock**, Gruppe von Anweisungen, welche bei jedem Schleifendurchlauf ausgeführt werden.\n",
    "\n",
    "Welcher der beiden Typen verwendet wird, hängt von der jeweiligen Aufgabe ab. Die allgemeinere von beiden ist die `while`-Schleife, d.h. jede `for`-Schleife kann als eine `while`-Schleife umgeschrieben werden."
   ]
  },
  {
   "cell_type": "markdown",
   "metadata": {},
   "source": [
    "## `while`-Schleifen"
   ]
  },
  {
   "cell_type": "markdown",
   "metadata": {},
   "source": [
    "Eine `while`-Schleife für den Anweisungsblock immer wieder aus solange die Ausführbedingung wahr ist. Formal sieht eine solche Schleife wie folgt aus:"
   ]
  },
  {
   "cell_type": "markdown",
   "metadata": {},
   "source": [
    "```python\n",
    "while Bedingung:\n",
    "    Anweisungsblock\n",
    "```"
   ]
  },
  {
   "cell_type": "markdown",
   "metadata": {},
   "source": [
    "Die Schleife wird mit dem Schlüsselwort `while` eingeleitet, gefolgt von der Ausführbedingung. Dieser Schleifenkopf wird mit einem Doppelpunkt `:` abgeschlossen. Darunter wird der eingerückte Anweisungsblock definiert, d.h. die Gruppe von Ausdrücken, welche kontinuierlich ausgeführt werden. Beim Beginn der Schleife und nach jedem Durchlauf wird die Bedingung geprüft. Ist sie wahr, so wird der Anweisungsblock ausgeführt, wenn nicht, ist die Schleife beendet und die nächste Anweisung außerhalb der Schleife ausgeführt."
   ]
  },
  {
   "cell_type": "markdown",
   "metadata": {},
   "source": [
    "Folgende Beispiele verdeutlichen die Funktionsweise der `while`-Schleife. Im ersten Fall wird eine Variable kontinuierlich erhöht bis sie einen Grenzwert erreicht und im zweiten Beispiel werden die Elemente einer Liste einzeln ausgegeben."
   ]
  },
  {
   "cell_type": "code",
   "execution_count": 1,
   "metadata": {},
   "outputs": [
    {
     "name": "stdout",
     "output_type": "stream",
     "text": [
      "aktueller Wert von a 5\n",
      "aktueller Wert von a 6\n",
      "aktueller Wert von a 7\n",
      "aktueller Wert von a 8\n",
      "aktueller Wert von a 9\n",
      "aktueller Wert von a 10\n",
      "Wert von a nach der Schleife 11\n"
     ]
    }
   ],
   "source": [
    "# Beispiel 1: Erhöhen eines Variablenwertes\n",
    "\n",
    "# Setzte Startwert\n",
    "a = 5\n",
    "\n",
    "# Definiere Schleife, welche solange ausgeführt \n",
    "# wird, wie a kleiner als 10 ist\n",
    "while a <= 10:\n",
    "    # Anweisungsblock der Schleife:\n",
    "    \n",
    "    # 1. Ausgabe des aktuellen Werts von a \n",
    "    print('aktueller Wert von a', a)\n",
    "    \n",
    "    # 2. Erhöhung von a um Eins\n",
    "    a += 1\n",
    "\n",
    "# Ausgabe des Wertes nach der Schleife\n",
    "print('Wert von a nach der Schleife', a)\n"
   ]
  },
  {
   "cell_type": "code",
   "execution_count": 2,
   "metadata": {},
   "outputs": [
    {
     "name": "stdout",
     "output_type": "stream",
     "text": [
      "Beginn des Ausführungsblocks, Wert der Laufvariablen: 0\n",
      "Element mit dem Index 0 hat den Wert: 34\n",
      "\n",
      "Beginn des Ausführungsblocks, Wert der Laufvariablen: 1\n",
      "Element mit dem Index 1 hat den Wert: -12.4\n",
      "\n",
      "Beginn des Ausführungsblocks, Wert der Laufvariablen: 2\n",
      "Element mit dem Index 2 hat den Wert: feuer\n",
      "\n",
      "Beginn des Ausführungsblocks, Wert der Laufvariablen: 3\n",
      "Element mit dem Index 3 hat den Wert: 0.3\n",
      "\n",
      "Beginn des Ausführungsblocks, Wert der Laufvariablen: 4\n",
      "Element mit dem Index 4 hat den Wert: 12\n",
      "\n"
     ]
    }
   ],
   "source": [
    "# Beispiel 2: Einzelausgabe von Listenelementen\n",
    "\n",
    "# Definiere eine Liste\n",
    "l1 = [34, -12.4, 'feuer', 0.3, 12]\n",
    "\n",
    "# Definiere eine Laufvariable\n",
    "i = 0\n",
    "\n",
    "# Schleife, welche solgange durchlaufen wird, wie\n",
    "# die Laufvariable kleiner als die Länge der Liste ist\n",
    "while i < len(l1):\n",
    "    print('Beginn des Ausführungsblocks, Wert der Laufvariablen:', i)\n",
    "    # Ausgabe des Elements mit dem Index i\n",
    "    print('Element mit dem Index', i, 'hat den Wert:', l1[i])\n",
    "    print()\n",
    "    # Erhöhung der Laufvariablen\n",
    "    i += 1"
   ]
  },
  {
   "cell_type": "markdown",
   "metadata": {},
   "source": [
    "## `for`-Schleifen"
   ]
  },
  {
   "cell_type": "markdown",
   "metadata": {},
   "source": [
    "Während die `while`-Schleifen ausgeführt werden, solange eine Bedingung erfüllt ist, werden `for`-Schleifen alle Elemente einer Sequenz, z.B. einer Liste, ausgeführt. Dazu wird eine Laufvariable generiert, welche bei jedem Durchlauf des Anweisungsblocks den aktuellen Wert aus der Sequenz einnimmt. Die Syntax sieht wie folgt aus:"
   ]
  },
  {
   "cell_type": "markdown",
   "metadata": {},
   "source": [
    "```python\n",
    "for Laufvariable in Sequenz:\n",
    "    Anweisungsblock\n",
    "```"
   ]
  },
  {
   "cell_type": "markdown",
   "metadata": {},
   "source": [
    "Zur Definition des Schleifenkopfes gehören die beiden Schlüsselworte `for` und `in` und der Kopf wird mit einem Doppelpunkt `:` abgeschlossen. Auch hier wird der Anweisungsblock eingerückt."
   ]
  },
  {
   "cell_type": "markdown",
   "metadata": {},
   "source": [
    "Als Sequenz können beispielsweise Listen, Ranges (Datenstrukturen, welche durch die `range`-Funktion erzeugt werden), Zeichenketten oder Dateien verwendet werden."
   ]
  },
  {
   "cell_type": "markdown",
   "metadata": {},
   "source": [
    "Die obigen Beispiele können auch mit einer `for`-Schleife programmiert werden."
   ]
  },
  {
   "cell_type": "code",
   "execution_count": 3,
   "metadata": {},
   "outputs": [
    {
     "name": "stdout",
     "output_type": "stream",
     "text": [
      "aktueller Wert von a 5\n",
      "aktueller Wert von a 6\n",
      "aktueller Wert von a 7\n",
      "aktueller Wert von a 8\n",
      "aktueller Wert von a 9\n",
      "aktueller Wert von a 10\n"
     ]
    }
   ],
   "source": [
    "# Beispiel 3: Erhöhen eines Variablenwertes\n",
    "\n",
    "# Definiere Schleife, welche eine passende Range durchläuft\n",
    "for a in range(5, 11):\n",
    "    # Anweisungsblock der Schleife:\n",
    "    \n",
    "    # Ausgabe des aktuellen Werts von a \n",
    "    print('aktueller Wert von a', a)"
   ]
  },
  {
   "cell_type": "code",
   "execution_count": 4,
   "metadata": {},
   "outputs": [
    {
     "name": "stdout",
     "output_type": "stream",
     "text": [
      "Wert der Laufvariablen: 34\n",
      "Wert der Laufvariablen: -12.4\n",
      "Wert der Laufvariablen: feuer\n",
      "Wert der Laufvariablen: 0.3\n",
      "Wert der Laufvariablen: 12\n"
     ]
    }
   ],
   "source": [
    "# Beispiel 4: Einzelausgabe von Listenelementen\n",
    "\n",
    "# Definiere eine Liste\n",
    "l1 = [34, -12.4, 'feuer', 0.3, 12]\n",
    "\n",
    "# Schleife, welche für alle Elemente der Liste l1 ausgeführt wird\n",
    "for i in l1:\n",
    "    print('Wert der Laufvariablen:', i)\n"
   ]
  },
  {
   "cell_type": "markdown",
   "metadata": {},
   "source": [
    "## Verschachtelte Schleifen"
   ]
  },
  {
   "cell_type": "markdown",
   "metadata": {},
   "source": [
    "Es können mehrere Schleifen kombiniert werden. Dazu befindet sich die innere Schleife im Anweisungsblock der äußeren Schleife. "
   ]
  },
  {
   "cell_type": "markdown",
   "metadata": {},
   "source": [
    "Folgendes Beispiel verdeutlicht diesen Einsatz beim Zugriff auf eine Liste mit Listenelementen. Dabei iteriert die äußere Schleife über die Elemente der Liste, welche selbst wieder Listen sind."
   ]
  },
  {
   "cell_type": "code",
   "execution_count": 5,
   "metadata": {},
   "outputs": [
    {
     "name": "stdout",
     "output_type": "stream",
     "text": [
      "Beginn der inneren Schleife für die Liste: [1, 2]\n",
      "Element: 1\n",
      "Element: 2\n",
      "Ende der inneren Schleife\n",
      "\n",
      "Beginn der inneren Schleife für die Liste: [11, 22, 33, 44]\n",
      "Element: 11\n",
      "Element: 22\n",
      "Element: 33\n",
      "Element: 44\n",
      "Ende der inneren Schleife\n",
      "\n",
      "Beginn der inneren Schleife für die Liste: [111, 222, 333]\n",
      "Element: 111\n",
      "Element: 222\n",
      "Element: 333\n",
      "Ende der inneren Schleife\n",
      "\n"
     ]
    }
   ],
   "source": [
    "l2 = [[1, 2], [11, 22, 33, 44], [111, 222, 333]]\n",
    "\n",
    "for el_l2 in l2:\n",
    "    \n",
    "    print( \"Beginn der inneren Schleife für die Liste:\", el_l2 )\n",
    "    \n",
    "    for el in el_l2:\n",
    "        print( \"Element:\", el )\n",
    "        \n",
    "    print( \"Ende der inneren Schleife\")\n",
    "    print()\n",
    "    "
   ]
  },
  {
   "cell_type": "markdown",
   "metadata": {},
   "source": [
    "Im obigen Beispiel kann bequem auf die Elemente zugegriffen werden, jedoch sind die Indizes nicht verfügbar. Eine alternative Möglickeit des Zugriffs ist der Einsatz von Indizes, welche über den jeweiligen Indexbereich laufen.  "
   ]
  },
  {
   "cell_type": "code",
   "execution_count": 10,
   "metadata": {},
   "outputs": [
    {
     "name": "stdout",
     "output_type": "stream",
     "text": [
      "== Beginn der äußeren Schleife\n",
      "\n",
      "Äußerer Index:  0\n",
      "Beginn der inneren Schleife für die Liste: [1, 2]\n",
      "Element mit dem Index  0 0 hat den Wert 1\n",
      "Element mit dem Index  0 1 hat den Wert 2\n",
      "Ende der inneren Schleife\n",
      "\n",
      "Äußerer Index:  1\n",
      "Beginn der inneren Schleife für die Liste: [11, 22, 33, 44]\n",
      "Element mit dem Index  1 0 hat den Wert 11\n",
      "Element mit dem Index  1 1 hat den Wert 22\n",
      "Element mit dem Index  1 2 hat den Wert 33\n",
      "Element mit dem Index  1 3 hat den Wert 44\n",
      "Ende der inneren Schleife\n",
      "\n",
      "Äußerer Index:  2\n",
      "Beginn der inneren Schleife für die Liste: [111, 222, 333]\n",
      "Element mit dem Index  2 0 hat den Wert 111\n",
      "Element mit dem Index  2 1 hat den Wert 222\n",
      "Element mit dem Index  2 2 hat den Wert 333\n",
      "Ende der inneren Schleife\n",
      "\n",
      "== Ende der äußeren Schleife\n"
     ]
    }
   ],
   "source": [
    "print( \"== Beginn der äußeren Schleife\" )\n",
    "print()\n",
    "\n",
    "for i in range(len(l2)):\n",
    "    \n",
    "    print( \"Äußerer Index: \", i )\n",
    "    print( \"Beginn der inneren Schleife für die Liste:\", l2[i] )\n",
    "    \n",
    "    for j in range(len(l2[i])):\n",
    "        print( \"Element mit dem Index \", i, j, \"hat den Wert\", l2[i][j] )\n",
    "        \n",
    "    print( \"Ende der inneren Schleife\")\n",
    "    print()\n",
    "    \n",
    "print( \"== Ende der äußeren Schleife\" )"
   ]
  }
 ],
 "metadata": {
  "kernelspec": {
   "display_name": "Python 3",
   "language": "python",
   "name": "python3"
  },
  "language_info": {
   "codemirror_mode": {
    "name": "ipython",
    "version": 3
   },
   "file_extension": ".py",
   "mimetype": "text/x-python",
   "name": "python",
   "nbconvert_exporter": "python",
   "pygments_lexer": "ipython3",
   "version": "3.8.5"
  }
 },
 "nbformat": 4,
 "nbformat_minor": 4
}
