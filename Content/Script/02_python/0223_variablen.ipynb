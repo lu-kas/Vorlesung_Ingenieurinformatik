{
 "cells": [
  {
   "cell_type": "markdown",
   "metadata": {},
   "source": [
    "# Variablen"
   ]
  },
  {
   "cell_type": "markdown",
   "metadata": {},
   "source": [
    "Variablen sind Platzhalter bzw. Referenzen auf Daten. Die Zuweisung wird durch den Zuweisungsoperator `=` dargestellt. Der Name einer Variablen darf nur aus Buchstaben, Zahlen und Unterstrichen bestehen. Dabei darf das erste Zeichen keine Zahl sein."
   ]
  },
  {
   "cell_type": "code",
   "execution_count": 1,
   "metadata": {},
   "outputs": [
    {
     "name": "stdout",
     "output_type": "stream",
     "text": [
      "5.7\n"
     ]
    }
   ],
   "source": [
    "a = 5.7\n",
    "print( a )"
   ]
  },
  {
   "cell_type": "code",
   "execution_count": 2,
   "metadata": {},
   "outputs": [
    {
     "name": "stdout",
     "output_type": "stream",
     "text": [
      "10\n"
     ]
    }
   ],
   "source": [
    "start_wert = 10\n",
    "print( start_wert )"
   ]
  },
  {
   "cell_type": "markdown",
   "metadata": {},
   "source": [
    "Jedesmal wenn in einem Ausdruck der Name der Variablen aufgeführt wird, wird dieser durch den Wert dieser ersetzt."
   ]
  },
  {
   "cell_type": "code",
   "execution_count": 3,
   "metadata": {},
   "outputs": [
    {
     "name": "stdout",
     "output_type": "stream",
     "text": [
      "34.0\n"
     ]
    }
   ],
   "source": [
    "offset = 33.2\n",
    "print( offset + 0.8 )"
   ]
  },
  {
   "cell_type": "code",
   "execution_count": 4,
   "metadata": {},
   "outputs": [
    {
     "name": "stdout",
     "output_type": "stream",
     "text": [
      "27.5\n"
     ]
    }
   ],
   "source": [
    "x0 = 5\n",
    "y0 = 12.5\n",
    "z = 3 * x0 + y0\n",
    "print( z )"
   ]
  },
  {
   "cell_type": "markdown",
   "metadata": {},
   "source": [
    "Den Variablen können neue Werte zugewiesen werden und implizit diese auch verändert werden. "
   ]
  },
  {
   "cell_type": "code",
   "execution_count": 6,
   "metadata": {},
   "outputs": [
    {
     "name": "stdout",
     "output_type": "stream",
     "text": [
      "5\n",
      "15\n",
      "20\n"
     ]
    }
   ],
   "source": [
    "c1 = 5\n",
    "print( c1 )\n",
    "\n",
    "c1 = 15\n",
    "print( c1 )\n",
    "\n",
    "c1 = c1 + 5\n",
    "print( c1 )"
   ]
  },
  {
   "cell_type": "markdown",
   "metadata": {},
   "source": [
    "Bei der Zuweisung kann gleichzeitig auch eine arithmetische Operation durchgeführt werden. Dazu werden beispielsweise die Operatoren `+=` und `*=` verwendet. Diese verkürzen folgende Ausdrücke:\n",
    "\n",
    "* `a += b` entspricht `a = a + b`\n",
    "* `a *= b` entspricht `a = a * b`"
   ]
  },
  {
   "cell_type": "markdown",
   "metadata": {},
   "source": [
    "### Benennung von Variablen\n",
    "Die Benennung von Variablen ist (meist) dem jeweiligen Programmierer überlassen, es empfiehlt sich jedoch selbsterklärende Variablennamen zu vergeben. Dies verbessert die Lesbarkeit des Codes und vereinfacht die Benutzung der Variable. Mehr Informationen finden sich in [diesem Wikipedia Abschnitt](https://de.wikipedia.org/wiki/Variable_(Programmierung)#Namenswahl).\n",
    "\n",
    "Unter selbsterklärenden Variablennamen versteht sich, dass der Variablenname den Inhalt der Variable beschreibt. Wird bspw. in einer Variable der Studienabschluss gespeichert, so kann diese mit `academic_degree` oder `studienabschluss` bezeichnet werden."
   ]
  },
  {
   "cell_type": "code",
   "execution_count": 2,
   "metadata": {},
   "outputs": [],
   "source": [
    "degree = \"Bachelor\""
   ]
  }
 ],
 "metadata": {
  "kernelspec": {
   "display_name": "Python 3",
   "language": "python",
   "name": "python3"
  },
  "language_info": {
   "codemirror_mode": {
    "name": "ipython",
    "version": 3
   },
   "file_extension": ".py",
   "mimetype": "text/x-python",
   "name": "python",
   "nbconvert_exporter": "python",
   "pygments_lexer": "ipython3",
   "version": "3.7.5"
  }
 },
 "nbformat": 4,
 "nbformat_minor": 4
}
