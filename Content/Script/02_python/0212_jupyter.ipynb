{
 "cells": [
  {
   "cell_type": "markdown",
   "metadata": {},
   "source": [
    "# JupyterLab"
   ]
  },
  {
   "cell_type": "markdown",
   "metadata": {},
   "source": [
    "JupyterLab bietet eine Softwarelösung für das Arbeiten mit Python an. Es basiert auf Jupyter, welches eine webbasierte graphische Entwicklungsumgebung bietet und aus sogenannten (Jupyter-) Notebooks aufbaut. Das Skript zu dieser Vorlesung ist in Form von Jupyter-Notebooks erstellt, womit sich Begleittext und Python-Code leicht verbinden lassen."
   ]
  },
  {
   "cell_type": "markdown",
   "metadata": {},
   "source": [
    "## Jupyter"
   ]
  },
  {
   "cell_type": "markdown",
   "metadata": {},
   "source": [
    "[Jupyter](https://de.wikipedia.org/wiki/Project_Jupyter) bietet folgende Funktionen:\n",
    "\n",
    "* Softwareentwicklung im Browser\n",
    "* externe oder lokale Betriebnahme vom Jupyter-Server \n",
    "* Vereinigung von formatierten Text ([Markdown](https://de.wikipedia.org/wiki/Markdown)) und Python-Code\n",
    "* Interaktives Arbeiten in Notebooks bestehend aus (Markdown oder Code) Zellen"
   ]
  },
  {
   "cell_type": "markdown",
   "metadata": {},
   "source": [
    "## JupyterLab"
   ]
  },
  {
   "cell_type": "markdown",
   "metadata": {},
   "source": [
    "[JupyterLab](https://jupyter.org/) ist die aktuelle Benutzeroberfläche für Jupyter. Es erweitert Jupyter um: \n",
    "\n",
    "* Integration eines Dateibrowsers und Tabs in einem Tab des Webbrowsers\n",
    "* modulare und flexible Oberfläche\n",
    "* Möglichkeit der Erweiterung durch z.B. die Übersicht von Variablen\n",
    "* Bereitstellung eines Terminals, in welchem auch andere Dateitypen dargestellt und bearbeitet werden können"
   ]
  },
  {
   "cell_type": "markdown",
   "metadata": {},
   "source": [
    "Einige nützliche Tastenkürzel bei der Arbeit mit JupyterLab:\n",
    "\n",
    "* Zelle bearbeiten: `Enter` oder Doppelklick\n",
    "* Zelle ausführen: `Shift-Enter` oder `Ctrl-Enter`\n",
    "* Zelle verlassen: `Esc`\n",
    "* neue Zelle anlegen: `a` (above) für über der aktuellen Zelle, `b` (below) für darunter\n",
    "* Zelle kopieren / einfügen / ausschneiden: `c` / `v` / `x`"
   ]
  },
  {
   "cell_type": "markdown",
   "metadata": {},
   "source": [
    "## JupyterBook\n",
    "\n",
    "Das Vorlesungsskript wurde mit [JupyterBook](https://jupyterbook.org/intro.html) erstellt und basiert auf Jupyter-Notebooks. Insbesondere im folgenden Teil des Skriptes gibt es viele Programmierbeispiele, welche mit JupyterBook gut integriert werden können. Insbesondere kann damit\n",
    "\n",
    "* Beispielcode leicht kopiert werden,\n",
    "* nicht notwendiger, aber hilfreicher Code versteckt werden, und \n",
    "* das Skript als dynamische Webseite bereitgestellt werden."
   ]
  }
 ],
 "metadata": {
  "kernelspec": {
   "display_name": "Python 3",
   "language": "python",
   "name": "python3"
  },
  "language_info": {
   "codemirror_mode": {
    "name": "ipython",
    "version": 3
   },
   "file_extension": ".py",
   "mimetype": "text/x-python",
   "name": "python",
   "nbconvert_exporter": "python",
   "pygments_lexer": "ipython3",
   "version": "3.7.5"
  }
 },
 "nbformat": 4,
 "nbformat_minor": 4
}
