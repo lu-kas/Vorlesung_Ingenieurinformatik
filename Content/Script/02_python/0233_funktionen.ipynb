{
 "cells": [
  {
   "cell_type": "markdown",
   "metadata": {},
   "source": [
    "# Funktionen"
   ]
  },
  {
   "cell_type": "markdown",
   "metadata": {},
   "source": [
    "Funktionen werden verwendet um Anweisungsgruppen zu kapseln. Diese Gruppen bilden eine übergreifende Funktionalität ab und können so zur besseren lesbarkeit des Skripts beitragen, da die darin enthaltenen Anweisungen nicht jedes Mal aufgeführt werden müssen. Da Funktionen an verschiedenen Stellen aufgerufen werden, aber nur einmal definiert werden müssen, müssen Fehlerbehebungen oder Verbesserungen nur an einer einzigen Stelle implementiert werden."
   ]
  },
  {
   "cell_type": "markdown",
   "metadata": {},
   "source": [
    "## Definition"
   ]
  },
  {
   "cell_type": "markdown",
   "metadata": {},
   "source": [
    "Das Schlüsselwort `def` leitet die Funktionsdefinition ein. Es wird gefolgt vom Funktionsnamen und den Funktionsargumenten, welche in runden Klammern `()` eingeschlossen sind. Der Funktionskopf wird mit einem Doppelpunkt `:` beendet. Wie bei den anderen Programmierelementen, wird der Anweisungsblock der Funktion eingerückt. Jede Funktion liefert einen Rückgabewert, welche durch das Schlüsselwort `return` an die aufrufende Stelle zurückgegeben wird. Wird der Anweisungsblock beendet, ohne einen expliziten Aufruf von `return`, so wird `None` zurückgegeben. Der Aufruf von `return` kann an einer beliebigen Stelle im Anweisungsblock erfolgen, womit die Funktion an der entsprechenden Stelle beendet wird. \n",
    "\n",
    "```python\n",
    "def Funktionsname(Argument1, Argument2):\n",
    "    Anweisungsblock\n",
    "    return Rückgabewert\n",
    "```"
   ]
  },
  {
   "cell_type": "markdown",
   "metadata": {},
   "source": [
    "Folgende Beispiele verdeutlichen die Definition von Funktionen."
   ]
  },
  {
   "cell_type": "code",
   "execution_count": 2,
   "metadata": {},
   "outputs": [
    {
     "name": "stdout",
     "output_type": "stream",
     "text": [
      "Wert Argument a 5\n",
      "Wert Argument b 6\n",
      "Summe der Quadrate 61\n",
      "Wert Argument a 1\n",
      "Wert Argument b 2\n",
      "Summe der Quadrate 5\n",
      "Wert Argument a -2\n",
      "Wert Argument b -3\n",
      "Summe der Quadrate 13\n"
     ]
    }
   ],
   "source": [
    "# Beispiel 1: Summe der Quadrate\n",
    "\n",
    "# Definition einer Funktion zur Berechnung der Summe der Quadrate von zwei Argumenten\n",
    "def sum_quadrate(a, b):\n",
    "    print('Wert Argument a', a)\n",
    "    print('Wert Argument b', b)\n",
    "    summe = a**2 + b**2\n",
    "    return summe\n",
    "\n",
    "print( \"Summe der Quadrate\", sum_quadrate(5, 6) )\n",
    "print( \"Summe der Quadrate\", sum_quadrate(1, 2) )\n",
    "print( \"Summe der Quadrate\", sum_quadrate(-2, -3) )"
   ]
  },
  {
   "cell_type": "code",
   "execution_count": 5,
   "metadata": {},
   "outputs": [
    {
     "name": "stdout",
     "output_type": "stream",
     "text": [
      "Liste:  [5, 9, 2, 44, 2, 3, -50]\n",
      "Summe der Elemente:  15\n",
      "\n",
      "Die Summe der Liste [11, 22] beträgt  33\n",
      "Die Summe der Liste [1, 2, 3, 4] beträgt  10\n",
      "Die Summe der Liste [-10, -20, -30] beträgt  -60\n"
     ]
    }
   ],
   "source": [
    "# Beispiel 2: Summe einer Werteliste\n",
    "\n",
    "# Definition der Funktion, mit einem Argument\n",
    "def sum_liste(liste):\n",
    "    summe = 0\n",
    "    for el in liste:\n",
    "        summe += el\n",
    "    return summe\n",
    "\n",
    "l1 = [5, 9, 2, 44, 2, 3, -50]\n",
    "\n",
    "print( \"Liste: \", l1 )\n",
    "print( \"Summe der Elemente: \", sum_liste(l1) )\n",
    "print()\n",
    "\n",
    "l2 = [[11, 22], [1, 2, 3, 4], [-10, -20, -30]]\n",
    "for l in l2:\n",
    "    summe = sum_liste(l)\n",
    "    print( \"Die Summe der Liste\", l, \"beträgt \", summe)"
   ]
  },
  {
   "cell_type": "markdown",
   "metadata": {},
   "source": [
    "## Optionale Argumente\n",
    "\n",
    "Funktionen können auch optionale Argumente haben. Werden diese nicht beim Funktionsaufruf übergeben, so werden die für sie vorgesehenen Standartwerte verwendet."
   ]
  },
  {
   "cell_type": "markdown",
   "metadata": {},
   "source": [
    "Beispielhalft könnte in der obigen Funktion die Potenz als optionales Argument aufgeführt werden. Falls es nicht explizit aufgeführt wird, soll der Wert 2 angenommen werden."
   ]
  },
  {
   "cell_type": "code",
   "execution_count": 8,
   "metadata": {},
   "outputs": [
    {
     "name": "stdout",
     "output_type": "stream",
     "text": [
      "Wert Argument a 5\n",
      "Wert Argument b 6\n",
      "Wert Argument p 2\n",
      "Summe der Quadrate 61\n",
      "Wert Argument a 1\n",
      "Wert Argument b 2\n",
      "Wert Argument p 5\n",
      "Summe der Quadrate 33\n",
      "Wert Argument a -2\n",
      "Wert Argument b -3\n",
      "Wert Argument p 1\n",
      "Summe der Quadrate -5\n"
     ]
    }
   ],
   "source": [
    "# Beispiel 3: Summe mit variabler Potenz \n",
    "\n",
    "# Definition einer Funktion zur Berechnung der Summe der Quadrate von zwei Argumenten\n",
    "def sum_potenz(a, b, p=2):\n",
    "    print('Wert Argument a', a)\n",
    "    print('Wert Argument b', b)\n",
    "    print('Wert Argument p', p)\n",
    "    summe = a**p + b**p\n",
    "    return summe\n",
    "\n",
    "print( \"Summe der Quadrate\", sum_potenz(5, 6) )\n",
    "print( \"Summe der Quadrate\", sum_potenz(1, 2, 5) )\n",
    "print( \"Summe der Quadrate\", sum_potenz(-2, -3, 1) )"
   ]
  },
  {
   "cell_type": "markdown",
   "metadata": {},
   "source": [
    "Gibt es mehrere optionale Argumente, so kann der Argumentname verwendet werden um die Zuweisung durchzuführen. Dies ist grundsätzlich immer und bei allen Argumententen möglich."
   ]
  },
  {
   "cell_type": "code",
   "execution_count": 13,
   "metadata": {},
   "outputs": [],
   "source": [
    "# Beispiel 4: Summe Liste mit optionaler Ausgabe und optionalem Faktor\n",
    "\n",
    "# Funktionsdefinition\n",
    "def sum_liste_faktor(liste, faktor=1, ausgabe=False):\n",
    "    # liste: Liste von Elementen, welche addiert werden\n",
    "    # faktor: Zahl mit welcher alle Elemente vor der Addition multipliziert werden\n",
    "    # ausgabe: soll eine Ausgabe der Zwischenschritte erfolgen?\n",
    "    \n",
    "    if ausgabe:\n",
    "        print(\"Funktionsargumente: \", liste, faktor, ausgabe)\n",
    "        \n",
    "    summe = 0\n",
    "    for el in liste:\n",
    "        summe = summe + faktor * el\n",
    "        if ausgabe:\n",
    "            print(\"Zwischensumme: \", summe)\n",
    "        \n",
    "    if ausgabe:\n",
    "        print(\"Endsumme: \", summe)\n",
    "    return summe"
   ]
  },
  {
   "cell_type": "code",
   "execution_count": 20,
   "metadata": {},
   "outputs": [
    {
     "name": "stdout",
     "output_type": "stream",
     "text": [
      "Ausgabe Rückgabewert der Funktion:  55\n"
     ]
    }
   ],
   "source": [
    "l1 = list(range(11))\n",
    "\n",
    "res = sum_liste_faktor(l1)\n",
    "print(\"Ausgabe Rückgabewert der Funktion: \", res)"
   ]
  },
  {
   "cell_type": "code",
   "execution_count": 21,
   "metadata": {},
   "outputs": [
    {
     "name": "stdout",
     "output_type": "stream",
     "text": [
      "Funktionsargumente:  [0, 1, 2, 3, 4, 5, 6, 7, 8, 9, 10] 1 True\n",
      "Zwischensumme:  0\n",
      "Zwischensumme:  1\n",
      "Zwischensumme:  3\n",
      "Zwischensumme:  6\n",
      "Zwischensumme:  10\n",
      "Zwischensumme:  15\n",
      "Zwischensumme:  21\n",
      "Zwischensumme:  28\n",
      "Zwischensumme:  36\n",
      "Zwischensumme:  45\n",
      "Zwischensumme:  55\n",
      "Endsumme:  55\n",
      "Ausgabe Rückgabewert der Funktion:  55\n"
     ]
    }
   ],
   "source": [
    "res = sum_liste_faktor(l1, ausgabe=True)\n",
    "print(\"Ausgabe Rückgabewert der Funktion: \", res)"
   ]
  },
  {
   "cell_type": "code",
   "execution_count": 22,
   "metadata": {},
   "outputs": [
    {
     "name": "stdout",
     "output_type": "stream",
     "text": [
      "Funktionsargumente:  [0, 1, 2, 3, 4, 5, 6, 7, 8, 9, 10] 2 True\n",
      "Zwischensumme:  0\n",
      "Zwischensumme:  2\n",
      "Zwischensumme:  6\n",
      "Zwischensumme:  12\n",
      "Zwischensumme:  20\n",
      "Zwischensumme:  30\n",
      "Zwischensumme:  42\n",
      "Zwischensumme:  56\n",
      "Zwischensumme:  72\n",
      "Zwischensumme:  90\n",
      "Zwischensumme:  110\n",
      "Endsumme:  110\n",
      "Ausgabe Rückgabewert der Funktion:  110\n"
     ]
    }
   ],
   "source": [
    "res = sum_liste_faktor(liste = l1, faktor = 2, ausgabe = True)\n",
    "print(\"Ausgabe Rückgabewert der Funktion: \", res)"
   ]
  }
 ],
 "metadata": {
  "kernelspec": {
   "display_name": "Python 3",
   "language": "python",
   "name": "python3"
  },
  "language_info": {
   "codemirror_mode": {
    "name": "ipython",
    "version": 3
   },
   "file_extension": ".py",
   "mimetype": "text/x-python",
   "name": "python",
   "nbconvert_exporter": "python",
   "pygments_lexer": "ipython3",
   "version": "3.8.2"
  }
 },
 "nbformat": 4,
 "nbformat_minor": 4
}
