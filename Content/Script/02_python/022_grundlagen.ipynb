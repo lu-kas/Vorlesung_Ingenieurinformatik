{
 "cells": [
  {
   "cell_type": "markdown",
   "metadata": {},
   "source": [
    "# Grundlagen"
   ]
  },
  {
   "cell_type": "markdown",
   "metadata": {},
   "source": [
    "In diesem Kapitel werden die grundlegenden Operationen und Datentypen von Python vorgestellt. Dazu gehören:\n",
    "\n",
    "* Zahlen\n",
    "* logische und arithmetische Operationen\n",
    "* Variablen\n",
    "* Funktionen\n",
    "* Zeichenketten\n",
    "* Sammeltypen"
   ]
  },
  {
   "cell_type": "markdown",
   "metadata": {},
   "source": [
    "## Datentypen"
   ]
  },
  {
   "cell_type": "markdown",
   "metadata": {},
   "source": [
    "| ![](https://upload.wikimedia.org/wikipedia/commons/1/10/Python_3._The_standard_type_hierarchy.png) |\n",
    "| :--: |\n",
    "| Übersicht der Datentypen in Python, Quelle: [Максим Пе, Python 3. The standard type hierarchy, CC BY-SA 4.0](https://commons.wikimedia.org/wiki/File:Python_3._The_standard_type_hierarchy.png) |"
   ]
  },
  {
   "cell_type": "markdown",
   "metadata": {},
   "source": [
    "## `print` Funktion\n",
    "\n",
    "Um auch in den ersten Beispielen eine Ausgabe zu erzeugen, wird der Aufruf einer Funkton, hier `print`, vorweggenommen. Diese Funktion gibt das Argument als Text / Zeichenkette aus. "
   ]
  },
  {
   "cell_type": "code",
   "execution_count": 1,
   "metadata": {},
   "outputs": [
    {
     "name": "stdout",
     "output_type": "stream",
     "text": [
      "12\n"
     ]
    }
   ],
   "source": [
    "print(12)"
   ]
  },
  {
   "cell_type": "markdown",
   "metadata": {},
   "source": [
    "Es können auch mehrere Werte gleichzeitig ausgegeben werden. Diese müssen dann mit einen Komma `,` getrennt werden."
   ]
  },
  {
   "cell_type": "code",
   "execution_count": 2,
   "metadata": {},
   "outputs": [
    {
     "name": "stdout",
     "output_type": "stream",
     "text": [
      "4.5 7 -2.2\n"
     ]
    }
   ],
   "source": [
    "print(4.5, 7, -2.2)"
   ]
  },
  {
   "cell_type": "code",
   "execution_count": null,
   "metadata": {},
   "outputs": [],
   "source": []
  }
 ],
 "metadata": {
  "kernelspec": {
   "display_name": "Python 3",
   "language": "python",
   "name": "python3"
  },
  "language_info": {
   "codemirror_mode": {
    "name": "ipython",
    "version": 3
   },
   "file_extension": ".py",
   "mimetype": "text/x-python",
   "name": "python",
   "nbconvert_exporter": "python",
   "pygments_lexer": "ipython3",
   "version": "3.8.2"
  }
 },
 "nbformat": 4,
 "nbformat_minor": 4
}
