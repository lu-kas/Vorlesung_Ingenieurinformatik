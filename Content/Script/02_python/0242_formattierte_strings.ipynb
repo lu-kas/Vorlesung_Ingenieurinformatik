{
 "cells": [
  {
   "cell_type": "markdown",
   "metadata": {},
   "source": [
    "# Formatierte Zeichenketten"
   ]
  },
  {
   "cell_type": "markdown",
   "metadata": {},
   "source": [
    "Bei den bisherigen Textausgaben wurden immer unformatierte Zeichenketten verwendet. Es ist jedoch oft nützlich das Ausgabeformat zu kontrollieren, z.B. um die Anzahl der Nachkommastellen zu reduzieren. Hierzu können formatierte Zeichenketten verwendet werden."
   ]
  },
  {
   "cell_type": "markdown",
   "metadata": {},
   "source": [
    "## Definition"
   ]
  },
  {
   "cell_type": "markdown",
   "metadata": {},
   "source": [
    "Eine formatierte Zeichenkette kann in Python mit einem vorgesetzten `f` vor den Anführungsstrichen erstellt werden (`f`-Strings). Platzhalter, welche durch Werte eingesetzt werden sollen, werden mit geschweiften Klammern `{}` angegeben und mit Formattierungsinformationen versehen. Neben der Formatierung wird auch der Variablenname angegeben, dessen Wert ausgegeben werden soll. "
   ]
  },
  {
   "cell_type": "markdown",
   "metadata": {},
   "source": [
    "Das Formatierungsformat innerhalb der Klammer ist, vereinfacht dargestellt,\n",
    "```\n",
    "{Variabelname:PlatzbedarfAusgabetyp}\n",
    "```"
   ]
  },
  {
   "cell_type": "markdown",
   "metadata": {},
   "source": [
    "Beispiel:"
   ]
  },
  {
   "cell_type": "code",
   "execution_count": null,
   "metadata": {},
   "outputs": [],
   "source": [
    "# Erstellung einer formatierten Zeichenkette ohne \n",
    "# zusätzliche Formatierung\n",
    "a = 5\n",
    "b = 7\n",
    "verhaeltnis = a / b\n",
    "s1 = f\"Das Verhältnis von {a} zu {b} ist {verhaeltnis}\"\n",
    "print(s1)"
   ]
  },
  {
   "cell_type": "code",
   "execution_count": null,
   "metadata": {},
   "outputs": [],
   "source": [
    "# Explizite Angabe der darzustellenden Nachkommastellen, \n",
    "# hier zwei Stellen einer Gleitkommazahl `f`\n",
    "s2 = f\"Das Verhältnis von {a} zu {b} ist {verhaeltnis:.2f}\"\n",
    "print(s2)"
   ]
  },
  {
   "cell_type": "code",
   "execution_count": 3,
   "metadata": {},
   "outputs": [
    {
     "name": "stdout",
     "output_type": "stream",
     "text": [
      "Zahl\tWurzel\n",
      "===============\n",
      "  0\t 0.0000\n",
      " 13\t 3.6056\n",
      " 26\t 5.0990\n",
      " 39\t 6.2450\n",
      " 52\t 7.2111\n",
      " 65\t 8.0623\n",
      " 78\t 8.8318\n",
      " 91\t 9.5394\n",
      "104\t10.1980\n",
      "117\t10.8167\n",
      "130\t11.4018\n",
      "143\t11.9583\n",
      "156\t12.4900\n",
      "169\t13.0000\n",
      "182\t13.4907\n",
      "195\t13.9642\n"
     ]
    }
   ],
   "source": [
    "# Formatierung des Platzbedarfs\n",
    "import math\n",
    "\n",
    "# Erstelle Tabellenkopf\n",
    "print('Zahl\\tWurzel')\n",
    "print('='*15)\n",
    "\n",
    "# Schleife über einige Zahlen mit formatierter Ausgabe \n",
    "# der Quadratwurzel\n",
    "for i in range(0, 200, 13):\n",
    "    sqi = math.sqrt(i)\n",
    "    \n",
    "    # Format `3d`: ganze Zahl (`d`) mit drei Stellen (`3`)\n",
    "    # Format `7.4f`: insgesamt 7 Stellen mit \n",
    "    #                4 Nachkommastellen einer Gleitkommazahl\n",
    "    print(f\"{i:3d}\\t{sqi:7.4f}\")"
   ]
  },
  {
   "cell_type": "markdown",
   "metadata": {},
   "source": [
    "## Formatierung"
   ]
  },
  {
   "cell_type": "markdown",
   "metadata": {},
   "source": [
    "Einige häufig verwendete Formatierungen sind:"
   ]
  },
  {
   "cell_type": "markdown",
   "metadata": {},
   "source": [
    "* für ganze Zahlen, Ausgabetyp `d`\n",
    " - `nd`: es werden n-Stellen für die Ausgabe verwendet\n",
    " - `0nd`: n-Stellen, wobei die Leerstellen mit Nullen aufgefüllt werden\n",
    " - `+d`: Ausgabe des Vorzeichens, auch bei positiven Zahlen\n",
    "* für Gleitkommazahlen, Ausgabetyp `f` und `e`\n",
    " - `.mf`: es werden m-Stellen für die Nachkommastellen genutzt\n",
    " - `n.mf`: es werden insgesamt n-Stellen verwendet, wobei m-Stellen für die Nachkommastellen genutzt werden\n",
    " - `n.me`: genauso wie oben, aber die Ausgabe erfolt in exponentieller Schreibweise\n",
    "* für Zeichenketten, Ausgabetyp `s`\n",
    " - `ns`: es werden insgesamt n-Stellen verwendet\n",
    " - `<ns`, `>ns`, `^ns`: wie oben, jedoch wird die Zeichenkette linksbündig, rechtsbündig bzw. zentriert platziert"
   ]
  },
  {
   "cell_type": "markdown",
   "metadata": {},
   "source": [
    "## Alternativen\n",
    "\n",
    "Wie jede Programmiersprache entwickelt sich Python kontinuierlich. Die Erzeugungn von formatierten Zeichenketten mit dem obigen Verfahren (`f`-Strings) ist seit Version 3.6 möglich. Der in Version 2 verwendete Formalismus nutzt das `%`, um Platzhalter zu definieren und trennt die Vorlage der Zeichenkette von den einzusetztenden Werten. "
   ]
  },
  {
   "cell_type": "code",
   "execution_count": 9,
   "metadata": {},
   "outputs": [
    {
     "name": "stdout",
     "output_type": "stream",
     "text": [
      "5 7 0.7142857142857143\n",
      "Das Verhältnis von 5 zu 7 ist 0.714286\n"
     ]
    }
   ],
   "source": [
    "s3 = \"Das Verhältnis von %d zu %d ist %f\"%(a, b, verhaeltnis)\n",
    "print(s3)"
   ]
  },
  {
   "cell_type": "markdown",
   "metadata": {},
   "source": [
    "Seit Version 3 hat die `string` Klasse die `format` Methode, welche bereits ähnlich zu den oben eingeführten `f`-Strings ist. "
   ]
  },
  {
   "cell_type": "code",
   "execution_count": 8,
   "metadata": {},
   "outputs": [
    {
     "name": "stdout",
     "output_type": "stream",
     "text": [
      "Das Verhältnis von 5 zu 7 ist 0.714286\n"
     ]
    }
   ],
   "source": [
    "s4 = \"Das Verhältnis von {:d} zu {:d} ist {:f}\".format(a, b, verhaeltnis)\n",
    "print(s4)"
   ]
  },
  {
   "cell_type": "markdown",
   "metadata": {},
   "source": [
    "Beide Ansätze werden aus Kompatibilitätsgründen auch von aktuellen Versionen von Python unterstützt."
   ]
  }
 ],
 "metadata": {
  "kernelspec": {
   "display_name": "Python 3",
   "language": "python",
   "name": "python3"
  },
  "language_info": {
   "codemirror_mode": {
    "name": "ipython",
    "version": 3
   },
   "file_extension": ".py",
   "mimetype": "text/x-python",
   "name": "python",
   "nbconvert_exporter": "python",
   "pygments_lexer": "ipython3",
   "version": "3.8.2"
  }
 },
 "nbformat": 4,
 "nbformat_minor": 4
}
