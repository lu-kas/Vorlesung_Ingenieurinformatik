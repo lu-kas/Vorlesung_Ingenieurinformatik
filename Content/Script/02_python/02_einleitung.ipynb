{
 "cells": [
  {
   "cell_type": "markdown",
   "metadata": {},
   "source": [
    "# Python"
   ]
  },
  {
   "cell_type": "markdown",
   "metadata": {},
   "source": [
    "Wie in dem obigen Kapitel beschrieben, müssen Computer Instruktionen erhalten, welche Aufgaben sie erledigen sollen. Dazu dienen Computerprogramme, welche auf verschiedenen Ebenen entwickelt werden können. <br>\n",
    "Zum einen ist es möglich in einer sehr hardwarenahen Sprache ganz explizit die Instruktionen vorzuschreiben. Dabei ist der Aufbau von komplexen Strukturen, wie zum Beispiel einer graphischen Benutzeroberfläche, sehr schwierig und mühsam. Letztendlich entsteht hierbei aber sehr spezieller Code, welcher nicht auf andere Computersysteme übertragbar ist. <br>\n",
    "Zum anderen können höhere Programmiersprachen eingesetzt werden, welche viele einfache Aufgaben bereit übernehmen und entsprechend einfacher sind in der Anwendung."
   ]
  },
  {
   "cell_type": "markdown",
   "metadata": {},
   "source": [
    "[Python](https://de.wikipedia.org/wiki/Python_(Programmiersprache) ist eine populäre [Programmiersprache](https://de.wikipedia.org/wiki/Programmiersprache) insbesondere im wissenschaftlichen und technischen Bereichen. Sie wird in diesem Kurs für alle Programmieraufgaben verwendet. Aufgrund der Einfachheit von Python kann sie schnell sehr produktiv eingesetzt werden und bietet bei Bedarf eine gute Ausgangsposition für das Erlernen anderer Programiersprachen."
   ]
  },
  {
   "cell_type": "markdown",
   "metadata": {},
   "source": [
    "In diesem Kapitel werden die Grundlagen der Programmierung mit Python vorgestellt. Dazu gehören Operationen, Datentypen, Flusskontrolle, Funktionen und Module.  "
   ]
  }
 ],
 "metadata": {
  "kernelspec": {
   "display_name": "Python 3",
   "language": "python",
   "name": "python3"
  },
  "language_info": {
   "codemirror_mode": {
    "name": "ipython",
    "version": 3
   },
   "file_extension": ".py",
   "mimetype": "text/x-python",
   "name": "python",
   "nbconvert_exporter": "python",
   "pygments_lexer": "ipython3",
   "version": "3.8.5"
  }
 },
 "nbformat": 4,
 "nbformat_minor": 4
}
