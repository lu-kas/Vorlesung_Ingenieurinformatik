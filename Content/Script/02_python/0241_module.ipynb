{
 "cells": [
  {
   "cell_type": "markdown",
   "metadata": {},
   "source": [
    "# Module"
   ]
  },
  {
   "cell_type": "markdown",
   "metadata": {},
   "source": [
    "Die wenigen in Python enthaltenen Funktionen und Datentypen halten die Sprache einfach. Viele weitere Funktionalitäten werden über Module nachgeladen."
   ]
  },
  {
   "cell_type": "markdown",
   "metadata": {},
   "source": [
    "## Laden von Modulen"
   ]
  },
  {
   "cell_type": "markdown",
   "metadata": {},
   "source": [
    "Ein Modul wird in Python mit dem `import` Schlüsselwort geladen:\n",
    "\n",
    "```python\n",
    "import Modulname\n",
    "```\n",
    "\n",
    "Anschließend können die in diesem Modul enthaltenen Funktionen und Datentypen mit einem vorgesetzten `Modulname` und Punkt `.` genutzt werden. "
   ]
  },
  {
   "cell_type": "markdown",
   "metadata": {},
   "source": [
    "Beispielsweise kann so das `math` Modul geladen und die Wurzelfunktion `sqrt` genutzt werden:"
   ]
  },
  {
   "cell_type": "code",
   "execution_count": 1,
   "metadata": {},
   "outputs": [
    {
     "name": "stdout",
     "output_type": "stream",
     "text": [
      "Die Wurzel aus 2 ist 1.4142135623730951\n"
     ]
    }
   ],
   "source": [
    "import math\n",
    "r = math.sqrt(2)\n",
    "print(\"Die Wurzel aus 2 ist\", r)"
   ]
  },
  {
   "cell_type": "markdown",
   "metadata": {},
   "source": [
    "Bei längeren Modulnamen kann das Schlüsselwort `as` genutzt werden um die weitere Referenzierung zu vereinfachen:"
   ]
  },
  {
   "cell_type": "code",
   "execution_count": 2,
   "metadata": {},
   "outputs": [
    {
     "name": "stdout",
     "output_type": "stream",
     "text": [
      "π ist gleich 3.141592653589793\n"
     ]
    }
   ],
   "source": [
    "import math as m\n",
    "print(\"π ist gleich\", m.pi)"
   ]
  },
  {
   "cell_type": "markdown",
   "metadata": {},
   "source": [
    "Es ist auch möglich die Funktionen aus einem Modul ohne das Vorsetzten des Modulnamens zu verwenden. Der vorgesetzte Modulname zeigt den Namensraum der aufzurufenden Funktion an. Mit dem Schlüsselwort `from` können alle (`*`) oder selektierte Teile des Moduls in den Hauptnamensraum importiert werden und können direkt aufgerufen werden."
   ]
  },
  {
   "cell_type": "code",
   "execution_count": 4,
   "metadata": {},
   "outputs": [
    {
     "name": "stdout",
     "output_type": "stream",
     "text": [
      "sin(0.5) = 0.479425538604203\n"
     ]
    }
   ],
   "source": [
    "from math import *\n",
    "print(\"sin(0.5) =\", sin(0.5))"
   ]
  },
  {
   "cell_type": "markdown",
   "metadata": {},
   "source": [
    "## Kleine Modulübersicht "
   ]
  },
  {
   "cell_type": "markdown",
   "metadata": {},
   "source": [
    "Es existieren sehr viele Module für verschiedene Einsatzzwecke. Neben den Modulen, welche von dem Python-Projekt angeboten werden, gibt es eine große Anzahl von frei verfügbaren Modulen aus anderen Projekten. "
   ]
  },
  {
   "cell_type": "markdown",
   "metadata": {},
   "source": [
    "Da es nicht möglich ist auf alle diese Module einzugehen, werden im folgenden nur einige wenige Module aufgelistet, welche für die Zielgruppe dieses Skripts interessant sein könnten."
   ]
  },
  {
   "cell_type": "markdown",
   "metadata": {},
   "source": [
    "* **math**: Mathematische Funktionen und Konstanten\n",
    "* **sys**: Interaktion mit dem Python-Interpreter\n",
    "* **os**: Interaktion mit dem Betriebssystem\n",
    "* **time**: Zeitfunktionen\n",
    "* **glob**: Durchsuchen von Dateisystempfaden\n",
    "* **multiprocessing / threading**: Parallelprogramierung mit Prozessen / Threads\n",
    "\n",
    "\n",
    "* **matplotlib**: Visualisierung von Daten und Erstellen von Abbildungen\n",
    "* **numpy**: Numerische Operationen und Funktionen\n",
    "* **scipy**: Wissenschaftliche Funktionen\n",
    "* **pandas**: Daten einlesen und auswerten "
   ]
  }
 ],
 "metadata": {
  "kernelspec": {
   "display_name": "Python 3",
   "language": "python",
   "name": "python3"
  },
  "language_info": {
   "codemirror_mode": {
    "name": "ipython",
    "version": 3
   },
   "file_extension": ".py",
   "mimetype": "text/x-python",
   "name": "python",
   "nbconvert_exporter": "python",
   "pygments_lexer": "ipython3",
   "version": "3.8.2"
  }
 },
 "nbformat": 4,
 "nbformat_minor": 4
}
