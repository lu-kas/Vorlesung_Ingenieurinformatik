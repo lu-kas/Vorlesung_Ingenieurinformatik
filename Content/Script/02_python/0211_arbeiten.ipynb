{
 "cells": [
  {
   "cell_type": "markdown",
   "metadata": {},
   "source": [
    "# Arbeiten mit Python"
   ]
  },
  {
   "cell_type": "markdown",
   "metadata": {},
   "source": [
    "Python Skripte können auf verschiedenen Wegen entwickelt und ausgeführt werden. Drei Beispiele sind im folgenden gezeigt, wobei in der Vorlesung die Lösung mit dem vom CCE-Lehrstuhl betriebenen JupyterLab-Server unterstützt wird.   "
   ]
  },
  {
   "cell_type": "markdown",
   "metadata": {},
   "source": [
    "## Texteditor und Interpreter"
   ]
  },
  {
   "cell_type": "markdown",
   "metadata": {},
   "source": [
    "| ![](bilder/uebersicht-interpreter_1.png) |\n",
    "| :---: |\n",
    "| Alle Entwicklungs- und Anwendungsschritte |"
   ]
  },
  {
   "cell_type": "markdown",
   "metadata": {},
   "source": [
    "| ![](bilder/python_konsole.png) |\n",
    "| :---: |\n",
    "| Texteditor und Terminal |"
   ]
  },
  {
   "cell_type": "markdown",
   "metadata": {},
   "source": [
    "## Integrierte Entwicklungsumgebung"
   ]
  },
  {
   "cell_type": "markdown",
   "metadata": {},
   "source": [
    "| ![](bilder/uebersicht-interpreter_2.png) |\n",
    "| :---: |\n",
    "| Aufgaben, welche von einer IDE übernommen werden |"
   ]
  },
  {
   "cell_type": "markdown",
   "metadata": {},
   "source": [
    "| ![](bilder/python_ide.png) |\n",
    "| :--: |\n",
    "| Beispiel einer IDE: [PyCharm](https://de.wikipedia.org/wiki/PyCharm) |\n"
   ]
  },
  {
   "cell_type": "markdown",
   "metadata": {},
   "source": [
    "## JupyterLab"
   ]
  },
  {
   "cell_type": "markdown",
   "metadata": {},
   "source": [
    "| ![](bilder/uebersicht-interpreter_3.png) |\n",
    "| :---: |\n",
    "| Komplette integration auf einem JupyterLab Server |"
   ]
  },
  {
   "cell_type": "markdown",
   "metadata": {},
   "source": [
    "| ![](bilder/python_jupyterlab.png) |\n",
    "| :--: |\n",
    "| Beispiel JupyterLab |"
   ]
  }
 ],
 "metadata": {
  "kernelspec": {
   "display_name": "Python 3",
   "language": "python",
   "name": "python3"
  },
  "language_info": {
   "codemirror_mode": {
    "name": "ipython",
    "version": 3
   },
   "file_extension": ".py",
   "mimetype": "text/x-python",
   "name": "python",
   "nbconvert_exporter": "python",
   "pygments_lexer": "ipython3",
   "version": "3.8.2"
  }
 },
 "nbformat": 4,
 "nbformat_minor": 4
}
