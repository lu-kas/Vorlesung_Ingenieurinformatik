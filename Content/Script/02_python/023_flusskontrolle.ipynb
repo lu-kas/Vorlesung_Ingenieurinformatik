{
 "cells": [
  {
   "cell_type": "markdown",
   "metadata": {},
   "source": [
    "# Flusskontrolle"
   ]
  },
  {
   "cell_type": "markdown",
   "metadata": {},
   "source": [
    "In diesem Kapitel werden die Programmierstrukturen Schleifen, Abzweigungen und Funktionen vorgestellt."
   ]
  },
  {
   "cell_type": "markdown",
   "metadata": {},
   "source": [
    "Selten folgen Algorithmen einer starren Vorschrift, sondern die ausgeführten Operationen passen sich z.B. an die Datenmenge an oder es werden Entscheidungen über den weiteren Verlauf getroffen. Die beiden Strukturen, welche bereits im Abschnitt \"Algorithmen\" vorgestellt wurden, auf denen sich praktisch alle Aufgaben aufbauen lassen, sind Schleifen und Abzweigungen.\n",
    "\n",
    "Schleifen wiederholen Anweisungen bzw. Gruppen von Anweisungen bis eine vordefinierte Bedingung eintrifft. So kann z.B. über Datensätze iteriert, Folgen erzeugt oder Arbeitsanweisungen kontinuierlich wiederholt werden. \n",
    "\n",
    "Mit Hilfe von Abzweigungen werden verschiedene Ausführungspfade möglich. Beispielsweise kann abhängig von dem Wert einer Variablen ein anderer Teil des Skripts ausgeführt werden. "
   ]
  },
  {
   "cell_type": "markdown",
   "metadata": {},
   "source": [
    "Ein weiteres strukturelles Element in der Programmierung sind Funktionen. Damit werden Teile der Anweisungen funktional gruppiert und können während des Ablaufs abgerufen werden. Daraus ergeben sich zwei Vorteile: zum einen wird der Code lesbarer und zum anderen gibt es nur eine Stelle, welche bei Änderungen angepasst werden muss.\n",
    "\n",
    "Bibliotheken, oder im Falle von Python Module, sammeln Funktionen und können in ein Skript eingebunden werden."
   ]
  },
  {
   "cell_type": "code",
   "execution_count": null,
   "metadata": {},
   "outputs": [],
   "source": []
  }
 ],
 "metadata": {
  "kernelspec": {
   "display_name": "Python 3",
   "language": "python",
   "name": "python3"
  },
  "language_info": {
   "codemirror_mode": {
    "name": "ipython",
    "version": 3
   },
   "file_extension": ".py",
   "mimetype": "text/x-python",
   "name": "python",
   "nbconvert_exporter": "python",
   "pygments_lexer": "ipython3",
   "version": "3.7.5"
  }
 },
 "nbformat": 4,
 "nbformat_minor": 4
}
