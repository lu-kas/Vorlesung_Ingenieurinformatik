{
 "cells": [
  {
   "cell_type": "markdown",
   "metadata": {},
   "source": [
    "# Listen"
   ]
  },
  {
   "cell_type": "markdown",
   "metadata": {},
   "source": [
    "In Python, wie auch in den meisten anderen Sprachen, können Gruppen von Werten in einer Liste zusammengefasst werden. Listen werden in Python als eigenständiger Typ `list` gehandhabt. Sie fungieren als ein Container, welcher eine flexible Anzahl von Elementen beliebigen Typs beinhalten kann."
   ]
  },
  {
   "cell_type": "markdown",
   "metadata": {},
   "source": [
    "## Definition\n",
    "Bei der Definition einer Liste, werden die Elemente durch `[]` eingeklammert und mit Kommas `,` getrennt."
   ]
  },
  {
   "cell_type": "code",
   "execution_count": 1,
   "metadata": {},
   "outputs": [
    {
     "name": "stdout",
     "output_type": "stream",
     "text": [
      "[5, 6, 7, 12]\n"
     ]
    }
   ],
   "source": [
    "l1 = [5, 6, 7, 12]\n",
    "print( l1 )"
   ]
  },
  {
   "cell_type": "code",
   "execution_count": 2,
   "metadata": {},
   "outputs": [
    {
     "name": "stdout",
     "output_type": "stream",
     "text": [
      "[1.3, 'computer', 5]\n"
     ]
    }
   ],
   "source": [
    "l2 = [1.3, 'computer', 5]\n",
    "print( l2 )"
   ]
  },
  {
   "cell_type": "markdown",
   "metadata": {},
   "source": [
    "## Operationen"
   ]
  },
  {
   "cell_type": "markdown",
   "metadata": {},
   "source": [
    "Genauso wie Zeichenketten, können Listen addiert werden."
   ]
  },
  {
   "cell_type": "code",
   "execution_count": 14,
   "metadata": {},
   "outputs": [
    {
     "name": "stdout",
     "output_type": "stream",
     "text": [
      "[5, 6, 7, 12] [1.3, 'computer', 5]\n",
      "[5, 6, 7, 12, 1.3, 'computer', 5]\n"
     ]
    }
   ],
   "source": [
    "l3 = l1 + l2\n",
    "print( l1, l2 )\n",
    "print( l3 )"
   ]
  },
  {
   "cell_type": "markdown",
   "metadata": {},
   "source": [
    "## Zugriff"
   ]
  },
  {
   "cell_type": "markdown",
   "metadata": {},
   "source": [
    "Auch der Zugriff auf einzelne Elemente erfolgt mit den eckigen Klammern `[]`. Im Gegensatz zu Zeichenketten, können damit auch einzelne Elemente einer Liste verändert werden."
   ]
  },
  {
   "cell_type": "code",
   "execution_count": 4,
   "metadata": {},
   "outputs": [
    {
     "name": "stdout",
     "output_type": "stream",
     "text": [
      "[5, 6, 7, 12, 1.3, 'computer', 5]\n",
      "6\n",
      "computer\n"
     ]
    }
   ],
   "source": [
    "print( l3 )\n",
    "print( l3[1] )\n",
    "print( l3[5] )"
   ]
  },
  {
   "cell_type": "code",
   "execution_count": 5,
   "metadata": {},
   "outputs": [
    {
     "name": "stdout",
     "output_type": "stream",
     "text": [
      "['feuer', 6, 7, 12, 1.3, 'computer', 5]\n"
     ]
    }
   ],
   "source": [
    "l3[0] = 'feuer'\n",
    "print( l3 )"
   ]
  },
  {
   "cell_type": "markdown",
   "metadata": {},
   "source": [
    "Mit negativen Indizes können Elemente vom Ende aus angesprochen werden. So entspricht z.B. die -1 dem letzten Element."
   ]
  },
  {
   "cell_type": "code",
   "execution_count": 6,
   "metadata": {},
   "outputs": [
    {
     "name": "stdout",
     "output_type": "stream",
     "text": [
      "11 20\n"
     ]
    }
   ],
   "source": [
    "l4 = [11, 12, 13, 14, 15, 16, 17, 18, 19, 20]\n",
    "print( l4[0], l4[-1] )"
   ]
  },
  {
   "cell_type": "markdown",
   "metadata": {},
   "source": [
    "Neben dem Zugriff auf einzelne Elemente, können auch Indexbereiche addressiert werden. Dazu wird die Form `[a:b]` verwendet, wobei `a` das erste addressiere und `b` das erste *nicht-mehr* addressierte Element angibt. Zusätzlich kann auch die Schrittweite `c` in der der Bereich zwischen `a` und `b` addressiert wird definiert werden. Dies wird mit `[a:b:c]` formal dargestellt.  "
   ]
  },
  {
   "cell_type": "code",
   "execution_count": 7,
   "metadata": {},
   "outputs": [
    {
     "name": "stdout",
     "output_type": "stream",
     "text": [
      "[14, 15, 16, 17]\n"
     ]
    }
   ],
   "source": [
    "print( l4[3:7] )"
   ]
  },
  {
   "cell_type": "code",
   "execution_count": 8,
   "metadata": {},
   "outputs": [
    {
     "name": "stdout",
     "output_type": "stream",
     "text": [
      "[13, 15, 17]\n"
     ]
    }
   ],
   "source": [
    "print( l4[2:8:2] )"
   ]
  },
  {
   "cell_type": "markdown",
   "metadata": {},
   "source": [
    "Werden die Werte für `a`, `b` oder `c` nicht angegeben, so nehmen diese die Standardwerte `a=0` und `c=1` an. Der Wert von `b` entspricht der Anzahl der in der Liste enthaltenen Elemente."
   ]
  },
  {
   "cell_type": "code",
   "execution_count": 9,
   "metadata": {},
   "outputs": [
    {
     "name": "stdout",
     "output_type": "stream",
     "text": [
      "[16, 17, 18, 19, 20]\n"
     ]
    }
   ],
   "source": [
    "print( l4[5:] )"
   ]
  },
  {
   "cell_type": "code",
   "execution_count": 10,
   "metadata": {},
   "outputs": [
    {
     "name": "stdout",
     "output_type": "stream",
     "text": [
      "[11, 12, 13]\n"
     ]
    }
   ],
   "source": [
    "print( l4[:3] )"
   ]
  },
  {
   "cell_type": "code",
   "execution_count": 11,
   "metadata": {},
   "outputs": [
    {
     "name": "stdout",
     "output_type": "stream",
     "text": [
      "[16, 17, 18]\n"
     ]
    }
   ],
   "source": [
    "print( l4[5:8:] )"
   ]
  },
  {
   "cell_type": "code",
   "execution_count": 12,
   "metadata": {},
   "outputs": [
    {
     "name": "stdout",
     "output_type": "stream",
     "text": [
      "[11, 13, 15, 17, 19]\n"
     ]
    }
   ],
   "source": [
    "print( l4[::2] )"
   ]
  },
  {
   "cell_type": "code",
   "execution_count": 13,
   "metadata": {},
   "outputs": [
    {
     "name": "stdout",
     "output_type": "stream",
     "text": [
      "[11, 12, 13, 14, 15, 16, 17, 18, 19, 20]\n",
      "[11, 12, 13, 14, 15, 16, 17, 18, 19, 20]\n",
      "[11, 12, 13, 14, 15, 16, 17, 18, 19, 20]\n"
     ]
    }
   ],
   "source": [
    "print( l4 )\n",
    "print( l4[:] )\n",
    "print( l4[::] )"
   ]
  }
 ],
 "metadata": {
  "kernelspec": {
   "display_name": "Python 3",
   "language": "python",
   "name": "python3"
  },
  "language_info": {
   "codemirror_mode": {
    "name": "ipython",
    "version": 3
   },
   "file_extension": ".py",
   "mimetype": "text/x-python",
   "name": "python",
   "nbconvert_exporter": "python",
   "pygments_lexer": "ipython3",
   "version": "3.8.2"
  }
 },
 "nbformat": 4,
 "nbformat_minor": 4
}
