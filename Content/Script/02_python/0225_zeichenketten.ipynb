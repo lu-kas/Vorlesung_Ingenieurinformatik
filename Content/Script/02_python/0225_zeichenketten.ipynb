{
 "cells": [
  {
   "cell_type": "markdown",
   "metadata": {},
   "source": [
    "# Zeichenketten"
   ]
  },
  {
   "cell_type": "markdown",
   "metadata": {},
   "source": [
    "## Darstellung"
   ]
  },
  {
   "cell_type": "markdown",
   "metadata": {},
   "source": [
    "Für die menschliche Interaktion mit einem Programm wird eine textbasierte Aus- und Eingabe benötigt. Zur Speicherung von Text bzw. der Folge von Zeichen werden Zeichenketten, Datentyp `string`, verwendet. Zeichenketten werden mit Hilfe von Anführungszeichen `\"` oder `'` dargestellt. Druckbare Zeichen können direkt verwendet werden, wobei nicht-druckbare Zeichen durch einen Kombination von einem Maskierungszeichen `\\` und einem druckbaren Zeichen kodiert werden."
   ]
  },
  {
   "cell_type": "code",
   "execution_count": 1,
   "metadata": {},
   "outputs": [
    {
     "name": "stdout",
     "output_type": "stream",
     "text": [
      "Hallo Welt!\n"
     ]
    }
   ],
   "source": [
    "print( \"Hallo Welt!\" )"
   ]
  },
  {
   "cell_type": "code",
   "execution_count": 2,
   "metadata": {},
   "outputs": [
    {
     "name": "stdout",
     "output_type": "stream",
     "text": [
      "Dies ist ein einfacher Satz.\n"
     ]
    }
   ],
   "source": [
    "satz = 'Dies ist ein einfacher Satz.'\n",
    "print( satz )"
   ]
  },
  {
   "cell_type": "markdown",
   "metadata": {},
   "source": [
    "Nicht-druckbare Zeichen für z.B. neue Zeile oder Tabulator sind `\\n` (ASCII LF) und `\\t` (ASCII TAB). Da bei Zeichenketten die ASCII-Zeichen `\"`, `'` und `\\` eine Sonderrolle einnehmen, muss für deren Verwendung auch das Maskierungszeichen verwendet werden. Eine Darstellung dieser drei Zeichen erfolgt entsprchend mit `\\\"`, `\\'` und `\\\\`. "
   ]
  },
  {
   "cell_type": "code",
   "execution_count": 1,
   "metadata": {},
   "outputs": [
    {
     "name": "stdout",
     "output_type": "stream",
     "text": [
      "'Addition' \\ 'Subtraktion' sind Grundrechenarten.\n"
     ]
    }
   ],
   "source": [
    "neuer_satz = \"\\'Addition\\' \\\\ \\'Subtraktion\\' sind Grundrechenarten.\"\n",
    "print( neuer_satz )"
   ]
  },
  {
   "cell_type": "code",
   "execution_count": 5,
   "metadata": {},
   "outputs": [
    {
     "name": "stdout",
     "output_type": "stream",
     "text": [
      "Erste Zeile,\n",
      "zweite Zeile, und\n",
      "\tletzte Zeile mit einer Einrückung.\n"
     ]
    }
   ],
   "source": [
    "mehrere_absaetze = \"Erste Zeile,\\nzweite Zeile, und\\n\\tletzte Zeile mit einer Einrückung.\"\n",
    "print( mehrere_absaetze )"
   ]
  },
  {
   "cell_type": "markdown",
   "metadata": {},
   "source": [
    "Auch eine leere Zeichenkette kann erzeug werden:"
   ]
  },
  {
   "cell_type": "code",
   "execution_count": 2,
   "metadata": {},
   "outputs": [
    {
     "name": "stdout",
     "output_type": "stream",
     "text": [
      "\n"
     ]
    }
   ],
   "source": [
    "leerer_string = ''\n",
    "print( leerer_string )"
   ]
  },
  {
   "cell_type": "markdown",
   "metadata": {},
   "source": [
    "## Operationen"
   ]
  },
  {
   "cell_type": "markdown",
   "metadata": {},
   "source": [
    "Mit Zeichenketten können auch Operationen durchgeführt werden. Dazu gehört die Summation, d.h. Verbindung von Zeichenketten, die Multiplikation mit einer ganzen Zahl oder Vergleichsoperationen."
   ]
  },
  {
   "cell_type": "code",
   "execution_count": 9,
   "metadata": {},
   "outputs": [
    {
     "name": "stdout",
     "output_type": "stream",
     "text": [
      "Feuer Computer\n",
      "Feuer und Computer\n"
     ]
    }
   ],
   "source": [
    "wort_a = \"Feuer\"\n",
    "wort_b = \"Computer\"\n",
    "print( wort_a, wort_b )\n",
    "\n",
    "satz = wort_a + ' und ' + wort_b\n",
    "print( satz )"
   ]
  },
  {
   "cell_type": "code",
   "execution_count": 13,
   "metadata": {},
   "outputs": [
    {
     "name": "stdout",
     "output_type": "stream",
     "text": [
      "erste ausgabe:   FeuerFeuerFeuer\n",
      "zweite ausgabe:  Feuer, Feuer, Feuer, Feuer!\n"
     ]
    }
   ],
   "source": [
    "mehrfach_wort_a = 3 * wort_a\n",
    "print( \"erste ausgabe:  \", mehrfach_wort_a )\n",
    "\n",
    "mehrfach_wort_a = 3 * (wort_a + ', ') + wort_a + '!'\n",
    "print( \"zweite ausgabe: \", mehrfach_wort_a )"
   ]
  },
  {
   "cell_type": "code",
   "execution_count": 14,
   "metadata": {},
   "outputs": [
    {
     "name": "stdout",
     "output_type": "stream",
     "text": [
      "True\n"
     ]
    }
   ],
   "source": [
    "print( wort_a > wort_b )"
   ]
  },
  {
   "cell_type": "markdown",
   "metadata": {},
   "source": [
    "## Zugriff auf einzelne Zeichen"
   ]
  },
  {
   "cell_type": "markdown",
   "metadata": {},
   "source": [
    "Der Zugriff auf einzelne Zeichen wird durch den `[]` Operator ermöglicht. Hierbei wird der Index des Zielzeichens in die Klammern gesetzt. Dabei fängt der Index bei Null an und der letzte Index einer Zeichenkette mit der Länge $\\sf n$ ist $\\sf n-1$. "
   ]
  },
  {
   "cell_type": "code",
   "execution_count": 18,
   "metadata": {},
   "outputs": [
    {
     "name": "stdout",
     "output_type": "stream",
     "text": [
      "Anfang des Alphabets:  ABCDEFGH ...\n",
      "Erster Buchstabe:      A\n",
      "Vierter Buchstabe:     D\n"
     ]
    }
   ],
   "source": [
    "alphabet = 'ABCDEFGH ...'\n",
    "print( 'Anfang des Alphabets: ', alphabet )\n",
    "print( 'Erster Buchstabe:     ', alphabet[0] )\n",
    "print( 'Vierter Buchstabe:    ', alphabet[3] )"
   ]
  }
 ],
 "metadata": {
  "kernelspec": {
   "display_name": "Python 3",
   "language": "python",
   "name": "python3"
  },
  "language_info": {
   "codemirror_mode": {
    "name": "ipython",
    "version": 3
   },
   "file_extension": ".py",
   "mimetype": "text/x-python",
   "name": "python",
   "nbconvert_exporter": "python",
   "pygments_lexer": "ipython3",
   "version": "3.8.2"
  }
 },
 "nbformat": 4,
 "nbformat_minor": 4
}
