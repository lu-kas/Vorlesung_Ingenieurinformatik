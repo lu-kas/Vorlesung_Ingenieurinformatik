{
 "cells": [
  {
   "cell_type": "markdown",
   "metadata": {},
   "source": [
    "# Sprache"
   ]
  },
  {
   "cell_type": "markdown",
   "metadata": {},
   "source": [
    "| ![](https://upload.wikimedia.org/wikipedia/commons/thumb/f/f8/Python_logo_and_wordmark.svg/1280px-Python_logo_and_wordmark.svg.png) |\n",
    "| :-: |\n",
    "| Logo der Programmiersprache Python, Quelle: [www.python.org, Wikimedia](https://commons.wikimedia.org/wiki/File:Python_logo_and_wordmark.svg) |"
   ]
  },
  {
   "cell_type": "markdown",
   "metadata": {},
   "source": [
    "## Ziele und Design\n",
    "\n",
    "Python ist populär geworden, da es folgene Vorteile gegenüber anderen höheren Programmiersprachen hat:\n",
    "\n",
    "* **Einstieg**: Sehr einfach, da die Sprache genau dafür entworfen wurde und mit wenigen Strukturen und Funktionalitäten auskommt \n",
    "* **Generalität**: Wird weltweit in allen Disziplinen eingesetzt ohne domäinspezifische Vereinfachungen zu nutzen \n",
    "* **Erweitbarkeit**: riesiege Anzahl bereits verfügbarer Module \n",
    "* Verfügbarkeit: freie Interpreter\n",
    "\n",
    "Es gibt aktuell zwei Hauptversionen von Python: 2 und 3. In dieser Veranstaltung wir die neueste, d.h. Python 3, verwendet. Version 2 wird auch nicht mehr weiterentwickelt."
   ]
  },
  {
   "cell_type": "markdown",
   "metadata": {},
   "source": [
    "## Interpretierte Sprache"
   ]
  },
  {
   "cell_type": "markdown",
   "metadata": {},
   "source": [
    "In diesem Kapitel wird das Erstellen von Python-Skripten vorgestellt. Insbesondere mit dem interaktiven, webbasierten Werkzeug Jupyter. Abschließend wird die Syntax der Sprache Python kurz präsentiert."
   ]
  }
 ],
 "metadata": {
  "kernelspec": {
   "display_name": "Python 3",
   "language": "python",
   "name": "python3"
  },
  "language_info": {
   "codemirror_mode": {
    "name": "ipython",
    "version": 3
   },
   "file_extension": ".py",
   "mimetype": "text/x-python",
   "name": "python",
   "nbconvert_exporter": "python",
   "pygments_lexer": "ipython3",
   "version": "3.8.2"
  }
 },
 "nbformat": 4,
 "nbformat_minor": 4
}
