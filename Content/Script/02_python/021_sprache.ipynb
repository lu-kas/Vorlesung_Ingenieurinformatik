{
 "cells": [
  {
   "cell_type": "markdown",
   "metadata": {},
   "source": [
    "# Sprache"
   ]
  },
  {
   "cell_type": "markdown",
   "metadata": {},
   "source": [
    "| ![](https://upload.wikimedia.org/wikipedia/commons/thumb/f/f8/Python_logo_and_wordmark.svg/1280px-Python_logo_and_wordmark.svg.png) |\n",
    "| :-: |\n",
    "| Logo der Programmiersprache Python |\n",
    "| Quelle: Matthias Kupfer, <a href=\"https://commons.wikimedia.org/wiki/User:Fetchcomms\">Fetchcomms</a>, <a href=\"https://commons.wikimedia.org/wiki/User:Quibik\">Quibik</a>, <a href=\"https://commons.wikimedia.org/wiki/File:Python_logo_and_wordmark.svg\">Python Logo and Wordmark</a> |"
   ]
  },
  {
   "cell_type": "markdown",
   "metadata": {},
   "source": [
    "## Ziele und Design\n",
    "\n",
    "Python ist populär geworden, da es folgene Vorteile gegenüber anderen höheren Programmiersprachen hat:\n",
    "\n",
    "* **Einstieg**: sehr einfach, da die Sprache genau dafür entworfen wurde und mit wenigen Strukturen und Funktionalitäten auskommt \n",
    "* **Generalität**: wird weltweit in allen Disziplinen eingesetzt ohne domänenspezifische Vereinfachungen zu nutzen \n",
    "* **Erweitbarkeit**: riesige Anzahl bereits verfügbarer Module mit sehr umfangreichen Funktionsumfängen\n",
    "* **Verfügbarkeit**: freie Interpreter für alle populären Computersysteme, sowohl der Interpreter als auch fast alle Module sind quelloffen und frei verfügbar\n",
    "\n",
    "Es gibt aktuell zwei Hauptversionen von Python: 2 und 3. In dieser Veranstaltung wir die neueste, d.h. Python 3, verwendet. Version 2 wird auch nicht mehr weiterentwickelt."
   ]
  },
  {
   "cell_type": "markdown",
   "metadata": {},
   "source": [
    "## Interpretierte Sprache"
   ]
  },
  {
   "cell_type": "markdown",
   "metadata": {},
   "source": [
    "Die in Python geschriebenen Skripte bzw. der Quellcode werden nicht zu einem Programm übersetzt, sondern von einem sogenannten Interpreter ausgeführt. Dieser Interpreter ist auf das jeweilige Computersystem angepasst und stellt die Laufzeitumgebung zur Ausführung bereit. Dadurch wird die erstellte Software zwar sehr portabel, jedoch ist eine interpretierte Sprache langsamer als ein übersetztes Programm. Insbesondere ist dies bei rechenintensiven Algorithmen problematisch. Hierbei helfen jedoch spezialisierte Module aus, welche die Rechenleistung von Python deutlich steigern und diesen Unterschied fast ganz ausgleichen kann. "
   ]
  },
  {
   "cell_type": "markdown",
   "metadata": {},
   "source": [
    "## Übersicht"
   ]
  },
  {
   "cell_type": "markdown",
   "metadata": {},
   "source": [
    "In diesem Kapitel wird das Erstellen von Python-Skripten vorgestellt. Insbesondere mit dem interaktiven, webbasierten Werkzeug Jupyter. Abschließend wird die Syntax der Sprache Python kurz präsentiert."
   ]
  }
 ],
 "metadata": {
  "kernelspec": {
   "display_name": "Python 3",
   "language": "python",
   "name": "python3"
  },
  "language_info": {
   "codemirror_mode": {
    "name": "ipython",
    "version": 3
   },
   "file_extension": ".py",
   "mimetype": "text/x-python",
   "name": "python",
   "nbconvert_exporter": "python",
   "pygments_lexer": "ipython3",
   "version": "3.7.5"
  }
 },
 "nbformat": 4,
 "nbformat_minor": 4
}
