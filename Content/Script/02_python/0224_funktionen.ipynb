{
 "cells": [
  {
   "cell_type": "markdown",
   "metadata": {},
   "source": [
    "# Funktionen"
   ]
  },
  {
   "cell_type": "markdown",
   "metadata": {},
   "source": [
    "Funktionen bündeln oft verwendete Abfolgen von Anweisungen. Damit kann zum einen ein Programm schneller geschrieben werden und ist auch leichter lesbar. Viele Funktionen sind bereits entweder Teil der Programiersprache Python oder können über Module nachgeladen werden. "
   ]
  },
  {
   "cell_type": "markdown",
   "metadata": {},
   "source": [
    "## `None` Wert\n",
    "\n",
    "Ein Wert kann auch als nicht vorhanden deklariert werden. Dies wird mit dem `None` Wert möglich. Beispielsweise ist dies wichtig, wenn eine Funktion nichts zurückgibt. Da formal aber ein Wert zurückgegeben werden muss, kann dies mit `None` realisiert werden."
   ]
  },
  {
   "cell_type": "markdown",
   "metadata": {},
   "source": [
    "## Aufruf\n",
    "\n",
    "Funktionen haben einen Funktionsnamen, können Argumente entgegennehmen und können einen Wert zurückgeben. Aufgerufen wird eine Funktion mit ihrem Namen gefolgt von runden Klammern `()` welche die kommagetrennten Argumente einschließt. Nachdem die Funktion ausgeführt wurde, wird der von ihr zürckgegebene Wert an der entsprechenden Stelle in dem aufrufenden Ausdruck eingesetzt."
   ]
  },
  {
   "cell_type": "markdown",
   "metadata": {},
   "source": [
    "Die bereits eingesetzte Funktion `print` ist eine in Python eingebaute Funktion."
   ]
  },
  {
   "cell_type": "code",
   "execution_count": 1,
   "metadata": {},
   "outputs": [
    {
     "name": "stdout",
     "output_type": "stream",
     "text": [
      "15\n"
     ]
    }
   ],
   "source": [
    "print( 15 )"
   ]
  },
  {
   "cell_type": "code",
   "execution_count": 2,
   "metadata": {},
   "outputs": [
    {
     "name": "stdout",
     "output_type": "stream",
     "text": [
      "15\n",
      "None\n"
     ]
    }
   ],
   "source": [
    "res = print( 15 )\n",
    "print(res)"
   ]
  },
  {
   "cell_type": "markdown",
   "metadata": {},
   "source": [
    "Weitere eingebaute Funktionen sind z.B. `int`, `abs` oder `type` . Eine vollständige Liste ist in [der Dokumentation](https://docs.python.org/3/library/functions.html) aufgeführt."
   ]
  },
  {
   "cell_type": "code",
   "execution_count": 3,
   "metadata": {},
   "outputs": [
    {
     "name": "stdout",
     "output_type": "stream",
     "text": [
      "6\n",
      "4\n"
     ]
    }
   ],
   "source": [
    "# int(a): wandelt den Wert a in eine ganze Zahl, Typ int, um und gibt diesen zurück\n",
    "\n",
    "print( int(6) )\n",
    "print( int(4.2) )"
   ]
  },
  {
   "cell_type": "code",
   "execution_count": 4,
   "metadata": {},
   "outputs": [
    {
     "name": "stdout",
     "output_type": "stream",
     "text": [
      "5\n",
      "3.5\n"
     ]
    }
   ],
   "source": [
    "# abs(a): gibt den Betrag der Zahl a zurück\n",
    "\n",
    "print( abs(5) )\n",
    "print( abs(-3.5) )"
   ]
  },
  {
   "cell_type": "code",
   "execution_count": 6,
   "metadata": {},
   "outputs": [
    {
     "name": "stdout",
     "output_type": "stream",
     "text": [
      "<class 'int'>\n",
      "<class 'float'>\n",
      "<class 'bool'>\n"
     ]
    }
   ],
   "source": [
    "# type(a): gibt den Datentyp der Variable / Werts a zurück\n",
    "\n",
    "print( type(12) )\n",
    "print( type(1.4) )\n",
    "print( type(True) )"
   ]
  },
  {
   "cell_type": "code",
   "execution_count": 7,
   "metadata": {},
   "outputs": [
    {
     "name": "stdout",
     "output_type": "stream",
     "text": [
      "<class 'float'>\n",
      "<class 'bool'>\n"
     ]
    }
   ],
   "source": [
    "print( type(4.7 + 5) )\n",
    "print( type(4.7 > 5) )"
   ]
  },
  {
   "cell_type": "markdown",
   "metadata": {},
   "source": [
    "## Methoden"
   ]
  },
  {
   "cell_type": "markdown",
   "metadata": {},
   "source": [
    "Die obige Ausgabe der Datentypen hat nicht nur `float` ausgebeben, sondern `<class 'float'>`. Tatsächlich ist diese Variable bzw. Wert eine Klasse, ein Themenbereich, welcher hier nicht weiter erläutert wird. Wichtig ist jedoch, dass Klassen sogenannte Attribute haben können. Dazu gehören Methoden. Methoden sind Funktionen, welche zu dem jeweiligen Datentyp gehören. Sie werden wie Funktionen  aufgerufen, wobei der Variablenname vorgesetzt und mit einem Punkt `.` getrennt wird: `variable.methode`.   "
   ]
  },
  {
   "cell_type": "markdown",
   "metadata": {},
   "source": [
    "Insbesondere bei den komplexeren Datentypen wie Zeichenketten oder Listen werden Methoden eine wichtige Rolle einnehmen. An dieser Stelle wird exemplarisch der Zugriff auf Methoden der Klasse `float` demonstriert. Eine Liste aller Methoden dieser Klasse befindet sich [in der Dokumentation der numerischen Klassen](https://docs.python.org/3/library/stdtypes.html#numeric-types-int-float-complex).  "
   ]
  },
  {
   "cell_type": "code",
   "execution_count": 22,
   "metadata": {},
   "outputs": [
    {
     "name": "stdout",
     "output_type": "stream",
     "text": [
      "float:  0.1\n",
      "(3602879701896397, 36028797018963968)\n",
      "False\n"
     ]
    }
   ],
   "source": [
    "a = 0.1\n",
    "print( 'float: ', a)\n",
    "print( a.as_integer_ratio() )\n",
    "print( a.is_integer() )"
   ]
  },
  {
   "cell_type": "code",
   "execution_count": 23,
   "metadata": {},
   "outputs": [
    {
     "name": "stdout",
     "output_type": "stream",
     "text": [
      "float:  2.0\n",
      "(2, 1)\n",
      "True\n"
     ]
    }
   ],
   "source": [
    "a = 2.0\n",
    "print( 'float: ', a)\n",
    "print( a.as_integer_ratio() )\n",
    "print( a.is_integer() )"
   ]
  }
 ],
 "metadata": {
  "kernelspec": {
   "display_name": "Python 3",
   "language": "python",
   "name": "python3"
  },
  "language_info": {
   "codemirror_mode": {
    "name": "ipython",
    "version": 3
   },
   "file_extension": ".py",
   "mimetype": "text/x-python",
   "name": "python",
   "nbconvert_exporter": "python",
   "pygments_lexer": "ipython3",
   "version": "3.7.5"
  }
 },
 "nbformat": 4,
 "nbformat_minor": 4
}
