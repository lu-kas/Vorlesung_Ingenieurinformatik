{
 "cells": [
  {
   "cell_type": "markdown",
   "metadata": {},
   "source": [
    "# Funktionen"
   ]
  },
  {
   "cell_type": "markdown",
   "metadata": {},
   "source": [
    "Funktionen bündeln oft verwendete Abfolgen von Anweisungen. Damit kann zum einen ein Programm schneller geschrieben werden und ist auch leichter lesbar. Viele Funktionen sind bereits entweder Teil der Programiersprache Python oder können über Module nachgeladen werden. "
   ]
  },
  {
   "cell_type": "markdown",
   "metadata": {},
   "source": [
    "## `None` Wert\n",
    "\n",
    "Ein Wert kann auch als nicht vorhanden deklariert werden. Dies wird mit dem `None` Wert möglich. Beispielsweise ist dies wichtig, wenn eine Funktion nichts zurückgibt. Da formal aber ein Wert zurückgegeben werden muss, kann dies mit `None` realisiert werden."
   ]
  },
  {
   "cell_type": "markdown",
   "metadata": {},
   "source": [
    "## Aufruf\n",
    "\n",
    "Funktionen haben einen Funktionsnamen, können Argumente entgegennehmen und können einen Wert zurückgeben. Aufgerufen wird eine Funktion mit ihrem Namen gefolt von runden Klammern `()` welche die kommagetrennten Argumente einschließt. Nachdem die Funktion ausgeführt wurde, wird der von ihr zürckgegebene Wert an der entsprechenden Stelle in dem aufrufenden Ausdruck eingesetzt."
   ]
  },
  {
   "cell_type": "markdown",
   "metadata": {},
   "source": [
    "Die bereits eingesetzte Funktion `print` ist eine in Pyhton eingebaute Funktion."
   ]
  },
  {
   "cell_type": "code",
   "execution_count": 1,
   "metadata": {},
   "outputs": [
    {
     "name": "stdout",
     "output_type": "stream",
     "text": [
      "15\n"
     ]
    }
   ],
   "source": [
    "print( 15 )"
   ]
  },
  {
   "cell_type": "code",
   "execution_count": 2,
   "metadata": {},
   "outputs": [
    {
     "name": "stdout",
     "output_type": "stream",
     "text": [
      "15\n",
      "None\n"
     ]
    }
   ],
   "source": [
    "res = print( 15 )\n",
    "print(res)"
   ]
  },
  {
   "cell_type": "markdown",
   "metadata": {},
   "source": [
    "Weitere eingebaute Funktionen sind z.B. `int`, `abs` oder `type` . Eine vollständige Liste ist in [der Dokumentation](https://docs.python.org/3/library/functions.html) aufgeführt."
   ]
  },
  {
   "cell_type": "code",
   "execution_count": 3,
   "metadata": {},
   "outputs": [
    {
     "name": "stdout",
     "output_type": "stream",
     "text": [
      "6\n",
      "4\n"
     ]
    }
   ],
   "source": [
    "# int(a): wandelt den Wert a in eine ganze Zahl, Typ int, um\n",
    "\n",
    "print( int(6) )\n",
    "print( int(4.2) )"
   ]
  }
 ],
 "metadata": {
  "kernelspec": {
   "display_name": "Python 3",
   "language": "python",
   "name": "python3"
  },
  "language_info": {
   "codemirror_mode": {
    "name": "ipython",
    "version": 3
   },
   "file_extension": ".py",
   "mimetype": "text/x-python",
   "name": "python",
   "nbconvert_exporter": "python",
   "pygments_lexer": "ipython3",
   "version": "3.8.2"
  }
 },
 "nbformat": 4,
 "nbformat_minor": 4
}
