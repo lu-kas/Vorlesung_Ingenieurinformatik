{
 "cells": [
  {
   "cell_type": "markdown",
   "metadata": {},
   "source": [
    "# Syntax"
   ]
  },
  {
   "cell_type": "markdown",
   "metadata": {},
   "source": [
    "Die Syntax einer Sprache beschreibt die formalen Regeln dieser. In diesem Kapitel werden die für diese Vorlesung wichtigsten Elemente der Syntax vorgestellt."
   ]
  },
  {
   "cell_type": "markdown",
   "metadata": {},
   "source": [
    "Zu den Sprachelementen von Python gehören Variablen, Operationen, Schleifen, Abzweigungen und Funktionen. Aus diesen einfachen Elementen lassen sich komplexe Programme aufbauen."
   ]
  },
  {
   "cell_type": "markdown",
   "metadata": {},
   "source": [
    "Ein Python-Skript ist eine Abfolge von Ausdrücken, welche eine Kombination von Operanden und Operatoren ist. Operanden können Zahlen oder Variablen sein, und Operatoren sind z.B. die Grundrechenarten, die Indizierung von Elementen einer Liste, die Wertzuweisung einer Variablen oder Funktionsaufrufe."
   ]
  },
  {
   "cell_type": "markdown",
   "metadata": {},
   "source": [
    "## Text Dateien\n",
    "\n",
    "Python-Code wird in einer reinen Textdatei gespreichert. Jupyter-Notebooks verwenden auch Textdateien, allerdings im [XML-Format](https://de.wikipedia.org/wiki/Extensible_Markup_Language). Moderne Python-Interpreter sind nicht auf durch ASCII darstellbare Zeichen limitiert und können auch mit Zeichen aus dem [UTF-8](https://de.wikipedia.org/wiki/UTF-8) Format umgehen. UTF-8 ist eine sehr weit verbreitete Zeichenkodierung, welche das ASCII-Format erweitert und z.B. deutsche Sonderzeichen abbilden kann. "
   ]
  },
  {
   "cell_type": "markdown",
   "metadata": {},
   "source": [
    "## Formatierung\n",
    "\n",
    "Bei der Formatierung von Python-Code gibt es nur wenige Punkte, die beachtet werden müssen:\n",
    "\n",
    "* Ausdrücke müssen in einer einzelnen Zeile aufgeführt werden. Ausdrücke, welche aufgrund ihrer Länge sich über mehrere Zeile erstrecken, werden mit einem `\\` getrennt."
   ]
  },
  {
   "cell_type": "code",
   "execution_count": 1,
   "metadata": {},
   "outputs": [],
   "source": [
    "offset = 15\n",
    "a = [5, 10, 20]\n",
    "neue_variable = offset + \\\n",
    "                max(a)"
   ]
  },
  {
   "cell_type": "markdown",
   "metadata": {},
   "source": [
    "* Die Anzahl der Leerzeichen zwischen Operanden und Operatoren kann beliebig sein."
   ]
  },
  {
   "cell_type": "code",
   "execution_count": 2,
   "metadata": {},
   "outputs": [],
   "source": [
    "b1=45\n",
    "b2    =   45 + abs  (   b1  )"
   ]
  },
  {
   "cell_type": "markdown",
   "metadata": {},
   "source": [
    "* Die Einrückung einer Zeile ist nicht beliebig, sondern zeigt die Zugehörigkeit zu einem Code-Block an. Im unteren Beispiel trennt die Einrückung den Ausführungsblock der Schleife (die zwei letzten eingerückten Zeilen) vom Rest."
   ]
  },
  {
   "cell_type": "code",
   "execution_count": 3,
   "metadata": {},
   "outputs": [],
   "source": [
    "summe = 0\n",
    "summe2 = 0\n",
    "for i in range(10):\n",
    "    summe += i\n",
    "    summe2 += i*i"
   ]
  },
  {
   "cell_type": "markdown",
   "metadata": {},
   "source": [
    "* Kommentare, d.h. Code-Stellen, welche nicht ausgeführt werden sollen, können durch ein vorangestelltes `#` gekennzeichnet werden."
   ]
  },
  {
   "cell_type": "code",
   "execution_count": 4,
   "metadata": {},
   "outputs": [],
   "source": [
    "# dies ist ein Kommentar\n",
    "c = 6 + 1.5"
   ]
  },
  {
   "cell_type": "markdown",
   "metadata": {},
   "source": [
    "## Schlüsselworte"
   ]
  },
  {
   "cell_type": "markdown",
   "metadata": {},
   "source": [
    "In der Python-Sprache sind nur wenige Worte für die Sprache selbst reserviert und können nicht für Variablen- oder Funktonsnamen verwendet werden.\n",
    "\n",
    "Dies sind beispielsweise: `for`, `in`, `if`, `None`, `import`. Eine vollständige Auflistung befindet sich in [der Dokumentation](https://docs.python.org/3/reference/lexical_analysis.html#keywords). Entwicklungsumgebungen markieren solche Schlüsselworte, in Jupyter-Notebook werden sie grün und fett gedruckt markiert. In den obigen Beispielen sind diese fett gedruckt und schwarz.\n",
    "\n",
    "Desweiteren gibt es auch eingebaute Funktionen in Python wie bspw. `abs`, `max`, `min`, `range`. Die vollständige Auflistung befindet sich ebenfalls in [der Dokumentation](https://docs.python.org/3.8/library/functions.html). In Jupyter-Notebook sind diese grün markiert. In den obigen Beispielen sind diese in hellblau gekennzeichnet."
   ]
  }
 ],
 "metadata": {
  "kernelspec": {
   "display_name": "Python 3",
   "language": "python",
   "name": "python3"
  },
  "language_info": {
   "codemirror_mode": {
    "name": "ipython",
    "version": 3
   },
   "file_extension": ".py",
   "mimetype": "text/x-python",
   "name": "python",
   "nbconvert_exporter": "python",
   "pygments_lexer": "ipython3",
   "version": "3.7.5"
  }
 },
 "nbformat": 4,
 "nbformat_minor": 4
}
