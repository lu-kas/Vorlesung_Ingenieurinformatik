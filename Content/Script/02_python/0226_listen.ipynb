{
 "cells": [
  {
   "cell_type": "markdown",
   "metadata": {},
   "source": [
    "# Listen"
   ]
  },
  {
   "cell_type": "markdown",
   "metadata": {},
   "source": [
    "In Python, wie auch in den meisten anderen Sprachen, können Gruppen von Werten in einer Liste zusammengefasst werden. Listen werden in Python als eigenständiger Typ `list` gehandhabt. Sie fungieren als ein Container, welcher eine flexible Anzahl von Elementen beliebigen Typs beinhalten kann."
   ]
  },
  {
   "cell_type": "markdown",
   "metadata": {},
   "source": [
    "## Definition\n",
    "Bei der Definition einer Liste, werden die Elemente durch `[]` eingeklammert und mit Kommata `,` getrennt."
   ]
  },
  {
   "cell_type": "code",
   "execution_count": 1,
   "metadata": {},
   "outputs": [
    {
     "name": "stdout",
     "output_type": "stream",
     "text": [
      "[5, 6, 7, 12]\n"
     ]
    }
   ],
   "source": [
    "liste1 = [5, 6, 7, 12]\n",
    "print( liste1 )"
   ]
  },
  {
   "cell_type": "code",
   "execution_count": 2,
   "metadata": {},
   "outputs": [
    {
     "name": "stdout",
     "output_type": "stream",
     "text": [
      "[1.3, 'computer', 5]\n"
     ]
    }
   ],
   "source": [
    "liste2 = [1.3, 'computer', 5]\n",
    "print( liste2 )"
   ]
  },
  {
   "cell_type": "markdown",
   "metadata": {},
   "source": [
    "Eine leere Liste kann mit `[]` erzeugt werden:"
   ]
  },
  {
   "cell_type": "code",
   "execution_count": 3,
   "metadata": {},
   "outputs": [
    {
     "name": "stdout",
     "output_type": "stream",
     "text": [
      "[]\n"
     ]
    }
   ],
   "source": [
    "liste_leer = []\n",
    "print( liste_leer )"
   ]
  },
  {
   "cell_type": "markdown",
   "metadata": {},
   "source": [
    "## Operationen"
   ]
  },
  {
   "cell_type": "markdown",
   "metadata": {},
   "source": [
    "Genauso wie Zeichenketten, können Listen addiert werden."
   ]
  },
  {
   "cell_type": "code",
   "execution_count": 4,
   "metadata": {},
   "outputs": [
    {
     "name": "stdout",
     "output_type": "stream",
     "text": [
      "[5, 6, 7, 12] [1.3, 'computer', 5]\n",
      "[5, 6, 7, 12, 1.3, 'computer', 5]\n"
     ]
    }
   ],
   "source": [
    "liste3 = liste1 + liste2\n",
    "print( liste1, liste2 )\n",
    "print( liste3 )"
   ]
  },
  {
   "cell_type": "markdown",
   "metadata": {},
   "source": [
    "## Zugriff"
   ]
  },
  {
   "cell_type": "markdown",
   "metadata": {},
   "source": [
    "Auch der Zugriff auf einzelne Elemente erfolgt mit den eckigen Klammern `[]`. Im Gegensatz zu Zeichenketten, können damit auch einzelne Elemente einer Liste verändert werden."
   ]
  },
  {
   "cell_type": "code",
   "execution_count": 5,
   "metadata": {},
   "outputs": [
    {
     "name": "stdout",
     "output_type": "stream",
     "text": [
      "[5, 6, 7, 12, 1.3, 'computer', 5]\n",
      "6\n",
      "computer\n"
     ]
    }
   ],
   "source": [
    "print( liste3 )\n",
    "print( liste3[1] )\n",
    "print( liste3[5] )"
   ]
  },
  {
   "cell_type": "code",
   "execution_count": 6,
   "metadata": {},
   "outputs": [
    {
     "name": "stdout",
     "output_type": "stream",
     "text": [
      "['feuer', 6, 7, 12, 1.3, 'computer', 5]\n"
     ]
    }
   ],
   "source": [
    "liste3[0] = 'feuer'\n",
    "print( liste3 )"
   ]
  },
  {
   "cell_type": "markdown",
   "metadata": {},
   "source": [
    "Mit negativen Indizes können Elemente vom Ende aus angesprochen werden. So entspricht z.B. die -1 dem letzten Element."
   ]
  },
  {
   "cell_type": "code",
   "execution_count": 7,
   "metadata": {},
   "outputs": [
    {
     "name": "stdout",
     "output_type": "stream",
     "text": [
      "11 20\n"
     ]
    }
   ],
   "source": [
    "liste4 = [11, 12, 13, 14, 15, 16, 17, 18, 19, 20]\n",
    "print( liste4[0], liste4[-1] )"
   ]
  },
  {
   "cell_type": "markdown",
   "metadata": {},
   "source": [
    "Neben dem Zugriff auf einzelne Elemente, können auch Indexbereiche addressiert werden. Dazu wird die Form `[a:b]` verwendet, wobei `a` das erste addressiere und `b` das erste *nicht-mehr* addressierte Element angibt. Zusätzlich kann auch die Schrittweite `c` in der der Bereich zwischen `a` und `b` addressiert wird definiert werden. Dies wird mit `[a:b:c]` formal dargestellt.  "
   ]
  },
  {
   "cell_type": "code",
   "execution_count": 8,
   "metadata": {},
   "outputs": [
    {
     "name": "stdout",
     "output_type": "stream",
     "text": [
      "[14, 15, 16, 17]\n"
     ]
    }
   ],
   "source": [
    "print( liste4[3:7] )"
   ]
  },
  {
   "cell_type": "code",
   "execution_count": 9,
   "metadata": {},
   "outputs": [
    {
     "name": "stdout",
     "output_type": "stream",
     "text": [
      "[13, 15, 17]\n"
     ]
    }
   ],
   "source": [
    "print( liste4[2:8:2] )"
   ]
  },
  {
   "cell_type": "markdown",
   "metadata": {},
   "source": [
    "Werden die Werte für `a`, `b` oder `c` nicht angegeben, so nehmen diese die Standardwerte `a=0` und `c=1` an. Der Wert von `b` entspricht der Anzahl der in der Liste enthaltenen Elemente."
   ]
  },
  {
   "cell_type": "code",
   "execution_count": 10,
   "metadata": {},
   "outputs": [
    {
     "name": "stdout",
     "output_type": "stream",
     "text": [
      "[16, 17, 18, 19, 20]\n"
     ]
    }
   ],
   "source": [
    "print( liste4[5:] )"
   ]
  },
  {
   "cell_type": "code",
   "execution_count": 11,
   "metadata": {},
   "outputs": [
    {
     "name": "stdout",
     "output_type": "stream",
     "text": [
      "[11, 12, 13]\n"
     ]
    }
   ],
   "source": [
    "print( liste4[:3] )"
   ]
  },
  {
   "cell_type": "code",
   "execution_count": 12,
   "metadata": {},
   "outputs": [
    {
     "name": "stdout",
     "output_type": "stream",
     "text": [
      "[16, 17, 18]\n"
     ]
    }
   ],
   "source": [
    "print( liste4[5:8:] )"
   ]
  },
  {
   "cell_type": "code",
   "execution_count": 13,
   "metadata": {},
   "outputs": [
    {
     "name": "stdout",
     "output_type": "stream",
     "text": [
      "[11, 13, 15, 17, 19]\n"
     ]
    }
   ],
   "source": [
    "print( liste4[::2] )"
   ]
  },
  {
   "cell_type": "code",
   "execution_count": 14,
   "metadata": {},
   "outputs": [
    {
     "name": "stdout",
     "output_type": "stream",
     "text": [
      "[11, 12, 13, 14, 15, 16, 17, 18, 19, 20]\n",
      "[11, 12, 13, 14, 15, 16, 17, 18, 19, 20]\n",
      "[11, 12, 13, 14, 15, 16, 17, 18, 19, 20]\n"
     ]
    }
   ],
   "source": [
    "print( liste4 )\n",
    "print( liste4[:] )\n",
    "print( liste4[::] )"
   ]
  },
  {
   "cell_type": "markdown",
   "metadata": {},
   "source": [
    "## Methoden und Funktionen\n",
    "\n",
    "Folgende Methoden der Listen Klasse werden häufig verwendet:\n",
    "\n",
    "* `list.append`: fügt ein neues Elemente am Ende der Liste hinzu\n",
    "* `list.extend`: erweitert die Liste um eine andere Liste\n",
    "* `list.insert`: fügt ein neues Element an einer gegebenen Stelle hinzu\n",
    "* `list.sort`: sortiert die Liste"
   ]
  },
  {
   "cell_type": "code",
   "execution_count": 15,
   "metadata": {},
   "outputs": [
    {
     "name": "stdout",
     "output_type": "stream",
     "text": [
      "[6, 108.2, -11, 2.3, 5.6, -4.7, 0, 3]\n"
     ]
    }
   ],
   "source": [
    "liste5 = [6, 108.2, -11, 2.3, 5.6, -4.7, 0, 3]\n",
    "print( liste5 )"
   ]
  },
  {
   "cell_type": "code",
   "execution_count": 16,
   "metadata": {},
   "outputs": [
    {
     "name": "stdout",
     "output_type": "stream",
     "text": [
      "[-11, -4.7, 0, 2.3, 3, 5.6, 6, 108.2]\n"
     ]
    }
   ],
   "source": [
    "liste5.sort()\n",
    "print( liste5 )"
   ]
  },
  {
   "cell_type": "code",
   "execution_count": 17,
   "metadata": {},
   "outputs": [
    {
     "name": "stdout",
     "output_type": "stream",
     "text": [
      "[-11, -1, -4.7, 0, 2.3, 3, 5.6, 6, 108.2]\n"
     ]
    }
   ],
   "source": [
    "liste5.insert(1, -1)\n",
    "print( liste5 )"
   ]
  },
  {
   "cell_type": "code",
   "execution_count": 18,
   "metadata": {},
   "outputs": [
    {
     "name": "stdout",
     "output_type": "stream",
     "text": [
      "[-11, -1, -4.7, 0, 2.3, 3, 5.6, 6, 108.2, 12.345]\n"
     ]
    }
   ],
   "source": [
    "liste5.append( 12.345 )\n",
    "print( liste5 )"
   ]
  },
  {
   "cell_type": "code",
   "execution_count": 19,
   "metadata": {},
   "outputs": [
    {
     "name": "stdout",
     "output_type": "stream",
     "text": [
      "[-11, -1, -4.7, 0, 2.3, 3, 5.6, 6, 108.2, 12.345, 1, 2]\n"
     ]
    }
   ],
   "source": [
    "liste5.extend( [1,2] )\n",
    "print( liste5 )"
   ]
  },
  {
   "cell_type": "code",
   "execution_count": 20,
   "metadata": {},
   "outputs": [
    {
     "name": "stdout",
     "output_type": "stream",
     "text": [
      "[-11, -1, -4.7, 0, 2.3, 3, 5.6, 6, 108.2, 12.345, 1, 2, [1, 2]]\n"
     ]
    }
   ],
   "source": [
    "liste5.append( [1,2] )\n",
    "print( liste5 )"
   ]
  },
  {
   "cell_type": "markdown",
   "metadata": {},
   "source": [
    "Einige praktische Funktionen, welche in Python eingebaut sind:\n",
    "\n",
    "* `len`: liefert die Länge einer Liste, bzw. Sammeltyps, zurück\n",
    "* `min`, `max`: gibt das Minimum bzw. Maximum einer Liste zurück"
   ]
  },
  {
   "cell_type": "code",
   "execution_count": 21,
   "metadata": {},
   "outputs": [
    {
     "name": "stdout",
     "output_type": "stream",
     "text": [
      "8\n",
      "108.2\n"
     ]
    }
   ],
   "source": [
    "liste6 = [6, 108.2, -11, 2.3, 5.6, -4.7, 0, 3]\n",
    "print( len(liste6) )\n",
    "print( max(liste6) )"
   ]
  },
  {
   "cell_type": "markdown",
   "metadata": {},
   "source": [
    "## Verschachtelte Listen"
   ]
  },
  {
   "cell_type": "markdown",
   "metadata": {},
   "source": [
    "Da Listen beliebige Datentypen aufnehmen können, können die Elemente auch selbst Listen sein. Diese verschachtelten Listen werden häufig eingesetzt und können wie folgt gehandhabt werden."
   ]
  },
  {
   "cell_type": "markdown",
   "metadata": {},
   "source": [
    "Zunächst wird eine Liste mit einem Listenelementen erzeugt:"
   ]
  },
  {
   "cell_type": "code",
   "execution_count": 22,
   "metadata": {},
   "outputs": [
    {
     "name": "stdout",
     "output_type": "stream",
     "text": [
      "[[3, 5, 9]]\n"
     ]
    }
   ],
   "source": [
    "liste7 = []\n",
    "liste7.append([3,5,9])\n",
    "print( liste7 )"
   ]
  },
  {
   "cell_type": "code",
   "execution_count": 23,
   "metadata": {},
   "outputs": [
    {
     "name": "stdout",
     "output_type": "stream",
     "text": [
      "[[3, 5, 9], [-3, -1, -5], [0.1, 0.2, 0.3]]\n"
     ]
    }
   ],
   "source": [
    "liste7.append([-3,-1,-5])\n",
    "liste7.append([0.1,0.2,0.3])\n",
    "print( liste7 )"
   ]
  },
  {
   "cell_type": "markdown",
   "metadata": {},
   "source": [
    "Der Zugriff auf das erste Element liefert eine Liste zurück:"
   ]
  },
  {
   "cell_type": "code",
   "execution_count": 24,
   "metadata": {},
   "outputs": [
    {
     "name": "stdout",
     "output_type": "stream",
     "text": [
      "[3, 5, 9]\n"
     ]
    }
   ],
   "source": [
    "print( liste7[0] )"
   ]
  },
  {
   "cell_type": "markdown",
   "metadata": {},
   "source": [
    "Um nun auf eines dieser Elemente zuzugreifen, wird ein weiterer Index angegeben:"
   ]
  },
  {
   "cell_type": "code",
   "execution_count": 25,
   "metadata": {},
   "outputs": [
    {
     "name": "stdout",
     "output_type": "stream",
     "text": [
      "9\n"
     ]
    }
   ],
   "source": [
    "print( liste7[0][2] )"
   ]
  },
  {
   "cell_type": "code",
   "execution_count": null,
   "metadata": {},
   "outputs": [],
   "source": []
  }
 ],
 "metadata": {
  "kernelspec": {
   "display_name": "Python 3",
   "language": "python",
   "name": "python3"
  },
  "language_info": {
   "codemirror_mode": {
    "name": "ipython",
    "version": 3
   },
   "file_extension": ".py",
   "mimetype": "text/x-python",
   "name": "python",
   "nbconvert_exporter": "python",
   "pygments_lexer": "ipython3",
   "version": "3.8.5"
  }
 },
 "nbformat": 4,
 "nbformat_minor": 4
}
