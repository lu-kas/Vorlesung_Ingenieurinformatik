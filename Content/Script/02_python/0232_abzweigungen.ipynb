{
 "cells": [
  {
   "cell_type": "markdown",
   "metadata": {},
   "source": [
    "# Abzweigungen"
   ]
  },
  {
   "cell_type": "markdown",
   "metadata": {},
   "source": [
    "Abzweigungen ermöglichen eine Fallunterscheidung, bei der verschiedene Teile des Skripts ausgeführt werden."
   ]
  },
  {
   "cell_type": "markdown",
   "metadata": {},
   "source": [
    "Zum Beispiel im Maximum-Algorithmus wird entschieden, ob der aktuelle Iterationswert größer ist als eine Variable. Falls nicht, wird die nächste Iteration durchgeführt, falls ja, wird der Wert der Variablen angepasst. "
   ]
  },
  {
   "cell_type": "markdown",
   "metadata": {},
   "source": [
    "## Definition"
   ]
  },
  {
   "cell_type": "markdown",
   "metadata": {},
   "source": [
    "In Python werden Abzweigungen mit dem `if` Schlüsselwort eingeleitet. Dieses wird von der Abzweigbedingung gefolgt und mit einem Doppelpunkt `:` abgeschlossen. Falls die Abzweigbedingung wahr ist, wird der eingerückte Anweisungsblock ausgeführt.\n",
    "\n",
    "```python\n",
    "if Bedingung:\n",
    "    Anweisungsblock\n",
    "```\n",
    "\n",
    "Es ist auch möglich einen alternativen Anweisungsblock zu definieren, welcher ausgeführt wird, wenn die Bedingung falsch ist. Dies wird mit dem `else` Schlüsselwort umgesetzt.\n",
    "\n",
    "```python\n",
    "if Bedingung:\n",
    "    # Bedingung ist wahr\n",
    "    Anweisungsblock\n",
    "else:\n",
    "    # Bedingung ist falsch\n",
    "    Anweisungsblock\n",
    "```"
   ]
  },
  {
   "cell_type": "markdown",
   "metadata": {},
   "source": [
    "Folgende Beispiele verdeutlichen den Einsatz der Abzweigung."
   ]
  },
  {
   "cell_type": "code",
   "execution_count": 1,
   "metadata": {},
   "outputs": [
    {
     "name": "stdout",
     "output_type": "stream",
     "text": [
      "Die Zahl 7 ist kleiner als 10.\n"
     ]
    }
   ],
   "source": [
    "# Beispiel 1: Zahl kleiner als ein Schwellwert\n",
    "\n",
    "a = 7\n",
    "if a < 10:\n",
    "    print( 'Die Zahl', a, 'ist kleiner als 10.')"
   ]
  },
  {
   "cell_type": "code",
   "execution_count": 4,
   "metadata": {},
   "outputs": [
    {
     "name": "stdout",
     "output_type": "stream",
     "text": [
      "Die Zahl 13 ist nicht kleiner als 10.\n"
     ]
    }
   ],
   "source": [
    "# Beispiel 2: Zahl kleiner als ein Schwellwert mit alternativer Ausgabe\n",
    "\n",
    "a = 13\n",
    "if a < 10:\n",
    "    print( 'Die Zahl', a, 'ist kleiner als 10.')\n",
    "else:\n",
    "    print( 'Die Zahl', a, 'ist nicht kleiner als 10.')"
   ]
  },
  {
   "cell_type": "code",
   "execution_count": 6,
   "metadata": {},
   "outputs": [
    {
     "name": "stdout",
     "output_type": "stream",
     "text": [
      "Die Zahl 1 liegt nicht zwischen 10 und 20.\n"
     ]
    }
   ],
   "source": [
    "# Beispiel 3: Zahl im Wertebereich zwischen 10 und 20\n",
    "\n",
    "a = 1\n",
    "if a < 20 and a > 10:\n",
    "    print( 'Die Zahl', a, 'liegt zwischen 10 und 20.')\n",
    "else:\n",
    "    print( 'Die Zahl', a, 'liegt nicht zwischen 10 und 20.')"
   ]
  },
  {
   "cell_type": "markdown",
   "metadata": {},
   "source": [
    "## Verschachtelte Abzweigungen"
   ]
  },
  {
   "cell_type": "markdown",
   "metadata": {},
   "source": [
    "Wie Schleifen, können auch Abzweigungen verschachtelt werden. Dazu werden folgende Abzweigungen in die Anweisungsblöcke der übergeordneten Abfragen gesetzt. "
   ]
  },
  {
   "cell_type": "code",
   "execution_count": 8,
   "metadata": {},
   "outputs": [
    {
     "name": "stdout",
     "output_type": "stream",
     "text": [
      "Die Zahl 12 ist größer als 10.\n",
      "Die Zahl 12 ist kleiner als 20.\n",
      "Damit liegt die Zahl zwischen 10 und 20.\n"
     ]
    }
   ],
   "source": [
    "# Beispiel 4: Zahl im Wertebereich zwischen 10 und 20 mit verschachtelten Abzweigungen\n",
    "\n",
    "a = 12\n",
    "if a > 10:\n",
    "    print( 'Die Zahl', a, 'ist größer als 10.' )\n",
    "    \n",
    "    if a < 20:\n",
    "        print( 'Die Zahl', a, 'ist kleiner als 20.' )\n",
    "        print( 'Damit liegt die Zahl zwischen 10 und 20.')\n",
    "    else:\n",
    "        print( 'Die Zahl', a, 'ist größer als 20 und liegt nicht im gesuchten Wertebereich.' )\n",
    "else:\n",
    "        print( 'Die Zahl', a, 'ist kleiner als 10 und liegt nicht im gesuchten Wertebereich.' )"
   ]
  },
  {
   "cell_type": "markdown",
   "metadata": {},
   "source": [
    "## Kombination von Schleifen und Abzweigungen\n",
    "\n",
    "Wie alle Anweisungen, können auch die beiden Grundelemente Schleifen und Abzweigungen kombiniert werden. Dazu werden sie in die jeweiligen Ausführungsblöcke integriert."
   ]
  },
  {
   "cell_type": "code",
   "execution_count": 10,
   "metadata": {},
   "outputs": [
    {
     "name": "stdout",
     "output_type": "stream",
     "text": [
      "Prüfe das Element -4\n",
      "  -> gerade\n",
      "Prüfe das Element 5\n",
      "  -> ungerade\n",
      "Prüfe das Element 11\n",
      "  -> ungerade\n",
      "Prüfe das Element 98\n",
      "  -> gerade\n",
      "Prüfe das Element 2\n",
      "  -> gerade\n",
      "Prüfe das Element -35\n",
      "  -> ungerade\n"
     ]
    }
   ],
   "source": [
    "# Beispiel 5: Prüfe ob Elemente einer Liste gerade Zahlen sind.\n",
    "\n",
    "# Defniere eine Liste\n",
    "l1 = [-4, 5, 11, 98, 2, -35]\n",
    "\n",
    "# Schleife über alle Listenelemente\n",
    "for el in l1:\n",
    "    print( \"Prüfe das Element\", el)\n",
    "    # Prüfe ob Element gerade ist\n",
    "    if el % 2 == 0:\n",
    "        print(\"  -> gerade\")\n",
    "    else:\n",
    "        print(\"  -> ungerade\")\n",
    "        "
   ]
  },
  {
   "cell_type": "code",
   "execution_count": 1,
   "metadata": {},
   "outputs": [
    {
     "name": "stdout",
     "output_type": "stream",
     "text": [
      "Element:  -3.456\n",
      "Element:  [6, 7]\n",
      "Element:  Feuer\n",
      "Element:  45\n",
      "Element:  11\n"
     ]
    }
   ],
   "source": [
    "# Beispiel 6: Ausgabe der einzelnen Elemente in verschiedenen Richtungen\n",
    "\n",
    "# Setze Variable zum Steuern der Richtung\n",
    "vorwaerts = False\n",
    "\n",
    "# Beispielliste\n",
    "l2 = [11, 45, \"Feuer\", [6,7], -3.456]\n",
    "\n",
    "if vorwaerts:\n",
    "    for el in l2:\n",
    "        print( \"Element: \", el)\n",
    "        \n",
    "else:\n",
    "    for i in range(len(l2)-1, -1, -1):\n",
    "        print( \"Element: \", l2[i])"
   ]
  },
  {
   "cell_type": "code",
   "execution_count": null,
   "metadata": {},
   "outputs": [],
   "source": []
  }
 ],
 "metadata": {
  "kernelspec": {
   "display_name": "Python 3",
   "language": "python",
   "name": "python3"
  },
  "language_info": {
   "codemirror_mode": {
    "name": "ipython",
    "version": 3
   },
   "file_extension": ".py",
   "mimetype": "text/x-python",
   "name": "python",
   "nbconvert_exporter": "python",
   "pygments_lexer": "ipython3",
   "version": "3.7.5"
  }
 },
 "nbformat": 4,
 "nbformat_minor": 4
}
