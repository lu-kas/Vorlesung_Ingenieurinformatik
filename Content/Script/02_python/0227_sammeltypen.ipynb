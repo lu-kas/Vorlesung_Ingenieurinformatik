{
 "cells": [
  {
   "cell_type": "markdown",
   "metadata": {},
   "source": [
    "# Sammeltypen"
   ]
  },
  {
   "cell_type": "markdown",
   "metadata": {},
   "source": [
    "Listen sind nicht die einzigen Sammeltypen in Python. Es existieren noch beispielsweise [Tupel](https://de.wikipedia.org/wiki/Tupel_%28Informatik%29), [Mengen](https://de.wikipedia.org/wiki/Menge_%28Datenstruktur%29) und [assoziative Arrays](https://de.wikipedia.org/wiki/Zuordnungstabelle_%28Datenstruktur%29) (Dictionary). Diese werden an dieser Stelle nur kurz vorgestellt."
   ]
  },
  {
   "cell_type": "markdown",
   "metadata": {},
   "source": [
    "## Tupel\n",
    "Tupel sind Listen sehr ähnlich, jedoch können sie ihre Form, hier Länge, nicht ändern. D.h. dass zu einem existierenden Tupel nicht weitere Elemente hinzugefügt werden können. Auch könnne bestehende Elemente nicht geändert werden. \n",
    "\n",
    "Listen sind veränderbare Datenobjekte während Tupel unveränderbare Datenobjekte sind. \n",
    "\n",
    "Definiert werden Tupel mit runden Klammern `()` und die Elemente werden mit einem Komma `,` getrennt."
   ]
  },
  {
   "cell_type": "code",
   "execution_count": 12,
   "metadata": {},
   "outputs": [
    {
     "name": "stdout",
     "output_type": "stream",
     "text": [
      "(2, 7.8, 'Feuer')\n",
      "Feuer\n"
     ]
    }
   ],
   "source": [
    "t1 = (2, 7.8, 'Feuer')\n",
    "print( t1 )\n",
    "print( t1[-1] )"
   ]
  },
  {
   "cell_type": "markdown",
   "metadata": {},
   "source": [
    "## Mengen\n",
    "Mengen ist eine Sammlung von Werten, welche zum einen ungeordnet ist und zum anderen jedes Element nur einmal enthalten ist. Es können nur unerärderbare Datenobjekte teil einer Menge sein.\n",
    "\n",
    "In Python können Mengen mit der `set` Funktion aus z.B. einer Liste erzeugt werden. Oder mit geschweiften Klammern `{}`."
   ]
  },
  {
   "cell_type": "code",
   "execution_count": 13,
   "metadata": {},
   "outputs": [
    {
     "name": "stdout",
     "output_type": "stream",
     "text": [
      "Liste:  [5, 8, 2, 4, 5, 6, 3, 2]\n",
      "Menge:  {2, 3, 4, 5, 6, 8}\n"
     ]
    }
   ],
   "source": [
    "l1 = [5, 8, 2, 4, 5, 6, 3, 2]\n",
    "print( 'Liste: ', l1 )\n",
    "\n",
    "s1 = set(l1)\n",
    "print( 'Menge: ', s1 )"
   ]
  },
  {
   "cell_type": "code",
   "execution_count": 14,
   "metadata": {},
   "outputs": [
    {
     "name": "stdout",
     "output_type": "stream",
     "text": [
      "{2, 3, 6, 'computer', 'feuer'}\n"
     ]
    }
   ],
   "source": [
    "s2 = {3, 6, 2, 2, 'computer', 'feuer', 'feuer'}\n",
    "print( s2 )"
   ]
  },
  {
   "cell_type": "markdown",
   "metadata": {},
   "source": [
    "## Dictionaries\n",
    "\n",
    "Dictionaries sind Zuordnungstabellen, d.h. sie bestehen aus Schlüssel-Wert-Paaren. So kann auf die Wert-Elemente dieses Datentyps kann mit Schlüsseln zugegriffen werden. Die Schlüssel können Zahlen oder Zeichenketten sein. \n",
    "\n",
    "Definiert werden Dictionaries mit geschweiften Klammern `{}` und die Schlüssel und deren zugehörigen Wert werden mit einem Doppelpunkt `:` getrennt. Der Zugriff auf die Werte erfolgt mit `[]`, welche den Schlüssel beinhalten."
   ]
  },
  {
   "cell_type": "code",
   "execution_count": 15,
   "metadata": {},
   "outputs": [
    {
     "name": "stdout",
     "output_type": "stream",
     "text": [
      "{'vorname': 'Lukas', 3: 3.8, 'büro': 6}\n",
      "Lukas\n",
      "3.8\n"
     ]
    }
   ],
   "source": [
    "d1 = {'vorname': 'Lukas', 3: 3.8, 'büro': 6}\n",
    "print( d1 )\n",
    "print( d1 ['vorname'] )\n",
    "print( d1 [3] )"
   ]
  }
 ],
 "metadata": {
  "kernelspec": {
   "display_name": "Python 3",
   "language": "python",
   "name": "python3"
  },
  "language_info": {
   "codemirror_mode": {
    "name": "ipython",
    "version": 3
   },
   "file_extension": ".py",
   "mimetype": "text/x-python",
   "name": "python",
   "nbconvert_exporter": "python",
   "pygments_lexer": "ipython3",
   "version": "3.8.2"
  }
 },
 "nbformat": 4,
 "nbformat_minor": 4
}
