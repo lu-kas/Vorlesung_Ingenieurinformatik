{
 "cells": [
  {
   "cell_type": "markdown",
   "metadata": {},
   "source": [
    "Absatz: Grundlegende Infos was JL ist, Link zur Webseite"
   ]
  },
  {
   "cell_type": "markdown",
   "metadata": {},
   "source": [
    "Absatz: Adresse CCE JL Server, wie bekommt man einen Zugang, wann 'erlischt' dieser?"
   ]
  },
  {
   "cell_type": "markdown",
   "metadata": {},
   "source": [
    "Absatz: wie kann ich Daten sichern? wo finde ich die bereitgestellten Übungsaufgaben aus dem Skript auf dem JL-Server?"
   ]
  },
  {
   "cell_type": "markdown",
   "metadata": {},
   "source": [
    "Absatz: OPTIONAL: Verknüpfung jupyter-book an den JL-Server"
   ]
  },
  {
   "cell_type": "markdown",
   "metadata": {},
   "source": [
    "Wohin kommt eine Einführung in die **kurze** Bedienung von JL? Verweise auf Doku und vllt gute YT videos"
   ]
  },
  {
   "cell_type": "markdown",
   "metadata": {},
   "source": [
    "Die wichtigsten Tips und Tricks beim Einsatz von JL\n",
    "* für Anfänger\n",
    "* für Fortgeschrittene\n",
    "* für Profis wie uns"
   ]
  }
 ],
 "metadata": {
  "kernelspec": {
   "display_name": "Python 3",
   "language": "python",
   "name": "python3"
  },
  "language_info": {
   "codemirror_mode": {
    "name": "ipython",
    "version": 3
   },
   "file_extension": ".py",
   "mimetype": "text/x-python",
   "name": "python",
   "nbconvert_exporter": "python",
   "pygments_lexer": "ipython3",
   "version": "3.8.2"
  }
 },
 "nbformat": 4,
 "nbformat_minor": 4
}
