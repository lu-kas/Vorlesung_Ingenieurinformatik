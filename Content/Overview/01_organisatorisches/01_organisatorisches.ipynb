{
 "cells": [
  {
   "cell_type": "markdown",
   "metadata": {},
   "source": [
    "Nachfolgende Abschnitte enthalten organisatorische Informationen zum Vorlesungsablauf."
   ]
  },
  {
   "cell_type": "markdown",
   "metadata": {},
   "source": [
    "* Moodle\n",
    "* Skript\n",
    "* Vidoeaufzeichnung\n",
    "* Sprechstunden\n",
    "* JupyterLab\n",
    "* Beispieldatensätze\n",
    "* Kontakt"
   ]
  },
  {
   "cell_type": "markdown",
   "metadata": {},
   "source": [
    "Kontaktdaten für Teilnehmer und externe Interessierte"
   ]
  }
 ],
 "metadata": {
  "kernelspec": {
   "display_name": "Python 3",
   "language": "python",
   "name": "python3"
  },
  "language_info": {
   "codemirror_mode": {
    "name": "ipython",
    "version": 3
   },
   "file_extension": ".py",
   "mimetype": "text/x-python",
   "name": "python",
   "nbconvert_exporter": "python",
   "pygments_lexer": "ipython3",
   "version": "3.8.2"
  }
 },
 "nbformat": 4,
 "nbformat_minor": 4
}
