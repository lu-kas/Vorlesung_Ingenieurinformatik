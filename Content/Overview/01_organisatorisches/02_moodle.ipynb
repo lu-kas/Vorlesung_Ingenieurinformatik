{
 "cells": [
  {
   "cell_type": "markdown",
   "metadata": {},
   "source": [
    "* Pflicht sich in Moodle einzuschreiben\n",
    "* Hinweise auf neue Benchrichtigungen bekommen Eingeschriebene per Email -- bitte regelmäßig Emails lesen \n",
    "* die zentrale Platform um innerhalb der Vorlesung zu Kommunizieren\n",
    "* Bekanntmachungen erfolgen **nur** dort"
   ]
  },
  {
   "cell_type": "markdown",
   "metadata": {},
   "source": [
    "TODO Link zum Moodle-Kurs"
   ]
  }
 ],
 "metadata": {
  "kernelspec": {
   "display_name": "Python 3",
   "language": "python",
   "name": "python3"
  },
  "language_info": {
   "codemirror_mode": {
    "name": "ipython",
    "version": 3
   },
   "file_extension": ".py",
   "mimetype": "text/x-python",
   "name": "python",
   "nbconvert_exporter": "python",
   "pygments_lexer": "ipython3",
   "version": "3.8.2"
  }
 },
 "nbformat": 4,
 "nbformat_minor": 4
}
