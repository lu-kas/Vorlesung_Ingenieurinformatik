{
 "cells": [
  {
   "cell_type": "markdown",
   "metadata": {},
   "source": [
    "So erreichen Sie uns:\n",
    "* Teilnehmer der Vorlesung: Moodle\n",
    "* Externe Emaillisten\n",
    "* Webseite\n",
    "* Individueller Kontakt, sie Webseite Mitarbeiter "
   ]
  },
  {
   "cell_type": "markdown",
   "metadata": {},
   "source": [
    "Abschlussarbeiten:\n",
    "* siehe Webseite\n",
    "* Kontakt zu Lukas\n",
    "* Kurzer Werbeblock zu CCE + IAS-7 (Link zu IAS-7)"
   ]
  }
 ],
 "metadata": {
  "kernelspec": {
   "display_name": "Python 3",
   "language": "python",
   "name": "python3"
  },
  "language_info": {
   "codemirror_mode": {
    "name": "ipython",
    "version": 3
   },
   "file_extension": ".py",
   "mimetype": "text/x-python",
   "name": "python",
   "nbconvert_exporter": "python",
   "pygments_lexer": "ipython3",
   "version": "3.8.2"
  }
 },
 "nbformat": 4,
 "nbformat_minor": 4
}
