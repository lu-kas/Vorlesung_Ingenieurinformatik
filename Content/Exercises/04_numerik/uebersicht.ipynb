{
 "cells": [
  {
   "cell_type": "markdown",
   "metadata": {},
   "source": [
    "# Datenanalyse"
   ]
  },
  {
   "cell_type": "markdown",
   "metadata": {},
   "source": [
    "**[4.1 – Trapezfunktion](./01_trapez/trapez)**\n",
    "\n",
    "In dieser Aufgabe sollen Sie die in der Vorlesung vorgestellte Trapezfunktion selbst programmieren."
   ]
  },
  {
   "cell_type": "markdown",
   "metadata": {},
   "source": [
    "**[4.2 – Monte Carlo Integration](./02_pi_mc/pi_mc)**\n",
    "\n",
    "Monte Carlo Simulationen kommen in unterschiedlichen Bereichen der numerischen Mathematik und Physik vor. In dieser Aufgabe werden Sie die Monte Carlo Integration benutzen, um $\\pi$ zu approximieren. "
   ]
  },
  {
   "cell_type": "markdown",
   "metadata": {},
   "source": [
    "**[4.3 – 2. Ableitung 2. Ordnung](./03_abl_analytisch/abl_analytisch)**\n",
    "\n",
    "In der Vorlesung wurde eine Nährung für die 2. Ableitung 2. Ordnung einer Funktion gegeben. Nun sollen Sie die Formel analytisch herleiten."
   ]
  },
  {
   "cell_type": "markdown",
   "metadata": {},
   "source": [
    "**[4.4 – Ableitung und Genauigkeit](./05_Interpolation/Interpolation)**\n",
    "\n",
    "In dieser Übungsaufgabe werden Sie 2 Näherungen der 1. Ableitung einer Funktion implementieren und deren Genauigkeit analysieren."
   ]
  },
  {
   "cell_type": "code",
   "execution_count": null,
   "metadata": {},
   "outputs": [],
   "source": []
  }
 ],
 "metadata": {
  "kernelspec": {
   "display_name": "Python 3",
   "language": "python",
   "name": "python3"
  },
  "language_info": {
   "codemirror_mode": {
    "name": "ipython",
    "version": 3
   },
   "file_extension": ".py",
   "mimetype": "text/x-python",
   "name": "python",
   "nbconvert_exporter": "python",
   "pygments_lexer": "ipython3",
   "version": "3.7.3"
  }
 },
 "nbformat": 4,
 "nbformat_minor": 4
}
