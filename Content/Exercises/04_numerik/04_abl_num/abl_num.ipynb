{
 "cells": [
  {
   "cell_type": "markdown",
   "metadata": {
    "tags": [
     "remove_cell"
    ]
   },
   "source": [
    "<div style=\"width: 100%; overflow: hidden;\">\n",
    "    <div style=\"width: 500px; float: left;\"> \n",
    "        <h1>Ingenieurinformatik – Übung</h1>\n",
    "        Lehrstuhl <b>Computational Civil Engineering</b><br>\n",
    "        Kontakt: <a href = \"mailto: cce-inginf@uni-wuppertal.de\">Email senden</a> | Individuelle Kontakte siehe Webseite des Lehrstuhls<br>\n",
    "        Links: \n",
    "        <a href=\"cce.uni-wuppertal.de/inginf\">Vorlesungsskript</a> | \n",
    "        <a href=\"cce.uni-wuppertal.de/\">Webseite des Lehrstuhls</a>\n",
    "    </div>\n",
    "    <div style=\"float:right;\"> \n",
    "        <img src=\"../../logo_cce_combined.png\" style=\"width:150px;\"/>\n",
    "    </div>\n",
    "</div>"
   ]
  },
  {
   "cell_type": "markdown",
   "metadata": {
    "tags": [
     "remove_cell"
    ]
   },
   "source": [
    "# Aufgabe 4.4 – Ableitung und Genauigkeit"
   ]
  },
  {
   "cell_type": "markdown",
   "metadata": {},
   "source": [
    "## Aufgabenteil A\n",
    "\n",
    "Schreiben Sie die Funktion`ableitung_o1(funk, x, h)`, die für eine belibige übergebene Funktion die 1. Ableitung 1. Ordnung der Funktion an allen Stellen des Arrays x berechnet und das Ergebnis als Array wieder zurück gibt. Sie können Funktionen wie Variablen übergeben und dann mit dem zugewiesenen Namen, hier `funk`, auf diese Zugreifen.\n",
    "\n",
    "Schreiben Sie zusätzlich eine Funktion `ableitung_02(funk, x, h)`, die die Ableitung 2. Ordnung berechnet."
   ]
  },
  {
   "cell_type": "markdown",
   "metadata": {
    "tags": [
     "remove_cell"
    ]
   },
   "source": [
    "### Lösungsvorschlag"
   ]
  },
  {
   "cell_type": "code",
   "execution_count": 9,
   "metadata": {
    "tags": [
     "remove_cell"
    ]
   },
   "outputs": [],
   "source": [
    "import numpy as np\n",
    "\n",
    "def ableitung_o1(funk, x, h):\n",
    "    dy = []\n",
    "    y = funk(x)\n",
    "    yh_pos = funk(x + h)\n",
    "    for i in range(len(x)):\n",
    "        dy.append((yh_pos[i]-y[i])/h)\n",
    "    return dy\n",
    "\n",
    "def ableitung_o2(funk, x, h):\n",
    "    dy = []\n",
    "    yh_pos = funk(x + h)\n",
    "    yh_neg = funk(x - h)\n",
    "    for i in range(len(x)):\n",
    "        dy.append((yh_pos[i]-yh_neg[i])/2/h)\n",
    "    return dy"
   ]
  },
  {
   "cell_type": "markdown",
   "metadata": {},
   "source": [
    "## Aufgabenteil B\n",
    "\n",
    "Schreiben Sie eine Funktion, die ein Array entegen nimmt, die Funktion\n",
    "$$f(x) = x^3 +2x^2$$\n",
    "auf jedes Element des Arrays anwendet und alle berechneten Werte wieder als Array zurück gibt.\n",
    "\n",
    "Berechnen Sie analytisch die Ableitung der Funktion $f(x)$ und implementieren Sie diese nach dem gleichen Prinzip."
   ]
  },
  {
   "cell_type": "markdown",
   "metadata": {
    "tags": [
     "remove_cell"
    ]
   },
   "source": [
    "### Lösungsvorschlag"
   ]
  },
  {
   "cell_type": "code",
   "execution_count": 10,
   "metadata": {
    "tags": [
     "remove_cell"
    ]
   },
   "outputs": [],
   "source": [
    "def f(x):\n",
    "    return x**3 + 2*x**2\n",
    "\n",
    "def df(x):\n",
    "    return 3*x**2 + 4*x"
   ]
  },
  {
   "cell_type": "markdown",
   "metadata": {},
   "source": [
    "## Aufgabentiel C\n",
    "\n",
    "Schreiben Sie ein Programm, welches die Genauigkeit der numerischen Lösungen mit der analytischen vergleicht. Werten Sie dazu alle drei Ableitungsfunktionen an jeweils 10 belibigen Stellen für alle $h \\in \\{1, 10^{-1}, 10^{-2}, ..., 10^{-15}\\}$ aus. Bestimmen Sie die Differenzen zwischen der analytischen Lösung und den numerischen und bilden Sie immer den Mittelwert über die 10 Stellen. Plotten Sie die Differenzen doppelt logaritmisch gegen $h$."
   ]
  },
  {
   "cell_type": "markdown",
   "metadata": {
    "tags": [
     "remove_cell"
    ]
   },
   "source": [
    "### Lösungsvorschlag"
   ]
  },
  {
   "cell_type": "code",
   "execution_count": 11,
   "metadata": {
    "tags": [
     "remove_cell"
    ]
   },
   "outputs": [
    {
     "data": {
      "image/png": "[encoded data removed]",
      "text/plain": [
       "<Figure size 360x360 with 1 Axes>"
      ]
     },
     "metadata": {
      "needs_background": "light"
     },
     "output_type": "display_data"
    }
   ],
   "source": [
    "import matplotlib.pyplot as plt\n",
    "\n",
    "x = np.linspace(-5,5,10)\n",
    "h = []\n",
    "num_abl1 = np.ndarray((16, 10))\n",
    "num_abl2 = np.ndarray((16, 10))\n",
    "\n",
    "for i in range(16):\n",
    "    h.append(10**-i)\n",
    "    num_abl1[i] = ableitung_o1(f, x, h[i])\n",
    "    num_abl2[i] = ableitung_o2(f, x, h[i])\n",
    "    \n",
    "ana_abl = df(x)\n",
    "diff1 = np.abs(num_abl1 - ana_abl)\n",
    "diff2 = np.abs(num_abl2 - ana_abl)\n",
    "\n",
    "diff1 = np.mean(diff1, axis=1)\n",
    "diff2 = np.mean(diff2, axis=1)\n",
    "\n",
    "plt.figure(figsize=(5,5))\n",
    "\n",
    "ax = plt.gca()\n",
    "ax.invert_xaxis()\n",
    "\n",
    "plt.loglog(h, diff1, label='erste Ordn.')\n",
    "plt.loglog(h, diff2, label='zweite Ordn.')\n",
    "\n",
    "plt.title('Genauigkeit genäherter Ableitungen')\n",
    "plt.xlabel('h')\n",
    "plt.ylabel('Genauigkeit')\n",
    "plt.grid()\n",
    "plt.legend()\n",
    "\n",
    "plt.show()"
   ]
  },
  {
   "cell_type": "markdown",
   "metadata": {},
   "source": [
    "## Aufgabenteil D\n",
    "\n",
    "1. Was zeigt der Plot? \n",
    "1. Wieso wird die Genauigkeit ab einem bestimmten Punkt für kleiner werdende h wieder schlechter? "
   ]
  },
  {
   "cell_type": "markdown",
   "metadata": {},
   "source": [
    "### Lösungshinweis\n",
    "\n",
    "zu 2.:<br> Erinnern Sie sich daran, dass Gleitkommazahlen in der Regel gerundet sind und selbst nur eine begrenzte Genauigkeit aufweisen. Diese Genauigkeit liegt bei c.a. $10^{-15}$. Wieso macht sie sich schon bei vergleichsweise großen $h$ bemerkbar? Schauen Sie sich die Formeln nochmal genau an."
   ]
  },
  {
   "cell_type": "markdown",
   "metadata": {
    "tags": [
     "remove_cell"
    ]
   },
   "source": [
    "### Lösungsvorschlag\n",
    "\n",
    "1. Der Plot zeigt, wie für kleiner werdende $h$ sich die Genauigkeit der genäherten Ableitungen bis zu einem gewissen Punkt verbessert und dann wieder verschlechtert. Die Ableitung 2. Ordnung ist, für gleiche $h$, immer Genauer als die 1. Ordnung und erreicht maximale Genauigkeit ungefähr für $h=10^{-5}$ während die Ableitung 2. Ordnung maximale Genauigkeit bei ungefähr $h=10^{-8}$ erreicht.\n",
    "1. Das die Genauigkeit mit kleiner werdendem $h$ steigt war erwartet, da die benutzten Formeln $\\mathcal{O}(h)$ und $\\mathcal{O}(h^2)$ haben. Dass Problem liegt darin, dass zwei fast gleich große Zahlen voneinander subtrahiert werden. Dies resultiert in einem Verlust an Genauigkeit, der ab einem gewissen Punkt den Ganauigkeitsgewinn durch "
   ]
  },
  {
   "cell_type": "code",
   "execution_count": null,
   "metadata": {},
   "outputs": [],
   "source": []
  }
 ],
 "metadata": {
  "kernelspec": {
   "display_name": "Python 3",
   "language": "python",
   "name": "python3"
  },
  "language_info": {
   "codemirror_mode": {
    "name": "ipython",
    "version": 3
   },
   "file_extension": ".py",
   "mimetype": "text/x-python",
   "name": "python",
   "nbconvert_exporter": "python",
   "pygments_lexer": "ipython3",
   "version": "3.7.3"
  }
 },
 "nbformat": 4,
 "nbformat_minor": 4
}
