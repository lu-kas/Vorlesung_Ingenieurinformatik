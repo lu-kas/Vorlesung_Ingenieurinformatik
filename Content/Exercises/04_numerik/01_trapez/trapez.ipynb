{
 "cells": [
  {
   "cell_type": "markdown",
   "metadata": {
    "tags": [
     "remove_cell"
    ]
   },
   "source": [
    "<div style=\"width: 100%; overflow: hidden;\">\n",
    "    <div style=\"width: 500px; float: left;\"> \n",
    "        <h1>Ingenieurinformatik – Übung</h1>\n",
    "        Lehrstuhl <b>Computational Civil Engineering</b><br>\n",
    "        Kontakt: <a href = \"mailto: cce-inginf@uni-wuppertal.de\">Email senden</a> | Individuelle Kontakte siehe Webseite des Lehrstuhls<br>\n",
    "        Links: \n",
    "        <a href=\"cce.uni-wuppertal.de/inginf\">Vorlesungsskript</a> | \n",
    "        <a href=\"cce.uni-wuppertal.de/\">Webseite des Lehrstuhls</a>\n",
    "    </div>\n",
    "    <div style=\"float:right;\"> \n",
    "        <img src=\"../../logo_cce_combined.png\" style=\"width:150px;\"/>\n",
    "    </div>\n",
    "</div>"
   ]
  },
  {
   "cell_type": "markdown",
   "metadata": {
    "tags": [
     "remove_cell"
    ]
   },
   "source": [
    "# Aufgabe 4.1 – Trapezfunktion"
   ]
  },
  {
   "cell_type": "markdown",
   "metadata": {},
   "source": [
    "In dieser Aufgabe sollen Sie die in der Vorlesung vorgestellte Trapezfunktion selbst programmieren."
   ]
  },
  {
   "cell_type": "markdown",
   "metadata": {},
   "source": [
    "## Aufgabenstellung"
   ]
  },
  {
   "cell_type": "markdown",
   "metadata": {},
   "source": [
    "### Aufgabenteil A\n",
    "\n",
    "Schreiben Sie eine Funktion, die die in der Vorlesung vorgestellte Trapezregel zum numerischen Integrieren von Funktionen implementiert. Die Funktion soll ein Numpy Array an Funktionswerten und eine Schrittweite $\\Delta x$ entgegen nehmen und daraus den Flächeninhalt bestimmen. Gehen Sie davon aus, dass für die zu den Funktionswerten gehörigen x-Werte gilt: $x_0, x_0+\\Delta x, x_0 + 2\\Delta x, ...$."
   ]
  },
  {
   "cell_type": "markdown",
   "metadata": {},
   "source": [
    "### Aufgabenteil B\n",
    "\n",
    "Wählen sie eine belibige Funktion und überprüfen Sie die von Ihnen erstellte Funktion mit der Trapezfunktion des Scipy Moduls."
   ]
  },
  {
   "cell_type": "markdown",
   "metadata": {
    "tags": [
     "remove_cell"
    ]
   },
   "source": [
    "## Lösungsvorschlag"
   ]
  },
  {
   "cell_type": "code",
   "execution_count": 18,
   "metadata": {
    "tags": [
     "remove_cell"
    ]
   },
   "outputs": [
    {
     "name": "stdout",
     "output_type": "stream",
     "text": [
      "Eigene Trapezfunktion: 0.0034463689419717627\n",
      "Scipy: 0.0034463689419721374\n"
     ]
    }
   ],
   "source": [
    "import matplotlib.pyplot as plt\n",
    "import numpy as np\n",
    "import scipy as sp\n",
    "from scipy import integrate\n",
    "\n",
    "def fkt(xi):\n",
    "    yi = np.sin(xi)\n",
    "    return yi\n",
    "\n",
    "def trapez(werte, schrittweite):\n",
    "    flaeche = 0\n",
    "    for i in range(len(werte)-1):\n",
    "        flaeche += werte[i] * schrittweite\n",
    "        flaeche += (werte[i+1] - werte[i]) * schrittweite / 2\n",
    "    return flaeche\n",
    "\n",
    "xi = np.arange(0,2*np.pi,0.2)\n",
    "yi = fkt(xi)\n",
    "\n",
    "flaeche_sp = sp.integrate.trapz(yi, xi)\n",
    "flaeche_selbst = trapez(yi, 0.2)\n",
    "\n",
    "print('Eigene Trapezfunktion:', flaeche_selbst)\n",
    "print('Scipy:', flaeche_sp)"
   ]
  },
  {
   "cell_type": "code",
   "execution_count": null,
   "metadata": {},
   "outputs": [],
   "source": []
  }
 ],
 "metadata": {
  "kernelspec": {
   "display_name": "Python 3",
   "language": "python",
   "name": "python3"
  },
  "language_info": {
   "codemirror_mode": {
    "name": "ipython",
    "version": 3
   },
   "file_extension": ".py",
   "mimetype": "text/x-python",
   "name": "python",
   "nbconvert_exporter": "python",
   "pygments_lexer": "ipython3",
   "version": "3.7.3"
  }
 },
 "nbformat": 4,
 "nbformat_minor": 4
}
