{
 "cells": [
  {
   "cell_type": "markdown",
   "metadata": {
    "tags": [
     "remove_cell"
    ]
   },
   "source": [
    "<div style=\"width: 100%; overflow: hidden;\">\n",
    "    <div style=\"width: 500px; float: left;\"> \n",
    "        <h1>Ingenieurinformatik – Übung</h1>\n",
    "        Lehrstuhl <b>Computational Civil Engineering</b><br>\n",
    "        Kontakt: <a href = \"mailto: cce-inginf@uni-wuppertal.de\">Email senden</a> | Individuelle Kontakte siehe Webseite des Lehrstuhls<br>\n",
    "        Links: \n",
    "        <a href=\"cce.uni-wuppertal.de/inginf\">Vorlesungsskript</a> | \n",
    "        <a href=\"cce.uni-wuppertal.de/\">Webseite des Lehrstuhls</a>\n",
    "    </div>\n",
    "    <div style=\"float:right;\"> \n",
    "        <img src=\"../../logo_cce_combined.png\" style=\"width:150px;\"/>\n",
    "    </div>\n",
    "</div>"
   ]
  },
  {
   "cell_type": "markdown",
   "metadata": {
    "tags": [
     "remove_cell"
    ]
   },
   "source": [
    "# Aufgabe 4.2 – Monte Carlo Integration"
   ]
  },
  {
   "cell_type": "markdown",
   "metadata": {},
   "source": [
    "Monte Carlo Simulationen kommen in unterschiedlichen Bereichen der numerischen Mathematik und Physik vor. In dieser Aufgabe werden Sie die Monte Carlo Integration benutzen, um $\\pi$ zu approximieren. \n",
    "\n",
    "Um die Funktionsweise zu verstehen, schauen Sie sich den Kreis in dem Quadrat an. Wenn Sie zufällige, gleichverteilte Punkte generieren, die immer innerhalb des Quadrates liegen, dann ist das Verhältnis von den Punkten, die innerhalb des Kreises liegen, zu allen generierten Punkte eine Näherung für das Verhältnis vom Flächeninhalt des Kreises zum Flächeninhalt des Quadrats. Da Sie dieses Verhältnis auch analytisch berechnen können, können Sie die numerische Lösung mit der analytischen gleichsetzen und nach $\\pi$ auflösen, um eine Nährung für $\\pi$ zu erhalten."
   ]
  },
  {
   "cell_type": "code",
   "execution_count": 1,
   "metadata": {
    "tags": [
     "remove_input"
    ]
   },
   "outputs": [
    {
     "data": {
      "image/png": "[encoded data removed]",
      "text/plain": [
       "<Figure size 360x360 with 1 Axes>"
      ]
     },
     "metadata": {
      "needs_background": "light"
     },
     "output_type": "display_data"
    }
   ],
   "source": [
    "import matplotlib.pyplot as plt\n",
    "import numpy as np\n",
    "\n",
    "plt.figure(figsize=(5,5))\n",
    "\n",
    "square_x = [-1, -1, 1, 1, -1]\n",
    "square_y = [1, -1, -1, 1, 1]\n",
    "circle = plt.Circle((0, 0), 1, color='y')\n",
    "\n",
    "ax = plt.gca()\n",
    "\n",
    "ax.add_artist(circle)\n",
    "\n",
    "plt.plot(square_x, square_y)\n",
    "plt.show()"
   ]
  },
  {
   "cell_type": "markdown",
   "metadata": {},
   "source": [
    "## Aufgabenstellung"
   ]
  },
  {
   "cell_type": "markdown",
   "metadata": {},
   "source": [
    "### Aufgabenteil A\n",
    "\n",
    "Schreiben Sie eine Funktion, die $\\pi$ durch die Monte Carlo Integration annährt. Sie können sich an folgenden Schritten orientieren:\n",
    "1. Es soll die Anzahl der zu generierenden Punkte (N) als Parameter an die Funktion übergeben werden\n",
    "1. Generieren Sie zwei Zufalszahlen (x- und y-Wert) im Intervall [-1,1]\n",
    "1. Überprüfen Sie, ob der generierte Punkt innerhalb des Einheitskreises liegt\n",
    "1. Wenn ja, erhöhen Sie einen Zähler um 1\n",
    "1. Wiederholen Sie die Schritte 2.-4. N-mal\n",
    "1. Approximieren Sie aus dem Verhältnis Zähler/N $\\pi$\n",
    "1. Geben Sie $\\pi$ zurück\n"
   ]
  },
  {
   "cell_type": "markdown",
   "metadata": {},
   "source": [
    "### Aufgabenteil B\n",
    "\n",
    "Plotten Sie die absolute Differenz zwischen Ihrem approximierten $\\pi$ und numpy.pi doppelt logarithmisch für alle Zehnerpotenzen zwischen 10 und 100.000. Was sagt ihnen der Graph? Fühern Sie das Programm ein paarmal aus. Wieso verändert sich der Graph? "
   ]
  },
  {
   "cell_type": "markdown",
   "metadata": {},
   "source": [
    "## Lösungsvorschlag"
   ]
  },
  {
   "cell_type": "markdown",
   "metadata": {},
   "source": [
    "### Aufgabenteil A"
   ]
  },
  {
   "cell_type": "markdown",
   "metadata": {
    "tags": [
     "hide_cell"
    ]
   },
   "source": [
    "Berechnung von Pi:\n",
    "$$ \\frac{\\text{# Treffer}}{\\text{# Versuche}} \\approx \\frac{\\pi r²}{2²}\\\\\n",
    "\\Rightarrow \\pi \\approx 4 \\frac{\\text{# Treffer}}{\\text{# Versuche}}$$\n",
    "\n",
    "Die Funktion:"
   ]
  },
  {
   "cell_type": "code",
   "execution_count": 2,
   "metadata": {
    "tags": [
     "hide_cell"
    ]
   },
   "outputs": [],
   "source": [
    "import matplotlib.pyplot as plt\n",
    "import numpy as np\n",
    "\n",
    "def pi_func(N):\n",
    "    kreis_zaehler = 0\n",
    "    for i in range(N):\n",
    "        point = np.random.random(2)*2 - 1\n",
    "        if point[0]**2 + point[1]**2 < 1:\n",
    "            kreis_zaehler += 1\n",
    "    return 4 * kreis_zaehler/N"
   ]
  },
  {
   "cell_type": "markdown",
   "metadata": {},
   "source": [
    "### Aufgabenteil B"
   ]
  },
  {
   "cell_type": "code",
   "execution_count": 5,
   "metadata": {
    "tags": [
     "hide_cell"
    ]
   },
   "outputs": [
    {
     "data": {
      "image/png": "[encoded data removed]",
      "text/plain": [
       "<Figure size 360x360 with 1 Axes>"
      ]
     },
     "metadata": {
      "needs_background": "light"
     },
     "output_type": "display_data"
    }
   ],
   "source": [
    "pi = []\n",
    "pi_diff = []\n",
    "x = [10, 100, 1000, 10000, 100000]\n",
    "\n",
    "for i in x:\n",
    "    pi.append(pi_func(i))\n",
    "    pi_diff.append(np.abs(pi[-1] - np.pi))\n",
    "    \n",
    "\n",
    "plt.figure(figsize=(5,5))\n",
    "\n",
    "plt.title('Approximation von Pi')\n",
    "plt.xlabel('Anzahl der Zufallspunkte')\n",
    "plt.ylabel('Genauigkeit')\n",
    "\n",
    "plt.loglog(x, pi_diff)\n",
    "\n",
    "plt.show()"
   ]
  },
  {
   "cell_type": "markdown",
   "metadata": {
    "tags": [
     "hide_cell"
    ]
   },
   "source": [
    "Jeder Punkt ist die Differenz zwischen dem genährten $\\pi$ aus einem Zufallsexperiment und $\\pi$. Ein neuer Programmdurchlauf führt zu einem neuen Zufallsexperiment mit einem potenziell anderen Ergebnis."
   ]
  },
  {
   "cell_type": "code",
   "execution_count": null,
   "metadata": {},
   "outputs": [],
   "source": []
  }
 ],
 "metadata": {
  "kernelspec": {
   "display_name": "Python 3",
   "language": "python",
   "name": "python3"
  },
  "language_info": {
   "codemirror_mode": {
    "name": "ipython",
    "version": 3
   },
   "file_extension": ".py",
   "mimetype": "text/x-python",
   "name": "python",
   "nbconvert_exporter": "python",
   "pygments_lexer": "ipython3",
   "version": "3.7.3"
  }
 },
 "nbformat": 4,
 "nbformat_minor": 4
}
