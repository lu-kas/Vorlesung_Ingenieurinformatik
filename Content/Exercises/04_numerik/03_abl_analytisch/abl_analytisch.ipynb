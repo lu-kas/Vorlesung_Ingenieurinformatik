{
 "cells": [
  {
   "cell_type": "markdown",
   "metadata": {
    "tags": [
     "remove_cell"
    ]
   },
   "source": [
    "<div style=\"width: 100%; overflow: hidden;\">\n",
    "    <div style=\"width: 500px; float: left;\"> \n",
    "        <h1>Ingenieurinformatik – Übung</h1>\n",
    "        Lehrstuhl <b>Computational Civil Engineering</b><br>\n",
    "        Kontakt: <a href = \"mailto: cce-inginf@uni-wuppertal.de\">Email senden</a> | Individuelle Kontakte siehe Webseite des Lehrstuhls<br>\n",
    "        Links: \n",
    "        <a href=\"cce.uni-wuppertal.de/inginf\">Vorlesungsskript</a> | \n",
    "        <a href=\"cce.uni-wuppertal.de/\">Webseite des Lehrstuhls</a>\n",
    "    </div>\n",
    "    <div style=\"float:right;\"> \n",
    "        <img src=\"../../logo_cce_combined.png\" style=\"width:150px;\"/>\n",
    "    </div>\n",
    "</div>"
   ]
  },
  {
   "cell_type": "markdown",
   "metadata": {
    "tags": [
     "remove_cell"
    ]
   },
   "source": [
    "# Aufgabe 4.3 – 2. Ableitung 2. Ordnung"
   ]
  },
  {
   "cell_type": "markdown",
   "metadata": {},
   "source": [
    "In der Vorlesung wurde eine Nährung für die 2. Ableitung 2. Ordnung einer Funktion gegeben. Nun sollen Sie die Formel analytisch herleiten."
   ]
  },
  {
   "cell_type": "markdown",
   "metadata": {},
   "source": [
    "## Aufgabenstellung"
   ]
  },
  {
   "cell_type": "markdown",
   "metadata": {},
   "source": [
    "Leiten Sie die in der Vorlesung gegebe Formel für die 2. Ableitung 2. Ordnung einer Funktion her. Entwickeln Sie dazu die Funktion an den Stellen $f(x_0 + h)$ und $f(x_0 - h)$ bis zur 4. Orndung und kombinieren Sie beide Gleichungen, sodass Sie nach $f''(x_0)$ umstellen können."
   ]
  },
  {
   "cell_type": "markdown",
   "metadata": {
    "tags": [
     "remove_cell"
    ]
   },
   "source": [
    "## Lösungsvorschlag"
   ]
  },
  {
   "cell_type": "markdown",
   "metadata": {
    "tags": [
     "remove_cell"
    ]
   },
   "source": [
    "$$ f(x_0 + h) = f(x_0) + f'(x_0)h + \\frac{1}{2} f''(x_0)h^2 + \\frac{1}{6} f'''(x_0)h^3 + \\mathcal{O}(h^4)$$\n",
    "$$ f(x_0 - h) = f(x_0) - f'(x_0)h + \\frac{1}{2} f''(x_0)h^2 - \\frac{1}{6} f'''(x_0)h^3 + \\mathcal{O}(h^4)$$\n",
    "$$ \\Rightarrow f(x_0 + h) + f(x_0 - h) = 2 f(x_0) + f''(x_0)h^2 + \\mathcal{O}(h^4)$$\n",
    "$$ \\Leftrightarrow f''(x_0) = \\frac{f(x_0 - h) + 2 f(x_0) + f(x_0 + h)}{h^2} + \\mathcal{O}(h^2)$$"
   ]
  },
  {
   "cell_type": "code",
   "execution_count": null,
   "metadata": {},
   "outputs": [],
   "source": []
  }
 ],
 "metadata": {
  "kernelspec": {
   "display_name": "Python 3",
   "language": "python",
   "name": "python3"
  },
  "language_info": {
   "codemirror_mode": {
    "name": "ipython",
    "version": 3
   },
   "file_extension": ".py",
   "mimetype": "text/x-python",
   "name": "python",
   "nbconvert_exporter": "python",
   "pygments_lexer": "ipython3",
   "version": "3.7.3"
  }
 },
 "nbformat": 4,
 "nbformat_minor": 4
}
