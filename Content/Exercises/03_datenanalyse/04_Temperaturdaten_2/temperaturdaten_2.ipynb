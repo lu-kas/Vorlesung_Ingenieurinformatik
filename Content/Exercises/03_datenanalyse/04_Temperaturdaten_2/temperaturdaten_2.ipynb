{
 "cells": [
  {
   "cell_type": "markdown",
   "metadata": {
    "tags": [
     "remove_cell"
    ]
   },
   "source": [
    "<div style=\"width: 100%; overflow: hidden;\">\n",
    "    <div style=\"width: 500px; float: left;\"> \n",
    "        <h1>Ingenieurinformatik – Übung</h1>\n",
    "        Lehrstuhl <b>Computational Civil Engineering</b><br>\n",
    "        Kontakt: <a href = \"mailto: cce-inginf@uni-wuppertal.de\">Email senden</a> | Individuelle Kontakte siehe Webseite des Lehrstuhls<br>\n",
    "        Links: \n",
    "        <a href=\"cce.uni-wuppertal.de/inginf\">Vorlesungsskript</a> | \n",
    "        <a href=\"cce.uni-wuppertal.de/\">Webseite des Lehrstuhls</a>\n",
    "    </div>\n",
    "    <div style=\"float:right;\"> \n",
    "        <img src=\"logo_cce_combined.png\" style=\"width:150px;\"/>\n",
    "    </div>\n",
    "</div>"
   ]
  },
  {
   "cell_type": "markdown",
   "metadata": {
    "tags": [
     "remove_cell"
    ]
   },
   "source": [
    "# Aufgabe 3.04 – Temperaturdaten II"
   ]
  },
  {
   "cell_type": "markdown",
   "metadata": {},
   "source": [
    "In dieser Aufgabe betrachten wir nochmal die Probleme aus Aufgabe 2.11, nur dass durch die Verwendung von numpy diese wesentlich vereinfacht werden.\n",
    "\n",
    "Eine Tabelle mit allen Messdaten des Experiments ist gespeichert in der Datei <a href='TC_all.csv' download>TC_all.csv</a>."
   ]
  },
  {
   "cell_type": "markdown",
   "metadata": {},
   "source": [
    "## Aufgabenstellung"
   ]
  },
  {
   "cell_type": "markdown",
   "metadata": {},
   "source": [
    "1. Benutzen Sie `np.loadtxt()` um die Daten aus der Datei in einem numpy Array zu speichern.\n",
    "1. Verwenden Sie `np.mean()` und `np.amax()` um jeweils in einer Zeile die mittlere und maximale Temperatur pro Zeitschritt zu bestimmen.\n",
    "1. Geben Sie beide Arrays aus. Was müssen sie tun, um die gesamten Arrays betrachten zu können?\n",
    "1. Erstellen Sie mithilfe von `plt.imshow(np.ndarray, cmap='hot')` eine [Heatmap](https://de.wikipedia.org/wiki/Heatmap) der Temperaturdaten. Wieso erkennen Sie nichts?\n",
    "1. Reskalieren Sie ihre Graphik und verwenden Sie nur eine sinnvolle Auswahl der Messwerte, um einen lesbaren Plot zu erhalten.\n",
    "1. Was haben Sie hier veranschaulicht?"
   ]
  },
  {
   "cell_type": "markdown",
   "metadata": {},
   "source": [
    "### Lösungshinweise\n",
    "\n",
    "zu 2.: Schlagen sie die Methoden, in den Dokumentationen von Numpy und nach und verstehen Sie, wie Sie mean und max entlang unterschiedlicher Achsen von numpy Arrays finden.\n",
    "\n",
    "zu 5.: Ihre Graphik könnte wie folgt aussehen:"
   ]
  },
  {
   "cell_type": "code",
   "execution_count": 17,
   "metadata": {
    "tags": [
     "remove_input"
    ]
   },
   "outputs": [
    {
     "data": {
      "image/png": "[encoded data removed]",
      "text/plain": [
       "<Figure size 720x144 with 2 Axes>"
      ]
     },
     "metadata": {
      "needs_background": "light"
     },
     "output_type": "display_data"
    }
   ],
   "source": [
    "import numpy as np\n",
    "import matplotlib.pyplot as plt\n",
    "\n",
    "# laden der csv datei\n",
    "data = np.loadtxt('TC_all.csv', delimiter=',')\n",
    "\n",
    "# wähle zum Visualisieren nur jede 20. Messung\n",
    "steps = 20\n",
    "cropped_data = data[0::steps]\n",
    "\n",
    "# plotte den zeitlichen Verlauf der Wärmeausbreitung im Stahlträger als Heatmap\n",
    "plt.figure(figsize=(10,2))\n",
    "plt.imshow(cropped_data.transpose(), cmap='hot')\n",
    "\n",
    "# plottet die Farbkodierung und gibt eine Referenz zu dieser zurück\n",
    "cbar = plt.colorbar()\n",
    "cbar.set_label('Temperature in °C')\n",
    "\n",
    "plt.xticks()\n",
    "plt.xlabel(f't / {steps}s')\n",
    "plt.ylabel('Thermometer ID')\n",
    "plt.title('zeitlicher Verlauf der Wärmeausbreitung in einem Stahlträger')\n",
    "plt.show()"
   ]
  },
  {
   "cell_type": "markdown",
   "metadata": {
    "tags": [
     "remove_cell"
    ]
   },
   "source": [
    "### Lösungsvorschlag"
   ]
  },
  {
   "cell_type": "code",
   "execution_count": 13,
   "metadata": {
    "tags": [
     "remove_cell"
    ]
   },
   "outputs": [
    {
     "data": {
      "image/png": "[encoded data removed]",
      "text/plain": [
       "<Figure size 720x144 with 2 Axes>"
      ]
     },
     "metadata": {
      "needs_background": "light"
     },
     "output_type": "display_data"
    },
    {
     "name": "stdout",
     "output_type": "stream",
     "text": [
      "Maximale Temperatur pro Zeitschritt: [26.  26.  27.6 ... 25.6 25.6 25.5]\n",
      "Mittlere Temperatur pro Zeitschritt: [22.41666667 22.4        22.53333333 ... 25.09166667 25.08333333\n",
      " 25.06666667]\n",
      "Maximale Temperatur pro Zeitschritt als Liste:\n",
      "[26.0, 35.4, 45.7, 54.4, 62.0, 69.7, 75.7, 81.1, 86.9, 92.2, 96.2, 100.6, 104.4, 107.8, 111.1, 112.0, 105.1, 98.4, 91.4, 85.9, 80.4, 75.9, 72.6, 68.7, 66.1, 63.3, 60.8, 58.8, 56.1, 54.1, 52.3, 51.0, 49.5, 48.0, 46.6, 45.3, 44.3, 43.2, 42.2, 41.3, 40.3, 39.4, 38.6, 37.9, 37.2, 36.5, 35.9, 35.2, 34.6, 34.1, 33.6, 33.1, 32.6, 32.2, 31.8, 31.4, 31.0, 30.7, 30.4, 30.0, 29.7, 29.3, 28.9, 28.7, 28.3, 28.0, 27.7, 27.5, 27.2, 27.0, 26.7, 26.5, 26.3, 26.0, 25.8, 25.6]\n"
     ]
    }
   ],
   "source": [
    "import numpy as np\n",
    "import matplotlib.pyplot as plt\n",
    "\n",
    "# laden der csv datei\n",
    "data = np.loadtxt('TC_all.csv', delimiter=',')\n",
    "\n",
    "# wähle zum Visualisieren nur jede 20. Messung\n",
    "steps = 20\n",
    "cropped_data = data[0::steps]\n",
    "\n",
    "# plotte den zeitlichen Verlauf der Wärmeausbreitung im Stahlträger als Heatmap\n",
    "plt.figure(figsize=(10,2))\n",
    "plt.imshow(cropped_data.transpose(), cmap='hot')\n",
    "\n",
    "# plottet die Farbkodierung und gibt eine Referenz zu dieser zurück\n",
    "cbar = plt.colorbar()\n",
    "cbar.set_label('Temperature in °C')\n",
    "\n",
    "plt.xticks()\n",
    "plt.xlabel(f't / {steps}s')\n",
    "plt.ylabel('Thermometer ID')\n",
    "plt.title('zeitlicher Verlauf der Wärmeausbreitung in einem Stahlträger')\n",
    "plt.show()\n",
    "\n",
    "dmax = np.amax(data, 1)\n",
    "print(f'Maximale Temperatur pro Zeitschritt: {dmax}')\n",
    "dmean = np.mean(data, 1)\n",
    "print(f'Mittlere Temperatur pro Zeitschritt: {dmean}')\n",
    "\n",
    "# um ein 1D-Array komplett auszugeben reicht ein Cast auf eine Liste\n",
    "print(f'Maximale Temperatur pro Zeitschritt als Liste:\\n{list(np.amax(cropped_data, 1))}')"
   ]
  },
  {
   "cell_type": "code",
   "execution_count": null,
   "metadata": {},
   "outputs": [],
   "source": []
  }
 ],
 "metadata": {
  "kernelspec": {
   "display_name": "Python 3",
   "language": "python",
   "name": "python3"
  },
  "language_info": {
   "codemirror_mode": {
    "name": "ipython",
    "version": 3
   },
   "file_extension": ".py",
   "mimetype": "text/x-python",
   "name": "python",
   "nbconvert_exporter": "python",
   "pygments_lexer": "ipython3",
   "version": "3.7.3"
  }
 },
 "nbformat": 4,
 "nbformat_minor": 4
}
