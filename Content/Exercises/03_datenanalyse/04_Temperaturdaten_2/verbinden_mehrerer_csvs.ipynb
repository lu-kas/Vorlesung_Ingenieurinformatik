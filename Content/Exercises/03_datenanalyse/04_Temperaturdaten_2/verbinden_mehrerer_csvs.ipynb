{
 "cells": [
  {
   "cell_type": "code",
   "execution_count": 10,
   "metadata": {},
   "outputs": [
    {
     "name": "stdout",
     "output_type": "stream",
     "text": [
      "['TC01.csv', 'TC02.csv', 'TC03.csv', 'TC04.csv', 'TC05.csv', 'TC06.csv', 'TC07.csv', 'TC08.csv', 'TC09.csv', 'TC10.csv', 'TC11.csv', 'TC12.csv']\n",
      "1513\n"
     ]
    }
   ],
   "source": [
    "import glob\n",
    "\n",
    "datei_namen = glob.glob('TC??.csv')\n",
    "datei_namen.sort()\n",
    "print(datei_namen)\n",
    "\n",
    "daten = []\n",
    "\n",
    "datei_nr = 0\n",
    "for datei in datei_namen:\n",
    "    daten.append([])\n",
    "    file = open(datei, 'r')\n",
    "    for line in file:\n",
    "        daten[datei_nr].append(float(line.split(',')[1]))\n",
    "    datei_nr += 1\n",
    "\n",
    "file = open('TC_all.csv', 'w')\n",
    "print(len(daten[0]))\n",
    "for i in range(len(daten[0])):\n",
    "    for j in range(len(daten)):\n",
    "        if j != 0:\n",
    "            file.write(',')\n",
    "        file.write(f'{daten[j][i]}')\n",
    "    file.write('\\n')\n",
    "file.close()"
   ]
  },
  {
   "cell_type": "markdown",
   "metadata": {},
   "source": []
  }
 ],
 "metadata": {
  "kernelspec": {
   "display_name": "Python 3",
   "language": "python",
   "name": "python3"
  },
  "language_info": {
   "codemirror_mode": {
    "name": "ipython",
    "version": 3
   },
   "file_extension": ".py",
   "mimetype": "text/x-python",
   "name": "python",
   "nbconvert_exporter": "python",
   "pygments_lexer": "ipython3",
   "version": "3.7.3"
  }
 },
 "nbformat": 4,
 "nbformat_minor": 4
}
