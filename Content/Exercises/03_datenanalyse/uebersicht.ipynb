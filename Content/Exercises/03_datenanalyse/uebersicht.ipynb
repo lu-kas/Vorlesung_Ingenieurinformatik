{
 "cells": [
  {
   "cell_type": "markdown",
   "metadata": {},
   "source": [
    "# Datenanalyse"
   ]
  },
  {
   "cell_type": "markdown",
   "metadata": {},
   "source": [
    "**[3.1 – Funktionen plotten](./01_funktionen_plotten/funktionen_plotten)**\n",
    "\n",
    "In dieser Aufgabe beschäftigen Sie sich mit den grundlegenden Funktionen des Pythonmoduls matplotlib."
   ]
  },
  {
   "cell_type": "markdown",
   "metadata": {},
   "source": [
    "**[3.2 – Daten aus Datei plotten](./02_daten_plotten/daten_plotten)**\n",
    "\n",
    "Diese Aufgabe kombiniert das Auslesen von Daten aus einer Datei mit einer graphischen Ausgabe."
   ]
  },
  {
   "cell_type": "markdown",
   "metadata": {},
   "source": [
    "**[3.3 - Numpy Arrays](./03_numpy_arrays/arrays)**\n",
    "\n",
    "Diese Aufgabe wiederholt grundlegende Konzepte der Arraymanipulation."
   ]
  },
  {
   "cell_type": "markdown",
   "metadata": {},
   "source": [
    "**[3.4 - Temperaturdaten II](./04_Temperaturdaten_2/temperaturdaten_2)**\n",
    "\n",
    "In dieser Aufgabe betrachten wir nochmal die Probleme aus Aufgabe 2.11, nur dass durch die Verwendung von numpy diese wesentlich vereinfacht werden."
   ]
  },
  {
   "cell_type": "markdown",
   "metadata": {},
   "source": [
    "**[3.5 - Fitting und Interpolation](./05_Interpolation/Interpolation)**\n",
    "\n",
    "In dieser Aufgabe sollen Sie lernen, was es bedeutet, Daten mit Polynomen unterschiedlichen Grades zu fitten und was der Unterschied zu einer Interpolation ist."
   ]
  },
  {
   "cell_type": "markdown",
   "metadata": {},
   "source": [
    "**[3.6 - Ballonfahrt](./06_ballonfahrt/ballonfahrt)**\n",
    "\n",
    "Eine weiter Übungsaufgabe zu Fits und Ableitungen, diesmal an realen Daten."
   ]
  }
 ],
 "metadata": {
  "kernelspec": {
   "display_name": "Python 3",
   "language": "python",
   "name": "python3"
  },
  "language_info": {
   "codemirror_mode": {
    "name": "ipython",
    "version": 3
   },
   "file_extension": ".py",
   "mimetype": "text/x-python",
   "name": "python",
   "nbconvert_exporter": "python",
   "pygments_lexer": "ipython3",
   "version": "3.7.3"
  }
 },
 "nbformat": 4,
 "nbformat_minor": 4
}
