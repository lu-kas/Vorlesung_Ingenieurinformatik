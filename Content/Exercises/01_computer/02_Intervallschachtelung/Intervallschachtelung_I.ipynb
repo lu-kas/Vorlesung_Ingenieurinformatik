{
 "cells": [
  {
   "cell_type": "markdown",
   "metadata": {
    "tags": [
     "remove_cell"
    ]
   },
   "source": [
    "<div style=\"width: 100%; overflow: hidden;\">\n",
    "    <div style=\"width: 500px; float: left;\"> \n",
    "        <h1>Ingenieurinformatik – Übung</h1>\n",
    "        Lehrstuhl <b>Computational Civil Engineering</b><br>\n",
    "        Kontakt: <a href = \"mailto: cce-inginf@uni-wuppertal.de\">Email senden</a> | Individuelle Kontakte siehe Webseite des Lehrstuhls<br>\n",
    "        Links: \n",
    "        <a href=\"cce.uni-wuppertal.de/inginf\">Vorlesungsskript</a> | \n",
    "        <a href=\"cce.uni-wuppertal.de\">Webseite des Lehrstuhls</a>\n",
    "    </div>\n",
    "    <div style=\"float:right;\"> \n",
    "        <img src=\"logo_cce_combined.png\" style=\"width:150px;\"/>\n",
    "    </div>\n",
    "</div>"
   ]
  },
  {
   "cell_type": "markdown",
   "metadata": {
    "tags": [
     "remove_cell"
    ]
   },
   "source": [
    "# Intervallschachtelung"
   ]
  },
  {
   "cell_type": "markdown",
   "metadata": {},
   "source": [
    "## Aufgabenstellung"
   ]
  },
  {
   "cell_type": "markdown",
   "metadata": {},
   "source": [
    "Gegeben sei eine Funktion f(x) = sin(x) - 0.5. Finden Sie die Nullstelle auf dem Intervall [0;pi/2] indem Sie den nachfolgenden Algorithmus der Intervallschachtelung Schritt für Schritt ausführen. \n",
    "\n",
    "Die linke Intervallgrenze bezeichnen wir folgend mit a, die rechte mit b. Starten Sie mit a=0 und b=pi/2. \n",
    "Wiederholen sie die folgenden Punkte, bis |a-b| < 0.1 ist:\n",
    "* berechnen Sie (b+a)/2, ab nun c genannt\n",
    "* berechnen Sie f(c)\n",
    "* falls f(c) > 0 ist, setzen Sie die neue rechte Intervallgrenze (b) gleich c\n",
    "* falls nicht, setzen Sie die neue linke Intervallgrenze (a) gleich c\n",
    "\n",
    "Geben Sie bitte für jede Wiederholung das aktuelle Intervall [a;b] an.\n",
    "\n",
    "Nachfolgend finden Sie den Algorithmus in Pseudocode:\n",
    "\n",
    "```\n",
    "a = 0\n",
    "b = pi/2\n",
    "solange |a-b| < 0.1\n",
    "    c = (a+b)/2\n",
    "    falls f(c) > 0\n",
    "        b = c\n",
    "    sonst\n",
    "        a = c\n",
    "```"
   ]
  },
  {
   "cell_type": "markdown",
   "metadata": {},
   "source": [
    "## Lösungshinweise"
   ]
  },
  {
   "cell_type": "code",
   "execution_count": 1,
   "metadata": {},
   "outputs": [
    {
     "name": "stdout",
     "output_type": "stream",
     "text": [
      "Ergebnis der letzten Iteration:\n",
      "a= 0.4908738521234052 b= 0.5890486225480862\n"
     ]
    }
   ],
   "source": [
    "import math\n",
    "\n",
    "def f(x):\n",
    "    return math.sin(x)-0.5\n",
    "\n",
    "a = 0\n",
    "b = math.pi/2\n",
    "\n",
    "while(abs(a-b)>0.1):\n",
    "    c = (b+a)/2\n",
    "    if f(c)>0:\n",
    "        b = c\n",
    "    else:\n",
    "        a = c\n",
    "\n",
    "print('Ergebnis der letzten Iteration:')\n",
    "print('a =', a,'b =', b)"
   ]
  },
  {
   "cell_type": "markdown",
   "metadata": {},
   "source": [
    "## Lösungsvorschlag"
   ]
  },
  {
   "cell_type": "markdown",
   "metadata": {},
   "source": [
    "Hier steht der beschriebene Lösungsweg."
   ]
  },
  {
   "cell_type": "code",
   "execution_count": 7,
   "metadata": {},
   "outputs": [
    {
     "name": "stdout",
     "output_type": "stream",
     "text": [
      "** Ihre Ausgabe **\n",
      "25\n",
      "** Musterausgabe **\n",
      "25\n"
     ]
    }
   ],
   "source": []
  }
 ],
 "metadata": {
  "kernelspec": {
   "display_name": "Python 3",
   "language": "python",
   "name": "python3"
  },
  "language_info": {
   "codemirror_mode": {
    "name": "ipython",
    "version": 3
   },
   "file_extension": ".py",
   "mimetype": "text/x-python",
   "name": "python",
   "nbconvert_exporter": "python",
   "pygments_lexer": "ipython3",
   "version": "3.7.5"
  }
 },
 "nbformat": 4,
 "nbformat_minor": 4
}
