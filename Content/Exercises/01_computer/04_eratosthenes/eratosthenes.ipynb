{
 "cells": [
  {
   "cell_type": "markdown",
   "metadata": {
    "tags": [
     "remove_cell"
    ]
   },
   "source": [
    "<div style=\"width: 100%; overflow: hidden;\">\n",
    "    <div style=\"width: 500px; float: left;\"> \n",
    "        <h1>Ingenieurinformatik – Übung</h1>\n",
    "        Lehrstuhl <b>Computational Civil Engineering</b><br>\n",
    "        Kontakt: <a href = \"mailto: cce-inginf@uni-wuppertal.de\">Email senden</a> | Individuelle Kontakte siehe Webseite des Lehrstuhls<br>\n",
    "        Links: \n",
    "        <a href=\"cce.uni-wuppertal.de/inginf\">Vorlesungsskript</a> | \n",
    "        <a href=\"cce.uni-wuppertal.de\">Webseite des Lehrstuhls</a>\n",
    "    </div>\n",
    "    <div style=\"float:right;\"> \n",
    "        <img src=\"logo_cce_combined.png\" style=\"width:150px;\"/>\n",
    "    </div>\n",
    "</div>"
   ]
  },
  {
   "cell_type": "markdown",
   "metadata": {
    "tags": [
     "remove_cell"
    ]
   },
   "source": [
    "# Aufgabe 1.4 - Sieb von Eratosthenes"
   ]
  },
  {
   "cell_type": "markdown",
   "metadata": {},
   "source": [
    "Das Sieb von Eratosthenes ist ein Algorithmus, um alle Primzahlen bis zu einer gewissen Grenze zu finden."
   ]
  },
  {
   "cell_type": "markdown",
   "metadata": {},
   "source": [
    "## Aufgabenstellung"
   ]
  },
  {
   "cell_type": "markdown",
   "metadata": {},
   "source": [
    "Erstellen Sie sich eine Liste mit den Zahlen von 2 bis 100. Der Algorithmus geht nun wie folgt:\n",
    "* Nehmen Sie die kleinste, nicht markierte oder durchgestrichene Zahl\n",
    "* Markieren Sie diese Zahl als Primzahl\n",
    "* Streichen Sie alle Vielfachen dieser Zahl durch\n",
    "* Wiederholen Sie diese Schritte, bis alle Zahlen entweder markiert oder durchgestrichen sind"
   ]
  },
  {
   "cell_type": "markdown",
   "metadata": {
    "tags": [
     "remove_cell"
    ]
   },
   "source": [
    "Als Pseudocode:\n",
    "```\n",
    "# erstellen der Listen\n",
    "unmarkiert = [2..100]\n",
    "primzahlen = []\n",
    "\n",
    "# Schleife über alle unmarkierten Zahlen\n",
    "wiederhole, solange noch mindestens ein element in unmarkiert ist:\n",
    "\n",
    "    # finde die nächste Primzahl\n",
    "    prim = unmarkiert[0]\n",
    "    erweitere primzahlen um prim\n",
    "    lösche prim aus unmarkiert\n",
    "    \n",
    "    # lösche alle Vielfachen dieser Primzahl\n",
    "    überprüfe für jede Zahl in unmarkiert, ob diese durch prim teilbar ist\n",
    "        falls ja: entferne diese aus unmarkiert\n",
    "\n",
    "```"
   ]
  },
  {
   "cell_type": "markdown",
   "metadata": {},
   "source": [
    "a) Erstellen Sie eine Liste mit den Zahlen von 2 bis 100 und wenden Sie den Algorithmus auf diese Liste an<br>\n",
    "b) Versuchen Sie die Ordnung des Algorithmus abzuschätzen und begründen Sie ihre Wahl"
   ]
  },
  {
   "cell_type": "markdown",
   "metadata": {},
   "source": [
    "## Lösungshinweise"
   ]
  },
  {
   "cell_type": "markdown",
   "metadata": {},
   "source": [
    "Die Primzahlen von 2 bis 100 sind:"
   ]
  },
  {
   "cell_type": "code",
   "execution_count": 8,
   "metadata": {
    "tags": [
     "remove_input"
    ]
   },
   "outputs": [
    {
     "name": "stdout",
     "output_type": "stream",
     "text": [
      "[ 2,  3,  5,  7, 11, 13, 17, 19, 23, 29, \n",
      " 31, 37, 41, 43, 47, 53, 59, 61, 67, 71, \n",
      " 73, 79, 83, 89, 97]\n",
      "\n"
     ]
    }
   ],
   "source": [
    "import numpy as np\n",
    "\n",
    "# erstellen der Listen\n",
    "unmarkiert = list(range(2, 101))\n",
    "primzahlen = list()\n",
    "\n",
    "# Schleife über alle unmarkierten Zahlen\n",
    "while len(unmarkiert)>0:\n",
    "    \n",
    "    # finde die nächste Primzahl\n",
    "    prim = unmarkiert[0]\n",
    "    primzahlen.append(prim)\n",
    "    unmarkiert.remove(prim)\n",
    "    \n",
    "    #lösche alle Vielfachen dieser Primzahl\n",
    "    for zahl in unmarkiert:\n",
    "        if zahl%prim == 0:\n",
    "            unmarkiert.remove(zahl)\n",
    "\n",
    "print('[', end='')\n",
    "for i in range(len(primzahlen) // 10 + 1):\n",
    "    if i != 0: print(' ', end='')\n",
    "    for j in range(10):\n",
    "        n = i *  10 + j\n",
    "        print(\"{:2d}\".format(primzahlen[n]), end='')\n",
    "        if n == len(primzahlen)-1:\n",
    "            print(']')\n",
    "            break\n",
    "        else:\n",
    "            print(', ', end='')\n",
    "    print()\n"
   ]
  },
  {
   "cell_type": "markdown",
   "metadata": {
    "tags": [
     "remove_cell"
    ]
   },
   "source": [
    "## Lösungsvorschlag"
   ]
  },
  {
   "cell_type": "markdown",
   "metadata": {
    "tags": [
     "remove_cell"
    ]
   },
   "source": [
    "a) So in der Art sollte das Ergebnis aussehen:"
   ]
  },
  {
   "cell_type": "code",
   "execution_count": 21,
   "metadata": {
    "tags": [
     "remove_input"
    ]
   },
   "outputs": [
    {
     "name": "stdout",
     "output_type": "stream",
     "text": [
      "    2  3  x  5  x  7  x  x  x \n",
      "11  x 13  x  x  x 17  x 19  x \n",
      " x  x 23  x  x  x  x  x 29  x \n",
      "31  x  x  x  x  x 37  x  x  x \n",
      "41  x 43  x  x  x 47  x  x  x \n",
      " x  x 53  x  x  x  x  x 59  x \n",
      "61  x  x  x  x  x 67  x  x  x \n",
      "71  x 73  x  x  x  x  x 79  x \n",
      " x  x 83  x  x  x  x  x 89  x \n",
      " x  x  x  x  x  x 97  x  x  x \n"
     ]
    }
   ],
   "source": [
    "import numpy as np\n",
    "\n",
    "# erstellen der Listen\n",
    "unmarkiert = list(range(2, 101))\n",
    "primzahlen = list()\n",
    "\n",
    "# Schleife über alle unmarkierten Zahlen\n",
    "while len(unmarkiert)>0:\n",
    "    \n",
    "    # finde die nächste Primzahl\n",
    "    prim = unmarkiert[0]\n",
    "    primzahlen.append(prim)\n",
    "    unmarkiert.remove(prim)\n",
    "    \n",
    "    #lösche alle Vielfachen dieser Primzahl\n",
    "    for zahl in unmarkiert:\n",
    "        if zahl%prim == 0:\n",
    "            unmarkiert.remove(zahl)\n",
    "\n",
    "# Ausgabe als Tabelle\n",
    "it = 0                  # iterator der die Position in der Primzahlenliste speichert\n",
    "print('  ', end=' ')    # erster Eintrag ist leer, da 1 nicht vorkommt\n",
    "\n",
    "# zählen über alle Zahlen bis 100\n",
    "for pos in range(2, 101):\n",
    "    \n",
    "    # checkt, ob die Zahl eine Primzahl ist. die len Abfrage verhindert Zugriff auf out-of-bound Speicher\n",
    "    if it < len(primzahlen) and pos == primzahlen[it]: \n",
    "        print(f'{pos:2}', end=' ')    # f-String damit auch die erste Zeile der Tabelle richtig formatiert ist\n",
    "        it+=1\n",
    "    else: \n",
    "        print(' x', end=' ')          # schreibe ein x, falls die Zahl keine Primzahl ist\n",
    "        \n",
    "    # wechsel die Zeile alle 10 Einträge\n",
    "    if pos%10 == 0:\n",
    "        print()"
   ]
  },
  {
   "cell_type": "markdown",
   "metadata": {
    "tags": [
     "remove_cell"
    ]
   },
   "source": [
    "b) Um die Ordnung abzuschätzen muss man die Anzahl der Operationen abschätzen. Dazu hilft es, sich die Zugriffe auf die einzelnen Zahlen anzugucken. \n",
    "Primzahlen werden einmal berührt, immer dann, wenn man bei ihnen ankommt. Die variirende Anzahl an Multiplikationen können wir ignorieren, da sie immer\n",
    "mit einem Zugriff auf eine andere Zahl verknüpft sind und wir die Multiplikation mit dem Zugriff zusammenfassen können.<br>\n",
    "Jede Zahl, die keine Primzahl ist, wird zweimal berührt, einmal, wenn sie aus der Liste gestrichen wird, weil sie ein Vielfaches einer Primzahl ist\n",
    "und einmal, wenn der Algorithmus an ihr vorbei läuft und feststellt, dass sie bereits gestrichen ist. <br>\n",
    "Zusammen kommt man damit auf weniger als $2n$ Zugriffe und eine Ordnung von $\\mathcal{O}(n)$"
   ]
  }
 ],
 "metadata": {
  "kernelspec": {
   "display_name": "Python 3",
   "language": "python",
   "name": "python3"
  },
  "language_info": {
   "codemirror_mode": {
    "name": "ipython",
    "version": 3
   },
   "file_extension": ".py",
   "mimetype": "text/x-python",
   "name": "python",
   "nbconvert_exporter": "python",
   "pygments_lexer": "ipython3",
   "version": "3.8.2"
  }
 },
 "nbformat": 4,
 "nbformat_minor": 4
}
