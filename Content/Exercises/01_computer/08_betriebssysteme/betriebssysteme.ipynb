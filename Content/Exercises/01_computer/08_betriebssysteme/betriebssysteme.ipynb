{
 "cells": [
  {
   "cell_type": "markdown",
   "metadata": {
    "tags": [
     "remove_cell"
    ]
   },
   "source": [
    "<div style=\"width: 100%; overflow: hidden;\">\n",
    "    <div style=\"width: 500px; float: left;\"> \n",
    "        <h2>Ingenieurinformatik – Übung</h2>\n",
    "        Lehrstuhl <b>Computational Civil Engineering</b><br>\n",
    "        Kontakt: <a href = \"mailto: cce-inginf@uni-wuppertal.de\">Email senden</a> | Individuelle Kontakte siehe Webseite des Lehrstuhls<br>\n",
    "        Links: \n",
    "        <a href=\"cce.uni-wuppertal.de/inginf\">Vorlesungsskript</a> | \n",
    "        <a href=\"cce.uni-wuppertal.de\">Webseite des Lehrstuhls</a>\n",
    "    </div>\n",
    "    <div style=\"float:right;\"> \n",
    "        <img src=\"logo_cce_combined.png\" style=\"width:150px;\"/>\n",
    "    </div>\n",
    "</div>"
   ]
  },
  {
   "cell_type": "markdown",
   "metadata": {
    "tags": [
     "remove_cell"
    ]
   },
   "source": [
    "# Aufgabe 1.8 – Betriebssysteme"
   ]
  },
  {
   "cell_type": "markdown",
   "metadata": {},
   "source": [
    "Es existiert ein ganzer Zoo von Betriebssytemen, welche auf Desktop-Computern, Tablets oder Servern eingesetzt werden. In dieser Aufgabe stellen wir zwei Betriebssysteme gegenüber.\n",
    "\n",
    "Microsoft Windows bleibt das weltweit verbreiteste Betriebssystem für Desktop Computer, gefolgt von den beiden UNIX-Betriebssystemen OS X und Linux ([siehe Statistik](https://gs.statcounter.com/os-market-share/desktop/worldwide)):\n",
    "\n",
    "|          | April 2020 |\n",
    "| :----------- | ------ |\n",
    "| 1. Windows   | 79.45% |\n",
    "| 2. OS X      | 14.05% |\n",
    "| 3. Unbekannt |  3.62% |\n",
    "| 4. Linux     |  1.63% |\n",
    "| 5. Chrome OS |  1.24% |\n",
    "| 6. Other     |  0.01% |\n",
    "\n",
    "Machen Sie sich mit den Betriebssystemen Windows und Linux in dieser Aufgabe weiter vertraut."
   ]
  },
  {
   "cell_type": "markdown",
   "metadata": {},
   "source": [
    "## Aufgabenstellung\n",
    "\n",
    "Finden Sie Informationen über Windows und Linux Betriebssysteme zu folgenden Kategorien:\n",
    "\n",
    "1. Quellcode des Betriebssystems\n",
    "1. Nutzeroberfläche des Betriebssystems\n",
    "1. Konfiguration des Betriebssystems\n",
    "1. Dateisystem/Laufwerke\n",
    "1. Preis des Betriebssystems\n",
    "1. Installation von Software\n",
    "1. Softwarelizenzen\n",
    "1. Hardwareunterstützung"
   ]
  },
  {
   "cell_type": "markdown",
   "metadata": {},
   "source": [
    "## Lösungshinweise\n",
    "\n",
    "Diese Rechercheaufgabe soll Ihnen einen groben Überblick über die Prozessorarchitekturen ermöglichen. Informationen aus Wikipedia sind zur Lösung dieser Aufgabe hinreichend."
   ]
  },
  {
   "cell_type": "markdown",
   "metadata": {
    "tags": [
     "remove_cell"
    ]
   },
   "source": [
    "## Lösungsvorschlag\n",
    "\n",
    "1. Quellcode des Betriebssystems: Quellcode kann bei Linux eingesehen und kontrolliert werden. Bei Windows ist dies nicht möglich.\n",
    "1. Nutzeroberfläche des Betriebssystems: Beide haben (inzwischen) sehr benutzerfreundliche Oberflächen. Bei Windows ist es nur eine. In Linux kann aus einer großen Auswahl gewählt werden. Es gibt hier sehr minimalistische und ressourcenschonende Varianten.\n",
    "1. Konfiguration des Betriebssystems: In Windows wird die Konfiguration des Betriebssystems in einer monlithischen Registry vorgenommen. In Linux werden alle Einstellungen in Textdateien organisiert. Generell wird bei Linux alles in (einfachen) Dateien gehandhabt, sodass darauf Geräte und Prozesse einfach zugreifen können.\n",
    "1. Dateisystem/Laufwerke: In Windows werden verschiedene Laufwerke zur Abbildung angebundener Geräte / Netzwerke verwendet. Bei Linux wird alles in ein zentrales Dateisystem eingehängt.\n",
    "1. Preis des Betriebssystems: Linux ist kostenfrei. Windows-Lizenzen sind kostenpflichtig.\n",
    "1. Installation von Software: Die meisten Linux-Distributionen bieten Softwareverzeichnisse an um schnell und einfach neue Software zu installieren (und zu löschen). Software wird primär über Pakete bereitgestellt und ihre Installation erfolgt über Paketmanager. Windows verfolgt eher individuelle Installationsmethoden.\n",
    "1. Softwarelizenzen: Software für Linux ist meist frei, jedoch nur bedingt konkurrenzfähig zu bestimmten Softwareprodukten für Windows.\n",
    "1. Hardwareunterstützung: Windows unterstützt nahezu jede erdenklich Hardware als verbreitestes Betriebssystem. Bei Linux ist die Unterstützung noch nicht optimal."
   ]
  }
 ],
 "metadata": {
  "kernelspec": {
   "display_name": "Python 3",
   "language": "python",
   "name": "python3"
  },
  "language_info": {
   "codemirror_mode": {
    "name": "ipython",
    "version": 3
   },
   "file_extension": ".py",
   "mimetype": "text/x-python",
   "name": "python",
   "nbconvert_exporter": "python",
   "pygments_lexer": "ipython3",
   "version": "3.8.2"
  }
 },
 "nbformat": 4,
 "nbformat_minor": 4
}
