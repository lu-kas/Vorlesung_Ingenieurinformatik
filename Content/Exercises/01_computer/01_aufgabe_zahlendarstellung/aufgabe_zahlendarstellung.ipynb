{
 "cells": [
  {
   "cell_type": "markdown",
   "metadata": {
    "tags": [
     "remove_cell"
    ]
   },
   "source": [
    "<div style=\"width: 100%; overflow: hidden;\">\n",
    "    <div style=\"width: 500px; float: left;\"> \n",
    "        <h1>Ingenieurinformatik – Übung</h1>\n",
    "        Lehrstuhl <b>Computational Civil Engineering</b><br>\n",
    "        Kontakt: <a href = \"mailto: cce-inginf@uni-wuppertal.de\">Email senden</a> | Individuelle Kontakte siehe Webseite des Lehrstuhls<br>\n",
    "        Links: \n",
    "        <a href=\"cce.uni-wuppertal.de/inginf\">Vorlesungsskript</a> | \n",
    "        <a href=\"cce.uni-wuppertal.de/\">Webseite des Lehrstuhls</a>\n",
    "    </div>\n",
    "    <div style=\"float:right;\"> \n",
    "        <img src=\"logo_cce_combined.png\" style=\"width:150px;\"/>\n",
    "    </div>\n",
    "</div>"
   ]
  },
  {
   "cell_type": "markdown",
   "metadata": {
    "tags": [
     "remove_cell"
    ]
   },
   "source": [
    "# Aufgabe X.X – Zahlendarstellung"
   ]
  },
  {
   "cell_type": "markdown",
   "metadata": {},
   "source": [
    "## Binäre Zahlen (Integer)"
   ]
  },
  {
   "cell_type": "markdown",
   "metadata": {},
   "source": [
    "Wandeln Sie folgende Dezimalzahlen in Binärzahlen um. Beachten Sie dabei den gewünschten Datentyp.  \n",
    "\n",
    "```\n",
    "a)  111 -> 8 bit unsigned \n",
    "b)  503 -> 16 bit signed\n",
    "c)  503 -> 16 bit unsigned\n",
    "d) -112 -> 8 bit signed unter Verwendung von Two's manifold\n",
    "e)  128 -> 8 bit signed unter Verwendung von Two's manifold\n",
    "```"
   ]
  },
  {
   "cell_type": "markdown",
   "metadata": {},
   "source": [
    "Tragen Sie hier Ihre Lösung ein:\n",
    "```\n",
    "a)\n",
    "b) \n",
    "c)\n",
    "d)\n",
    "e)\n",
    "```"
   ]
  },
  {
   "cell_type": "markdown",
   "metadata": {},
   "source": [
    "Lösung:\n",
    "```\n",
    "a) 0110 1111\n",
    "b) 0000 0000 0001 1111 0111\n",
    "c) 0000 0000 0001 1111 0111\n",
    "d) 1001 0000\n",
    "e) nicht möglich -> Maximale Zahl 127\n",
    "```"
   ]
  },
  {
   "cell_type": "code",
   "execution_count": 5,
   "metadata": {},
   "outputs": [],
   "source": [
    "# Addition von binären Zahlen als Aufgabenstellung?"
   ]
  },
  {
   "cell_type": "markdown",
   "metadata": {},
   "source": [
    "## Binäre Zahlen (Gleitkommazahlen )"
   ]
  },
  {
   "cell_type": "markdown",
   "metadata": {},
   "source": [
    "Erklären Sie den unterschied zwischen single- und double-precision in einem Satz."
   ]
  },
  {
   "cell_type": "markdown",
   "metadata": {},
   "source": [
    "Lösung:\n",
    "```\n",
    "Unterschied liegt in der Anzahl der Bits. Single = 32 bit; Double = 64 bit.\n",
    "```"
   ]
  },
  {
   "cell_type": "markdown",
   "metadata": {},
   "source": [
    "Wandeln Sie folgende binäre Gleitkommazahlen (32 Bit; IEEE754) in ihr dezimales Äquivalent um.\n",
    "```\n",
    "a) 0 10000011 00000000000000000000000 \n",
    "b) 1 10000111 11000000000000000000000\n",
    "```"
   ]
  },
  {
   "cell_type": "markdown",
   "metadata": {},
   "source": [
    "#### Beispiel\n",
    "```1 10000001 10110010000000000000000```\n",
    "\n",
    "1. Unterteilen Sie die Bits in drei Gruppen (Unterteilung von links nach rechts):\n",
    "    - Bit 31 -> Vorzeichen Bit\n",
    "    - Bit 30 bis 23 -> Exponent\n",
    "    - Bit 22 bis 0 -> Mantissa\n",
    "<br/><br/>\n",
    "2. Bestimmen Sie das Vorzeichen der Gleitkommazahl -> Vorzeichen Bit = 1 => Negativ; = 0 => Positiv  \n",
    "   Hier im Beispiel ist die Dezimalzahl negativ.\n",
    "<br/><br/> \n",
    "3. Berechnen Sie den Exponenten indem Sie die binäre Zahl in das Dezimalsystem umwandeln.\n",
    "   ```10000001 = 128```\n",
    "<br/><br/> \n",
    "\n",
    "4. Wandeln Sie die die Mantisse zur Basis 10 um.\n",
    "   ```10110010000000000000000 = 1*2⁻¹ + 0*2⁻² + 1*2⁻³ + 1*2⁻⁴ + 0*2⁻⁵ + 0*2⁻⁶ + 1*2⁻⁷ + ... = 0.6953125```\n",
    "<br/><br/> \n",
    "\n",
    "5. Setzen Sie die soeben berechneten Zahlen in folgende Formel ein:\n",
    "```\n",
    "-1^s * 1+M * 2^(E-127)\n",
    "```\n",
    "=> ```\n",
    "-1^1 * 1+0.6953125 * 2^(128-127) = -6.78125'\n",
    "```"
   ]
  },
  {
   "cell_type": "markdown",
   "metadata": {},
   "source": [
    "Lösung:\n",
    "    \n",
    "```\n",
    "a) 0 10000011 00000000000000000000000 \n",
    "   s     E              M\n",
    "(-1)^(0) * 1+(0) * 2^(4) = 16; \n",
    "\n",
    "b) 1 10000111 11000000000000000000000\n",
    "   s     E              M\n",
    "(-1)^(1) * 1+(0.75) * 2^(4) = -448; \n",
    "```"
   ]
  },
  {
   "cell_type": "markdown",
   "metadata": {},
   "source": [
    "Wandeln Sie folgende Dezimalzahlen in ihr binäres Äquivalent (32 Bit; IEEE754) um.\n",
    "```\n",
    "a) 3.5\n",
    "b) -6.0\n",
    "```"
   ]
  },
  {
   "cell_type": "markdown",
   "metadata": {},
   "source": [
    "Lösung:\n",
    "  \n",
    "```\n",
    "a) 0 10000000 11000000000000000000000\n",
    "\n",
    "b) 1 10000001 10000000000000000000000\n",
    "```"
   ]
  },
  {
   "cell_type": "markdown",
   "metadata": {},
   "source": [
    "Was ist der Grund für das folgende Phänomen?"
   ]
  },
  {
   "cell_type": "code",
   "execution_count": 110,
   "metadata": {},
   "outputs": [
    {
     "name": "stdout",
     "output_type": "stream",
     "text": [
      "0.30000000000000004\n"
     ]
    }
   ],
   "source": [
    "print(0.1 + 0.2)"
   ]
  },
  {
   "cell_type": "markdown",
   "metadata": {},
   "source": [
    "Lösung:\n",
    "\n",
    "```\n",
    "Eine Zahl wie 0.1 kann im IEEE754 Format nicht exakt angenähert werden:\n",
    "0.1000000000000000055511151231257827021181583404541015625\n",
    "\n",
    "Gleiches gilt für 0.2:\n",
    "0.2000000000000000111022302462515654042363166809082031250\n",
    "\n",
    "Aufgrund dieser Ungenauigkeit ist die Addtion von 0.1 und 0.2 nicht exakt 0.3.\n",
    "```"
   ]
  },
  {
   "cell_type": "code",
   "execution_count": null,
   "metadata": {},
   "outputs": [],
   "source": []
  }
 ],
 "metadata": {
  "kernelspec": {
   "display_name": "Python 3",
   "language": "python",
   "name": "python3"
  },
  "language_info": {
   "codemirror_mode": {
    "name": "ipython",
    "version": 3
   },
   "file_extension": ".py",
   "mimetype": "text/x-python",
   "name": "python",
   "nbconvert_exporter": "python",
   "pygments_lexer": "ipython3",
   "version": "3.7.5"
  }
 },
 "nbformat": 4,
 "nbformat_minor": 4
}
