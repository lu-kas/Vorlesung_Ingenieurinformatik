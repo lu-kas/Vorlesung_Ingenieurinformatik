{
 "cells": [
  {
   "cell_type": "markdown",
   "metadata": {
    "tags": [
     "remove_cell"
    ]
   },
   "source": [
    "<div style=\"width: 100%; overflow: hidden;\">\n",
    "    <div style=\"width: 500px; float: left;\"> \n",
    "        <h2>Ingenieurinformatik – Übung</h2>\n",
    "        Lehrstuhl <b>Computational Civil Engineering</b><br>\n",
    "        Kontakt: <a href = \"mailto: cce-inginf@uni-wuppertal.de\">Email senden</a> | Individuelle Kontakte siehe Webseite des Lehrstuhls<br>\n",
    "        Links: \n",
    "        <a href=\"cce.uni-wuppertal.de/inginf\">Vorlesungsskript</a> | \n",
    "        <a href=\"cce.uni-wuppertal.de\">Webseite des Lehrstuhls</a>\n",
    "    </div>\n",
    "    <div style=\"float:right;\"> \n",
    "        <img src=\"logo_cce_combined.png\" style=\"width:150px;\"/>\n",
    "    </div>\n",
    "</div>"
   ]
  },
  {
   "cell_type": "markdown",
   "metadata": {},
   "source": [
    "# Aufgabe 1.7 – Prozessorarchitekturen\n",
    "\n",
    "In heutigen elektronischen geräten kommen häufig x86 und ARM Prozessoren zum Einsatz.\n",
    "\n",
    "Wir möchten in dieser Aufgabe mehr über diese beiden prominentesten Prozessorarchitekturen herausfinden."
   ]
  },
  {
   "cell_type": "markdown",
   "metadata": {},
   "source": [
    "## Aufgabenstellung\n",
    "\n",
    "1. Finden Sie heraus, in welchen Endgeräten welche Prozessorarchitektur vorranging zum Einsatz kommt!\n",
    "1. Warum sind x86 und ARM Architekturen so verbreitet? Was sind ihre jeweiligen Vorteile?\n",
    "1. Warum kann ein Programm für x86 kompiliert nicht auf ARM Prozessoren ausgeführt werden, und umgekehrt?"
   ]
  },
  {
   "cell_type": "markdown",
   "metadata": {},
   "source": [
    "## Lösungshinweise\n",
    "\n",
    "Diese Rechercheaufgabe soll Ihnen einen groben Überblick über die Prozessorarchitekturen ermöglichen. Informationen aus Wikipedia sind zur Lösung dieser Aufgabe hinreichend."
   ]
  },
  {
   "cell_type": "markdown",
   "metadata": {
    "tags": [
     "remove_cell"
    ]
   },
   "source": [
    "## Lösungsvorschlag\n",
    "\n",
    "1. x86 kommen vorranging in Desktop Systemen zum Einsatz, während ARM auf Mobiltelefonen und Single Board Computern verbaut werden.\n",
    "1. x86 hat umfangreichere Befehlssätze (CISC - Reduced Instruction Set Computing), ARM wenige effiziente (RISC - Reduced Instruction Set Computing). x86 Systeme sind im Allgemeinen leistungsstärker, dafür verbrauchen ARM Prozessoren weniger Energie. Im Vergleich sind ARM Prozessoren auch günstiger.\n",
    "1. Die Befehlssätze der Prozessoren sind verschieden. Einmal kompiliert für einen Prozessor kann die Software auch nur auf diesem Typen verwendet werden. Der Quellcode muss für jeden Prozessortypen separat kompiliert werden. Es entstehen so zwei verschiedene ausführbare Programme.\n",
    "\n",
    "| <img src=\"http://i.cloud.opensystemsmedia.com/i__src854cf3b9d36d8785d724e5048b72276a_paraf0d99c20bd457d46a92c72841873c47.jpeg\" width=\"600\" /> |\n",
    "| :-: |\n",
    "| [Marktanteile 2012 von ARM und x86 Prozessoren nach Endgerät](http://embedded-computing.com/articles/x86-arm-both-ambidextrous-product-strategy/) |"
   ]
  }
 ],
 "metadata": {
  "kernelspec": {
   "display_name": "Python 3",
   "language": "python",
   "name": "python3"
  },
  "language_info": {
   "codemirror_mode": {
    "name": "ipython",
    "version": 3
   },
   "file_extension": ".py",
   "mimetype": "text/x-python",
   "name": "python",
   "nbconvert_exporter": "python",
   "pygments_lexer": "ipython3",
   "version": "3.8.2"
  }
 },
 "nbformat": 4,
 "nbformat_minor": 4
}
