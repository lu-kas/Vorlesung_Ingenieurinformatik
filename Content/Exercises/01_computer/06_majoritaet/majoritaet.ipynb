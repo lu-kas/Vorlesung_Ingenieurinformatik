{
 "cells": [
  {
   "cell_type": "markdown",
   "metadata": {
    "tags": [
     "remove_cell"
    ]
   },
   "source": [
    "<div style=\"width: 100%; overflow: hidden;\">\n",
    "    <div style=\"width: 500px; float: left;\"> \n",
    "        <h2>Ingenieurinformatik – Übung</h2>\n",
    "        Lehrstuhl <b>Computational Civil Engineering</b><br>\n",
    "        Kontakt: <a href = \"mailto: cce-inginf@uni-wuppertal.de\">Email senden</a> | Individuelle Kontakte siehe Webseite des Lehrstuhls<br>\n",
    "        Links: \n",
    "        <a href=\"cce.uni-wuppertal.de/inginf\">Vorlesungsskript</a> | \n",
    "        <a href=\"cce.uni-wuppertal.de\">Webseite des Lehrstuhls</a>\n",
    "    </div>\n",
    "    <div style=\"float:right;\"> \n",
    "        <img src=\"logo_cce_combined.png\" style=\"width:150px;\"/>\n",
    "    </div>\n",
    "</div>"
   ]
  },
  {
   "cell_type": "markdown",
   "metadata": {
    "tags": [
     "remove_cell"
    ]
   },
   "source": [
    "# Aufgabe 1.6 – Majorität"
   ]
  },
  {
   "cell_type": "markdown",
   "metadata": {},
   "source": [
    "Logikgatter können zur digitalen Signalverarbeitung genutzt werden. In dieser Aufgabe wird die Kombination mehrerer Gatter zur Lösung eines Problem verwendet.\n",
    "\n",
    "Wenn Abstimmungen im Bundestag nicht mehr auf Papier, sondern elektronish erfolgen würden, so könnte beispielsweise jeder Politiker seine Stimme mit Hilfe eines Schalters an seinem Platz abgeben. Falls es eine absolute Mehrheit gibt, also die Majorität aller Abstimmungen gilt, würde das Ergebnis gegebenenfalls mit einem Lichtsignal bekannt gegeben.\n",
    "\n",
    "Eine mögliche Realisation einer Majorität in der digitalen Signalverarbeitung kann mithilfe einer Schaltung aus Logikgattern geschehen. Ihre Aufgabe ist die Entwicklung einer solchen Schaltung.\n",
    "\n",
    "Sie können hierzu ein interaktives Tool verwenden. Wir empfehlen zur Lösung der Aufgabe die Demoversion von [logic.ly](https://logic.ly/demo), die Sie einfach in ihrem Browser ausführen können. Hierzu müssen Sie keine zusätzliche Software installieren."
   ]
  },
  {
   "cell_type": "markdown",
   "metadata": {},
   "source": [
    "## Grundlagen und Beispiele\n",
    "\n",
    "Die Majorität aus zwei Eingangssignalen, d.h. mindestens eins von zwei Signalen ist aktiv, kann durch ein einzelnes OR-Gatter realisiert werden:\n",
    "\n",
    "| ![Beispiel](beispiel.png) |\n",
    "| :-: |\n",
    "| Majorität zweiter Signale, realisiert durch ein OR-Gatter |"
   ]
  },
  {
   "cell_type": "markdown",
   "metadata": {},
   "source": [
    "## Aufgabenstellung\n",
    "\n",
    "Konstruieren Sie eine Schaltung aus AND- und OR-Logikgattern, die aus drei Eingangssignalen die Majorität signalisiert, d.h. mindestens zwei von drei Signalen sind aktiv."
   ]
  },
  {
   "cell_type": "markdown",
   "metadata": {},
   "source": [
    "## Lösungshinweise\n",
    "\n",
    "* Machen Sie sich mit der Funktions- und Darstellungsweise von [Logikgattern](https://de.wikipedia.org/wiki/Logikgatter) vertraut.\n",
    "\n",
    "* Verwenden Sie zur Realisierung der drei Eingangssignale jeweils einen 'Toggle Switch' und zur Darstellung des Ausgangssignals eine 'Light Bulb'. Insgesamt sollte Ihre Lösung so drei 'Toggle Switches' und eine 'Light Bulb' enthalten.\n",
    "\n",
    "* Erfassen Sie alle Lösungsmöglichkeiten und bringen Sie diese dann zu einem einzelnen Signal zusammen. Für die Lösung der Aufgabe benötigen Sie 5 Logikgatter wobei es verschiedene Lösungsmöglichkeiten gibt."
   ]
  },
  {
   "cell_type": "markdown",
   "metadata": {
    "tags": [
     "remove_cell"
    ]
   },
   "source": [
    "## Lösungsvorschlag\n",
    "\n",
    "1. Wir stellen zunächst alle Zustände für die Minimalbedingung der Majorität dar, jede erdenkliche Kombination von zwei aus drei Eingangssignalen, die mit drei AND-Gattern erstellt werden.\n",
    "1. Die drei Zwischenergebnisse müssen jetzt auf ein Signal reduziert werden. Wenn einer dieser Zustände erfüllt ist, soll die Lampe erleuchten. Dabei helfen uns zwei hintereinander geschaltete OR-Gatter.\n",
    "\n",
    "| ![Lösung](loesung.png) |\n",
    "| :-: |\n",
    "| Majorität dreier Signale |"
   ]
  }
 ],
 "metadata": {
  "kernelspec": {
   "display_name": "Python 3",
   "language": "python",
   "name": "python3"
  },
  "language_info": {
   "codemirror_mode": {
    "name": "ipython",
    "version": 3
   },
   "file_extension": ".py",
   "mimetype": "text/x-python",
   "name": "python",
   "nbconvert_exporter": "python",
   "pygments_lexer": "ipython3",
   "version": "3.8.2"
  }
 },
 "nbformat": 4,
 "nbformat_minor": 4
}
