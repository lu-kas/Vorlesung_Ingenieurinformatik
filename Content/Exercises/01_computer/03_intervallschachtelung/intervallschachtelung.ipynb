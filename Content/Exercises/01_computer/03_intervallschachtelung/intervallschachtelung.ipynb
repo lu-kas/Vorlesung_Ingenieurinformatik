{
 "cells": [
  {
   "cell_type": "markdown",
   "metadata": {
    "tags": [
     "remove_cell"
    ]
   },
   "source": [
    "<div style=\"width: 100%; overflow: hidden;\">\n",
    "    <div style=\"width: 500px; float: left;\"> \n",
    "        <h1>Ingenieurinformatik – Übung</h1>\n",
    "        Lehrstuhl <b>Computational Civil Engineering</b><br>\n",
    "        Kontakt: <a href = \"mailto: cce-inginf@uni-wuppertal.de\">Email senden</a> | Individuelle Kontakte siehe Webseite des Lehrstuhls<br>\n",
    "        Links: \n",
    "        <a href=\"cce.uni-wuppertal.de/inginf\">Vorlesungsskript</a> | \n",
    "        <a href=\"cce.uni-wuppertal.de\">Webseite des Lehrstuhls</a>\n",
    "    </div>\n",
    "    <div style=\"float:right;\"> \n",
    "        <img src=\"logo_cce_combined.png\" style=\"width:150px;\"/>\n",
    "    </div>\n",
    "</div>"
   ]
  },
  {
   "cell_type": "markdown",
   "metadata": {
    "tags": [
     "remove_cell"
    ]
   },
   "source": [
    "# Aufgabe 1.3 - Intervallschachtelung"
   ]
  },
  {
   "cell_type": "markdown",
   "metadata": {},
   "source": [
    "Die Intervallschachtelung ist ein einfacher Algorithmus um Nullstellen einer Funktion zu finden. In dieser Aufgabe wird der Algorithmus formal vorgestellt und auf eine nicht-lineare Funktion angewendet.  "
   ]
  },
  {
   "cell_type": "markdown",
   "metadata": {},
   "source": [
    "## Aufgabenstellung"
   ]
  },
  {
   "cell_type": "markdown",
   "metadata": {},
   "source": [
    "Gegeben sei eine Funktion $\\sf f(x) = \\sin(x) - 0.5$. Finden Sie die Nullstelle auf dem Intervall $\\sf [0;\\pi/2]$ indem Sie den nachfolgenden Algorithmus der Intervallschachtelung Schritt für Schritt ausführen. \n",
    "\n",
    "Die linke Intervallgrenze bezeichnen wir folgend mit $\\sf a$, die rechte mit $\\sf b$. Starten Sie mit $\\sf a=0$ und $\\sf b=\\pi/2$. \n",
    "Wiederholen sie die folgenden Punkte, bis $\\sf |a-b| < 0.1$ ist:\n",
    "* berechnen Sie $\\sf (b+a)/2$, ab nun $\\sf c$ genannt\n",
    "* berechnen Sie $\\sf f(c)$\n",
    "* falls $\\sf f(c) > 0$ ist, setzen Sie die neue rechte Intervallgrenze $\\sf (b)$ gleich $\\sf c$\n",
    "* falls nicht, setzen Sie die neue linke Intervallgrenze $\\sf (a)$ gleich $\\sf c$\n",
    "\n",
    "Geben Sie bitte für jede Wiederholung das aktuelle Intervall $\\sf [a;b]$ an.\n",
    "\n",
    "Berechnen Sie die tatsächliche Nullstelle und überprüfen Sie, ob sich diese in dem berechneten Intervall befindet."
   ]
  },
  {
   "cell_type": "markdown",
   "metadata": {
    "tags": [
     "remove_cell"
    ]
   },
   "source": [
    "Nachfolgend finden Sie den Algorithmus in Pseudocode:\n",
    "\n",
    "```\n",
    "a = 0\n",
    "b = pi/2\n",
    "solange |a-b| < 0.1\n",
    "    c = (a+b)/2\n",
    "    falls f(c) > 0\n",
    "        b = c\n",
    "    sonst\n",
    "        a = c\n",
    "```"
   ]
  },
  {
   "cell_type": "markdown",
   "metadata": {},
   "source": [
    "## Lösungshinweise"
   ]
  },
  {
   "cell_type": "code",
   "execution_count": 2,
   "metadata": {
    "tags": [
     "remove_input"
    ]
   },
   "outputs": [
    {
     "name": "stdout",
     "output_type": "stream",
     "text": [
      "Ergebnis der letzten Iteration:\n",
      "a = 0.49087, b = 0.58905\n"
     ]
    }
   ],
   "source": [
    "import math\n",
    "\n",
    "def f(x):\n",
    "    return math.sin(x)-0.5\n",
    "\n",
    "a = 0.\n",
    "b = math.pi/2\n",
    "\n",
    "while(abs(a-b)>0.1):\n",
    "    c = (b+a)/2\n",
    "    if f(c)>0:\n",
    "        b = c\n",
    "    else:\n",
    "        a = c\n",
    "\n",
    "print('Ergebnis der letzten Iteration:')\n",
    "print(f'a = {a:.5}, b = {b:.5}')"
   ]
  },
  {
   "cell_type": "markdown",
   "metadata": {
    "tags": [
     "remove_cell"
    ]
   },
   "source": [
    "## Lösung"
   ]
  },
  {
   "cell_type": "code",
   "execution_count": 4,
   "metadata": {
    "tags": [
     "remove_input"
    ]
   },
   "outputs": [
    {
     "name": "stdout",
     "output_type": "stream",
     "text": [
      "a = 0.0, b = 0.7854\n",
      "a = 0.3927, b = 0.7854\n",
      "a = 0.3927, b = 0.58905\n",
      "a = 0.49087, b = 0.58905\n"
     ]
    }
   ],
   "source": [
    "import math\n",
    "\n",
    "def f(x):\n",
    "    return math.sin(x)-0.5\n",
    "\n",
    "a = 0.\n",
    "b = math.pi/2\n",
    "\n",
    "while(abs(a-b)>0.1):\n",
    "    c = (b+a)/2\n",
    "    if f(c)>0:\n",
    "        b = c\n",
    "    else:\n",
    "        a = c\n",
    "    print(f'a = {a:.5}, b = {b:.5}')"
   ]
  }
 ],
 "metadata": {
  "kernelspec": {
   "display_name": "Python 3",
   "language": "python",
   "name": "python3"
  },
  "language_info": {
   "codemirror_mode": {
    "name": "ipython",
    "version": 3
   },
   "file_extension": ".py",
   "mimetype": "text/x-python",
   "name": "python",
   "nbconvert_exporter": "python",
   "pygments_lexer": "ipython3",
   "version": "3.7.5"
  }
 },
 "nbformat": 4,
 "nbformat_minor": 4
}
