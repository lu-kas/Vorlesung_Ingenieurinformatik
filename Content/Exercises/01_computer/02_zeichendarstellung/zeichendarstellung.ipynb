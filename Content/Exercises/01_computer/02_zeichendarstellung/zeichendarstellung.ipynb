{
 "cells": [
  {
   "cell_type": "markdown",
   "metadata": {
    "tags": [
     "remove_cell"
    ]
   },
   "source": [
    "<div style=\"width: 100%; overflow: hidden;\">\n",
    "    <div style=\"width: 500px; float: left;\"> \n",
    "        <h2>Ingenieurinformatik – Übung</h2>\n",
    "        Lehrstuhl <b>Computational Civil Engineering</b><br>\n",
    "        Kontakt: <a href = \"mailto: cce-inginf@uni-wuppertal.de\">Email senden</a> | Individuelle Kontakte siehe Webseite des Lehrstuhls<br>\n",
    "        Links: \n",
    "        <a href=\"cce.uni-wuppertal.de/inginf\">Vorlesungsskript</a> | \n",
    "        <a href=\"cce.uni-wuppertal.de\">Webseite des Lehrstuhls</a>\n",
    "    </div>\n",
    "    <div style=\"float:right;\"> \n",
    "        <img src=\"logo_cce_combined.png\" style=\"width:150px;\"/>\n",
    "    </div>\n",
    "</div>"
   ]
  },
  {
   "cell_type": "markdown",
   "metadata": {
    "tags": [
     "remove_cell"
    ]
   },
   "source": [
    "# Aufgabe 1.2 – Darstellung von Zeichen"
   ]
  },
  {
   "cell_type": "markdown",
   "metadata": {},
   "source": [
    "Zur Speicherung und Darstellung von Text sind Zeichen notwendig. Diese Umfassen die Buchstaben des Alphabets, Ziffern als auch Sonderzeichen. In dieser Aufgabe wird der Umgang mit der Zeichedarstelltung vertieft. "
   ]
  },
  {
   "cell_type": "markdown",
   "metadata": {},
   "source": [
    "## Grundlagen und Beispiele"
   ]
  },
  {
   "cell_type": "markdown",
   "metadata": {},
   "source": [
    "Die einfachste Möglichkeit der Zahlendarstellung erfolgt über die Kodierung mit einer Tabelle, hier der [ASCII-Tabelle](https://de.wikipedia.org/wiki/American_Standard_Code_for_Information_Interchange). Dabei wird jeder 7-Bit-Zahl ein Zeichen zugewiesen."
   ]
  },
  {
   "cell_type": "markdown",
   "metadata": {},
   "source": [
    "Beispiele:\n",
    "* Zahl 52<sub>10</sub> wird abgebildet auf das Zeichen `4`\n",
    "* Zahl 0x4A=4A<sub>16</sub> steht für den Buchstaben `J`"
   ]
  },
  {
   "cell_type": "markdown",
   "metadata": {},
   "source": [
    "Die Speicherung von Text bzw. Zeichenketten erfolgt in diesem Format also als eine Reihe von 7-Bit-Zahlen. Aus technischen Gründen werden aber immer 8-Bit, also ein Byte, pro Zeichen verwendet."
   ]
  },
  {
   "cell_type": "markdown",
   "metadata": {},
   "source": [
    "Beispielspeicherung, wobei die Zahlenwerte in der Hexadezimaldarstellung angegeben sind:"
   ]
  },
  {
   "cell_type": "code",
   "execution_count": 25,
   "metadata": {
    "tags": [
     "remove_input"
    ]
   },
   "outputs": [
    {
     "name": "stdout",
     "output_type": "stream",
     "text": [
      "Zeichen:   C  C  E     =     C  o  m  p  u  t  a  t  i  o     .  .  .\n",
      "Zahl:     43 43 45 20 3D 20 43 6F 6D 70 75 74 61 74 69 6F 20 2E 2E 2E"
     ]
    }
   ],
   "source": [
    "s = 'CCE = Computatio ...'\n",
    "print('Zeichen: ', end='')\n",
    "for i in s:\n",
    "    print('  {}'.format(i), end='')\n",
    "print()\n",
    "print('Zahl:    ', end='')\n",
    "for i in s:\n",
    "    print(' {:02X}'.format(ord(i)), end='')"
   ]
  },
  {
   "cell_type": "markdown",
   "metadata": {},
   "source": [
    "Bei der visuellen Darstellung von Text werden die Steuerzeichen, wie neue Zeile (`CR`, engl. current return, 0x0D) oder Tabulator (`HT`, engl. horizontal tab, 0x09), wichtig. Diese weisen das Darstellungsprogramm an eine entsprechende Fromatierung vorzunehmen. Reine Textdateien können z.B. mit einem Texteditor dargestellt und bearbeitet werden."
   ]
  },
  {
   "cell_type": "markdown",
   "metadata": {},
   "source": [
    "Folgendes Beispiel verdeutlicht die visuelle Darstellung von Text. Die Zeilenumbrüche in der *gespeicherten* Zahlenfolge ergibt sich nur durch die Darstellung in diesem Dokument. Eigentlich wäre es eine einelne Zeile."
   ]
  },
  {
   "cell_type": "markdown",
   "metadata": {},
   "source": [
    "* Gespeicherte 8-Bit-Zahlenfolge. Die Zeilenumbrüche in der *gespeicherten* Zahlenfolge ergibt sich nur durch die Darstellung in diesem Dokument. Eigentlich wäre es eine einelne Zeile."
   ]
  },
  {
   "cell_type": "code",
   "execution_count": 33,
   "metadata": {
    "tags": [
     "remove_input"
    ]
   },
   "outputs": [
    {
     "name": "stdout",
     "output_type": "stream",
     "text": [
      " 43 43 45 20 73 74 65 68 74 20 66 FC 72 20 0A 09 2D 20 43 6F 6D 70 75 74 61 74 69 6F 6E 61 6C 20 0A 09 2D 20 43 69 76 69 6C 20 0A 09 2D 20 45 6E 67 69 6E 65 65 72 69 6E 67"
     ]
    }
   ],
   "source": [
    "s = 'CCE steht für \\n\\t- Computational \\n\\t- Civil \\n\\t- Engineering'\n",
    "#print('gespeicherte 8-Bit-Zahlenfolge [in Hex]: ')\n",
    "for i in s:\n",
    "    print(' {:02X}'.format(ord(i)), end='')\n"
   ]
  },
  {
   "cell_type": "markdown",
   "metadata": {},
   "source": [
    "* Darstellung als visueller Text, z.B. in einem Texteditor:"
   ]
  },
  {
   "cell_type": "code",
   "execution_count": 32,
   "metadata": {
    "tags": [
     "remove_input"
    ]
   },
   "outputs": [
    {
     "name": "stdout",
     "output_type": "stream",
     "text": [
      "CCE steht für \n",
      "\t- Computational \n",
      "\t- Civil \n",
      "\t- Engineering\n"
     ]
    }
   ],
   "source": [
    "print(s)"
   ]
  },
  {
   "cell_type": "markdown",
   "metadata": {},
   "source": [
    "## Aufgabenstellung"
   ]
  },
  {
   "cell_type": "markdown",
   "metadata": {},
   "source": [
    "Hier kommt der Aufgabentext.\n",
    "\n",
    "1. Teil A\n",
    "1. Teil B\n",
    "1. Teil C"
   ]
  },
  {
   "cell_type": "markdown",
   "metadata": {},
   "source": [
    "## Lösungshinweise"
   ]
  },
  {
   "cell_type": "markdown",
   "metadata": {},
   "source": [
    "Hier stehen Lösungshinweise. Oder auch mögliche (vorbereitete) Ausgaben, ohne Lösungsweg."
   ]
  },
  {
   "cell_type": "code",
   "execution_count": 6,
   "metadata": {},
   "outputs": [
    {
     "name": "stdout",
     "output_type": "stream",
     "text": [
      "** Ihre Ausgabe **\n",
      "None\n",
      "** Musterausgabe **\n",
      "25\n"
     ]
    }
   ],
   "source": [
    "# Hier steht Ihre Funktion\n",
    "def meine_funktion(a):\n",
    "    # Aufgaben der Funktion\n",
    "    return None\n",
    "\n",
    "res = meine_funktion(5)\n",
    "\n",
    "# Ihre Ausgabe\n",
    "print('** Ihre Ausgabe **')\n",
    "print(res)\n",
    "\n",
    "# Mögliche Ausgabe\n",
    "print('** Musterausgabe **')\n",
    "print('25')"
   ]
  },
  {
   "cell_type": "markdown",
   "metadata": {},
   "source": [
    "## Lösungsvorschlag"
   ]
  },
  {
   "cell_type": "markdown",
   "metadata": {},
   "source": [
    "Hier steht der beschriebene Lösungsweg."
   ]
  },
  {
   "cell_type": "code",
   "execution_count": 7,
   "metadata": {},
   "outputs": [
    {
     "name": "stdout",
     "output_type": "stream",
     "text": [
      "** Ihre Ausgabe **\n",
      "25\n",
      "** Musterausgabe **\n",
      "25\n"
     ]
    }
   ],
   "source": [
    "# Hier steht Ihre Funktion\n",
    "def meine_funktion(a):\n",
    "    # Aufgaben der Funktion\n",
    "    return a*a\n",
    "\n",
    "res = meine_funktion(5)\n",
    "\n",
    "# Ihre Ausgabe\n",
    "print('** Ihre Ausgabe **')\n",
    "print(res)\n",
    "\n",
    "# Mögliche Ausgabe\n",
    "print('** Musterausgabe **')\n",
    "print('25')"
   ]
  }
 ],
 "metadata": {
  "kernelspec": {
   "display_name": "Python 3",
   "language": "python",
   "name": "python3"
  },
  "language_info": {
   "codemirror_mode": {
    "name": "ipython",
    "version": 3
   },
   "file_extension": ".py",
   "mimetype": "text/x-python",
   "name": "python",
   "nbconvert_exporter": "python",
   "pygments_lexer": "ipython3",
   "version": "3.8.2"
  }
 },
 "nbformat": 4,
 "nbformat_minor": 4
}
