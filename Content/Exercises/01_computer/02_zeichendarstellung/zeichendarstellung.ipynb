{
 "cells": [
  {
   "cell_type": "markdown",
   "metadata": {
    "tags": [
     "remove_cell"
    ]
   },
   "source": [
    "<div style=\"width: 100%; overflow: hidden;\">\n",
    "    <div style=\"width: 500px; float: left;\"> \n",
    "        <h2>Ingenieurinformatik – Übung</h2>\n",
    "        Lehrstuhl <b>Computational Civil Engineering</b><br>\n",
    "        Kontakt: <a href = \"mailto: cce-inginf@uni-wuppertal.de\">Email senden</a> | Individuelle Kontakte siehe Webseite des Lehrstuhls<br>\n",
    "        Links: \n",
    "        <a href=\"cce.uni-wuppertal.de/inginf\">Vorlesungsskript</a> | \n",
    "        <a href=\"cce.uni-wuppertal.de\">Webseite des Lehrstuhls</a>\n",
    "    </div>\n",
    "    <div style=\"float:right;\"> \n",
    "        <img src=\"logo_cce_combined.png\" style=\"width:150px;\"/>\n",
    "    </div>\n",
    "</div>"
   ]
  },
  {
   "cell_type": "markdown",
   "metadata": {
    "tags": [
     "remove_cell"
    ]
   },
   "source": [
    "# Aufgabe 1.2 – Darstellung von Zeichen"
   ]
  },
  {
   "cell_type": "markdown",
   "metadata": {},
   "source": [
    "Zur Speicherung und Darstellung von Text sind Zeichen notwendig. Diese Umfassen die Buchstaben des Alphabets, Ziffern als auch Sonderzeichen. In dieser Aufgabe wird der Umgang mit der Zeichendarstellung vertieft. "
   ]
  },
  {
   "cell_type": "markdown",
   "metadata": {},
   "source": [
    "## Grundlagen und Beispiele"
   ]
  },
  {
   "cell_type": "markdown",
   "metadata": {},
   "source": [
    "Die einfachste Möglichkeit der Zahlendarstellung erfolgt über die Kodierung mit einer Tabelle, hier der [ASCII-Tabelle](https://de.wikipedia.org/wiki/American_Standard_Code_for_Information_Interchange). Dabei wird jeder 7-Bit-Zahl ein Zeichen zugewiesen."
   ]
  },
  {
   "cell_type": "markdown",
   "metadata": {},
   "source": [
    "Beispiele:\n",
    "* Zahl 52<sub>10</sub> wird abgebildet auf das Zeichen `4`\n",
    "* Zahl 0x4A=4A<sub>16</sub> steht für den Buchstaben `J`"
   ]
  },
  {
   "cell_type": "markdown",
   "metadata": {},
   "source": [
    "Die Speicherung von Text bzw. Zeichenketten erfolgt in diesem Format, also als eine Reihe von 7-Bit-Zahlen. Aus technischen Gründen werden aber immer 8-Bit, also ein Byte, pro Zeichen verwendet."
   ]
  },
  {
   "cell_type": "markdown",
   "metadata": {},
   "source": [
    "Beispielspeicherung, wobei die Zahlenwerte in der Hexadezimaldarstellung angegeben sind:"
   ]
  },
  {
   "cell_type": "code",
   "execution_count": 44,
   "metadata": {
    "tags": [
     "remove_input"
    ]
   },
   "outputs": [
    {
     "name": "stdout",
     "output_type": "stream",
     "text": [
      "Zeichen:   C  C  E     =     C  o  m  p  .  .  .\n",
      "Zahl:     43 43 45 20 3D 20 43 6F 6D 70 2E 2E 2E"
     ]
    }
   ],
   "source": [
    "s = 'CCE = Comp...'\n",
    "print('Zeichen: ', end='')\n",
    "for i in s:\n",
    "    print('  {}'.format(i), end='')\n",
    "print()\n",
    "print('Zahl:    ', end='')\n",
    "for i in s:\n",
    "    print(' {:02X}'.format(ord(i)), end='')"
   ]
  },
  {
   "cell_type": "markdown",
   "metadata": {},
   "source": [
    "Bei der visuellen Darstellung von Text werden die Steuerzeichen, wie \"neue Zeile\" (`CR`, engl. current return, 0x0D) oder \"Tabulator\" (`HT`, engl. horizontal tab, 0x09), wichtig. Diese weisen das Darstellungsprogramm an eine entsprechende Fromatierung vorzunehmen. Reine Textdateien können z.B. mit einem Texteditor dargestellt und bearbeitet werden."
   ]
  },
  {
   "cell_type": "markdown",
   "metadata": {},
   "source": [
    "Folgendes Beispiel verdeutlicht die visuelle Darstellung von Text. Die Zeilenumbrüche in der *gespeicherten* Zahlenfolge ergibt sich nur durch die Darstellung in diesem Dokument. Eigentlich wäre es eine einzelne Zeile."
   ]
  },
  {
   "cell_type": "markdown",
   "metadata": {},
   "source": [
    "* Gespeicherte 8-Bit-Zahlenfolge."
   ]
  },
  {
   "cell_type": "code",
   "execution_count": 33,
   "metadata": {
    "tags": [
     "remove_input"
    ]
   },
   "outputs": [
    {
     "name": "stdout",
     "output_type": "stream",
     "text": [
      " 43 43 45 20 73 74 65 68 74 20 66 FC 72 20 0A 09 2D 20 43 6F 6D 70 75 74 61 74 69 6F 6E 61 6C 20 0A 09 2D 20 43 69 76 69 6C 20 0A 09 2D 20 45 6E 67 69 6E 65 65 72 69 6E 67"
     ]
    }
   ],
   "source": [
    "s = 'CCE steht für \\n\\t- Computational \\n\\t- Civil \\n\\t- Engineering'\n",
    "#print('gespeicherte 8-Bit-Zahlenfolge [in Hex]: ')\n",
    "for i in s:\n",
    "    print(' {:02X}'.format(ord(i)), end='')\n"
   ]
  },
  {
   "cell_type": "markdown",
   "metadata": {},
   "source": [
    "* Darstellung als visueller Text, z.B. in einem Texteditor. Dieser interpretiert die obigen Zahlen und stellt Zeichen dar und befolgt Anweisungen, wie z.B. \"neue Zeile\":"
   ]
  },
  {
   "cell_type": "code",
   "execution_count": 32,
   "metadata": {
    "tags": [
     "remove_input"
    ]
   },
   "outputs": [
    {
     "name": "stdout",
     "output_type": "stream",
     "text": [
      "CCE steht für \n",
      "\t- Computational \n",
      "\t- Civil \n",
      "\t- Engineering\n"
     ]
    }
   ],
   "source": [
    "print(s)"
   ]
  },
  {
   "cell_type": "markdown",
   "metadata": {},
   "source": [
    "## Aufgabenstellung"
   ]
  },
  {
   "cell_type": "markdown",
   "metadata": {},
   "source": [
    "### Aufgabenteil A"
   ]
  },
  {
   "cell_type": "markdown",
   "metadata": {},
   "source": [
    "Dekodieren Sie folgende Zahlenfolge anhand der ASCII-Tabelle."
   ]
  },
  {
   "cell_type": "code",
   "execution_count": 37,
   "metadata": {
    "tags": [
     "remove_input"
    ]
   },
   "outputs": [
    {
     "name": "stdout",
     "output_type": "stream",
     "text": [
      " 43 6F 6D 70 75 74 65 72 20 75 6E 64 20 46 65 75 65 72"
     ]
    }
   ],
   "source": [
    "teil_a_s = \"Computer und Feuer\"\n",
    "for i in teil_a_s:\n",
    "    print(' {:02X}'.format(ord(i)), end='')"
   ]
  },
  {
   "cell_type": "markdown",
   "metadata": {},
   "source": [
    "### Aufgabenteil B"
   ]
  },
  {
   "cell_type": "markdown",
   "metadata": {},
   "source": [
    "Dekodieren Sie folgende Zahlenfolge und stellen Sie diese so dar, wie ein Texteditor es tun würde. Nicht sichtbare Zeichen können Sie beispielsweise mit `↵`, `⇥` oder `␣` darstellen. "
   ]
  },
  {
   "cell_type": "code",
   "execution_count": 43,
   "metadata": {
    "tags": [
     "remove_input"
    ]
   },
   "outputs": [
    {
     "name": "stdout",
     "output_type": "stream",
     "text": [
      " 54 4F 44 4F 3A 0A 09 2D 20 4D 69 6C 63 68 0A 09 2D 20 4B 61 66 66 65 65"
     ]
    }
   ],
   "source": [
    "teil_b_s = \"TODO:\\n\\t- Milch\\n\\t- Kaffee\"\n",
    "for i in teil_b_s:\n",
    "    print(' {:02X}'.format(ord(i)), end='')\n",
    "# print()\n",
    "# print(teil_b_s)"
   ]
  },
  {
   "cell_type": "markdown",
   "metadata": {},
   "source": [
    "### Aufgabenteil C"
   ]
  },
  {
   "cell_type": "markdown",
   "metadata": {},
   "source": [
    "Schauen Sie sich die folgenden beiden Datein an. Nutzen Sie hierzu zunächst einen Texteditor ihrer Wahl – die meisten Betriebssysteme bringen von Haus aus einen mit. Übrigens, der Inhalt ist ein Zitat eines berühmten und für diese Vorlesung wichtigen Bauingenieurs.\n",
    "\n",
    "* [Textdatei 1](beispieltext_1.txt)\n",
    "* [Textdatei 2](beispieltext_2.txt)\n",
    "\n",
    "Beantworten Sie nun folgende Fragen:\n",
    "\n",
    "1. Schauen Sie sich die erste Datei in einem sogenannten Hex-Editor an. Hierzu können Sie auch die Webseite [HexEd.it](https://hexed.it/) verwenden. Erkennen Sie die Darstellung aus dem Texteditor wieder?\n",
    "1. Welche Dateigröße haben die beiden Dateien? \n",
    "1. Wie hängt die Dateigröße mit der Anzahl der gespeicherten Zeichen zusammen? Warum ist der Zusammenhang für die zweite Beispieldatei nicht gegeben? Tipp: Hierbei kann Ihnen ein Hex-Editor weiterhelfen.\n",
    "1. Der gleiche Textinhalt ist auch in [dieser Datei](beispieltext_3.docx) gespeichert. Diese ist aber keine Textdatei, sondern eine [Office Open XML](https://de.wikipedia.org/wiki/Office_Open_XML) Datei, wie sie beispielsweise von Micorsoft Word verwendet wird. Warum ist diese größer als die obigen Dateien (mit dem gleichen Textinhalt)?"
   ]
  },
  {
   "cell_type": "markdown",
   "metadata": {},
   "source": [
    "## Lösungshinweise"
   ]
  },
  {
   "cell_type": "markdown",
   "metadata": {},
   "source": [
    "Falls Sie Probleme beim Lösen der Aufgaben haben oder Ihre Lösung prüfen wollen, finden Sie hier einige Hinweise:\n",
    "\n",
    "* Zu Teil A: Es sind drei Worte, wovon zwei thematisch zum Lehrstuhl *Computational Civil Engineering* passen.\n",
    "* Zu Teil B: Es sind drei Zeilen, wobei die Mischung der letzten beiden ein leckeres Getränk ergeben.\n",
    "* Zu Teil C, Frage 2: Deutlich weniger als 1 kB.\n",
    "* Zu Teil C, Frage 3: Wieviele Byte werden von einem ASCII kodierten Zeichen belegt?"
   ]
  },
  {
   "cell_type": "markdown",
   "metadata": {
    "tags": [
     "remove_cell"
    ]
   },
   "source": [
    "## Lösungsvorschlag"
   ]
  },
  {
   "cell_type": "markdown",
   "metadata": {
    "tags": [
     "remove_cell"
    ]
   },
   "source": [
    "Hier steht der beschriebene Lösungsweg."
   ]
  }
 ],
 "metadata": {
  "kernelspec": {
   "display_name": "Python 3",
   "language": "python",
   "name": "python3"
  },
  "language_info": {
   "codemirror_mode": {
    "name": "ipython",
    "version": 3
   },
   "file_extension": ".py",
   "mimetype": "text/x-python",
   "name": "python",
   "nbconvert_exporter": "python",
   "pygments_lexer": "ipython3",
   "version": "3.7.5"
  }
 },
 "nbformat": 4,
 "nbformat_minor": 4
}
