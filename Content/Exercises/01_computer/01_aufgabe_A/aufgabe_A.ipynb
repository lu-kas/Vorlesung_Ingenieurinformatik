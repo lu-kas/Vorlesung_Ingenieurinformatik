{
 "cells": [
  {
   "cell_type": "markdown",
   "metadata": {
    "tags": [
     "remove_cell"
    ]
   },
   "source": [
    "<div style=\"width: 100%; overflow: hidden;\">\n",
    "    <div style=\"width: 500px; float: left;\"> \n",
    "        <h2>Ingenieurinformatik – Übung</h2>\n",
    "        Lehrstuhl <b>Computational Civil Engineering</b><br>\n",
    "        Kontakt: <a href = \"mailto: cce-inginf@uni-wuppertal.de\">Email senden</a> | Individuelle Kontakte siehe Webseite des Lehrstuhls<br>\n",
    "        Links: \n",
    "        <a href=\"cce.uni-wuppertal.de/inginf\">Vorlesungsskript</a> | \n",
    "        <a href=\"cce.uni-wuppertal.de\">Webseite des Lehrstuhls</a>\n",
    "    </div>\n",
    "    <div style=\"float:right;\"> \n",
    "        <img src=\"logo_cce_combined.png\" style=\"width:150px;\"/>\n",
    "    </div>\n",
    "</div>"
   ]
  },
  {
   "cell_type": "markdown",
   "metadata": {
    "tags": [
     "remove_cell"
    ]
   },
   "source": [
    "# Aufgabe 0.1 – Aaufgabe A"
   ]
  },
  {
   "cell_type": "markdown",
   "metadata": {},
   "source": [
    "Hier steht der einführende Text."
   ]
  },
  {
   "cell_type": "markdown",
   "metadata": {},
   "source": [
    "## Grundlagen und Beispiele"
   ]
  },
  {
   "cell_type": "markdown",
   "metadata": {},
   "source": [
    "Beispiel oder Hinweise:"
   ]
  },
  {
   "cell_type": "code",
   "execution_count": 1,
   "metadata": {},
   "outputs": [
    {
     "name": "stdout",
     "output_type": "stream",
     "text": [
      "direkte Ausgabe: range(0, 10)\n",
      "Ausgabe als Liste: [0, 1, 2, 3, 4, 5, 6, 7, 8, 9]\n"
     ]
    }
   ],
   "source": [
    "# Beispiel\n",
    "\n",
    "a = range(10)\n",
    "print('direkte Ausgabe: {}'.format(a))\n",
    "print('Ausgabe als Liste: {}'.format(list(a)))"
   ]
  },
  {
   "cell_type": "markdown",
   "metadata": {},
   "source": [
    "## Aufgabenstellung"
   ]
  },
  {
   "cell_type": "markdown",
   "metadata": {},
   "source": [
    "Hier kommt der Aufgabentext.\n",
    "\n",
    "1. Teil A\n",
    "1. Teil B\n",
    "1. Teil C"
   ]
  },
  {
   "cell_type": "markdown",
   "metadata": {},
   "source": [
    "## Lösungshinweise"
   ]
  },
  {
   "cell_type": "markdown",
   "metadata": {},
   "source": [
    "Hier stehen Lösungshinweise. Oder auch mögliche (vorbereitete) Ausgaben, ohne Lösungsweg."
   ]
  },
  {
   "cell_type": "code",
   "execution_count": 6,
   "metadata": {},
   "outputs": [
    {
     "name": "stdout",
     "output_type": "stream",
     "text": [
      "** Ihre Ausgabe **\n",
      "None\n",
      "** Musterausgabe **\n",
      "25\n"
     ]
    }
   ],
   "source": [
    "# Hier steht Ihre Funktion\n",
    "def meine_funktion(a):\n",
    "    # Aufgaben der Funktion\n",
    "    return None\n",
    "\n",
    "res = meine_funktion(5)\n",
    "\n",
    "# Ihre Ausgabe\n",
    "print('** Ihre Ausgabe **')\n",
    "print(res)\n",
    "\n",
    "# Mögliche Ausgabe\n",
    "print('** Musterausgabe **')\n",
    "print('25')"
   ]
  },
  {
   "cell_type": "markdown",
   "metadata": {},
   "source": [
    "## Lösungsvorschlag"
   ]
  },
  {
   "cell_type": "markdown",
   "metadata": {},
   "source": [
    "Hier steht der beschriebene Lösungsweg."
   ]
  },
  {
   "cell_type": "code",
   "execution_count": 7,
   "metadata": {},
   "outputs": [
    {
     "name": "stdout",
     "output_type": "stream",
     "text": [
      "** Ihre Ausgabe **\n",
      "25\n",
      "** Musterausgabe **\n",
      "25\n"
     ]
    }
   ],
   "source": [
    "# Hier steht Ihre Funktion\n",
    "def meine_funktion(a):\n",
    "    # Aufgaben der Funktion\n",
    "    return a*a\n",
    "\n",
    "res = meine_funktion(5)\n",
    "\n",
    "# Ihre Ausgabe\n",
    "print('** Ihre Ausgabe **')\n",
    "print(res)\n",
    "\n",
    "# Mögliche Ausgabe\n",
    "print('** Musterausgabe **')\n",
    "print('25')"
   ]
  }
 ],
 "metadata": {
  "kernelspec": {
   "display_name": "Python 3",
   "language": "python",
   "name": "python3"
  },
  "language_info": {
   "codemirror_mode": {
    "name": "ipython",
    "version": 3
   },
   "file_extension": ".py",
   "mimetype": "text/x-python",
   "name": "python",
   "nbconvert_exporter": "python",
   "pygments_lexer": "ipython3",
   "version": "3.8.2"
  }
 },
 "nbformat": 4,
 "nbformat_minor": 4
}
