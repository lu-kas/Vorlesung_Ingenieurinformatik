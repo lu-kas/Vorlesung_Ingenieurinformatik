{
 "cells": [
  {
   "cell_type": "markdown",
   "metadata": {
    "tags": [
     "remove_cell"
    ]
   },
   "source": [
    "<div style=\"width: 100%; overflow: hidden;\">\n",
    "    <div style=\"width: 500px; float: left;\"> \n",
    "        <h1>Ingenieurinformatik – Übung</h1>\n",
    "        Lehrstuhl <b>Computational Civil Engineering</b><br>\n",
    "        Kontakt: <a href = \"mailto: cce-inginf@uni-wuppertal.de\">Email senden</a> | Individuelle Kontakte siehe Webseite des Lehrstuhls<br>\n",
    "        Links: \n",
    "        <a href=\"cce.uni-wuppertal.de/inginf\">Vorlesungsskript</a> | \n",
    "        <a href=\"cce.uni-wuppertal.de/\">Webseite des Lehrstuhls</a>\n",
    "    </div>\n",
    "    <div style=\"float:right;\"> \n",
    "        <img src=\"logo_cce_combined.png\" style=\"width:150px;\"/>\n",
    "    </div>\n",
    "</div>"
   ]
  },
  {
   "cell_type": "markdown",
   "metadata": {
    "tags": [
     "remove_cell"
    ]
   },
   "source": [
    "# Aufgabe X.X – Zahlendarstellung"
   ]
  },
  {
   "cell_type": "markdown",
   "metadata": {},
   "source": [
    "## Binäre Zahlen (Ganze Zahlen)"
   ]
  },
  {
   "cell_type": "markdown",
   "metadata": {},
   "source": [
    "##### 1) Wandeln Sie folgende Dezimalzahlen in Binärzahlen um. Beachten Sie dabei den gewünschten Datentyp.  \n",
    "\n",
    "* 111<sub>10</sub> -> 8 bit unsigned \n",
    "* 503<sub>10</sub> -> 16 bit signed\n",
    "* 503<sub>10</sub> -> 16 bit unsigned\n",
    "* -112<sub>10</sub> -> 8 bit signed\n",
    "* 128<sub>10</sub> -> 8 bit signed \n"
   ]
  },
  {
   "cell_type": "markdown",
   "metadata": {},
   "source": [
    "Lösung zu 1):\n",
    "\n",
    "* 0110 1111<sub>2</sub>\n",
    "* 0000 0000 0001 1111 0111<sub>2</sub>\n",
    "* 0000 0000 0001 1111 0111<sub>2</sub>\n",
    "* 1111 0000<sub>2</sub>\n",
    "* nicht möglich -> Maximale Zahl 127\n"
   ]
  },
  {
   "cell_type": "markdown",
   "metadata": {},
   "source": [
    "## Binäre Zahlen (Gleitkommazahlen )\n",
    "\n",
    "Die Darstellung von Gleitkommzahlen in binären Systemen kann auf unterschiedliche Weisen erfolgen. Die mit Abstand weitverbreitetse Methode wird im IEEE754 Standard beschrieben. Die hier verwendeten Beispiele folgen dem Verfahren des IEEE754 Standards."
   ]
  },
  {
   "cell_type": "markdown",
   "metadata": {},
   "source": [
    "##### 2) Erklären Sie den unterschied zwischen single- und double-precision in einem Satz. Informationen dazu finden Sie auf gängigen IT relevanten Internetseiten (bspw. https://stackoverflow.com/)"
   ]
  },
  {
   "cell_type": "markdown",
   "metadata": {},
   "source": [
    "Lösung zu 2):\n",
    "```\n",
    "Unterschied liegt in der Anzahl der Bits. Single = 32 bit; Double = 64 bit.\n",
    "```"
   ]
  },
  {
   "cell_type": "markdown",
   "metadata": {},
   "source": [
    "###### 3) Wandeln Sie folgende binäre Gleitkommazahlen (8 Bit) in ihr dezimales Äquivalent um.\n",
    "\n",
    "* 0 101 0100<sub>2</sub>\n",
    "* 1 110 0010<sub>2</sub>\n"
   ]
  },
  {
   "cell_type": "markdown",
   "metadata": {},
   "source": [
    "#### Beispiel zu 3)\n",
    "```1 011 1001```\n",
    "\n",
    "1. Unterteilen Sie die Bits in drei Gruppen (Unterteilung von links nach rechts):\n",
    "    - Bit 7 -> Vorzeichen Bit (S)\n",
    "    - Bit 6 bis 4 -> Exponent (E)\n",
    "    - Bit 3 bis 0 -> Mantisse (M)\n",
    "<br/><br/>\n",
    "2. Bestimmen Sie das Vorzeichen der Gleitkommazahl \n",
    "    - -> Vorzeichen Bit = ```1``` => Negativ\n",
    "    - -> Vorzeichen Bit = ```0``` => Positiv  \n",
    "\n",
    "  Hier im Beispiel ist die Dezimalzahl negativ.\n",
    "<br/><br/> \n",
    "3. Berechnen Sie den Exponenten indem Sie die binäre Zahl in das Dezimalsystem umwandeln.  \n",
    "   ```011```<sub>2</sub>``` = 3```<sub>10</sub>\n",
    "<br/><br/> \n",
    "\n",
    "4. Wandeln Sie die die Mantisse zur Basis 10 um.  \n",
    "   ```1001```  \n",
    "   Jedes Bit innerhalb der Mantisse steht für einen Wert zur Basis 2. Der Exponent beginnt bei -1 und nimmt von links nach rechts jeweils um 1 ab.  \n",
    "   $\\mathrm{Bit\\;3}: 2^{-1}$  \n",
    "   $\\mathrm{Bit\\;2}: 2^{-2}$  \n",
    "   $\\mathrm{Bit\\;1}: 2^{-3}$  \n",
    "   $\\mathrm{Bit\\;0}: 2^{-4}$  \n",
    "   Anschließend wird die Summe der Werte gebildet, dessen Bits aktiv, d.h. den Wert ein besitzen.\n",
    "   Für das obige Beispiel gilt demnach:\n",
    "   <br/><br/> \n",
    "   $$1001_2 = 1\\cdot 2^{-1} + 0\\cdot 2^{-2} + 0\\cdot 2^{-3} + 1\\cdot 2^{-4} = 0.5625$$\n",
    "<br/><br/> \n",
    "5. Setzen Sie die soeben berechneten Zahlen in folgende Formel ein:\n",
    "<br/><br/> \n",
    "$$-1^{S} \\cdot (1.0+M) \\cdot 2^{E-3}$$\n",
    "Hier im Beispiel gilt daher:\n",
    "<br/><br/> \n",
    "$$-1^{1} \\cdot (1.0+0.5625) \\cdot 2^{3-3}=1.5625$$\n",
    "<br/><br/> \n",
    "\n",
    "*Dieses Verfahren kann auf jede Beliebige Bitanzahl erweiter werden. Die Aufteilung bei 32 Bits bspw. ist: S = >1 Bit, E = 8 Bits und M = 23 Bits. Ebenso muss dann der Subtrahend angepasst werden. Im Fall von 32 Bit beträgt dieser 127.*"
   ]
  },
  {
   "cell_type": "markdown",
   "metadata": {},
   "source": [
    "Lösung zu 3):\n",
    "* ```1 101 0100```<sub>2</sub> = -5.0<sub>10</sub>\n",
    "* ```0 110 0011```<sub>2</sub> = 9.5<sub>10</sub>"
   ]
  },
  {
   "cell_type": "markdown",
   "metadata": {},
   "source": [
    "##### 4) Wandeln Sie folgende Dezimalzahlen in ihr binäres Äquivalent. \n",
    "* 3.0<sub>10</sub>\n",
    "* -2.5<sub>10</sub>"
   ]
  },
  {
   "cell_type": "markdown",
   "metadata": {},
   "source": [
    "#### Beispiel zu 4)\n",
    "```5.0```<sub>10</sub>\n",
    "\n",
    "Formel:\n",
    "<br/><br/> \n",
    "$$-1^{S} \\cdot (1.0+M) \\cdot 2^{E-3}$$\n",
    "<br/><br/> \n",
    "1. Finden Sie einen Exponenten E, damit das Ergebnis von $2^{E-3}$ eine Dezimalzahl ergibt, welche durch $(1.0+M)$\n",
    "darstellbar ist.  \n",
    "Hier gilt $E=5$, daraus folgt $2^{5-3}=4$. Teilt man nun diesen Wert durch die zu umwandelnde Zahl erhält man $5/4 = 1.25$.\n",
    "<br/><br/> \n",
    "2. Umwandlung der Dezimalzahl in die Mantisse:  \n",
    "$(1.0+M) = 1.25$ daraus folgt $M=0.25$\n",
    "<br/><br/> \n",
    "3. Darstellung in Binär:  \n",
    "```0 101 0100```<sub>2</sub>  \n",
    "```S  E   M```<sub></sub>  \n"
   ]
  },
  {
   "cell_type": "markdown",
   "metadata": {},
   "source": [
    "Lösung zu 4):\n",
    "  \n",
    "* ```0 100 1000```<sub>2</sub> \n",
    "* ```1 100 0100```<sub>2</sub> "
   ]
  },
  {
   "cell_type": "markdown",
   "metadata": {},
   "source": [
    "##### 5) Was ist der Grund für das folgende Phänomen?\n",
    "0.1 + 0.2 = 0.30000000000000004"
   ]
  },
  {
   "cell_type": "markdown",
   "metadata": {},
   "source": [
    "Lösung:\n",
    "\n",
    "```\n",
    "Eine Zahl wie 0.1 kann im IEEE754 Format nicht exakt angenähert werden:\n",
    "0.10000000149\n",
    "\n",
    "Gleiches gilt für 0.2:\n",
    "0.20000000298\n",
    "\n",
    "Aufgrund dieser Ungenauigkeit ist die Addtion von 0.1 und 0.2 nicht exakt 0.3.\n",
    "```"
   ]
  },
  {
   "cell_type": "code",
   "execution_count": null,
   "metadata": {},
   "outputs": [],
   "source": []
  }
 ],
 "metadata": {
  "kernelspec": {
   "display_name": "Python 3",
   "language": "python",
   "name": "python3"
  },
  "language_info": {
   "codemirror_mode": {
    "name": "ipython",
    "version": 3
   },
   "file_extension": ".py",
   "mimetype": "text/x-python",
   "name": "python",
   "nbconvert_exporter": "python",
   "pygments_lexer": "ipython3",
   "version": "3.7.5"
  }
 },
 "nbformat": 4,
 "nbformat_minor": 4
}
