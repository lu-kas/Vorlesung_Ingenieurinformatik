{
 "cells": [
  {
   "cell_type": "markdown",
   "metadata": {},
   "source": [
    "# Computer"
   ]
  },
  {
   "cell_type": "markdown",
   "metadata": {},
   "source": [
    "**[1.1 – Zahlendarstellung](./01_zahlendarstellung/zahlendarstellung)**\n",
    "\n",
    "In dieser Aufgabe wird die digitale Darstellung von ganzen und reellen Zahlen vertieft. Insbesondere soll die Umwandlung von reellen Zahlen in Gleitkommazahlen verdeutlicht und die Grenzen der digitalen Darstellung illustriert werden."
   ]
  },
  {
   "cell_type": "markdown",
   "metadata": {},
   "source": [
    "**[1.2 – Darstellung von Zeichen](./02_zeichendarstellung/zeichendarstellung)**\n",
    "\n",
    "Zur Speicherung und Darstellung von Text sind Zeichen notwendig. Diese Umfassen die Buchstaben des Alphabets, Ziffern als auch Sonderzeichen. In dieser Aufgabe wird der Umgang mit der Zeichendarstellung vertieft."
   ]
  },
  {
   "cell_type": "markdown",
   "metadata": {},
   "source": [
    "**[1.3 - Intervallschachtelung](./03_intervallschachtelung/intervallschachtelung)**\n",
    "\n",
    "Die Intervallschachtelung ist ein einfacher Algorithmus um Nullstellen einer Funktion zu finden. In dieser Aufgabe wird der Algorithmus formal vorgestellt und auf eine nicht-lineare Funktion angewendet."
   ]
  },
  {
   "cell_type": "markdown",
   "metadata": {},
   "source": [
    "**[1.4 - Sieb von Eratosthenes](./04_eratosthenes/eratosthenes)**\n",
    "\n",
    "Das Sieb von Eratosthenes ist ein Algorithmus, um alle Primzahlen bis zu einer gewissen Grenze zu finden. In dieser Aufgabe wird der Algorithmus bis zur Zahl 100 angewendet. "
   ]
  },
  {
   "cell_type": "markdown",
   "metadata": {},
   "source": [
    "**[1.5 – Größter gemeinsamer Teiler](./05_ggt/ggt)**\n",
    "\n",
    "Der größte gemeinsamer Teiler (ggT) ist ein mathematischer Begriff und bezeichnet die gemeinsame größte natürliche Zahl, durch welche sich zwei Zahlen ohne Rest teilen lassen. In dieser Aufgabe wird ein Algorithmus zum finden des ggT vorgestellt und angewandt. "
   ]
  }
 ],
 "metadata": {
  "kernelspec": {
   "display_name": "Python 3",
   "language": "python",
   "name": "python3"
  },
  "language_info": {
   "codemirror_mode": {
    "name": "ipython",
    "version": 3
   },
   "file_extension": ".py",
   "mimetype": "text/x-python",
   "name": "python",
   "nbconvert_exporter": "python",
   "pygments_lexer": "ipython3",
   "version": "3.8.2"
  }
 },
 "nbformat": 4,
 "nbformat_minor": 4
}
