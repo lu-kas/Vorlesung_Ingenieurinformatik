{
 "cells": [
  {
   "cell_type": "markdown",
   "metadata": {},
   "source": [
    "# Computer"
   ]
  },
  {
   "cell_type": "markdown",
   "metadata": {},
   "source": [
    "**[1.1 – Zahlendarstellung](./01_zahlendarstellung/zahlendarstellung)**\n",
    "\n",
    "In dieser Aufgabe wird die digitale Darstellung von ganzen und reellen Zahlen vertieft. Insbesondere soll die Umwandlung von reellen Zahlen in Gleitkommazahlen verdeutlicht und die Grenzen der digitalen Darstellung illustriert werden."
   ]
  },
  {
   "cell_type": "markdown",
   "metadata": {},
   "source": [
    "**[1.2 – Darstellung von Zeichen](./02_zeichendarstellung/zeichendarstellung)**\n",
    "\n",
    "Zur Speicherung und Darstellung von Text sind Zeichen notwendig. Diese Umfassen die Buchstaben des Alphabets, Ziffern als auch Sonderzeichen. In dieser Aufgabe wird der Umgang mit der Zeichendarstellung vertieft."
   ]
  },
  {
   "cell_type": "code",
   "execution_count": null,
   "metadata": {},
   "outputs": [],
   "source": []
  }
 ],
 "metadata": {
  "kernelspec": {
   "display_name": "Python 3",
   "language": "python",
   "name": "python3"
  },
  "language_info": {
   "codemirror_mode": {
    "name": "ipython",
    "version": 3
   },
   "file_extension": ".py",
   "mimetype": "text/x-python",
   "name": "python",
   "nbconvert_exporter": "python",
   "pygments_lexer": "ipython3",
   "version": "3.8.2"
  }
 },
 "nbformat": 4,
 "nbformat_minor": 4
}
