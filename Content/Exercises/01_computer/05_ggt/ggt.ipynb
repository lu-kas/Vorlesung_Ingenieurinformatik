{
 "cells": [
  {
   "cell_type": "markdown",
   "metadata": {
    "tags": [
     "remove_cell"
    ]
   },
   "source": [
    "<div style=\"width: 100%; overflow: hidden;\">\n",
    "    <div style=\"width: 500px; float: left;\"> \n",
    "        <h1>Ingenieurinformatik – Übung</h1>\n",
    "        Lehrstuhl <b>Computational Civil Engineering</b><br>\n",
    "        Kontakt: <a href = \"mailto: cce-inginf@uni-wuppertal.de\">Email senden</a> | Individuelle Kontakte siehe Webseite des Lehrstuhls<br>\n",
    "        Links: \n",
    "        <a href=\"cce.uni-wuppertal.de/inginf\">Vorlesungsskript</a> | \n",
    "        <a href=\"cce.uni-wuppertal.de\">Webseite des Lehrstuhls</a>\n",
    "    </div>\n",
    "    <div style=\"float:right;\"> \n",
    "        <img src=\"logo_cce_combined.png\" style=\"width:150px;\"/>\n",
    "    </div>\n",
    "</div>"
   ]
  },
  {
   "cell_type": "markdown",
   "metadata": {
    "tags": [
     "remove_cell"
    ]
   },
   "source": [
    "# Aufgabe 1.5 – Größter gemeinsamer Teiler (ggT)"
   ]
  },
  {
   "cell_type": "markdown",
   "metadata": {},
   "source": [
    "Der größte gemeinsamer Teiler (ggT) ist ein mathematischer Begriff und bezeichnet die gemeinsame größte natürliche Zahl, durch welche sich zwei Zahlen ohne Rest teilen lassen. In dieser Aufgabe wird ein Algorithmus zum finden des ggT vorgestellt und angewandt. So ist bspw. der ggT von $12$ und $18$, die Zahl $6$. Der ggT wird unter anderem in der Bruchrechnung verwendet, beim Kürzen eines Bruches. \n",
    "\n",
    "Die Bestimmung des ggT kann durch eine Primfaktorzerlegung oder durch den euklidischen Algorithmus erfolgen. Nachfolgend wird die Primfaktorzerlegung genutzt. Bei der Primfaktorzerlegung werden, wie der Name schon sagt, die Zahl in ein Produkt aus Primzahlen zerlegt.\n",
    "\n",
    "Bsp.:\n",
    "\n",
    "$12 = 2^{\\color{red}2} \\cdot 3^{\\color{red}1}$\n",
    "\n",
    "$18 = 2^{\\color{green}1} \\cdot 3^{\\color{green}2} $\n",
    "\n",
    "Mit Hilfe der Primfaktorzerlegung lässt sich nun einfach ablesen, was der ggT von $12$ und $18$ ist, indem man die Primfaktoren miteinander multipliziert, die in beiden Zerlegungen vorkommen. In diesem Fall kommen sowohl $2$ als auch $3$ einmal in beiden Zerlegungen vor und damit ist der ggT $2^{\\color{green}1} \\cdot 3^{\\color{red}1} = 6$. Nachfolgend ist ein Algorithmus aufgeführt, der die Bestimmung des ggT formalisiert.\n",
    "\n",
    "### Algorithmus zur Bestimmung des ggT:\n",
    "\n",
    "1. Bestimme die Primfaktorzerlegung für beide Zahlen.<br>\n",
    "    A. Starte mit der kleinsten Primzahl.<br>\n",
    "    B. Teile die erste Zahl wiederholt durch diese Primzahl, bis sie sich nicht mehr ganzzahlig durch diese teilen lässt und notiere, wie oft diese Division durchgeführt wurde.<br>\n",
    "    C. Wechsel zur nächst größeren Primzahl.<br>\n",
    "    D. Wiederhole die vorherigen Schritt B und C, nur anstelle der ursprünglichen Zahl, nimm das Ergebnis der vorherigen Rechnung als neuen Start für die Division. Tue dies, solange das Ergebnis größer 1 ist.<br>\n",
    "    E. Wiederhole die Schritte A-D für die zweite Zahl.<br>\n",
    "    \n",
    "2. Potenziere jede Primzahl mit der kleineren der beiden notierten Anzahlen ganzzahliger Divisionen.\n",
    "\n",
    "3. Multipliziere die errechneten Ergebnisse aus Schritt 2, um den ggT zu erhalten.\n",
    "\n",
    "Eine einfache Möglichkeit die Ergebnisse aus Schritt 1.B und 2 aufzuschreiben, wäre beispielweise in Form einer Tabelle:\n",
    "\n",
    "| Primzahlen | Zahl1 | Zahl2 | Ergebnis |\n",
    "| --- | --- | --- | --- |\n",
    "| 2 | ... | ... |  ... |\n",
    "| 3 | ... | ... | ... |\n",
    "| 5 | ... | ... | ... |\n",
    "| ... | ... | ... | ... |"
   ]
  },
  {
   "cell_type": "markdown",
   "metadata": {},
   "source": [
    "## Beispiel:"
   ]
  },
  {
   "cell_type": "markdown",
   "metadata": {},
   "source": [
    "Primfaktorzerlegung von 20:\n",
    "Zu Lesezwecken ist p die Primzahl und x (=20) die zu zerteilende Zahl.\n",
    "\n",
    "A. p = 2<br>\n",
    "B. x (20) ist durch p (2) zweimal ohne Rest teilbar, das neue x ist jetzt $x = 20 / 2 / 2 = 5$<br>\n",
    "C. Wechsel zur nächsten Primzahl p = 3\n",
    "D. x (5) ist nicht 1, also Schritt B und C wiederholen<br>\n",
    "\n",
    "B. x (5) ist durch p (3) keinmal ohne Rest teilbar, x bleibt 5<br>\n",
    "C. Wechsel zur nächsten Primzahl p = 5<br>\n",
    "D. x (5) ist nicht 1, also Schritt B und C wiederholen<br>\n",
    "\n",
    "B. x (5) ist durch p (5) einmal ohne Rest teilbar, $x = 5/5 = 1$<br>\n",
    "C. Wechsel zur nächsten Primzahl p = 7<br>\n",
    "D. x ist 1, somit ist die Primfaktorzerlegung abgeschlossen\n",
    "\n",
    "Die daraus resultierende Ergebnisse, eingetragen in einer Tabelle, sähen so aus:\n",
    "\n",
    "| Primzahlen | 20 |\n",
    "| --- | --- |\n",
    "| 2 | 2 |\n",
    "| 3 | 0 |\n",
    "| 5 | 1 |"
   ]
  },
  {
   "cell_type": "markdown",
   "metadata": {},
   "source": [
    "## Aufgabenstellung"
   ]
  },
  {
   "cell_type": "markdown",
   "metadata": {},
   "source": [
    "Führen Sie den Algorithmus zur Bestimmung des ggT von 315 und 126 Schritt für Schritt aus und notieren Sie Ihre Ergebnisse in einer Tabelle.\n",
    "\n",
    "Testen Sie Ihr Ergebnis, indem Sie die beiden Zahlen durch den ggT teilen. Sollte bei einer der beiden Divisionen ein Rest bleiben, überprüfen Sie deren Primfaktorzerlegung. Sollte Ihr ggT beide Zahlen teilen, aber es nicht der größte gemeinsame Teiler sein, überprüfen Sie, ob bei Schritt 2 eine Zahl falsch übertragen wurde oder bei Schritt 3 bei der Multiplikation eine Zeile übersehen wurde."
   ]
  },
  {
   "cell_type": "markdown",
   "metadata": {},
   "source": [
    "## Lösungshinweise\n",
    "\n",
    "Sie können Ihre Ergebnisse nach Schritt 1 kontrollieren indem Sie die Zahlen wieder miteinander multiplizieren. Die Zahlen der Spalte sollten entsprechend wieder ihre Ursprungszahl ergeben.\n",
    "\n",
    "| Primzahlen | 20 |\n",
    "| --- | --- |\n",
    "| 2 | 2 |\n",
    "| 3 | 0 |\n",
    "| 5 | 1 |\n",
    "\n",
    "Kontrolle: $2^2 \\cdot 3^0 \\cdot 5^1 = 20$"
   ]
  },
  {
   "cell_type": "markdown",
   "metadata": {},
   "source": [
    "## Lösung"
   ]
  },
  {
   "cell_type": "markdown",
   "metadata": {},
   "source": [
    "Nach der Primfaktorzerlegung sieht die Tabelle folgendermaßen aus:\n",
    "\n",
    "| Primzahlen | 315 | 126 |\n",
    "| --- | --- | --- |\n",
    "| 2 | 0 | 1 |\n",
    "| 3 | 2 | 2 |\n",
    "| 5 | 1 | 0 |\n",
    "| 7 | 1 | 1 |\n",
    "\n",
    "$315 = 2^{\\color{red}0} \\cdot 3^{\\color{red}2} \\cdot 5^{\\color{red}1} \\cdot 7^{\\color{red}1}$ oder alternativ $315 = 3^2 \\cdot 5^1 \\cdot 7^1$\n",
    "\n",
    "$126 = 2^{\\color{green}1} \\cdot 3^{\\color{green}2} \\cdot 5^{\\color{green}0} \\cdot 7^{\\color{green}1}$ oder alternativ $126 = 2^1 \\cdot 3^2 \\cdot 7^1$\n",
    "\n",
    "Die aus Schritt 2 resultierende Tabelle sähe so aus.\n",
    "\n",
    "| Primzahlen | 315 | 126 | Ergebnis |\n",
    "| --- | --- | --- | --- |\n",
    "| $2$ | $0$ | $1$ | $2^0$ |\n",
    "| $3$ | $2$ | $2$ | $3^2$ |\n",
    "| $5$ | $1$ | $0$ | $5^0$ |\n",
    "| $7$ | $1$ | $1$ | $7^1$ |\n",
    "\n",
    "Entsprechend ergibt sich als ggT von 315 und 126: $2^{\\color{red}0} \\cdot 3^2 \\cdot 5^{\\color{green}0} \\cdot 7^1 = 3^2 \\cdot 7 = 63$"
   ]
  }
 ],
 "metadata": {
  "kernelspec": {
   "display_name": "Python 3",
   "language": "python",
   "name": "python3"
  },
  "language_info": {
   "codemirror_mode": {
    "name": "ipython",
    "version": 3
   },
   "file_extension": ".py",
   "mimetype": "text/x-python",
   "name": "python",
   "nbconvert_exporter": "python",
   "pygments_lexer": "ipython3",
   "version": "3.7.5"
  }
 },
 "nbformat": 4,
 "nbformat_minor": 4
}
