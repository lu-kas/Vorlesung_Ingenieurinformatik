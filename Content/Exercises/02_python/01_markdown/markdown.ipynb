{
 "cells": [
  {
   "cell_type": "markdown",
   "metadata": {
    "tags": [
     "remove_cell"
    ]
   },
   "source": [
    "<div style=\"width: 100%; overflow: hidden;\">\n",
    "    <div style=\"width: 500px; float: left;\"> \n",
    "        <h1>Ingenieurinformatik – Übung</h1>\n",
    "        Lehrstuhl <b>Computational Civil Engineering</b><br>\n",
    "        Kontakt: <a href = \"mailto: cce-inginf@uni-wuppertal.de\">Email senden</a> | Individuelle Kontakte siehe Webseite des Lehrstuhls<br>\n",
    "        Links: \n",
    "        <a href=\"cce.uni-wuppertal.de/inginf\">Vorlesungsskript</a> | \n",
    "        <a href=\"cce.uni-wuppertal.de/\">Webseite des Lehrstuhls</a>\n",
    "    </div>\n",
    "    <div style=\"float:right;\"> \n",
    "        <img src=\"logo_cce_combined.png\" style=\"width:150px;\"/>\n",
    "    </div>\n",
    "</div>"
   ]
  },
  {
   "cell_type": "markdown",
   "metadata": {
    "tags": [
     "remove_cell"
    ]
   },
   "source": [
    "# Aufgabe 2.1 – Markdown"
   ]
  },
  {
   "cell_type": "markdown",
   "metadata": {},
   "source": [
    "Um auch mit reinen Textdateien eine formatierte Ausgabe zu ermöglichen, kann die Formatierung mit festgelegten Zeichen und deren Anordnung erfolgen. Eine populäre Möglichkeit, welche auch in Jupyter Anwendung findet, ist Markdown."
   ]
  },
  {
   "cell_type": "markdown",
   "metadata": {},
   "source": [
    "## Grundlagen und Beispiele"
   ]
  },
  {
   "cell_type": "markdown",
   "metadata": {},
   "source": [
    "[Markdown](https://de.wikipedia.org/wiki/Markdown) wird für die Erstellung von einfachformatierten Texten und oft auch im Internet verwendet. Die angebotenen Möglichkeiten decken bereits ein breites Spektrum ab und für die Erstellung wird einzig ein Texteditor benötigt.\n",
    "\n",
    "In Jupyter-Notebooks können neben Code-Zellen auch Markdown-Zellen zur Dokumentation bzw. Beschreibung genutzt werden. Dazu muss der Zelltyp auf *Markdown* gesetzt werden, dies kann auch mit der Taste `m` erfolgen. Zum bearbeiten der Zelle kann diese per Doppelklick oder `Enter` aktiviert werden. Um den Markdown Text zu interpretieren, muss die Zelle, genauso wie beim Code, ausgeführt werden, also z.B. mit `Shift-Enter` oder `Cntr-Enter`."
   ]
  },
  {
   "cell_type": "markdown",
   "metadata": {},
   "source": [
    "Beispielsweise kann Test in **fett** und *kursiv* dargestellt werden. Dies wird durch die Verwendung von `*` ermöglicht. Dieser Satz würde in Markdown wie folgt aussehen:\n",
    "```\n",
    "Beispielsweise kann Test in **fett** und *kursiv* dargestellt werden.\n",
    "```"
   ]
  },
  {
   "cell_type": "markdown",
   "metadata": {},
   "source": [
    "## Aufgabenstellung"
   ]
  },
  {
   "cell_type": "markdown",
   "metadata": {},
   "source": [
    "## Aufgabenteil A"
   ]
  },
  {
   "cell_type": "markdown",
   "metadata": {},
   "source": [
    "Erzeugen Sie mit Markdown folgende Ausgabe. Der blau gekennzeichnete Link soll zur Webseite der Bergischen Universität Wuppertal führen.\n",
    "\n",
    "![](./md_text.png)"
   ]
  },
  {
   "cell_type": "markdown",
   "metadata": {
    "tags": [
     "remove_cell"
    ]
   },
   "source": [
    "#### Lösung"
   ]
  },
  {
   "cell_type": "markdown",
   "metadata": {
    "tags": [
     "remove_cell"
    ]
   },
   "source": [
    "## Vorstellung\n",
    "Mein Name ist **Max Mustermann** und ich arbeite an der [Bergischen Universität Wuppertal](https://www.uni-wuppertal.de/). \n",
    "\n",
    "## Aufgaben\n",
    "Meine *eigentlichen* Aufgaben sind:\n",
    "\n",
    "* Lehre\n",
    "* Forschung\n",
    "* Administration\n",
    "\n",
    "## Programmierung\n",
    "\n",
    "Ich programmiere gern mit Python und das sind meine liebsten Programmzeilen:\n",
    "\n",
    "```\n",
    "mein_text = \"Hallo Welt!\"\n",
    "print( mein_text )\n",
    "```\n"
   ]
  },
  {
   "cell_type": "markdown",
   "metadata": {},
   "source": [
    "## Aufgabenteil B -- Optional"
   ]
  },
  {
   "cell_type": "markdown",
   "metadata": {},
   "source": [
    "Mathematische Ausdrücke können in Markdown nicht dargestellt werden. Dazu unterstützten jedoch viele Markdown-Interpreter das Textsatzsystem [LaTeX](https://de.wikipedia.org/wiki/LaTeX).\n",
    "\n",
    "Um einen mathematischen Ausdruck hinzuzufügen, gibt es zwei Möglichkeiten:\n",
    "* als Teil einer Zeile, eingeschlossen durch `$`\n",
    "* oder als eigenständige Zeile, eingeschlossen durch `$$`.\n",
    "\n",
    "[Kurzeinführung in mathematische Ausdrücke in LaTex](https://de.wikibooks.org/wiki/LaTeX-Kompendium:_F%C3%BCr_Mathematiker)"
   ]
  }
 ],
 "metadata": {
  "kernelspec": {
   "display_name": "Python 3",
   "language": "python",
   "name": "python3"
  },
  "language_info": {
   "codemirror_mode": {
    "name": "ipython",
    "version": 3
   },
   "file_extension": ".py",
   "mimetype": "text/x-python",
   "name": "python",
   "nbconvert_exporter": "python",
   "pygments_lexer": "ipython3",
   "version": "3.8.2"
  }
 },
 "nbformat": 4,
 "nbformat_minor": 4
}
