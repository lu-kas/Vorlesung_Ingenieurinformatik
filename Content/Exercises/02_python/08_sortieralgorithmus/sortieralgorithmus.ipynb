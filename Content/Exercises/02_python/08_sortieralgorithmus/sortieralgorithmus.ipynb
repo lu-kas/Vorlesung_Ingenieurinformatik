{
 "cells": [
  {
   "cell_type": "markdown",
   "metadata": {
    "tags": [
     "remove_cell"
    ]
   },
   "source": [
    "<div style=\"width: 100%; overflow: hidden;\">\n",
    "    <div style=\"width: 500px; float: left;\"> \n",
    "        <h1>Ingenieurinformatik – Übung</h1>\n",
    "        Lehrstuhl <b>Computational Civil Engineering</b><br>\n",
    "        Kontakt: <a href = \"mailto: cce-inginf@uni-wuppertal.de\">Email senden</a> | Individuelle Kontakte siehe Webseite des Lehrstuhls<br>\n",
    "        Links: \n",
    "        <a href=\"cce.uni-wuppertal.de/inginf\">Vorlesungsskript</a> | \n",
    "        <a href=\"cce.uni-wuppertal.de/\">Webseite des Lehrstuhls</a>\n",
    "    </div>\n",
    "    <div style=\"float:right;\"> \n",
    "        <img src=\"logo_cce_combined.png\" style=\"width:150px;\"/>\n",
    "    </div>\n",
    "</div>"
   ]
  },
  {
   "cell_type": "markdown",
   "metadata": {
    "tags": [
     "remove_cell"
    ]
   },
   "source": [
    "# Aufgabe 2.8 – Sortieralgorithmus"
   ]
  },
  {
   "cell_type": "markdown",
   "metadata": {},
   "source": [
    "Mittels Schleifen und Abzweigungen wird eine Funktion zum Sortieren von Zahlenlisten implementiert."
   ]
  },
  {
   "cell_type": "markdown",
   "metadata": {},
   "source": [
    "## Aufgabenstellung"
   ]
  },
  {
   "cell_type": "markdown",
   "metadata": {},
   "source": [
    "### Aufgabenteil A"
   ]
  },
  {
   "cell_type": "markdown",
   "metadata": {},
   "source": [
    "Implementieren Sie die den Bubblesort Algorithmus als eine eigene Funktion. Sie bekommt als Argument eine Liste, welche nach der Größe ihrer Elemente sortiert werden soll, und das Ergebnis zurückgibt. Als optionaler Parameter soll eine Ausgabe gesteuert werden, welche den Zwischenzustand der zu sortierenden Liste ausgibt.\n",
    "\n",
    "Testen Sie ihre Funktion anhand folgender Zufallszahlen:\n",
    "\n",
    "* 9, 74, 90, 23, 69, 10, 72, 93, 99, 91, 45, 81, 4, 71, 14, 16, 50, 53, 82, 47, 40, 44, 4, 30, 32, 73, 99, 93, 65, 36\n",
    "* 69, 70, 93, 25, 85, 68, 73, 97, 22, 35, 41, 99, 22, 33, 56, 95, 86, 45, 24, 64, 73, 60, 53, 40, 94, 12, 97, 18, 75, 8\n",
    "* 84, 51, 4, 8, 28, 55, 64, 25, 1, 47, 8, 66, 12, 60, 28, 18, 89, 37, 2, 48, 92, 74, 78, 28, 35, 87, 88, 51, 57, 6\n"
   ]
  },
  {
   "cell_type": "markdown",
   "metadata": {},
   "source": [
    "#### Lösungshinweis"
   ]
  },
  {
   "cell_type": "markdown",
   "metadata": {},
   "source": [
    "Um zu prüfen ob Ihre Funktion richtig arbeitet, können Sie eine weitere Funktion schreiben, welche prüft, ob eine Liste sortiert ist."
   ]
  },
  {
   "cell_type": "code",
   "execution_count": 1,
   "metadata": {},
   "outputs": [],
   "source": [
    "t1 = [9, 74, 90, 23, 69, 10, 72, 93, 99, 91, \n",
    "      45, 81, 4, 71, 14, 16, 50, 53, 82, 47, \n",
    "      40, 44, 4, 30, 32, 73, 99, 93, 65, 36]\n",
    "t2 = [69, 70, 93, 25, 85, 68, 73, 97, 22, 35,\n",
    "      41, 99, 22, 33, 56, 95, 86, 45, 24, 64,\n",
    "      73, 60, 53, 40, 94, 12, 97, 18, 75, 8]\n",
    "t3 = [84, 51, 4, 8, 28, 55, 64, 25, 1, 47, \n",
    "      8, 66, 12, 60, 28, 18, 89, 37, 2, 48, \n",
    "      92, 74, 78, 28, 35, 87, 88, 51, 57, 6]"
   ]
  },
  {
   "cell_type": "markdown",
   "metadata": {},
   "source": [
    "### Aufgabenteil B"
   ]
  },
  {
   "cell_type": "markdown",
   "metadata": {},
   "source": [
    "Erweitern Sie die obige Funktion um eine weitere Rückgabe. Diese soll die Anzahl der durchgeführten Vertauschungen enthalten. Untersuchen Sie wie diese Anzahl mit der Länge der zu sortierenden Liste zusammenhängt. Sie können sich auf die obigen Datensätze beschränken.  "
   ]
  }
 ],
 "metadata": {
  "kernelspec": {
   "display_name": "Python 3",
   "language": "python",
   "name": "python3"
  },
  "language_info": {
   "codemirror_mode": {
    "name": "ipython",
    "version": 3
   },
   "file_extension": ".py",
   "mimetype": "text/x-python",
   "name": "python",
   "nbconvert_exporter": "python",
   "pygments_lexer": "ipython3",
   "version": "3.8.2"
  }
 },
 "nbformat": 4,
 "nbformat_minor": 4
}
