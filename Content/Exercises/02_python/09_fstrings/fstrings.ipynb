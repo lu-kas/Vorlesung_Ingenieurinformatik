{
 "cells": [
  {
   "cell_type": "markdown",
   "metadata": {
    "tags": [
     "remove_cell"
    ]
   },
   "source": [
    "<div style=\"width: 100%; overflow: hidden;\">\n",
    "    <div style=\"width: 500px; float: left;\"> \n",
    "        <h1>Ingenieurinformatik – Übung</h1>\n",
    "        Lehrstuhl <b>Computational Civil Engineering</b><br>\n",
    "        Kontakt: <a href = \"mailto: cce-inginf@uni-wuppertal.de\">Email senden</a> | Individuelle Kontakte siehe Webseite des Lehrstuhls<br>\n",
    "        Links: \n",
    "        <a href=\"cce.uni-wuppertal.de/inginf\">Vorlesungsskript</a> | \n",
    "        <a href=\"cce.uni-wuppertal.de/\">Webseite des Lehrstuhls</a>\n",
    "    </div>\n",
    "    <div style=\"float:right;\"> \n",
    "        <img src=\"logo_cce_combined.png\" style=\"width:150px;\"/>\n",
    "    </div>\n",
    "</div>"
   ]
  },
  {
   "cell_type": "markdown",
   "metadata": {
    "tags": [
     "remove_cell"
    ]
   },
   "source": [
    "# Aufgabe 2.9 – Formattierte Strings"
   ]
  },
  {
   "cell_type": "markdown",
   "metadata": {},
   "source": [
    "Strings mit formattierten Zahlen werden immer dann benutzt, wenn Zahlen, insbesondere Gleitkommazahlen, für den Menschen lesbar ausgegeben oder abgespeichert werden sollen. Bei dieser Aufgabe sollen Sie sich mit den Formatierungsoptionen vertraut machen."
   ]
  },
  {
   "cell_type": "markdown",
   "metadata": {},
   "source": [
    "## Aufgabenstellung"
   ]
  },
  {
   "cell_type": "markdown",
   "metadata": {},
   "source": [
    "Testen Sie die aufgeführten Strings und versuchen Sie zu verstehen, was die einzelnen Formattierungssymbole bedeuten:\n",
    "\n",
    "1. `f\"Dezimalzahl mit festgelegter Größe {144:6d}.\"`. Wie sieht die Zahl im Hexadezimalsystem aus?\n",
    "1. `f\"Gleitkommerzahlen können sowohl natürlich, z.B. {1015.39:12.4f} oder wissenschaftlich, {1015.39:e}, dargestellt werden.\"`<br>\n",
    "Verändern Sie die natürliche Schreibwese so, dass nur noch eine stelle nach dem Komma angezeigt wird. Was fält auf? <br>\n",
    "Verändern Sie die wissenschaftliche Schreibweiso so, dass anstelle von `e` die Zehnerbasis mit `E` beschrieben wird.\n",
    "1. `f\"{42:<8d} {42:08d} {42:+8d}\"`, was sind die Auswirkungen von `<`, `0` und `+`?"
   ]
  },
  {
   "cell_type": "markdown",
   "metadata": {
    "tags": [
     "remove_cell"
    ]
   },
   "source": [
    "#### Lösung"
   ]
  },
  {
   "cell_type": "code",
   "execution_count": 11,
   "metadata": {
    "tags": [
     "remove_cell"
    ]
   },
   "outputs": [
    {
     "name": "stdout",
     "output_type": "stream",
     "text": [
      "1. Hexadezimalzahl mit festgelegter Größe     90.\n",
      "2.       1015.4, 1.015390E+03 - Die letzte Stelle wird gerundet.\n",
      "3. '<' formatiert die Zahl linksbündig, '0' füllt ungenutzte stellen mit Nullen auf und '+' zeigt das Vorzeichen auch dann, wenn die Zahl positiv ist.\n"
     ]
    }
   ],
   "source": [
    "print(f\"1. Hexadezimalzahl mit festgelegter Größe {144:6x}.\")\n",
    "print(f\"2. {1015.39:12.1f}, {1015.39:E} - Die letzte Stelle wird gerundet.\")\n",
    "print(f\"3. '<' formatiert die Zahl linksbündig, '0' füllt ungenutzte stellen mit Nullen auf und '+' zeigt das Vorzeichen auch dann, wenn die Zahl positiv ist.\")"
   ]
  }
 ],
 "metadata": {
  "kernelspec": {
   "display_name": "Python 3",
   "language": "python",
   "name": "python3"
  },
  "language_info": {
   "codemirror_mode": {
    "name": "ipython",
    "version": 3
   },
   "file_extension": ".py",
   "mimetype": "text/x-python",
   "name": "python",
   "nbconvert_exporter": "python",
   "pygments_lexer": "ipython3",
   "version": "3.8.2"
  }
 },
 "nbformat": 4,
 "nbformat_minor": 4
}
