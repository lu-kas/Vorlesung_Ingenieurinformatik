{
 "cells": [
  {
   "cell_type": "markdown",
   "metadata": {
    "tags": [
     "remove_cell"
    ]
   },
   "source": [
    "<div style=\"width: 100%; overflow: hidden;\">\n",
    "    <div style=\"width: 500px; float: left;\"> \n",
    "        <h1>Ingenieurinformatik – Übung</h1>\n",
    "        Lehrstuhl <b>Computational Civil Engineering</b><br>\n",
    "        Kontakt: <a href = \"mailto: cce-inginf@uni-wuppertal.de\">Email senden</a> | Individuelle Kontakte siehe Webseite des Lehrstuhls<br>\n",
    "        Links: \n",
    "        <a href=\"cce.uni-wuppertal.de/inginf\">Vorlesungsskript</a> | \n",
    "        <a href=\"cce.uni-wuppertal.de/\">Webseite des Lehrstuhls</a>\n",
    "    </div>\n",
    "    <div style=\"float:right;\"> \n",
    "        <img src=\"logo_cce_combined.png\" style=\"width:150px;\"/>\n",
    "    </div>\n",
    "</div>"
   ]
  },
  {
   "cell_type": "markdown",
   "metadata": {
    "tags": [
     "remove_cell"
    ]
   },
   "source": [
    "# Aufgabe 2.4 – Listen"
   ]
  },
  {
   "cell_type": "markdown",
   "metadata": {},
   "source": [
    "Eine der wichtigsten Datenstrukturen im technischen und wissenschaftlichen Rechnen sind Listen. Später werden auch die damit verwandten Arrays eingeführt, welche diese in vielen numersichen Berechnungen ablösen werden. "
   ]
  },
  {
   "cell_type": "markdown",
   "metadata": {},
   "source": [
    "## Grundlagen und Beispiele"
   ]
  },
  {
   "cell_type": "markdown",
   "metadata": {},
   "source": [
    "Listen können explizit mit Hilfe der eckigen Klammern `[]` erstellt werden, z.B.:"
   ]
  },
  {
   "cell_type": "code",
   "execution_count": 1,
   "metadata": {},
   "outputs": [],
   "source": [
    "l1 = [45, 33, 12, 93, 3]"
   ]
  },
  {
   "cell_type": "markdown",
   "metadata": {},
   "source": [
    "Um strukturierte Listen zu erzeugen, kann die `range` Funktion verwendet werden. Diese liefert zwar keine Liste zurück, das Ergebniss kann aber mit dem `list` Befehl in eine Liste umgewandelt werden. "
   ]
  },
  {
   "cell_type": "markdown",
   "metadata": {},
   "source": [
    "Im allgemeinen kann die `range` Funktion mit folgenden Argumenten aufgerufen werden: \n",
    "\n",
    "* `stop`: erstes Element, welches nicht mehr Teil der Rückgabe ist\n",
    "* `start`: erstes Element der Rückgabe\n",
    "* `step`: Schrittweite, in welcher die Rückgabe, bei `start` anfangend, erzeugt wird\n",
    "\n",
    "Je nach Anzahl der Argumente, werden die nicht angegeben entsprechend gesetzt.\n",
    "\n",
    "* `range(stop)` setzt `start=0` und `step=1`,\n",
    "* `range(start, stop)` setzt `step=1`, und\n",
    "* `range(start, stop, step)` berücksichtig alle Angaben.\n",
    "\n",
    "Eine umfangreichere Vorstellung der `range` Funktion befindet sich in [der Dokumentation](https://docs.python.org/3/library/stdtypes.html#ranges)."
   ]
  },
  {
   "cell_type": "markdown",
   "metadata": {},
   "source": [
    "Beispiele:"
   ]
  },
  {
   "cell_type": "code",
   "execution_count": 3,
   "metadata": {},
   "outputs": [
    {
     "name": "stdout",
     "output_type": "stream",
     "text": [
      "[0, 1, 2, 3, 4, 5, 6, 7, 8]\n"
     ]
    }
   ],
   "source": [
    "# Erstelle Liste von 0 bis 8\n",
    "l2 = list(range(9))\n",
    "print(l2)"
   ]
  },
  {
   "cell_type": "code",
   "execution_count": 11,
   "metadata": {},
   "outputs": [
    {
     "name": "stdout",
     "output_type": "stream",
     "text": [
      "[10, 22, 34, 46, 58, 70, 82, 94, 106, 118, 130, 142, 154]\n"
     ]
    }
   ],
   "source": [
    "# Erstelle Liste von 10 bis 154 in 12-er Schritten\n",
    "l3 = list(range(10,155,12))\n",
    "print(l3)"
   ]
  },
  {
   "cell_type": "code",
   "execution_count": 13,
   "metadata": {},
   "outputs": [
    {
     "name": "stdout",
     "output_type": "stream",
     "text": [
      "[20, 15, 10, 5, 0, -5, -10, -15, -20]\n"
     ]
    }
   ],
   "source": [
    "# Erstelle Liste von 20 bis -20 in 5-er Schritten\n",
    "l4 = list(range(20, -21, -5))\n",
    "print(l4)"
   ]
  },
  {
   "cell_type": "markdown",
   "metadata": {},
   "source": [
    "## Aufgabenstellung"
   ]
  },
  {
   "cell_type": "markdown",
   "metadata": {},
   "source": [
    "### Aufgabenteil A"
   ]
  },
  {
   "cell_type": "markdown",
   "metadata": {},
   "source": [
    "Verwenden Sie die `range` Funktion um folgende Listen zu erzeugen:\n",
    "\n",
    "1. `[0, 1, 2, 3]`\n",
    "1. `[0, 2, 4, 6, 8]`\n",
    "1. `[15, 16, 17, 18]`\n",
    "1. `[10, 9, 8, 7, 6, 5, 4]`\n",
    "1. `[9, 5, 1]`\n",
    "1. Alle ungeraden Zahlen bis 50"
   ]
  },
  {
   "cell_type": "markdown",
   "metadata": {
    "tags": [
     "remove_cell"
    ]
   },
   "source": [
    "#### Lösungshinweis"
   ]
  },
  {
   "cell_type": "markdown",
   "metadata": {
    "tags": [
     "remove_cell"
    ]
   },
   "source": [
    "#### Lösung"
   ]
  },
  {
   "cell_type": "markdown",
   "metadata": {},
   "source": [
    "### Aufgabenteil B"
   ]
  },
  {
   "cell_type": "markdown",
   "metadata": {},
   "source": [
    "Erzeugen Sie Liste von 0 bis 10 mit der `range` Funktion und speicher Sie diese in einer Variablen. Benutzen Sie ausschließlich die Methoden der Listenklasse um folgende Manipulationen durchzuführen. Geben Sie die Liste nach jeder Änderung aus.\n",
    "\n",
    "1. Fügen Sie den Wert -11 am Ende der Liste ein.\n",
    "1. Erweitern Sie die Liste um `[-22, 33, -44]`.\n",
    "1. Entfernen Sie das dritte und vierte Element der Liste.\n",
    "1. Fügen Sie an dritter Stelle den Wert 0 ein.\n",
    "1. Sortieren Sie die Liste."
   ]
  },
  {
   "cell_type": "code",
   "execution_count": null,
   "metadata": {},
   "outputs": [],
   "source": []
  }
 ],
 "metadata": {
  "kernelspec": {
   "display_name": "Python 3",
   "language": "python",
   "name": "python3"
  },
  "language_info": {
   "codemirror_mode": {
    "name": "ipython",
    "version": 3
   },
   "file_extension": ".py",
   "mimetype": "text/x-python",
   "name": "python",
   "nbconvert_exporter": "python",
   "pygments_lexer": "ipython3",
   "version": "3.8.2"
  }
 },
 "nbformat": 4,
 "nbformat_minor": 4
}
