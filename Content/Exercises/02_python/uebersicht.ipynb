{
 "cells": [
  {
   "cell_type": "markdown",
   "metadata": {},
   "source": [
    "# Python"
   ]
  },
  {
   "cell_type": "markdown",
   "metadata": {},
   "source": [
    "**[2.1 – Markdown](./01_markdown/markdown)**\n",
    "\n",
    "Um auch mit reinen Textdateien eine formatierte Ausgabe zu ermöglichen, kann die Formatierung mit festgelegten Zeichen und deren Anordnung erfolgen. Eine populäre Möglichkeit, welche auch in Jupyter Anwendung findet, ist Markdown."
   ]
  },
  {
   "cell_type": "markdown",
   "metadata": {},
   "source": [
    "**[2.2 – Operationen](./02_operationen/operationen)**\n",
    "\n",
    "Operationen sind die Grundstruktur eines Python-Programms. In dieser Aufgabe werden die vorgestellten Operationen vertieft."
   ]
  },
  {
   "cell_type": "markdown",
   "metadata": {},
   "source": [
    "**[2.3 – Variablen](./03_variablen/variablen)**\n",
    "\n",
    "Variablen sind Platzhalter für Werte und ermöglichen eine flexible Implementierung von Programmen. In dieser Aufgabe werden die ersten Schritte im Umgang mit Variablen geübt."
   ]
  },
  {
   "cell_type": "markdown",
   "metadata": {},
   "source": [
    "**[2.4 – Listen](./04_listen/listen)**\n",
    "\n",
    "Eine der wichtigsten Datenstrukturen im technischen und wissenschaftlichen Rechnen sind Listen. Später werden auch die damit verwandten Arrays eingeführt, welche diese in vielen numersichen Berechnungen ablösen werden. "
   ]
  },
  {
   "cell_type": "markdown",
   "metadata": {},
   "source": [
    "**[2.5 – Anwendung von Schleifen](./05_schleifen/schleifen)**\n",
    "\n",
    "In dieser Aufgabe wird die Verwendung von Schleifen anhand der Summation von ganzen Zahlen und in einer Umrechnungstabelle geübt."
   ]
  },
  {
   "cell_type": "markdown",
   "metadata": {},
   "source": [
    "**[2.6 – Abzweigungen](./06_abzweigungen/abzweigungen)**\n",
    "\n",
    "Abzweigungen steuern den Funktionsfluss eines Skripts. In dieser Aufgabe wird der Umgang mit `if`-Abzweigungen vertieft. "
   ]
  },
  {
   "cell_type": "markdown",
   "metadata": {},
   "source": [
    "**[2.7 – Näherungsformel für π](./07_naeherungsformel_pi/naeherungsformel_pi)**\n",
    "\n",
    "In dieser Aufgabe wird eine Näherungsformel für die Zahl π in einer Funktionen selbst definiert und eingesetzt."
   ]
  },
  {
   "cell_type": "markdown",
   "metadata": {},
   "source": [
    "**[2.8 – Sortieralgorithmus](./08_sortieralgorithmus/sortieralgorithmus)**\n",
    "\n",
    "Mittels Schleifen und Abzweigungen wird eine Funktion zum Sortieren von Zahlenlisten implementiert."
   ]
  }
 ],
 "metadata": {
  "kernelspec": {
   "display_name": "Python 3",
   "language": "python",
   "name": "python3"
  },
  "language_info": {
   "codemirror_mode": {
    "name": "ipython",
    "version": 3
   },
   "file_extension": ".py",
   "mimetype": "text/x-python",
   "name": "python",
   "nbconvert_exporter": "python",
   "pygments_lexer": "ipython3",
   "version": "3.8.2"
  }
 },
 "nbformat": 4,
 "nbformat_minor": 4
}
