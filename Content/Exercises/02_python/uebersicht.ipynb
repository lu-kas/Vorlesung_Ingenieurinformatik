{
 "cells": [
  {
   "cell_type": "markdown",
   "metadata": {},
   "source": [
    "# Python"
   ]
  },
  {
   "cell_type": "markdown",
   "metadata": {},
   "source": [
    "**[2.1 – Markdown](./01_markdown/markdown)**\n",
    "\n",
    "Um auch mit reinen Textdateien eine formatierte Ausgabe zu ermöglichen, kann die Formatierung mit festgelegten Zeichen und deren Anordnung erfolgen. Eine populäre Möglichkeit, welche auch in Jupyter Anwendung findet, ist Markdown."
   ]
  },
  {
   "cell_type": "markdown",
   "metadata": {},
   "source": [
    "**[2.2 – Operationen](./02_operationen/operationen)**\n",
    "\n",
    "Operationen sind die Grundstruktur eines Python-Programms. In dieser Aufgabe werden die vorgestellten Operationen vertieft."
   ]
  },
  {
   "cell_type": "markdown",
   "metadata": {},
   "source": [
    "**[2.3 – Variablen](./03_variablen/variablen)**\n",
    "\n",
    "Variablen sind Platzhalter für Werte und ermöglichen eine flexible Implementierung von Programmen. In dieser Aufgabe werden die ersten Schritte im Umgang mit Variablen geübt."
   ]
  },
  {
   "cell_type": "markdown",
   "metadata": {},
   "source": [
    "**[2.4 – Listen](./04_listen/listen)**\n",
    "\n",
    "Eine der wichtigsten Datenstrukturen im technischen und wissenschaftlichen Rechnen sind Listen. Später werden auch die damit verwandten Arrays eingeführt, welche diese in vielen numersichen Berechnungen ablösen werden. "
   ]
  },
  {
   "cell_type": "markdown",
   "metadata": {},
   "source": [
    "**[2.5 – Anwendung von Schleifen](./05_schleifen/schleifen)**\n",
    "\n",
    "In dieser Aufgabe wird die Verwendung von Schleifen anhand der Summation von ganzen Zahlen und in einer Umrechnungstabelle geübt."
   ]
  },
  {
   "cell_type": "markdown",
   "metadata": {},
   "source": [
    "**[2.6 – Abzweigungen](./06_abzweigungen/abzweigungen)**\n",
    "\n",
    "Abzweigungen steuern den Funktionsfluss eines Skripts. In dieser Aufgabe wird der Umgang mit `if`-Abzweigungen vertieft. "
   ]
  },
  {
   "cell_type": "markdown",
   "metadata": {},
   "source": [
    "**[2.7 – Näherungsformel für π](./07_naeherungsformel_pi/naeherungsformel_pi)**\n",
    "\n",
    "In dieser Aufgabe wird eine Näherungsformel für die Zahl π in einer Funktionen selbst definiert und eingesetzt."
   ]
  },
  {
   "cell_type": "markdown",
   "metadata": {},
   "source": [
    "**[2.8 – Sortieralgorithmus](./08_sortieralgorithmus/sortieralgorithmus)**\n",
    "\n",
    "Mittels Schleifen und Abzweigungen wird eine Funktion zum Sortieren von Zahlenlisten implementiert."
   ]
  },
  {
   "cell_type": "markdown",
   "metadata": {},
   "source": [
    "**[2.9 – Formatierte Zeichenketten](./09_fstrings/fstrings)**\n",
    "\n",
    "Strings mit formattierten Zahlen werden immer dann benutzt, wenn Zahlen, insbesondere Gleitkommazahlen, für den Menschen lesbar ausgegeben oder abgespeichert werden sollen. Bei dieser Aufgabe sollen Sie sich mit den Formatierungsoptionen vertraut machen."
   ]
  },
  {
   "cell_type": "markdown",
   "metadata": {},
   "source": [
    "**[2.10 – Einwohnerzahl Europa](./10_einwohner_europa/einwohner_europa)**\n",
    "\n",
    "Bei dieser Aufgabe werden Sie sowohl Schleifen als auch Verzweigungen nutzen, um Daten aus einer Datei auszulesen und in sinvolle Datentypen abzuspeichern. In der Bonusaufgabe werden Sie einen Filter auf die Daten anwenden und eine Berechnung mit ihnen durchführen."
   ]
  },
  {
   "cell_type": "markdown",
   "metadata": {},
   "source": [
    "**[2.11 – Temperaturdaten](./10_temperaturdaten/temperaturdaten)**\n",
    "\n",
    "Diese Aufgabe stellt eine typische erste Anwendung aus dem Bereich der Datenanalyse dar. In unserem Fall haben Sie 12 Thermometer, die zeitlich synchron aber räumlich verteilt die Temperatur eines Stahlträgers messen, der an einer Stelle erhitzt wird. Jede Messreihe ist in einer eigenen Datei abgelegt und all diese Daten müssen geladen und sinnvoll in Variablen gespeichert werden, um damit arbeiten zu können."
   ]
  }
 ],
 "metadata": {
  "kernelspec": {
   "display_name": "Python 3",
   "language": "python",
   "name": "python3"
  },
  "language_info": {
   "codemirror_mode": {
    "name": "ipython",
    "version": 3
   },
   "file_extension": ".py",
   "mimetype": "text/x-python",
   "name": "python",
   "nbconvert_exporter": "python",
   "pygments_lexer": "ipython3",
   "version": "3.8.2"
  }
 },
 "nbformat": 4,
 "nbformat_minor": 4
}
