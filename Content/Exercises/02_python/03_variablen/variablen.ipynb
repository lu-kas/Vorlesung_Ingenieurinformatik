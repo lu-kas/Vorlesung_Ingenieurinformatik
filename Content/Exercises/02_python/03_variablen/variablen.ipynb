{
 "cells": [
  {
   "cell_type": "markdown",
   "metadata": {
    "tags": [
     "remove_cell"
    ]
   },
   "source": [
    "<div style=\"width: 100%; overflow: hidden;\">\n",
    "    <div style=\"width: 500px; float: left;\"> \n",
    "        <h1>Ingenieurinformatik – Übung</h1>\n",
    "        Lehrstuhl <b>Computational Civil Engineering</b><br>\n",
    "        Kontakt: <a href = \"mailto: cce-inginf@uni-wuppertal.de\">Email senden</a> | Individuelle Kontakte siehe Webseite des Lehrstuhls<br>\n",
    "        Links: \n",
    "        <a href=\"cce.uni-wuppertal.de/inginf\">Vorlesungsskript</a> | \n",
    "        <a href=\"cce.uni-wuppertal.de/\">Webseite des Lehrstuhls</a>\n",
    "    </div>\n",
    "    <div style=\"float:right;\"> \n",
    "        <img src=\"logo_cce_combined.png\" style=\"width:150px;\"/>\n",
    "    </div>\n",
    "</div>"
   ]
  },
  {
   "cell_type": "markdown",
   "metadata": {
    "tags": [
     "remove_cell"
    ]
   },
   "source": [
    "# Aufgabe 2.3 – Variablen"
   ]
  },
  {
   "cell_type": "markdown",
   "metadata": {},
   "source": [
    "Variablen sind Platzhalter für Werte und ermöglichen eine flexible Implementierung von Programmen. In dieser Aufgabe werden die ersten Schritte im Umgang mit Variablen geübt."
   ]
  },
  {
   "cell_type": "markdown",
   "metadata": {},
   "source": [
    "## Aufgabenstellung"
   ]
  },
  {
   "cell_type": "markdown",
   "metadata": {},
   "source": [
    "Die Position $\\sf x(t)$ eines Fahrzeugs zur Zeit $\\sf t$, welches konstant mit der Beschleunigung $\\sf a$ beschleunigt, ist gegeben durch\n",
    "\n",
    "$$\\sf x(t) = x_0 + v_0\\cdot t + \\frac{1}{2}\\cdot a \\cdot t^2 \\quad .$$\n",
    "\n",
    "Dabei ist $\\sf x_0$ die Anfangsposition und $\\sf v_0$ die Anfangsgeschwindigkeit. \n",
    "\n",
    "1. Erstellen Sie Variablen für $\\sf x_0$, $\\sf v_0$ und $\\sf a$ und weisen Sie ihnen Werte zu. Da die Variablen nur Werte, aber keine Einheiten abbilden, überlegen Sie sich die ggf. notwendigen Umrechnungen. Folgende Werte können sie als Beispiel verwenden:\n",
    "\n",
    "$$\\sf x_0 = 10 km \\quad v_0 = 50 km/h \\quad a = 0.1 m/s^2$$\n",
    "\n",
    "2. Erzeugen Sie eine Variable für den Zeitpunkt $\\sf t$, z.B.: $\\sf t = 10 min$ .\n",
    "3. Berechnen Sie mit obiger Gleichung und mit Hilfe der Variablen die\n",
    "Position $\\sf x(t)$.\n",
    "4. Geben Sie nicht nur den Wert von x(t) aus, sondern betten ihn in einen\n",
    "ganzen Antwortsatz (einschließlich Einheiten) ein."
   ]
  },
  {
   "cell_type": "markdown",
   "metadata": {},
   "source": [
    "## Lösungsvorschlag"
   ]
  },
  {
   "cell_type": "code",
   "execution_count": 23,
   "metadata": {},
   "outputs": [],
   "source": [
    "x_0 = 10\n",
    "v_0 = 50\n",
    "a = 0.1\n",
    "t = 10"
   ]
  },
  {
   "cell_type": "code",
   "execution_count": 27,
   "metadata": {},
   "outputs": [],
   "source": [
    "x_0_ms = x_0 * 1000\n",
    "v_0_ms = v_0 * 1000 / 3600\n",
    "\n",
    "t_ms = 10 * 60\n",
    "x = (x_0_ms + v_0_ms * t_ms + 1/2 * a * t_ms**2) / 1000"
   ]
  },
  {
   "cell_type": "code",
   "execution_count": 28,
   "metadata": {},
   "outputs": [
    {
     "name": "stdout",
     "output_type": "stream",
     "text": [
      "Die Position nach  10  Sekunden beträgt  36.333333333333336  km.\n"
     ]
    }
   ],
   "source": [
    "print(\"Die Position nach \", t, \" Sekunden beträgt \", x, \" km.\")"
   ]
  }
 ],
 "metadata": {
  "kernelspec": {
   "display_name": "Python 3",
   "language": "python",
   "name": "python3"
  },
  "language_info": {
   "codemirror_mode": {
    "name": "ipython",
    "version": 3
   },
   "file_extension": ".py",
   "mimetype": "text/x-python",
   "name": "python",
   "nbconvert_exporter": "python",
   "pygments_lexer": "ipython3",
   "version": "3.8.2"
  }
 },
 "nbformat": 4,
 "nbformat_minor": 4
}
