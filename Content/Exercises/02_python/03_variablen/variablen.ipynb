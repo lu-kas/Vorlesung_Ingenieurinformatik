{
 "cells": [
  {
   "cell_type": "markdown",
   "metadata": {
    "tags": [
     "remove_cell"
    ]
   },
   "source": [
    "<div style=\"width: 100%; overflow: hidden;\">\n",
    "    <div style=\"width: 500px; float: left;\"> \n",
    "        <h1>Ingenieurinformatik – Übung</h1>\n",
    "        Lehrstuhl <b>Computational Civil Engineering</b><br>\n",
    "        Kontakt: <a href = \"mailto: cce-inginf@uni-wuppertal.de\">Email senden</a> | Individuelle Kontakte siehe Webseite des Lehrstuhls<br>\n",
    "        Links: \n",
    "        <a href=\"cce.uni-wuppertal.de/inginf\">Vorlesungsskript</a> | \n",
    "        <a href=\"cce.uni-wuppertal.de/\">Webseite des Lehrstuhls</a>\n",
    "    </div>\n",
    "    <div style=\"float:right;\"> \n",
    "        <img src=\"logo_cce_combined.png\" style=\"width:150px;\"/>\n",
    "    </div>\n",
    "</div>"
   ]
  },
  {
   "cell_type": "markdown",
   "metadata": {
    "tags": [
     "remove_cell"
    ]
   },
   "source": [
    "# Aufgabe 2.3 – Variablen"
   ]
  },
  {
   "cell_type": "markdown",
   "metadata": {},
   "source": [
    "Variablen sind Platzhalter für Werte und ermöglichen eine flexible Implementierung von Programmen. In dieser Aufgabe werden die ersten Schritte im Umgang mit Variablen geübt."
   ]
  },
  {
   "cell_type": "markdown",
   "metadata": {},
   "source": [
    "## Aufgabenteil A"
   ]
  },
  {
   "cell_type": "markdown",
   "metadata": {},
   "source": [
    "Schreiben Sie ein Skript, welches eine gegebene Zeit $\\sf t$ in Sekunden aufteilt in die Anzahl Tage, Stunden, Minuten und Sekunden und diese Aufteilung ausgibt.\n",
    "\n",
    "Berechnen Sie die Aufteilung für folgende Zeiten:\n",
    "\n",
    "1. 79222 s\n",
    "1. 90061 s\n",
    "1. 3000000 s"
   ]
  },
  {
   "cell_type": "markdown",
   "metadata": {},
   "source": [
    "### Lösungsvorschlag"
   ]
  },
  {
   "cell_type": "code",
   "execution_count": 5,
   "metadata": {},
   "outputs": [
    {
     "name": "stdout",
     "output_type": "stream",
     "text": [
      "Die Zeitdauer 3000000 in Sekunden entspricht:\n",
      "Tage     :  34\n",
      "Stunden  :  17\n",
      "Minuten  :  20\n",
      "Sekunden :  0\n"
     ]
    }
   ],
   "source": [
    "zeit = 3000000\n",
    "\n",
    "# Ein Tag hat 24 Stunden mit jeweils 3600 Sekunden\n",
    "tage = zeit // (24 * 60 * 60)\n",
    "tage_rest = zeit % (24 * 60 * 60)\n",
    "\n",
    "# Eine Stunde hat 3600 Sekunden\n",
    "stunden = tage_rest // (60 * 60)\n",
    "stunden_rest = tage_rest % (60 * 60)\n",
    "\n",
    "# Eine Minute hat 60 Sekunden\n",
    "minuten = stunden_rest // 60\n",
    "minuten_rest = stunden_rest % 60\n",
    "\n",
    "# Der letzte Rest, ist die Anzahl der Sekunden\n",
    "sekunden = minuten_rest\n",
    "\n",
    "# Ausgabe der Ergebnisse\n",
    "print(\"Die Zeitdauer\", zeit, \"in Sekunden entspricht:\")\n",
    "print(\"Tage     : \", tage)\n",
    "print(\"Stunden  : \", stunden)\n",
    "print(\"Minuten  : \", minuten)\n",
    "print(\"Sekunden : \", sekunden)"
   ]
  },
  {
   "cell_type": "markdown",
   "metadata": {},
   "source": [
    "## Aufgabenteil B"
   ]
  },
  {
   "cell_type": "markdown",
   "metadata": {},
   "source": [
    "Die Position $\\sf x(t)$ eines Fahrzeugs zur Zeit $\\sf t$, welches konstant mit der Beschleunigung $\\sf a$ beschleunigt, ist gegeben durch\n",
    "\n",
    "$$\\sf x(t) = x_0 + v_0\\cdot t + \\frac{1}{2}\\cdot a \\cdot t^2 \\quad .$$\n",
    "\n",
    "Dabei ist $\\sf x_0$ die Anfangsposition und $\\sf v_0$ die Anfangsgeschwindigkeit. \n",
    "\n",
    "1. Erstellen Sie Variablen für $\\sf x_0$, $\\sf v_0$ und $\\sf a$ und weisen Sie ihnen Werte zu. Da die Variablen nur Werte, aber keine Einheiten abbilden, überlegen Sie sich die ggf. notwendigen Umrechnungen. Folgende Werte können sie als Beispiel verwenden:\n",
    "\n",
    "$$\\sf x_0 = 10\\ km \\quad v_0 = 50\\ km/h \\quad a = 0.1\\ m/s^2$$\n",
    "\n",
    "2. Erzeugen Sie eine Variable für den Zeitpunkt $\\sf t$, z.B.: $\\sf t = 10\\ min$ .\n",
    "3. Berechnen Sie mit obiger Gleichung und mit Hilfe der Variablen die\n",
    "Position $\\sf x(t)$.\n",
    "4. Geben Sie nicht nur den Wert von x(t) in Kilometer aus, sondern betten ihn in einen\n",
    "ganzen Antwortsatz (einschließlich Einheiten) ein."
   ]
  },
  {
   "cell_type": "markdown",
   "metadata": {},
   "source": [
    "### Lösungsvorschlag"
   ]
  },
  {
   "cell_type": "code",
   "execution_count": 9,
   "metadata": {},
   "outputs": [],
   "source": [
    "# Definition der Eingangsgrößen\n",
    "\n",
    "# x_0 in Kilometer\n",
    "x_0 = 10\n",
    "\n",
    "# v_0 in Kilometer pro Stunde\n",
    "v_0 = 50\n",
    "\n",
    "# a in Meter pro Sekunde-Quadrat\n",
    "a = 0.1\n",
    "\n",
    "# Zeitpunkt in Minuten\n",
    "t = 10"
   ]
  },
  {
   "cell_type": "code",
   "execution_count": 10,
   "metadata": {},
   "outputs": [],
   "source": [
    "# Umwandlung aller Größen in SI-Einheiten, also hier Meter und Sekunde\n",
    "x_0_ms = x_0 * 1000\n",
    "v_0_ms = v_0 * 1000 / 3600\n",
    "t_ms = 10 * 60\n",
    "\n",
    "# Auswertung der Postition\n",
    "x_ms = (x_0_ms + v_0_ms * t_ms + 1/2 * a * t_ms**2)\n",
    "\n",
    "# Umwandlung der Position in Kilometer\n",
    "x = x_ms / 1000"
   ]
  },
  {
   "cell_type": "code",
   "execution_count": 12,
   "metadata": {},
   "outputs": [
    {
     "name": "stdout",
     "output_type": "stream",
     "text": [
      "Die Position nach 10 Minuten beträgt  36.333333333333336  km.\n"
     ]
    }
   ],
   "source": [
    "print(\"Die Position nach\", t, \"Minuten beträgt \", x, \" km.\")"
   ]
  }
 ],
 "metadata": {
  "kernelspec": {
   "display_name": "Python 3",
   "language": "python",
   "name": "python3"
  },
  "language_info": {
   "codemirror_mode": {
    "name": "ipython",
    "version": 3
   },
   "file_extension": ".py",
   "mimetype": "text/x-python",
   "name": "python",
   "nbconvert_exporter": "python",
   "pygments_lexer": "ipython3",
   "version": "3.8.2"
  }
 },
 "nbformat": 4,
 "nbformat_minor": 4
}
