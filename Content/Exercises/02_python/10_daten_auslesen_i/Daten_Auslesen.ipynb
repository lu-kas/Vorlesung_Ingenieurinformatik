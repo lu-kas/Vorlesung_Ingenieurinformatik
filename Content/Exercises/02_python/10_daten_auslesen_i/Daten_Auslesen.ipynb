{
 "cells": [
  {
   "cell_type": "markdown",
   "metadata": {
    "tags": [
     "remove_cell"
    ]
   },
   "source": [
    "<div style=\"width: 100%; overflow: hidden;\">\n",
    "    <div style=\"width: 500px; float: left;\"> \n",
    "        <h1>Ingenieurinformatik – Übung</h1>\n",
    "        Lehrstuhl <b>Computational Civil Engineering</b><br>\n",
    "        Kontakt: <a href = \"mailto: cce-inginf@uni-wuppertal.de\">Email senden</a> | Individuelle Kontakte siehe Webseite des Lehrstuhls<br>\n",
    "        Links: \n",
    "        <a href=\"cce.uni-wuppertal.de/inginf\">Vorlesungsskript</a> | \n",
    "        <a href=\"cce.uni-wuppertal.de/\">Webseite des Lehrstuhls</a>\n",
    "    </div>\n",
    "    <div style=\"float:right;\"> \n",
    "        <img src=\"logo_cce_combined.png\" style=\"width:150px;\"/>\n",
    "    </div>\n",
    "</div>"
   ]
  },
  {
   "cell_type": "markdown",
   "metadata": {
    "tags": [
     "remove_cell"
    ]
   },
   "source": [
    "# Aufgabe 2.7 – Daten auslesen und verarbeiten"
   ]
  },
  {
   "cell_type": "markdown",
   "metadata": {},
   "source": [
    "Bei dieser Aufgabe werden Sie sowohl Schleifen als auch Verzweigungen nutzen, um Daten aus einer Datei auszulesen, in sinvolle Datentypen abzuspeichern, sie zu filtern und eine Berechnung mit ihnen durchzuführen.<br>\n",
    "Die Datei finden Sie _______________________________."
   ]
  },
  {
   "cell_type": "markdown",
   "metadata": {},
   "source": [
    "## Aufgabenstellung"
   ]
  },
  {
   "cell_type": "markdown",
   "metadata": {},
   "source": [
    "### Aufgabenteil A - Auslesen der Datei"
   ]
  },
  {
   "cell_type": "markdown",
   "metadata": {},
   "source": [
    "Schreiben Sie ein Programm, dass den Inhalt der Datei \"einwohner_europa_2019.csv\" ausließt und in der Konsole ausgibt."
   ]
  },
  {
   "cell_type": "markdown",
   "metadata": {},
   "source": [
    "#### Lösung"
   ]
  },
  {
   "cell_type": "code",
   "execution_count": 2,
   "metadata": {
    "tags": [
     "remove_cell"
    ]
   },
   "outputs": [
    {
     "name": "stdout",
     "output_type": "stream",
     "text": [
      "GEO,Value\n",
      "\n",
      "Belgien,11467923\n",
      "\n",
      "Bulgarien,7000039\n",
      "\n",
      "Tschechien,10528984\n",
      "\n",
      "Daenemark,5799763\n",
      "\n",
      "Deutschland einschliesslich ehemalige DDR,82940663\n",
      "\n",
      "Estland,1324820\n",
      "\n",
      "Irland,4904240\n",
      "\n",
      "Griechenland,10722287\n",
      "\n",
      "Spanien,46934632\n",
      "\n",
      "Frankreich,67028048\n",
      "\n",
      "Kroatien,4076246\n",
      "\n",
      "Italien,61068437\n",
      "\n",
      "Zypern,875898\n",
      "\n",
      "Lettland,1919968\n",
      "\n",
      "Litauen,2794184\n",
      "\n",
      "Luxemburg,612179\n",
      "\n",
      "Uganda,-1\n",
      "\n",
      "Ungarn,9772756\n",
      "\n",
      "Malta,493559\n",
      "\n",
      "Niederlande,17423013\n",
      "\n",
      "Oesterreich,8842000\n",
      "\n",
      "Polen,37972812\n",
      "\n",
      "Portugal,10276617\n",
      "\n",
      "Rumänien,19405156\n",
      "\n",
      "Slowenien,2080908\n",
      "\n",
      "Slowakei,5450421\n",
      "\n",
      "Finnland,5512119\n",
      "\n",
      "Schweden,10243000\n",
      "\n",
      "Vereinigtes Koenigreich,66647112\n",
      "\n"
     ]
    }
   ],
   "source": [
    "# Auslesen und Ausgeben einer Datei\n",
    "\n",
    "file = open('einwohner_europa_2019.csv', 'r')\n",
    "\n",
    "for line in file:\n",
    "    print(line)"
   ]
  },
  {
   "cell_type": "markdown",
   "metadata": {},
   "source": [
    "### Aufgabenteil B - Speichern in Listen"
   ]
  },
  {
   "cell_type": "markdown",
   "metadata": {},
   "source": [
    "Verändern Sie obiges Programm, sodass die ausgelesenen Daten nicht mehr ausgegeben, sondern in zwei Listen gespeichert werden. Die Erste Zeile soll hierbei ignoriert werden. Die Liste mit den Einwohnern soll Zahlen anstelle von Strings enthalten."
   ]
  },
  {
   "cell_type": "markdown",
   "metadata": {},
   "source": [
    "#### Lösungshinweis\n",
    "\n",
    "Informieren Sie sich über die pop() Methode von Listen."
   ]
  },
  {
   "cell_type": "markdown",
   "metadata": {
    "tags": [
     "remove_cell"
    ]
   },
   "source": [
    "#### Lösung"
   ]
  },
  {
   "cell_type": "code",
   "execution_count": 9,
   "metadata": {
    "tags": [
     "remove_cell"
    ]
   },
   "outputs": [
    {
     "name": "stdout",
     "output_type": "stream",
     "text": [
      "['Belgien', 'Bulgarien', 'Tschechien', 'Daenemark', 'Deutschland einschliesslich ehemalige DDR', 'Estland', 'Irland', 'Griechenland', 'Spanien', 'Frankreich', 'Kroatien', 'Italien', 'Zypern', 'Lettland', 'Litauen', 'Luxemburg', 'Uganda', 'Ungarn', 'Malta', 'Niederlande', 'Oesterreich', 'Polen', 'Portugal', 'Rumänien', 'Slowenien', 'Slowakei', 'Finnland', 'Schweden', 'Vereinigtes Koenigreich']\n",
      "[11467923, 7000039, 10528984, 5799763, 82940663, 1324820, 4904240, 10722287, 46934632, 67028048, 4076246, 61068437, 875898, 1919968, 2794184, 612179, -1, 9772756, 493559, 17423013, 8842000, 37972812, 10276617, 19405156, 2080908, 5450421, 5512119, 10243000, 66647112]\n"
     ]
    }
   ],
   "source": [
    "# Auslesen einer Datei und Speichern in Listen\n",
    "\n",
    "land = []\n",
    "einwohner = []\n",
    "file = open('einwohner_europa_2019.csv', 'r')\n",
    "\n",
    "# Speichern der Datei in zwei Listen\n",
    "for line in file:\n",
    "    land.append(line.split(',')[0])\n",
    "    einwohner.append(line.split(',')[1])\n",
    "    \n",
    "# Entfernen des ersten Elements beider Listen\n",
    "land.pop(0)\n",
    "einwohner.pop(0)\n",
    "\n",
    "# Konvertieren der Elemente in Einwohner in Integers\n",
    "for i in range(0,len(einwohner)):\n",
    "    einwohner[i] = int(einwohner[i])\n",
    "    \n",
    "print(land)\n",
    "print(einwohner)\n",
    "\n",
    "file.close()"
   ]
  },
  {
   "cell_type": "markdown",
   "metadata": {},
   "source": [
    "### Aufgabenteil C - Filtern und Verwenden\n",
    "\n",
    "Erweitern Sie Ihr Programm, sodass Länder, die eine negative Einwohnerzahl haben, aus beiden Listen gelöscht werden. Addieren Sie danach alle Einwohner, um die gesammte Einwohnerzahl aller EU-Staaten zu erhalten."
   ]
  },
  {
   "cell_type": "markdown",
   "metadata": {},
   "source": [
    "#### Lösungshinweis\n",
    "\n",
    "Falls Sie beim Löschen auf einen out-of-range IndexError treffen, überlegen Sie sich, warum dies passiert und ob Sie vielleicht mit einer anderen Schleifenart das Problem umgehen können."
   ]
  },
  {
   "cell_type": "markdown",
   "metadata": {
    "tags": [
     "remove_cell"
    ]
   },
   "source": [
    "#### Lösung"
   ]
  },
  {
   "cell_type": "code",
   "execution_count": 19,
   "metadata": {
    "tags": [
     "remove_cell"
    ]
   },
   "outputs": [
    {
     "name": "stdout",
     "output_type": "stream",
     "text": [
      "Die gesammte EU-Bevölkerung in 2019 waren 514117784 Personen.\n"
     ]
    }
   ],
   "source": [
    "# Auswerten von Daten\n",
    "\n",
    "land = []\n",
    "einwohner = []\n",
    "file = open('einwohner_europa_2019.csv', 'r')\n",
    "\n",
    "# Speichern der Datei in zwei Listen\n",
    "for line in file:\n",
    "    land.append(line.split(',')[0])\n",
    "    einwohner.append(line.split(',')[1])\n",
    "    \n",
    "# Entfernen des ersten Elements beider Listen\n",
    "land.pop(0)\n",
    "einwohner.pop(0)\n",
    "\n",
    "# Konvertieren der Elemente in Einwohner in Integers\n",
    "for i in range(0,len(einwohner)):\n",
    "    einwohner[i] = int(einwohner[i])\n",
    "    \n",
    "# Entfernen von Ausreißern\n",
    "i = 0\n",
    "while i < len(einwohner):\n",
    "    if einwohner[i] < 0:\n",
    "        einwohner.pop(i)\n",
    "        land.pop(i)\n",
    "    i += 1\n",
    "    \n",
    "# Berechnung der gesammten EU-Bevölkerung\n",
    "gesammtBev = 0\n",
    "for i in einwohner:\n",
    "    gesammtBev += i\n",
    "    \n",
    "print('Die gesammte EU-Bevölkerung in 2019 waren', gesammtBev, 'Personen.')\n",
    "\n",
    "file.close()"
   ]
  },
  {
   "cell_type": "code",
   "execution_count": null,
   "metadata": {},
   "outputs": [],
   "source": []
  }
 ],
 "metadata": {
  "kernelspec": {
   "display_name": "Python 3",
   "language": "python",
   "name": "python3"
  },
  "language_info": {
   "codemirror_mode": {
    "name": "ipython",
    "version": 3
   },
   "file_extension": ".py",
   "mimetype": "text/x-python",
   "name": "python",
   "nbconvert_exporter": "python",
   "pygments_lexer": "ipython3",
   "version": "3.7.5"
  }
 },
 "nbformat": 4,
 "nbformat_minor": 4
}
