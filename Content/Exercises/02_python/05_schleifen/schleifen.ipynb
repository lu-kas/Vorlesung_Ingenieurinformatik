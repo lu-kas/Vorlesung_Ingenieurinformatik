{
 "cells": [
  {
   "cell_type": "markdown",
   "metadata": {
    "tags": [
     "remove_cell"
    ]
   },
   "source": [
    "<div style=\"width: 100%; overflow: hidden;\">\n",
    "    <div style=\"width: 500px; float: left;\"> \n",
    "        <h1>Ingenieurinformatik – Übung</h1>\n",
    "        Lehrstuhl <b>Computational Civil Engineering</b><br>\n",
    "        Kontakt: <a href = \"mailto: cce-inginf@uni-wuppertal.de\">Email senden</a> | Individuelle Kontakte siehe Webseite des Lehrstuhls<br>\n",
    "        Links: \n",
    "        <a href=\"cce.uni-wuppertal.de/inginf\">Vorlesungsskript</a> | \n",
    "        <a href=\"cce.uni-wuppertal.de/\">Webseite des Lehrstuhls</a>\n",
    "    </div>\n",
    "    <div style=\"float:right;\"> \n",
    "        <img src=\"logo_cce_combined.png\" style=\"width:150px;\"/>\n",
    "    </div>\n",
    "</div>"
   ]
  },
  {
   "cell_type": "markdown",
   "metadata": {
    "tags": [
     "remove_cell"
    ]
   },
   "source": [
    "# Aufgabe 2.5 – Anwendung von Schleifen"
   ]
  },
  {
   "cell_type": "markdown",
   "metadata": {},
   "source": [
    "In dieser Aufgabe wird die Verwendung von Schleifen anhand der Summation von ganzen Zahlen und in einer Umrechnungstabelle geübt."
   ]
  },
  {
   "cell_type": "markdown",
   "metadata": {},
   "source": [
    "## Aufgabenstellung"
   ]
  },
  {
   "cell_type": "markdown",
   "metadata": {},
   "source": [
    "### Aufgabenteil A"
   ]
  },
  {
   "cell_type": "markdown",
   "metadata": {},
   "source": [
    "Schreiben Sie ein Skript, das die Summe der Zahlen von 1 bis $\\sf N$ bildet. Dabei sollen folgende drei Wege implementiert werden und die Ergebnisse dieser ausgegeben werden. Berechnen Sie die Summe unter Verwendung:\n",
    "\n",
    "1. einer `for`-Schleife, \n",
    "1. einer `while`-Schleife und\n",
    "1. der Summenformel."
   ]
  },
  {
   "cell_type": "markdown",
   "metadata": {},
   "source": [
    "#### Lösungshinweis"
   ]
  },
  {
   "cell_type": "markdown",
   "metadata": {},
   "source": [
    "Für $\\sf N=100$ lautet das Ergebnis 5050. "
   ]
  },
  {
   "cell_type": "markdown",
   "metadata": {
    "tags": [
     "remove_cell"
    ]
   },
   "source": [
    "#### Lösung"
   ]
  },
  {
   "cell_type": "markdown",
   "metadata": {},
   "source": [
    "### Aufgabenteil B"
   ]
  },
  {
   "cell_type": "markdown",
   "metadata": {},
   "source": [
    "Erstellen Sie ein Skript, welches eine Umrechnungstabelle für Geschwindigkeiten erzeugt. Folgende Randbedingungen sollen beachtet werden:\n",
    "\n",
    "* Die Umrechnung soll von km/h in m/s erfolgen.\n",
    "* Der Start- und Endwert soll in km/h frei wählbar sein, wobei beide ganzzahlig sein sollen. \n",
    "* Die Anzahl der Umrechnungspunkte soll mit $\\sf N$ definiert werden können und die Zwischenschritte (in km/h) immer als ganze Zahlen erfolgen."
   ]
  },
  {
   "cell_type": "markdown",
   "metadata": {},
   "source": [
    "#### Lösungshinweis"
   ]
  },
  {
   "cell_type": "markdown",
   "metadata": {},
   "source": [
    "So könnte beispielsweise die Ausgabe aussehen."
   ]
  },
  {
   "cell_type": "code",
   "execution_count": 6,
   "metadata": {
    "tags": [
     "remove_input"
    ]
   },
   "outputs": [
    {
     "name": "stdout",
     "output_type": "stream",
     "text": [
      "Start bei 0 km/h\n",
      "Ende bei 100 km/h\n",
      "Ausgabeschritte 5\n",
      "\n",
      "km/h\t m/s\n",
      "============\n",
      "0 \t 0.0\n",
      "25 \t 6.944444444444445\n",
      "50 \t 13.88888888888889\n",
      "75 \t 20.833333333333332\n",
      "100 \t 27.77777777777778\n"
     ]
    }
   ],
   "source": [
    "start = 0\n",
    "ende = 100\n",
    "N = 5\n",
    "\n",
    "print('Start bei', start, 'km/h')\n",
    "print('Ende bei', ende, 'km/h')\n",
    "print('Ausgabeschritte', N)\n",
    "print()\n",
    "\n",
    "print('km/h\\t m/s')\n",
    "print('============')\n",
    "dN = (ende - start) // (N-1)\n",
    "for v in range(0, 100+dN, dN):\n",
    "    ms = v * 1000 / 3600\n",
    "    print(v, '\\t', ms)"
   ]
  }
 ],
 "metadata": {
  "kernelspec": {
   "display_name": "Python 3",
   "language": "python",
   "name": "python3"
  },
  "language_info": {
   "codemirror_mode": {
    "name": "ipython",
    "version": 3
   },
   "file_extension": ".py",
   "mimetype": "text/x-python",
   "name": "python",
   "nbconvert_exporter": "python",
   "pygments_lexer": "ipython3",
   "version": "3.7.5"
  }
 },
 "nbformat": 4,
 "nbformat_minor": 4
}
