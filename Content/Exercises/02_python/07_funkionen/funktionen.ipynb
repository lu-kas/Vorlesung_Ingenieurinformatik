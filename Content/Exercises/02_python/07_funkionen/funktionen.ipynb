{
 "cells": [
  {
   "cell_type": "markdown",
   "metadata": {
    "tags": [
     "remove_cell"
    ]
   },
   "source": [
    "<div style=\"width: 100%; overflow: hidden;\">\n",
    "    <div style=\"width: 500px; float: left;\"> \n",
    "        <h1>Ingenieurinformatik – Übung</h1>\n",
    "        Lehrstuhl <b>Computational Civil Engineering</b><br>\n",
    "        Kontakt: <a href = \"mailto: cce-inginf@uni-wuppertal.de\">Email senden</a> | Individuelle Kontakte siehe Webseite des Lehrstuhls<br>\n",
    "        Links: \n",
    "        <a href=\"cce.uni-wuppertal.de/inginf\">Vorlesungsskript</a> | \n",
    "        <a href=\"cce.uni-wuppertal.de/\">Webseite des Lehrstuhls</a>\n",
    "    </div>\n",
    "    <div style=\"float:right;\"> \n",
    "        <img src=\"logo_cce_combined.png\" style=\"width:150px;\"/>\n",
    "    </div>\n",
    "</div>"
   ]
  },
  {
   "cell_type": "markdown",
   "metadata": {
    "tags": [
     "remove_cell"
    ]
   },
   "source": [
    "# Aufgabe 2.7 – Funktionen"
   ]
  },
  {
   "cell_type": "markdown",
   "metadata": {},
   "source": [
    "In dieser Aufgabe werden Funktionen selbst definiert und eingesetzt."
   ]
  },
  {
   "cell_type": "markdown",
   "metadata": {},
   "source": [
    "## Aufgabenstellung"
   ]
  },
  {
   "cell_type": "markdown",
   "metadata": {},
   "source": [
    "### Aufgabenteil A"
   ]
  },
  {
   "cell_type": "markdown",
   "metadata": {},
   "source": [
    "1. Schreiben Sie eine Funktion, welche die folgende Näherungsformel für die Zahl $\\sf \\pi$ bis zum $\\sf N$-ten Summanden auswertet.\n",
    "$$ \\sf \\frac{\\pi}{4} \\approx \\sum_{k=0}^N \\frac{(-1)^k}{2k+1} $$\n",
    "Die Funktion soll $\\sf N$ als einziges Argument aufnehmen und den Näherungswert zurückgeben.\n",
    "1. Schreiben Sie ein Skript, welches die obige Funktion für verschiedene Werte von $\\sf N$ aufruft und die Differenz zum exakten Wert von $\\sf \\pi$ ausgibt:\n",
    "$$\\sf \\pi = 3.141592653589793238\\dots$$\n",
    "Darüber hinaus soll auch der Faktor um welchen sich die Differenz zwischen den gewählten verringert ausgegeben werden. Speichern Sie dazu am besten die Berechneten Näherungswerte in eine Liste und führen erst danach die Ausgabe durch.\n",
    "1. Betrachten Sie einen Wertebereich von $\\sf N$ zwischen 1 und 100.\n"
   ]
  },
  {
   "cell_type": "markdown",
   "metadata": {},
   "source": [
    "#### Lösungshinweis"
   ]
  },
  {
   "cell_type": "markdown",
   "metadata": {},
   "source": [
    "So könnte beispielsweise die Ausgabe aussehen."
   ]
  },
  {
   "cell_type": "code",
   "execution_count": 4,
   "metadata": {
    "tags": [
     "remove_input"
    ]
   },
   "outputs": [
    {
     "name": "stdout",
     "output_type": "stream",
     "text": [
      "Gegeben sind die Werte a = 5 und b = 10\n",
      "--> a ist kleiner als b\n"
     ]
    }
   ],
   "source": [
    "a = 5\n",
    "b = 10\n",
    "\n",
    "print(\"Gegeben sind die Werte a =\", a, \"und b =\", b)\n",
    "\n",
    "if a > b:\n",
    "    print(\"--> a ist größer als b\")\n",
    "else: \n",
    "    if a < b:\n",
    "        print(\"--> a ist kleiner als b\")\n",
    "    else:\n",
    "        print(\"--> a ist gleich b\")"
   ]
  },
  {
   "cell_type": "markdown",
   "metadata": {
    "tags": [
     "remove_cell"
    ]
   },
   "source": [
    "#### Lösung"
   ]
  },
  {
   "cell_type": "markdown",
   "metadata": {},
   "source": [
    "### Aufgabenteil B"
   ]
  },
  {
   "cell_type": "markdown",
   "metadata": {},
   "source": [
    "Schreiben Sie ein Skript, welches aus einer Liste Elemente in einem vorgegebenen Bereich filtert. Die Werte sollen auf zwei Listen aufgeteilt werden, eine, welche die Werte im gesuchten Bereich enthält und eine für die außerhalb. Das Skript können Sie an folgender zufälligen Zahlenfolge mit Werten zwischen 0 und 100 testen.\n",
    "\n",
    "86, 22, 45, 80, 11, 88, 20, 2, 34, 98, 92, 48, 74, 45, 67, 39, 82, 36, 65, 22, 24, 69, 44, 91, 78, 92, 10, 78, 77, 4"
   ]
  },
  {
   "cell_type": "markdown",
   "metadata": {},
   "source": [
    "#### Lösungshinweis"
   ]
  },
  {
   "cell_type": "markdown",
   "metadata": {},
   "source": [
    "Testfälle:\n",
    "\n",
    "* Für den Wertebereich 25 bis 65 sind folgende 8 Elemente 45, 34, 48, 45, 39, 36, 65 und 44 im gesuchten Bereich\n",
    "* Für den Wertebereich 10 bis 80 sind 21 Elemente im gesuchten Bereich "
   ]
  },
  {
   "cell_type": "markdown",
   "metadata": {},
   "source": [
    "Eine Ausgabe könnte wie folgt aussehen."
   ]
  },
  {
   "cell_type": "code",
   "execution_count": 18,
   "metadata": {
    "tags": [
     "remove_input"
    ]
   },
   "outputs": [
    {
     "name": "stdout",
     "output_type": "stream",
     "text": [
      "Gegebene Liste:  [86, 22, 45, 80, 11, 88, 20, 2, 34, 98, 92, 48, 74, 45, 67, 39, 82, 36, 65, 22, 24, 69, 44, 91, 78, 92, 10, 78, 77, 4]\n",
      "Untere Grenze:  25\n",
      "Obere Grenze:  65\n",
      "Liste innerhalb:  [45, 34, 48, 45, 39, 36, 65, 44]\n",
      "Liste außerhalb:  [86, 22, 80, 11, 88, 20, 2, 98, 92, 74, 67, 82, 22, 24, 69, 91, 78, 92, 10, 78, 77, 4]\n",
      "Anzahl der Werte innerhalb:  8\n"
     ]
    }
   ],
   "source": [
    "werte = [86, 22, 45, 80, 11, 88, 20, 2, 34, 98, 92, 48, 74, 45, 67, 39, 82, 36, 65, 22, 24, 69, 44, 91, 78, 92, 10, 78, 77, 4]\n",
    "\n",
    "unten = 25\n",
    "oben = 65\n",
    "\n",
    "innerhalb = []\n",
    "ausserhalb = []\n",
    "for el in werte:\n",
    "    if el >= unten and el <= oben:\n",
    "        innerhalb.append(el)\n",
    "    else:\n",
    "        ausserhalb.append(el)\n",
    "\n",
    "print(\"Gegebene Liste: \", werte)\n",
    "print(\"Untere Grenze: \", unten)\n",
    "print(\"Obere Grenze: \", oben)\n",
    "print(\"Liste innerhalb: \", innerhalb)\n",
    "print(\"Liste außerhalb: \", ausserhalb)\n",
    "print(\"Anzahl der Werte innerhalb: \", len(innerhalb))"
   ]
  }
 ],
 "metadata": {
  "kernelspec": {
   "display_name": "Python 3",
   "language": "python",
   "name": "python3"
  },
  "language_info": {
   "codemirror_mode": {
    "name": "ipython",
    "version": 3
   },
   "file_extension": ".py",
   "mimetype": "text/x-python",
   "name": "python",
   "nbconvert_exporter": "python",
   "pygments_lexer": "ipython3",
   "version": "3.8.2"
  }
 },
 "nbformat": 4,
 "nbformat_minor": 4
}
