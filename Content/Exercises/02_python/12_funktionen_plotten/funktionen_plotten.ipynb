{
 "cells": [
  {
   "cell_type": "markdown",
   "metadata": {
    "tags": [
     "remove_cell"
    ]
   },
   "source": [
    "<div style=\"width: 100%; overflow: hidden;\">\n",
    "    <div style=\"width: 500px; float: left;\"> \n",
    "        <h1>Ingenieurinformatik – Übung</h1>\n",
    "        Lehrstuhl <b>Computational Civil Engineering</b><br>\n",
    "        Kontakt: <a href = \"mailto: cce-inginf@uni-wuppertal.de\">Email senden</a> | Individuelle Kontakte siehe Webseite des Lehrstuhls<br>\n",
    "        Links: \n",
    "        <a href=\"cce.uni-wuppertal.de/inginf\">Vorlesungsskript</a> | \n",
    "        <a href=\"cce.uni-wuppertal.de/\">Webseite des Lehrstuhls</a>\n",
    "    </div>\n",
    "    <div style=\"float:right;\"> \n",
    "        <img src=\"logo_cce_combined.png\" style=\"width:150px;\"/>\n",
    "    </div>\n",
    "</div>"
   ]
  },
  {
   "cell_type": "markdown",
   "metadata": {
    "tags": [
     "remove_cell"
    ]
   },
   "source": [
    "# Aufgabe 2.12 – Plotten von Funktionen"
   ]
  },
  {
   "cell_type": "markdown",
   "metadata": {},
   "source": [
    "Visualisierung von Daten ist wichtig in vielen Berufen und besonders in allen wissenschaftlichen. Visualisierung wird benötigt, um Informationen aus Datensätzen zu komprimieren, um sie verstehen und präsentieren zu können.<br>\n",
    "In dieser Aufgabe beschäftigen Sie sich mit den grundlegenden Funktionen des Pythonmoduls *matplotlib*."
   ]
  },
  {
   "cell_type": "markdown",
   "metadata": {},
   "source": [
    "## Aufgabenstellung"
   ]
  },
  {
   "cell_type": "markdown",
   "metadata": {},
   "source": [
    "Plotten Sie die Quadratfunktion $f(x) = x^2$ und ihre analytische Ableitung für Werte im Bereich $x \\in [-9,9]$. Dabei sollte $f(x)$ mit Punkten und durchgezogener Linie in blauer Farbe und die Ableitung als gestrichelte Linie in roter Farbe dargestellt sein. Die x-Achse des geszeichneten Koordinatensystems soll Werte von -10 bis 10 und die y-Achse von -20 bis 100 aufgetragen haben. Weiterhin sind beide Funktionen mittels Legende zu beschriften sowie sinnvolle Achsentitel, ein Graphiktitel und ein Gitternetz einzufügen. Der finale Plot soll als Bilddatei abgespeichert werden."
   ]
  },
  {
   "cell_type": "markdown",
   "metadata": {},
   "source": [
    "### Lösungshinweis\n",
    "\n",
    "Ihre Darstellung der Funktionen könnte wie folgt aussehen:"
   ]
  },
  {
   "cell_type": "code",
   "execution_count": 5,
   "metadata": {
    "tags": [
     "remove_input"
    ]
   },
   "outputs": [
    {
     "ename": "ModuleNotFoundError",
     "evalue": "No module named 'matplotlib'",
     "output_type": "error",
     "traceback": [
      "\u001b[0;31m---------------------------------------------------------------------------\u001b[0m",
      "\u001b[0;31mModuleNotFoundError\u001b[0m                       Traceback (most recent call last)",
      "\u001b[0;32m<ipython-input-5-51e35b1b3052>\u001b[0m in \u001b[0;36m<module>\u001b[0;34m\u001b[0m\n\u001b[0;32m----> 1\u001b[0;31m \u001b[0;32mimport\u001b[0m \u001b[0mmatplotlib\u001b[0m\u001b[0;34m.\u001b[0m\u001b[0mpyplot\u001b[0m \u001b[0;32mas\u001b[0m \u001b[0mplt\u001b[0m\u001b[0;34m\u001b[0m\u001b[0;34m\u001b[0m\u001b[0m\n\u001b[0m\u001b[1;32m      2\u001b[0m \u001b[0;34m\u001b[0m\u001b[0m\n\u001b[1;32m      3\u001b[0m \u001b[0mwerte\u001b[0m \u001b[0;34m=\u001b[0m \u001b[0mlist\u001b[0m\u001b[0;34m(\u001b[0m\u001b[0mrange\u001b[0m\u001b[0;34m(\u001b[0m\u001b[0;34m-\u001b[0m\u001b[0;36m9\u001b[0m\u001b[0;34m,\u001b[0m\u001b[0;36m10\u001b[0m\u001b[0;34m)\u001b[0m\u001b[0;34m)\u001b[0m\u001b[0;34m\u001b[0m\u001b[0;34m\u001b[0m\u001b[0m\n\u001b[1;32m      4\u001b[0m \u001b[0my\u001b[0m \u001b[0;34m=\u001b[0m \u001b[0;34m[\u001b[0m\u001b[0;34m]\u001b[0m\u001b[0;34m\u001b[0m\u001b[0;34m\u001b[0m\u001b[0m\n\u001b[1;32m      5\u001b[0m \u001b[0my_abl\u001b[0m \u001b[0;34m=\u001b[0m \u001b[0;34m[\u001b[0m\u001b[0;34m]\u001b[0m\u001b[0;34m\u001b[0m\u001b[0;34m\u001b[0m\u001b[0m\n",
      "\u001b[0;31mModuleNotFoundError\u001b[0m: No module named 'matplotlib'"
     ]
    }
   ],
   "source": [
    "import matplotlib.pyplot as plt\n",
    "\n",
    "werte = list(range(-9,10)) \n",
    "y = []\n",
    "y_abl = []\n",
    "for x in werte:\n",
    "    y.append(x**2)\n",
    "    y_abl.append(2*x)\n",
    "\n",
    "plt.plot(werte,y, 'bo-', label='x2')\n",
    "plt.plot(werte,y_abl, 'r--', label='Ableitung')\n",
    "plt.xlabel('Argument')\n",
    "plt.ylabel('Funktionswert')\n",
    "plt.title('Quadratfunktion und ihre Ableitung')\n",
    "plt.legend()\n",
    "plt.xlim(-10,10)\n",
    "plt.ylim(-20,100)\n",
    "plt.grid()\n",
    "plt.show()"
   ]
  },
  {
   "cell_type": "markdown",
   "metadata": {
    "tags": [
     "remove_cell"
    ]
   },
   "source": [
    "#### Lösungsvorschlag"
   ]
  },
  {
   "cell_type": "code",
   "execution_count": 4,
   "metadata": {
    "tags": [
     "remove_cell"
    ]
   },
   "outputs": [
    {
     "name": "stdout",
     "output_type": "stream",
     "text": [
      "Die maximalen Temperaturen sowie die mittleren Temperaturen wurden in \"TC_verarbeitet.csv\" gespeichert.\n"
     ]
    }
   ],
   "source": [
    "import matplotlib.pyplot as plt\n",
    "\n",
    "werte = list(range(-9,10)) \n",
    "y = []\n",
    "y_abl = []\n",
    "for x in werte:\n",
    "    y.append(x**2)\n",
    "    y_abl.append(2*x)\n",
    "\n",
    "plt.plot(werte,y, 'bo-', label='x2')\n",
    "plt.plot(werte,y_abl, 'r--', label='Ableitung')\n",
    "plt.xlabel('Argument')\n",
    "plt.ylabel('Funktionswert')\n",
    "plt.title('Quadratfunktion und ihre Ableitung')\n",
    "plt.legend()\n",
    "plt.xlim(-10,10)\n",
    "plt.ylim(-20,100)\n",
    "plt.grid()\n",
    "plt.savefig('a2_12_plot.png')\n"
   ]
  }
 ],
 "metadata": {
  "kernelspec": {
   "display_name": "Python 3",
   "language": "python",
   "name": "python3"
  },
  "language_info": {
   "codemirror_mode": {
    "name": "ipython",
    "version": 3
   },
   "file_extension": ".py",
   "mimetype": "text/x-python",
   "name": "python",
   "nbconvert_exporter": "python",
   "pygments_lexer": "ipython3",
   "version": "3.7.5"
  }
 },
 "nbformat": 4,
 "nbformat_minor": 4
}
