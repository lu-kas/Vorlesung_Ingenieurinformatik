{
 "cells": [
  {
   "cell_type": "markdown",
   "metadata": {
    "tags": [
     "remove_cell"
    ]
   },
   "source": [
    "<div style=\"width: 100%; overflow: hidden;\">\n",
    "    <div style=\"width: 500px; float: left;\"> \n",
    "        <h1>Ingenieurinformatik – Übung</h1>\n",
    "        Lehrstuhl <b>Computational Civil Engineering</b><br>\n",
    "        Kontakt: <a href = \"mailto: cce-inginf@uni-wuppertal.de\">Email senden</a> | Individuelle Kontakte siehe Webseite des Lehrstuhls<br>\n",
    "        Links: \n",
    "        <a href=\"cce.uni-wuppertal.de/inginf\">Vorlesungsskript</a> | \n",
    "        <a href=\"cce.uni-wuppertal.de/\">Webseite des Lehrstuhls</a>\n",
    "    </div>\n",
    "    <div style=\"float:right;\"> \n",
    "        <img src=\"logo_cce_combined.png\" style=\"width:150px;\"/>\n",
    "    </div>\n",
    "</div>"
   ]
  },
  {
   "cell_type": "markdown",
   "metadata": {
    "tags": [
     "remove_cell"
    ]
   },
   "source": [
    "# Aufgabe 2.13 – Plotten von Daten"
   ]
  },
  {
   "cell_type": "markdown",
   "metadata": {},
   "source": [
    "## Aufgabenstellung"
   ]
  },
  {
   "cell_type": "markdown",
   "metadata": {},
   "source": [
    "In der Datei \"<a href='niederschlag_rom.txt' download>niederschlag_rom.txt</A>\" finden Sie die Regenstatistik von Rom gemittelt für jeden Monat über ein Zeitintervall von 1782 bis 1970. Die ersten Zeilen der Datei sind Kommentarzeilen, die die Randbedingungen und den Aufbau der Messdatei beschreiben.<br>\n",
    "Schreiben Sie ein Programm, das die Messdaten mit Legende und passender Achsenbeschriftung graphisch darstellt."
   ]
  },
  {
   "cell_type": "markdown",
   "metadata": {},
   "source": [
    "### Lösungshinweis\n",
    "\n",
    "Ihre Darstellung der Daten könnte folgendermaßen aussehen:"
   ]
  },
  {
   "cell_type": "code",
   "execution_count": null,
   "metadata": {
    "tags": [
     "remove_input"
    ]
   },
   "outputs": [],
   "source": [
    "import matplotlib.pylot as plt\n",
    "\n",
    "monat = []\n",
    "regen = []\n",
    "datafile = open('niederschlag_rom.txt')\n",
    "\n",
    "# Ueberspringen der 3 Kommentarzeilen\n",
    "datafile.readline()\n",
    "datafile.readline()\n",
    "datafile.readline()\n",
    "\n",
    "# Aufteilen der Messwerte in zwei listen\n",
    "for line in datafile:\n",
    "    line = line.strip('\\n').split('; ')\n",
    "    monat.append(float(line[0]))\n",
    "    regen.append(float(line[1]))\n",
    "datafile.close()\n",
    "\n",
    "# Plotten der Messwerte\n",
    "plt.plot(monat, regen, 'bo-', lw=2, label='Regen in Rom')\n",
    "plt.legend(loc=0)\n",
    "plt.grid()\n",
    "plt.xlabel('Zeit / Monat')\n",
    "plt.ylabel('Regen / mm')\n",
    "plt.title('Regen in Rom von 1782 bis 1970')\n",
    "plt.xlim([1,12])\n",
    "plt.xticks(x, ['Jan.','Feb.', 'Mar.', 'Apr.', 'Mai', 'Jun.', 'Jul.', 'Aug.', 'Sep.', 'Okt.', 'Nov.', 'Dez.'])\n",
    "plt.show()\n"
   ]
  },
  {
   "cell_type": "markdown",
   "metadata": {
    "tags": [
     "remove_cell"
    ]
   },
   "source": [
    "#### Lösungsvorschlag"
   ]
  },
  {
   "cell_type": "code",
   "execution_count": 4,
   "metadata": {
    "tags": [
     "remove_cell"
    ]
   },
   "outputs": [
    {
     "name": "stdout",
     "output_type": "stream",
     "text": [
      "Die maximalen Temperaturen sowie die mittleren Temperaturen wurden in \"TC_verarbeitet.csv\" gespeichert.\n"
     ]
    }
   ],
   "source": [
    "import matplotlib.pylot as plt\n",
    "\n",
    "monat = []\n",
    "regen = []\n",
    "datafile = open('niederschlag_rom.txt')\n",
    "\n",
    "# Ueberspringen der 3 Kommentarzeilen\n",
    "datafile.readline()\n",
    "datafile.readline()\n",
    "datafile.readline()\n",
    "\n",
    "# Aufteilen der Messwerte in zwei listen\n",
    "for line in datafile:\n",
    "    line = line.strip('\\n').split('; ')\n",
    "    monat.append(float(line[0]))\n",
    "    regen.append(float(line[1]))\n",
    "datafile.close()\n",
    "\n",
    "# Plotten der Messwerte\n",
    "plt.plot(monat, regen, 'bo-', lw=2, label='Regen in Rom')\n",
    "plt.legend(loc=0)\n",
    "plt.grid()\n",
    "plt.xlabel('Zeit / Monat')\n",
    "plt.ylabel('Regen / mm')\n",
    "plt.title('Regen in Rom von 1782 bis 1970')\n",
    "plt.xlim([1,12])\n",
    "plt.xticks(x, ['Jan.','Feb.', 'Mar.', 'Apr.', 'Mai', 'Jun.', 'Jul.', 'Aug.', 'Sep.', 'Okt.', 'Nov.', 'Dez.'])\n",
    "plt.savefig('niederschlag_rom.png')"
   ]
  }
 ],
 "metadata": {
  "kernelspec": {
   "display_name": "Python 3",
   "language": "python",
   "name": "python3"
  },
  "language_info": {
   "codemirror_mode": {
    "name": "ipython",
    "version": 3
   },
   "file_extension": ".py",
   "mimetype": "text/x-python",
   "name": "python",
   "nbconvert_exporter": "python",
   "pygments_lexer": "ipython3",
   "version": "3.7.5"
  }
 },
 "nbformat": 4,
 "nbformat_minor": 4
}
