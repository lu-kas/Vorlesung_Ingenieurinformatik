{
 "cells": [
  {
   "cell_type": "markdown",
   "metadata": {
    "tags": [
     "remove_cell"
    ]
   },
   "source": [
    "<div style=\"width: 100%; overflow: hidden;\">\n",
    "    <div style=\"width: 500px; float: left;\"> \n",
    "        <h1>Ingenieurinformatik – Übung</h1>\n",
    "        Lehrstuhl <b>Computational Civil Engineering</b><br>\n",
    "        Kontakt: <a href = \"mailto: cce-inginf@uni-wuppertal.de\">Email senden</a> | Individuelle Kontakte siehe Webseite des Lehrstuhls<br>\n",
    "        Links: \n",
    "        <a href=\"cce.uni-wuppertal.de/inginf\">Vorlesungsskript</a> | \n",
    "        <a href=\"cce.uni-wuppertal.de/\">Webseite des Lehrstuhls</a>\n",
    "    </div>\n",
    "    <div style=\"float:right;\"> \n",
    "        <img src=\"logo_cce_combined.png\" style=\"width:150px;\"/>\n",
    "    </div>\n",
    "</div>"
   ]
  },
  {
   "cell_type": "markdown",
   "metadata": {
    "tags": [
     "remove_cell"
    ]
   },
   "source": [
    "# Aufgabe 2.7 – Funktionen"
   ]
  },
  {
   "cell_type": "markdown",
   "metadata": {},
   "source": [
    "In dieser Aufgabe werden Funktionen selbst definiert und eingesetzt."
   ]
  },
  {
   "cell_type": "markdown",
   "metadata": {},
   "source": [
    "## Aufgabenstellung"
   ]
  },
  {
   "cell_type": "markdown",
   "metadata": {},
   "source": [
    "### Aufgabenteil A"
   ]
  },
  {
   "cell_type": "markdown",
   "metadata": {},
   "source": [
    "1. Schreiben Sie eine Funktion, welche die folgende Näherungsformel für die Zahl $\\sf \\pi$ bis zum $\\sf N$-ten Summanden auswertet.\n",
    "$$ \\sf \\frac{\\pi}{4} \\approx \\sum_{k=0}^N \\frac{(-1)^k}{2k+1} $$\n",
    "Die Funktion soll $\\sf N$ als einziges Argument aufnehmen und den Näherungswert zurückgeben.\n",
    "1. Schreiben Sie ein Skript, welches die obige Funktion für verschiedene Werte von $\\sf N$ aufruft und die Differenz zum exakten Wert von $\\sf \\pi$ ausgibt:\n",
    "$$\\sf \\pi = 3.141592653589793238\\dots$$\n",
    "Darüber hinaus soll auch der Faktor um welchen sich die Differenz zwischen den gewählten verringert ausgegeben werden. Speichern Sie dazu am besten die Berechneten Näherungswerte in eine Liste und führen erst danach die Ausgabe durch.\n",
    "1. Betrachten Sie einen Wertebereich von $\\sf N$ zwischen 1 und 100.\n"
   ]
  },
  {
   "cell_type": "markdown",
   "metadata": {},
   "source": [
    "#### Lösungshinweis"
   ]
  },
  {
   "cell_type": "markdown",
   "metadata": {},
   "source": [
    "So könnte beispielsweise die Ausgabe aussehen."
   ]
  },
  {
   "cell_type": "code",
   "execution_count": 2,
   "metadata": {
    "tags": [
     "remove_input"
    ]
   },
   "outputs": [],
   "source": [
    "def my_pi(N):\n",
    "    p = 0\n",
    "    for i in range(N+1):\n",
    "        p += (-1)**i / (2*i+1)\n",
    "    return p*4\n",
    "    "
   ]
  },
  {
   "cell_type": "code",
   "execution_count": 14,
   "metadata": {
    "tags": [
     "remove_input"
    ]
   },
   "outputs": [],
   "source": [
    "pis = []\n",
    "Ns = []\n",
    "ds = []\n",
    "for N in range(10,20):\n",
    "    Ns.append(N)\n",
    "    pis.append(my_pi(N))\n",
    "    ds.append(abs(my_pi(N) - 3.141592653589793238))"
   ]
  },
  {
   "cell_type": "code",
   "execution_count": 26,
   "metadata": {
    "tags": [
     "remove_input"
    ]
   },
   "outputs": [
    {
     "name": "stdout",
     "output_type": "stream",
     "text": [
      "N\t ~π\t\t\t ∆π\t\t\t Reduktionsfaktor\n",
      "===========================================================================\n",
      "10 \t 3.232315809405594 \t 0.09072315581580082 \t None\n",
      "11 \t 3.058402765927333 \t 0.08318988766245994 \t 1.0905550946757718\n",
      "12 \t 3.2184027659273333 \t 0.0768101123375402 \t 1.0830590547359698\n",
      "13 \t 3.0702546177791854 \t 0.07133803581060771 \t 1.0767062965044352\n",
      "14 \t 3.208185652261944 \t 0.06659299867215074 \t 1.0712542944914922\n",
      "15 \t 3.079153394197428 \t 0.062439259392365276 \t 1.0665244802742384\n",
      "16 \t 3.200365515409549 \t 0.05877286181975583 \t 1.0623824918353224\n",
      "17 \t 3.0860798011238346 \t 0.055512852465958495 \t 1.0587253079058843\n",
      "18 \t 3.1941879092319425 \t 0.0525952556421494 \t 1.0554726236841592\n",
      "19 \t 3.09162380666784 \t 0.04996884692195325 \t 1.0525609230947106\n"
     ]
    }
   ],
   "source": [
    "print(\"N\\t ~π\\t\\t\\t ∆π\\t\\t\\t Reduktionsfaktor\")\n",
    "print(\"=\"*75)\n",
    "for i in range(len(Ns)):\n",
    "    f = None\n",
    "    if i != 0:\n",
    "        f = abs(ds[i-1]/ds[i])\n",
    "    print(Ns[i], '\\t', pis[i], '\\t', ds[i], '\\t', f)"
   ]
  },
  {
   "cell_type": "markdown",
   "metadata": {
    "tags": [
     "remove_cell"
    ]
   },
   "source": [
    "#### Lösung"
   ]
  },
  {
   "cell_type": "code",
   "execution_count": null,
   "metadata": {},
   "outputs": [],
   "source": []
  },
  {
   "cell_type": "markdown",
   "metadata": {},
   "source": [
    "### Aufgabenteil B"
   ]
  },
  {
   "cell_type": "markdown",
   "metadata": {},
   "source": [
    "Implementieren Sie die den Bubble-Sort Algorithmus als eine eigene Funktion. Als optionaler Parameter solle eine Ausgabe gesteuert werden, d.h. den Zwischenzustand der zu sortierenden Liste.\n",
    "\n",
    "Testen Sie ihre Funktion anhand folgender Zufallszahlen:"
   ]
  },
  {
   "cell_type": "markdown",
   "metadata": {},
   "source": [
    "#### Lösungshinweis"
   ]
  },
  {
   "cell_type": "markdown",
   "metadata": {},
   "source": [
    "Testfälle:\n",
    "\n",
    "* Für den Wertebereich 25 bis 65 sind folgende 8 Elemente 45, 34, 48, 45, 39, 36, 65 und 44 im gesuchten Bereich\n",
    "* Für den Wertebereich 10 bis 80 sind 21 Elemente im gesuchten Bereich "
   ]
  },
  {
   "cell_type": "markdown",
   "metadata": {},
   "source": [
    "Eine Ausgabe könnte wie folgt aussehen."
   ]
  },
  {
   "cell_type": "code",
   "execution_count": 18,
   "metadata": {
    "tags": [
     "remove_input"
    ]
   },
   "outputs": [
    {
     "name": "stdout",
     "output_type": "stream",
     "text": [
      "Gegebene Liste:  [86, 22, 45, 80, 11, 88, 20, 2, 34, 98, 92, 48, 74, 45, 67, 39, 82, 36, 65, 22, 24, 69, 44, 91, 78, 92, 10, 78, 77, 4]\n",
      "Untere Grenze:  25\n",
      "Obere Grenze:  65\n",
      "Liste innerhalb:  [45, 34, 48, 45, 39, 36, 65, 44]\n",
      "Liste außerhalb:  [86, 22, 80, 11, 88, 20, 2, 98, 92, 74, 67, 82, 22, 24, 69, 91, 78, 92, 10, 78, 77, 4]\n",
      "Anzahl der Werte innerhalb:  8\n"
     ]
    }
   ],
   "source": [
    "werte = [86, 22, 45, 80, 11, 88, 20, 2, 34, 98, 92, 48, 74, 45, 67, 39, 82, 36, 65, 22, 24, 69, 44, 91, 78, 92, 10, 78, 77, 4]\n",
    "\n",
    "unten = 25\n",
    "oben = 65\n",
    "\n",
    "innerhalb = []\n",
    "ausserhalb = []\n",
    "for el in werte:\n",
    "    if el >= unten and el <= oben:\n",
    "        innerhalb.append(el)\n",
    "    else:\n",
    "        ausserhalb.append(el)\n",
    "\n",
    "print(\"Gegebene Liste: \", werte)\n",
    "print(\"Untere Grenze: \", unten)\n",
    "print(\"Obere Grenze: \", oben)\n",
    "print(\"Liste innerhalb: \", innerhalb)\n",
    "print(\"Liste außerhalb: \", ausserhalb)\n",
    "print(\"Anzahl der Werte innerhalb: \", len(innerhalb))"
   ]
  }
 ],
 "metadata": {
  "kernelspec": {
   "display_name": "Python 3",
   "language": "python",
   "name": "python3"
  },
  "language_info": {
   "codemirror_mode": {
    "name": "ipython",
    "version": 3
   },
   "file_extension": ".py",
   "mimetype": "text/x-python",
   "name": "python",
   "nbconvert_exporter": "python",
   "pygments_lexer": "ipython3",
   "version": "3.8.2"
  }
 },
 "nbformat": 4,
 "nbformat_minor": 4
}
