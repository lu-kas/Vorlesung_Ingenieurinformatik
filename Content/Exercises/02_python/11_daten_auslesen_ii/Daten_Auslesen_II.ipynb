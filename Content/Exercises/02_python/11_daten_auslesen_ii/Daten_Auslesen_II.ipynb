{
 "cells": [
  {
   "cell_type": "markdown",
   "metadata": {
    "tags": [
     "remove_cell"
    ]
   },
   "source": [
    "<div style=\"width: 100%; overflow: hidden;\">\n",
    "    <div style=\"width: 500px; float: left;\"> \n",
    "        <h1>Ingenieurinformatik – Übung</h1>\n",
    "        Lehrstuhl <b>Computational Civil Engineering</b><br>\n",
    "        Kontakt: <a href = \"mailto: cce-inginf@uni-wuppertal.de\">Email senden</a> | Individuelle Kontakte siehe Webseite des Lehrstuhls<br>\n",
    "        Links: \n",
    "        <a href=\"cce.uni-wuppertal.de/inginf\">Vorlesungsskript</a> | \n",
    "        <a href=\"cce.uni-wuppertal.de/\">Webseite des Lehrstuhls</a>\n",
    "    </div>\n",
    "    <div style=\"float:right;\"> \n",
    "        <img src=\"logo_cce_combined.png\" style=\"width:150px;\"/>\n",
    "    </div>\n",
    "</div>"
   ]
  },
  {
   "cell_type": "markdown",
   "metadata": {
    "tags": [
     "remove_cell"
    ]
   },
   "source": [
    "# Aufgabe 2.8 – Daten auslesen und verarbeiten II"
   ]
  },
  {
   "cell_type": "markdown",
   "metadata": {},
   "source": [
    "Diese Aufgabe stellt eine typische erste Anwendung aus dem Bereich der Datenanalyse dar. In unserem Fall haben Sie 12 Thermometer, die zeitlich synchron aber räumlich verteilt die Temperatur eines Stahlträgers messen, der an einer Stelle erhitzt wird. Jede Messreihe ist in einer eigenen Datei abgelegt und all diese Daten müssen geladen und sinnvoll in Variablen gespeichert werden, um damit arbeiten zu können.<br>\n",
    "Die Datei finden Sie _______________________________."
   ]
  },
  {
   "cell_type": "markdown",
   "metadata": {},
   "source": [
    "### Aufgabenstellung"
   ]
  },
  {
   "cell_type": "markdown",
   "metadata": {},
   "source": [
    "1. Schauen Sie sich die Messdaten in den Dateien TC01.csv - TC12.csv an und überlegen Sie sich, wie Sie diese Daten sinnvoll in ihrem Programm nutzbar machen können. Implementieren Sie dies.\n",
    "2. Berechnen Sie für jeden Zeitpunkt die Höchsttemperatur sowie die mittlere Temperatur.\n",
    "3. Schreiben Sie die Ergebnisse in eine neue Datei. Nutzen sie f-Strings, um diese auf eine Nachkommastelle zu runden."
   ]
  },
  {
   "cell_type": "markdown",
   "metadata": {},
   "source": [
    "#### Lösungshinweise\n",
    "\n",
    "* Zum Einlesen der Dateien bietet sich das glob Module an.\n",
    "* Lesen Sie sich nochmal im Skript den Teil zu geschachtelte Listen durch."
   ]
  },
  {
   "cell_type": "markdown",
   "metadata": {
    "tags": [
     "remove_cell"
    ]
   },
   "source": [
    "#### Lösung"
   ]
  },
  {
   "cell_type": "code",
   "execution_count": 44,
   "metadata": {
    "tags": [
     "remove_cell"
    ]
   },
   "outputs": [
    {
     "name": "stdout",
     "output_type": "stream",
     "text": [
      "Die maximalen Temperaturen sowie die mittleren Temperaturen wurden in \"TC_verarbeitet.csv\" gespeichert.\n"
     ]
    }
   ],
   "source": [
    "# Auslesen und Ausgeben einer Datei\n",
    "import glob\n",
    "\n",
    "# Erstelle Liste mit allen Dateien im Verzeichniss mit gegebenem Namen\n",
    "datei_namen = glob.glob('TC??.csv')\n",
    "daten = []\n",
    "\n",
    "# Laden der Zeitstempel\n",
    "file = open(datei_namen[0], 'r')\n",
    "daten.append([])\n",
    "for line in file:\n",
    "    daten[0].append(line.split(',')[0])\n",
    "\n",
    "# Speichern aller Daten in einer Matrix\n",
    "datei_nr = 1\n",
    "for datei in datei_namen:\n",
    "    daten.append([])\n",
    "    file = open(datei, 'r')\n",
    "    for line in file:\n",
    "        daten[datei_nr].append(float(line.split(',')[1]))\n",
    "    datei_nr += 1\n",
    "\n",
    "# Berechnen von maximaler und mittlerer Temperatur\n",
    "mittl_temp = []\n",
    "max_temp = []\n",
    "\n",
    "# Schleife über alle Zeitschritte\n",
    "for i in range(0, len(daten[0])):\n",
    "    mittl_temp.append(0)\n",
    "    max_temp.append(daten[1][i])      # benutze als Startwert eine der zu vergleichenden Temperaturen\n",
    "    \n",
    "    #Schleife über die Messwerte pro Zeitschritt\n",
    "    for j in range(1, len(daten)):\n",
    "        mittl_temp[i] += daten[j][i]\n",
    "        max_temp[i] = max(max_temp[i], daten[j][i])   \n",
    "    mittl_temp[i] /= len(daten)\n",
    "    \n",
    "# Speichern in einer neuen Datei\n",
    "file = open('TC_verarbeitet.csv', 'w')\n",
    "for i in range(0,len(mittl_temp)):\n",
    "    file.write(f'{daten[0][i]},{mittl_temp[i]:.1f},{max_temp[i]}\\n')\n",
    "print('Die maximalen Temperaturen sowie die mittleren Temperaturen wurden in \"TC_verarbeitet.csv\" gespeichert.')\n",
    "file.close()"
   ]
  },
  {
   "cell_type": "code",
   "execution_count": null,
   "metadata": {},
   "outputs": [],
   "source": []
  }
 ],
 "metadata": {
  "kernelspec": {
   "display_name": "Python 3",
   "language": "python",
   "name": "python3"
  },
  "language_info": {
   "codemirror_mode": {
    "name": "ipython",
    "version": 3
   },
   "file_extension": ".py",
   "mimetype": "text/x-python",
   "name": "python",
   "nbconvert_exporter": "python",
   "pygments_lexer": "ipython3",
   "version": "3.7.5"
  }
 },
 "nbformat": 4,
 "nbformat_minor": 4
}
