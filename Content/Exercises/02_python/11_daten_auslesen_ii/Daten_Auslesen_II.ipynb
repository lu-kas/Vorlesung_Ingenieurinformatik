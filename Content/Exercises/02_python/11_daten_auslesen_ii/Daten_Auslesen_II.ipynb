{
 "cells": [
  {
   "cell_type": "markdown",
   "metadata": {
    "tags": [
     "remove_cell"
    ]
   },
   "source": [
    "<div style=\"width: 100%; overflow: hidden;\">\n",
    "    <div style=\"width: 500px; float: left;\"> \n",
    "        <h1>Ingenieurinformatik – Übung</h1>\n",
    "        Lehrstuhl <b>Computational Civil Engineering</b><br>\n",
    "        Kontakt: <a href = \"mailto: cce-inginf@uni-wuppertal.de\">Email senden</a> | Individuelle Kontakte siehe Webseite des Lehrstuhls<br>\n",
    "        Links: \n",
    "        <a href=\"cce.uni-wuppertal.de/inginf\">Vorlesungsskript</a> | \n",
    "        <a href=\"cce.uni-wuppertal.de/\">Webseite des Lehrstuhls</a>\n",
    "    </div>\n",
    "    <div style=\"float:right;\"> \n",
    "        <img src=\"logo_cce_combined.png\" style=\"width:150px;\"/>\n",
    "    </div>\n",
    "</div>"
   ]
  },
  {
   "cell_type": "markdown",
   "metadata": {
    "tags": [
     "remove_cell"
    ]
   },
   "source": [
    "# Aufgabe 2.11 – Daten auslesen und verarbeiten II"
   ]
  },
  {
   "cell_type": "markdown",
   "metadata": {},
   "source": [
    "Diese Aufgabe stellt eine typische erste Anwendung aus dem Bereich der Datenanalyse dar. In unserem Fall haben Sie 12 Thermometer, die zeitlich synchron aber räumlich verteilt die Temperatur eines Stahlträgers messen, der an einer Stelle erhitzt wird. Jede Messreihe ist in einer eigenen Datei abgelegt und all diese Daten müssen geladen und sinnvoll in Variablen gespeichert werden, um damit arbeiten zu können.<br>\n",
    "Die Dateien finden Sie <a href='messdaten.zip' download>hier</a>."
   ]
  },
  {
   "cell_type": "markdown",
   "metadata": {},
   "source": [
    "### Aufgabenstellung"
   ]
  },
  {
   "cell_type": "markdown",
   "metadata": {},
   "source": [
    "1. Schauen Sie sich die Messdaten in den Dateien TC01.csv - TC12.csv an. Speichern Sie die Daten in einer verschachtelten Liste. Das Konzept und der Zugriff auf die Elemente via zwei for-Schleifen ist in der Graphik unten dargestellt. Da die Messungen alle synchron durchgeführt wurden, könnte die Liste folgendermaßen aussehen:\n",
    " * das erste Element ist eine Liste mit allen Zeitstempeln\n",
    " * die folgenden 12 Elemente sind Listen der Messwerte aus den 12 Testreihen\n",
    "1. Berechnen Sie für jeden Zeitpunkt die Höchsttemperatur sowie die mittlere Temperatur.\n",
    "1. Schreiben Sie die Ergebnisse in eine neue Datei. Nutzen sie f-Strings, um diese auf eine Nachkommastelle zu runden."
   ]
  },
  {
   "cell_type": "markdown",
   "metadata": {},
   "source": [
    "<div style='text-align:center;'>\n",
    "    <img src='verschachtelte_listen.png' style='width:400px;'/>\n",
    "</div>"
   ]
  },
  {
   "cell_type": "markdown",
   "metadata": {},
   "source": [
    "#### Lösungshinweise\n",
    "\n",
    "* Zum Einlesen der Dateien bietet sich das glob Module an.\n",
    "* Das Verstehen von geschachtelten Listen bevor man mit dem Programmieren beginnt, kann einem viel Kopfzerbrechen sparen."
   ]
  },
  {
   "cell_type": "markdown",
   "metadata": {
    "tags": [
     "remove_cell"
    ]
   },
   "source": [
    "#### Lösungsvorschlag I"
   ]
  },
  {
   "cell_type": "code",
   "execution_count": 4,
   "metadata": {
    "tags": [
     "remove_cell"
    ]
   },
   "outputs": [
    {
     "name": "stdout",
     "output_type": "stream",
     "text": [
      "Die maximalen Temperaturen sowie die mittleren Temperaturen wurden in \"TC_verarbeitet.csv\" gespeichert.\n"
     ]
    }
   ],
   "source": [
    "# Auslesen und Ausgeben einer Datei\n",
    "import glob\n",
    "\n",
    "# Erstelle Liste mit allen Dateien im Verzeichniss mit gegebenem Namen\n",
    "datei_namen = glob.glob('TC??.csv')\n",
    "daten = []\n",
    "\n",
    "# Laden der Zeitstempel\n",
    "file = open(datei_namen[0], 'r')\n",
    "daten.append([])\n",
    "for line in file:\n",
    "    daten[0].append(line.split(',')[0])\n",
    "\n",
    "# Speichern aller Daten in einer Matrix\n",
    "datei_nr = 1\n",
    "for datei in datei_namen:\n",
    "    daten.append([])\n",
    "    file = open(datei, 'r')\n",
    "    for line in file:\n",
    "        daten[datei_nr].append(float(line.split(',')[1]))\n",
    "    datei_nr += 1\n",
    "\n",
    "# Berechnen von maximaler und mittlerer Temperatur\n",
    "mittl_temp = []\n",
    "max_temp = []\n",
    "\n",
    "# Schleife über alle Zeitschritte\n",
    "for j in range(0, len(daten[0])):\n",
    "    mittl_temp.append(0)\n",
    "    max_temp.append(daten[1][j])      # benutze als Startwert eine der zu vergleichenden Temperaturen\n",
    "    \n",
    "    #Schleife über alle Messreihen\n",
    "    for i in range(1, len(daten)):\n",
    "        mittl_temp[j] += daten[i][j]\n",
    "        max_temp[j] = max(max_temp[j], daten[i][j])   \n",
    "    mittl_temp[j] /= len(daten) - 1\n",
    "    \n",
    "# Speichern in einer neuen Datei\n",
    "file = open('TC_verarbeitet.csv', 'w')\n",
    "for i in range(0,len(mittl_temp)):\n",
    "    file.write(f'{daten[0][i]},{mittl_temp[i]:.1f},{max_temp[i]}\\n')\n",
    "print('Die maximalen Temperaturen sowie die mittleren Temperaturen wurden in \"TC_verarbeitet.csv\" gespeichert.')\n",
    "file.close()"
   ]
  },
  {
   "cell_type": "markdown",
   "metadata": {
    "tags": [
     "remove_cell"
    ]
   },
   "source": [
    "#### Lösungsvorschlag II\n",
    "\n",
    "Der Unterschied zu Lösungsvorschlag I ist, dass hier die Reihnefolge der geschachtelten Schleifen, getauscht wurde."
   ]
  },
  {
   "cell_type": "code",
   "execution_count": 27,
   "metadata": {
    "tags": [
     "remove_cell"
    ]
   },
   "outputs": [
    {
     "name": "stdout",
     "output_type": "stream",
     "text": [
      "Die maximalen Temperaturen sowie die mittleren Temperaturen wurden in \"TC_verarbeitet_2.csv\" gespeichert.\n"
     ]
    }
   ],
   "source": [
    "# Auslesen und Ausgeben einer Datei\n",
    "import glob\n",
    "\n",
    "# Erstelle Liste mit allen Dateien im Verzeichniss mit gegebenem Namen\n",
    "datei_namen = glob.glob('TC??.csv')\n",
    "daten = []\n",
    "\n",
    "# Laden der Zeitstempel\n",
    "file = open(datei_namen[0], 'r')\n",
    "daten.append([])\n",
    "for line in file:\n",
    "    daten[0].append(line.split(',')[0])\n",
    "\n",
    "# Speichern aller Daten in einer Matrix\n",
    "datei_nr = 1\n",
    "for datei in datei_namen:\n",
    "    daten.append([])\n",
    "    file = open(datei, 'r')\n",
    "    for line in file:\n",
    "        daten[datei_nr].append(float(line.split(',')[1]))\n",
    "    datei_nr += 1\n",
    "\n",
    "# Berechnen von maximaler und mittlerer Temperatur\n",
    "# Iinitialisieren der Listen für die Ergebnisse\n",
    "mittl_temp = []\n",
    "max_temp = []\n",
    "for j in range(0, len(daten[0])):\n",
    "    mittl_temp.append(daten[1][j]/(len(daten) - 1))\n",
    "    max_temp.append(daten[1][j])\n",
    "    \n",
    "# Schleife über alle Messreihen\n",
    "for i in range(2, len(daten)):\n",
    "    \n",
    "    # Schleife über alle Zeitschritte\n",
    "    for j in range(0, len(daten[0])):\n",
    "        mittl_temp[j] += daten[i][j]/(len(daten) - 1)\n",
    "        max_temp[j] = max(max_temp[j], daten[i][j])   \n",
    "    \n",
    "# Speichern in einer neuen Datei\n",
    "file = open('TC_verarbeitet_2.csv', 'w')\n",
    "for i in range(0,len(mittl_temp)):\n",
    "    file.write(f'{daten[0][i]},{mittl_temp[i]:.1f},{max_temp[i]}\\n')\n",
    "print('Die maximalen Temperaturen sowie die mittleren Temperaturen wurden in \"TC_verarbeitet_2.csv\" gespeichert.')\n",
    "file.close()"
   ]
  },
  {
   "cell_type": "code",
   "execution_count": null,
   "metadata": {},
   "outputs": [],
   "source": []
  }
 ],
 "metadata": {
  "kernelspec": {
   "display_name": "Python 3",
   "language": "python",
   "name": "python3"
  },
  "language_info": {
   "codemirror_mode": {
    "name": "ipython",
    "version": 3
   },
   "file_extension": ".py",
   "mimetype": "text/x-python",
   "name": "python",
   "nbconvert_exporter": "python",
   "pygments_lexer": "ipython3",
   "version": "3.8.2"
  }
 },
 "nbformat": 4,
 "nbformat_minor": 4
}
